{
 "cells": [
  {
   "cell_type": "markdown",
   "id": "8fc6f752-4863-499c-99ba-b8f5d9429b4d",
   "metadata": {},
   "source": [
    "# FPN-SetTrans --> best model "
   ]
  },
  {
   "cell_type": "markdown",
   "id": "27a582c4-016d-401c-b42b-cb49a7c5d25e",
   "metadata": {},
   "source": [
    "## Image Classification "
   ]
  },
  {
   "cell_type": "code",
   "execution_count": 1,
   "id": "cedcda72-6f7f-473a-9767-2cdf884f06ad",
   "metadata": {
    "scrolled": true
   },
   "outputs": [
    {
     "name": "stderr",
     "output_type": "stream",
     "text": [
      "/home/csantiago/.local/lib/python3.10/site-packages/albumentations/__init__.py:13: UserWarning: A new version of Albumentations is available: 2.0.8 (you have 1.4.18). Upgrade using: pip install -U albumentations. To disable automatic update checks, set the environment variable NO_ALBUMENTATIONS_UPDATE to 1.\n",
      "  check_for_updates()\n"
     ]
    },
    {
     "name": "stdout",
     "output_type": "stream",
     "text": [
      "\n",
      "torch.cuda.current_device(): 0\n",
      "\n",
      "Using device: cuda\n",
      "output_path: Mammo-CLIP-output/out_splits_new/MIL_experiments/ViNDr_data_frac_1.0/Suspicious_Calcification/offline_feature_extraction/multi_scale/fpn-deep_supervision/scale_aggregator_gated-attention/isab-dim_256-nblocks_2-nheads_4-dropout_0.0-layer_norm-softmax/pooling_pma-dropout_0.0-layer_norm-softmax/2025-06-24\n",
      "df shape: (20000, 16)\n",
      "Index(['image_id', 'patient_id', 'laterality', 'view', 'finding_categories',\n",
      "       'finding_birads', 'breast_birads', 'breast_density', 'split', 'fold',\n",
      "       'Mass', 'Suspicious_Calcification', 'resized_xmin', 'resized_ymin',\n",
      "       'resized_xmax', 'resized_ymax'],\n",
      "      dtype='object')\n",
      "\n",
      "================== run nº: 0 ======================\n",
      "train_loader: 1600, valid_loader: 400\n",
      "Model is loaded\n",
      "PyramidalMILmodel(\n",
      "  (inst_encoder): FeaturePyramidNetwork(\n",
      "    (inner_blocks): ModuleDict(\n",
      "      (inner_block_0): Sequential(\n",
      "        (0): Conv2d(120, 256, kernel_size=(1, 1), stride=(1, 1))\n",
      "        (1): Identity()\n",
      "      )\n",
      "      (inner_block_1): Sequential(\n",
      "        (0): Conv2d(352, 256, kernel_size=(1, 1), stride=(1, 1))\n",
      "        (1): Identity()\n",
      "      )\n",
      "    )\n",
      "    (layer_blocks): ModuleDict(\n",
      "      (layer_block_0): Sequential(\n",
      "        (0): Conv2d(256, 256, kernel_size=(3, 3), stride=(1, 1), padding=(1, 1))\n",
      "        (1): Identity()\n",
      "      )\n",
      "      (layer_block_1): Sequential(\n",
      "        (0): Conv2d(256, 256, kernel_size=(3, 3), stride=(1, 1), padding=(1, 1))\n",
      "        (1): Identity()\n",
      "      )\n",
      "    )\n",
      "  )\n",
      "  (side_inst_aggregator): ModuleDict(\n",
      "    (encoders): ModuleDict(\n",
      "      (encoder_16): ModuleList(\n",
      "        (0-1): 2 x InducedSetAttentionBlock(256, d_hidden = 256, num_induced_points=38, heads=4, layer_norm=True, activation=softmax)\n",
      "      )\n",
      "      (encoder_32): ModuleList(\n",
      "        (0-1): 2 x InducedSetAttentionBlock(256, d_hidden = 256, num_induced_points=32, heads=4, layer_norm=True, activation=softmax)\n",
      "      )\n",
      "      (encoder_128): ModuleList(\n",
      "        (0-1): 2 x InducedSetAttentionBlock(256, d_hidden = 256, num_induced_points=20, heads=4, layer_norm=True, activation=softmax)\n",
      "      )\n",
      "    )\n",
      "    (aggregators): ModuleDict(\n",
      "      (aggregator_16): PoolingByMultiheadAttention(256, num_seed_points=1, heads=1, layer_norm=True, activation=softmax)\n",
      "      (aggregator_32): PoolingByMultiheadAttention(256, num_seed_points=1, heads=1, layer_norm=True, activation=softmax)\n",
      "      (aggregator_128): PoolingByMultiheadAttention(256, num_seed_points=1, heads=1, layer_norm=True, activation=softmax)\n",
      "    )\n",
      "  )\n",
      "  (side_classifiers): ModuleDict(\n",
      "    (classifier_16): head(\n",
      "      (drop): Dropout(p=0.0, inplace=True)\n",
      "      (head_classifier): Linear(in_features=256, out_features=1, bias=True)\n",
      "    )\n",
      "    (classifier_32): head(\n",
      "      (drop): Dropout(p=0.0, inplace=True)\n",
      "      (head_classifier): Linear(in_features=256, out_features=1, bias=True)\n",
      "    )\n",
      "    (classifier_128): head(\n",
      "      (drop): Dropout(p=0.0, inplace=True)\n",
      "      (head_classifier): Linear(in_features=256, out_features=1, bias=True)\n",
      "    )\n",
      "  )\n",
      "  (scale_aggregator): Gated_Attn_Net(\n",
      "    (attention_V): Sequential(\n",
      "      (0): Linear(in_features=256, out_features=128, bias=True)\n",
      "      (1): Tanh()\n",
      "      (2): Dropout(p=0.25, inplace=False)\n",
      "    )\n",
      "    (attention_U): Sequential(\n",
      "      (0): Linear(in_features=256, out_features=128, bias=True)\n",
      "      (1): Sigmoid()\n",
      "      (2): Dropout(p=0.25, inplace=False)\n",
      "    )\n",
      "    (attention_weights): Linear(in_features=128, out_features=1, bias=True)\n",
      "  )\n",
      "  (classifier): head(\n",
      "    (drop): Dropout(p=0.0, inplace=True)\n",
      "    (head_classifier): Linear(in_features=256, out_features=1, bias=True)\n",
      "  )\n",
      ")\n",
      "\n",
      "Total number of parameters: 5.378181 M\n",
      "Total number of trainable parameters: 5.378181 M\n",
      "pos_wt: tensor([37.2967], device='cuda:0')\n",
      "\n",
      "-------- Epoch 1/30 --------\n"
     ]
    },
    {
     "name": "stderr",
     "output_type": "stream",
     "text": [
      "[001/030 epoch train]: 100%|██████████| 1600/1600 [03:47<00:00,  7.04it/s, lr=[5e-05], loss=4.5527, CUDA-Mem=0%, CUDA-Util=0%]                 \n",
      "[001/030 epoch valid]: 100%|██████████| 400/400 [00:44<00:00,  9.02it/s, loss=3.5031, CUDA-Mem=0%, CUDA-Util=0%]\n"
     ]
    },
    {
     "name": "stdout",
     "output_type": "stream",
     "text": [
      "\n",
      "Train Loss: 4.5527\n",
      "Scale: 16 --> Train F1-Score: 0.8438 | Train Bacc: 0.5795 | Train ROC-AUC: 0.6059\n",
      "Scale: 32 --> Train F1-Score: 0.8566 | Train Bacc: 0.6316 | Train ROC-AUC: 0.6838\n",
      "Scale: 128 --> Train F1-Score: 0.8638 | Train Bacc: 0.6265 | Train ROC-AUC: 0.6764\n",
      "Aggregated Results --> Train F1-Score: 0.8820 | Train Bacc: 0.6452 | Train ROC-AUC: 0.6911\n",
      "\n",
      "Val Loss: 3.5031\n",
      "Scale: 16 --> Val F1-Score: 0.9390 | Val Bacc: 0.6764 | Val ROC-AUC: 0.8104\n",
      "Scale: 32 --> Val F1-Score: 0.9191 | Val Bacc: 0.7945 | Val ROC-AUC: 0.8890\n",
      "Scale: 128 --> Val F1-Score: 0.9157 | Val Bacc: 0.7773 | Val ROC-AUC: 0.8674\n",
      "Aggregated Results --> Val F1-Score: 0.9201 | Val Bacc: 0.7953 | Val ROC-AUC: 0.8734\n",
      "\n",
      "Epoch 1 - Save aucroc: 0.8734 Model\n",
      "\n",
      "best AUC-ROC Score at epoch 1: 0.8734\n",
      "\n",
      "-------- Epoch 2/30 --------\n"
     ]
    },
    {
     "name": "stderr",
     "output_type": "stream",
     "text": [
      "[002/030 epoch train]: 100%|██████████| 1600/1600 [03:48<00:00,  7.01it/s, lr=[4.9853448928858984e-05], loss=3.5430, CUDA-Mem=0%, CUDA-Util=0%]\n",
      "[002/030 epoch valid]: 100%|██████████| 400/400 [00:45<00:00,  8.81it/s, loss=2.6349, CUDA-Mem=0%, CUDA-Util=0%]\n"
     ]
    },
    {
     "name": "stdout",
     "output_type": "stream",
     "text": [
      "\n",
      "Train Loss: 3.5430\n",
      "Scale: 16 --> Train F1-Score: 0.9064 | Train Bacc: 0.7493 | Train ROC-AUC: 0.8039\n",
      "Scale: 32 --> Train F1-Score: 0.9156 | Train Bacc: 0.7753 | Train ROC-AUC: 0.8280\n",
      "Scale: 128 --> Train F1-Score: 0.9051 | Train Bacc: 0.7554 | Train ROC-AUC: 0.8075\n",
      "Aggregated Results --> Train F1-Score: 0.9129 | Train Bacc: 0.7856 | Train ROC-AUC: 0.8355\n",
      "\n",
      "Val Loss: 2.6349\n",
      "Scale: 16 --> Val F1-Score: 0.8786 | Val Bacc: 0.8751 | Val ROC-AUC: 0.9453\n",
      "Scale: 32 --> Val F1-Score: 0.9317 | Val Bacc: 0.8482 | Val ROC-AUC: 0.9176\n",
      "Scale: 128 --> Val F1-Score: 0.9299 | Val Bacc: 0.8396 | Val ROC-AUC: 0.8973\n",
      "Aggregated Results --> Val F1-Score: 0.9278 | Val Bacc: 0.8449 | Val ROC-AUC: 0.9336\n",
      "\n",
      "Epoch 2 - Save aucroc: 0.9336 Model\n",
      "\n",
      "best AUC-ROC Score at epoch 2: 0.9336\n",
      "\n",
      "-------- Epoch 3/30 --------\n"
     ]
    },
    {
     "name": "stderr",
     "output_type": "stream",
     "text": [
      "[003/030 epoch train]: 100%|██████████| 1600/1600 [03:47<00:00,  7.03it/s, lr=[4.941551389275217e-05], loss=2.8604, CUDA-Mem=0%, CUDA-Util=0%] \n",
      "[003/030 epoch valid]: 100%|██████████| 400/400 [00:44<00:00,  8.98it/s, loss=2.1452, CUDA-Mem=0%, CUDA-Util=0%]\n"
     ]
    },
    {
     "name": "stdout",
     "output_type": "stream",
     "text": [
      "\n",
      "Train Loss: 2.8604\n",
      "Scale: 16 --> Train F1-Score: 0.9121 | Train Bacc: 0.8428 | Train ROC-AUC: 0.9007\n",
      "Scale: 32 --> Train F1-Score: 0.9094 | Train Bacc: 0.8242 | Train ROC-AUC: 0.8912\n",
      "Scale: 128 --> Train F1-Score: 0.9067 | Train Bacc: 0.7984 | Train ROC-AUC: 0.8630\n",
      "Aggregated Results --> Train F1-Score: 0.9158 | Train Bacc: 0.8424 | Train ROC-AUC: 0.9069\n",
      "\n",
      "Val Loss: 2.1452\n",
      "Scale: 16 --> Val F1-Score: 0.9498 | Val Bacc: 0.8851 | Val ROC-AUC: 0.9458\n",
      "Scale: 32 --> Val F1-Score: 0.9185 | Val Bacc: 0.9085 | Val ROC-AUC: 0.9516\n",
      "Scale: 128 --> Val F1-Score: 0.9336 | Val Bacc: 0.8570 | Val ROC-AUC: 0.9423\n",
      "Aggregated Results --> Val F1-Score: 0.9499 | Val Bacc: 0.8853 | Val ROC-AUC: 0.9558\n",
      "\n",
      "Epoch 3 - Save aucroc: 0.9558 Model\n",
      "\n",
      "best AUC-ROC Score at epoch 3: 0.9558\n",
      "\n",
      "-------- Epoch 4/30 --------\n"
     ]
    },
    {
     "name": "stderr",
     "output_type": "stream",
     "text": [
      "[004/030 epoch train]: 100%|██████████| 1600/1600 [03:42<00:00,  7.18it/s, lr=[4.869132927957007e-05], loss=2.5046, CUDA-Mem=0%, CUDA-Util=0%] \n",
      "[004/030 epoch valid]: 100%|██████████| 400/400 [00:44<00:00,  8.95it/s, loss=2.9547, CUDA-Mem=0%, CUDA-Util=0%]\n"
     ]
    },
    {
     "name": "stdout",
     "output_type": "stream",
     "text": [
      "\n",
      "Train Loss: 2.5046\n",
      "Scale: 16 --> Train F1-Score: 0.9274 | Train Bacc: 0.8831 | Train ROC-AUC: 0.9211\n",
      "Scale: 32 --> Train F1-Score: 0.9132 | Train Bacc: 0.8564 | Train ROC-AUC: 0.9113\n",
      "Scale: 128 --> Train F1-Score: 0.9116 | Train Bacc: 0.8207 | Train ROC-AUC: 0.8913\n",
      "Aggregated Results --> Train F1-Score: 0.9228 | Train Bacc: 0.8736 | Train ROC-AUC: 0.9311\n",
      "\n",
      "Val Loss: 2.9547\n",
      "Scale: 16 --> Val F1-Score: 0.8043 | Val Bacc: 0.8252 | Val ROC-AUC: 0.9023\n",
      "Scale: 32 --> Val F1-Score: 0.8566 | Val Bacc: 0.8648 | Val ROC-AUC: 0.9498\n",
      "Scale: 128 --> Val F1-Score: 0.8552 | Val Bacc: 0.8708 | Val ROC-AUC: 0.9479\n",
      "Aggregated Results --> Val F1-Score: 0.8189 | Val Bacc: 0.8359 | Val ROC-AUC: 0.9491\n",
      "\n",
      "best AUC-ROC Score at epoch 3: 0.9558\n",
      "\n",
      "-------- Epoch 5/30 --------\n"
     ]
    },
    {
     "name": "stderr",
     "output_type": "stream",
     "text": [
      "[005/030 epoch train]: 100%|██████████| 1600/1600 [03:49<00:00,  6.97it/s, lr=[4.768938549177392e-05], loss=2.3844, CUDA-Mem=0%, CUDA-Util=0%] \n",
      "[005/030 epoch valid]: 100%|██████████| 400/400 [00:44<00:00,  8.96it/s, loss=2.0726, CUDA-Mem=0%, CUDA-Util=0%]\n"
     ]
    },
    {
     "name": "stdout",
     "output_type": "stream",
     "text": [
      "\n",
      "Train Loss: 2.3844\n",
      "Scale: 16 --> Train F1-Score: 0.9356 | Train Bacc: 0.8865 | Train ROC-AUC: 0.9244\n",
      "Scale: 32 --> Train F1-Score: 0.9139 | Train Bacc: 0.8679 | Train ROC-AUC: 0.9219\n",
      "Scale: 128 --> Train F1-Score: 0.9213 | Train Bacc: 0.8507 | Train ROC-AUC: 0.8985\n",
      "Aggregated Results --> Train F1-Score: 0.9315 | Train Bacc: 0.8902 | Train ROC-AUC: 0.9373\n",
      "\n",
      "Val Loss: 2.0726\n",
      "Scale: 16 --> Val F1-Score: 0.9427 | Val Bacc: 0.8862 | Val ROC-AUC: 0.9502\n",
      "Scale: 32 --> Val F1-Score: 0.9102 | Val Bacc: 0.8943 | Val ROC-AUC: 0.9514\n",
      "Scale: 128 --> Val F1-Score: 0.9308 | Val Bacc: 0.8760 | Val ROC-AUC: 0.9533\n",
      "Aggregated Results --> Val F1-Score: 0.9403 | Val Bacc: 0.8842 | Val ROC-AUC: 0.9572\n",
      "\n",
      "Epoch 5 - Save aucroc: 0.9572 Model\n",
      "\n",
      "best AUC-ROC Score at epoch 5: 0.9572\n",
      "\n",
      "-------- Epoch 6/30 --------\n"
     ]
    },
    {
     "name": "stderr",
     "output_type": "stream",
     "text": [
      "[006/030 epoch train]: 100%|██████████| 1600/1600 [03:47<00:00,  7.02it/s, lr=[4.6421429404189725e-05], loss=2.1235, CUDA-Mem=0%, CUDA-Util=0%]\n",
      "[006/030 epoch valid]: 100%|██████████| 400/400 [00:44<00:00,  8.97it/s, loss=2.1052, CUDA-Mem=0%, CUDA-Util=0%]\n"
     ]
    },
    {
     "name": "stdout",
     "output_type": "stream",
     "text": [
      "\n",
      "Train Loss: 2.1235\n",
      "Scale: 16 --> Train F1-Score: 0.9389 | Train Bacc: 0.8947 | Train ROC-AUC: 0.9511\n",
      "Scale: 32 --> Train F1-Score: 0.9259 | Train Bacc: 0.8709 | Train ROC-AUC: 0.9344\n",
      "Scale: 128 --> Train F1-Score: 0.9253 | Train Bacc: 0.8667 | Train ROC-AUC: 0.9137\n",
      "Aggregated Results --> Train F1-Score: 0.9381 | Train Bacc: 0.8922 | Train ROC-AUC: 0.9536\n",
      "\n",
      "Val Loss: 2.1052\n",
      "Scale: 16 --> Val F1-Score: 0.9522 | Val Bacc: 0.8872 | Val ROC-AUC: 0.9576\n",
      "Scale: 32 --> Val F1-Score: 0.9452 | Val Bacc: 0.8813 | Val ROC-AUC: 0.9487\n",
      "Scale: 128 --> Val F1-Score: 0.9258 | Val Bacc: 0.8717 | Val ROC-AUC: 0.9491\n",
      "Aggregated Results --> Val F1-Score: 0.9529 | Val Bacc: 0.9021 | Val ROC-AUC: 0.9537\n",
      "\n",
      "best AUC-ROC Score at epoch 5: 0.9572\n",
      "\n",
      "-------- Epoch 7/30 --------\n"
     ]
    },
    {
     "name": "stderr",
     "output_type": "stream",
     "text": [
      "[007/030 epoch train]: 100%|██████████| 1600/1600 [03:50<00:00,  6.94it/s, lr=[4.4902326642641095e-05], loss=1.9997, CUDA-Mem=0%, CUDA-Util=0%]\n",
      "[007/030 epoch valid]: 100%|██████████| 400/400 [00:45<00:00,  8.72it/s, loss=1.9229, CUDA-Mem=0%, CUDA-Util=0%]\n"
     ]
    },
    {
     "name": "stdout",
     "output_type": "stream",
     "text": [
      "\n",
      "Train Loss: 1.9997\n",
      "Scale: 16 --> Train F1-Score: 0.9409 | Train Bacc: 0.9037 | Train ROC-AUC: 0.9547\n",
      "Scale: 32 --> Train F1-Score: 0.9310 | Train Bacc: 0.8916 | Train ROC-AUC: 0.9354\n",
      "Scale: 128 --> Train F1-Score: 0.9231 | Train Bacc: 0.8559 | Train ROC-AUC: 0.9247\n",
      "Aggregated Results --> Train F1-Score: 0.9422 | Train Bacc: 0.9102 | Train ROC-AUC: 0.9609\n",
      "\n",
      "Val Loss: 1.9229\n",
      "Scale: 16 --> Val F1-Score: 0.9357 | Val Bacc: 0.8659 | Val ROC-AUC: 0.9544\n",
      "Scale: 32 --> Val F1-Score: 0.9194 | Val Bacc: 0.8949 | Val ROC-AUC: 0.9621\n",
      "Scale: 128 --> Val F1-Score: 0.9114 | Val Bacc: 0.8952 | Val ROC-AUC: 0.9578\n",
      "Aggregated Results --> Val F1-Score: 0.9204 | Val Bacc: 0.9029 | Val ROC-AUC: 0.9595\n",
      "\n",
      "Epoch 7 - Save aucroc: 0.9595 Model\n",
      "\n",
      "best AUC-ROC Score at epoch 7: 0.9595\n",
      "\n",
      "-------- Epoch 8/30 --------\n"
     ]
    },
    {
     "name": "stderr",
     "output_type": "stream",
     "text": [
      "[008/030 epoch train]: 100%|██████████| 1600/1600 [03:46<00:00,  7.07it/s, lr=[4.3149887298078276e-05], loss=1.8834, CUDA-Mem=0%, CUDA-Util=0%]\n",
      "[008/030 epoch valid]: 100%|██████████| 400/400 [00:44<00:00,  8.96it/s, loss=2.1895, CUDA-Mem=0%, CUDA-Util=0%]"
     ]
    },
    {
     "name": "stdout",
     "output_type": "stream",
     "text": [
      "\n",
      "Train Loss: 1.8834\n",
      "Scale: 16 --> Train F1-Score: 0.9451 | Train Bacc: 0.9109 | Train ROC-AUC: 0.9588\n",
      "Scale: 32 --> Train F1-Score: 0.9296 | Train Bacc: 0.8832 | Train ROC-AUC: 0.9450\n",
      "Scale: 128 --> Train F1-Score: 0.9270 | Train Bacc: 0.8682 | Train ROC-AUC: 0.9369\n",
      "Aggregated Results --> Train F1-Score: 0.9422 | Train Bacc: 0.9138 | Train ROC-AUC: 0.9671\n",
      "\n",
      "Val Loss: 2.1895\n",
      "Scale: 16 --> Val F1-Score: 0.9550 | Val Bacc: 0.8824 | Val ROC-AUC: 0.9572\n",
      "Scale: 32 --> Val F1-Score: 0.9626 | Val Bacc: 0.8816 | Val ROC-AUC: 0.9554\n",
      "Scale: 128 --> Val F1-Score: 0.9655 | Val Bacc: 0.8554 | Val ROC-AUC: 0.9575\n",
      "Aggregated Results --> Val F1-Score: 0.9525 | Val Bacc: 0.8945 | Val ROC-AUC: 0.9546\n",
      "\n",
      "best AUC-ROC Score at epoch 7: 0.9595\n",
      "\n",
      "-------- Epoch 9/30 --------\n"
     ]
    },
    {
     "name": "stderr",
     "output_type": "stream",
     "text": [
      "\n",
      "[009/030 epoch train]: 100%|██████████| 1600/1600 [03:51<00:00,  6.90it/s, lr=[4.118465711954569e-05], loss=1.6623, CUDA-Mem=0%, CUDA-Util=0%] \n",
      "[009/030 epoch valid]: 100%|██████████| 400/400 [00:44<00:00,  8.95it/s, loss=2.0160, CUDA-Mem=0%, CUDA-Util=0%]\n"
     ]
    },
    {
     "name": "stdout",
     "output_type": "stream",
     "text": [
      "\n",
      "Train Loss: 1.6623\n",
      "Scale: 16 --> Train F1-Score: 0.9511 | Train Bacc: 0.9322 | Train ROC-AUC: 0.9721\n",
      "Scale: 32 --> Train F1-Score: 0.9392 | Train Bacc: 0.9004 | Train ROC-AUC: 0.9531\n",
      "Scale: 128 --> Train F1-Score: 0.9377 | Train Bacc: 0.8846 | Train ROC-AUC: 0.9431\n",
      "Aggregated Results --> Train F1-Score: 0.9522 | Train Bacc: 0.9386 | Train ROC-AUC: 0.9755\n",
      "\n",
      "Val Loss: 2.0160\n",
      "Scale: 16 --> Val F1-Score: 0.9350 | Val Bacc: 0.8939 | Val ROC-AUC: 0.9583\n",
      "Scale: 32 --> Val F1-Score: 0.9290 | Val Bacc: 0.8888 | Val ROC-AUC: 0.9535\n",
      "Scale: 128 --> Val F1-Score: 0.9360 | Val Bacc: 0.8805 | Val ROC-AUC: 0.9444\n",
      "Aggregated Results --> Val F1-Score: 0.9372 | Val Bacc: 0.8958 | Val ROC-AUC: 0.9559\n",
      "\n",
      "best AUC-ROC Score at epoch 7: 0.9595\n",
      "\n",
      "-------- Epoch 10/30 --------\n"
     ]
    },
    {
     "name": "stderr",
     "output_type": "stream",
     "text": [
      "[010/030 epoch train]: 100%|██████████| 1600/1600 [03:46<00:00,  7.07it/s, lr=[3.902967663405956e-05], loss=1.5643, CUDA-Mem=0%, CUDA-Util=0%] \n",
      "[010/030 epoch valid]: 100%|██████████| 400/400 [00:44<00:00,  8.98it/s, loss=2.2349, CUDA-Mem=0%, CUDA-Util=0%]\n"
     ]
    },
    {
     "name": "stdout",
     "output_type": "stream",
     "text": [
      "\n",
      "Train Loss: 1.5643\n",
      "Scale: 16 --> Train F1-Score: 0.9516 | Train Bacc: 0.9344 | Train ROC-AUC: 0.9734\n",
      "Scale: 32 --> Train F1-Score: 0.9389 | Train Bacc: 0.9092 | Train ROC-AUC: 0.9545\n",
      "Scale: 128 --> Train F1-Score: 0.9354 | Train Bacc: 0.8954 | Train ROC-AUC: 0.9503\n",
      "Aggregated Results --> Train F1-Score: 0.9522 | Train Bacc: 0.9350 | Train ROC-AUC: 0.9799\n",
      "\n",
      "Val Loss: 2.2349\n",
      "Scale: 16 --> Val F1-Score: 0.9293 | Val Bacc: 0.8819 | Val ROC-AUC: 0.9561\n",
      "Scale: 32 --> Val F1-Score: 0.9307 | Val Bacc: 0.8903 | Val ROC-AUC: 0.9500\n",
      "Scale: 128 --> Val F1-Score: 0.8247 | Val Bacc: 0.8258 | Val ROC-AUC: 0.9386\n",
      "Aggregated Results --> Val F1-Score: 0.9229 | Val Bacc: 0.8907 | Val ROC-AUC: 0.9541\n",
      "\n",
      "best AUC-ROC Score at epoch 7: 0.9595\n",
      "\n",
      "-------- Epoch 11/30 --------\n"
     ]
    },
    {
     "name": "stderr",
     "output_type": "stream",
     "text": [
      "[011/030 epoch train]: 100%|██████████| 1600/1600 [03:46<00:00,  7.05it/s, lr=[3.671021101749476e-05], loss=1.3963, CUDA-Mem=0%, CUDA-Util=0%] \n",
      "[011/030 epoch valid]: 100%|██████████| 400/400 [00:44<00:00,  8.96it/s, loss=2.1501, CUDA-Mem=0%, CUDA-Util=0%]"
     ]
    },
    {
     "name": "stdout",
     "output_type": "stream",
     "text": [
      "\n",
      "Train Loss: 1.3963\n",
      "Scale: 16 --> Train F1-Score: 0.9574 | Train Bacc: 0.9482 | Train ROC-AUC: 0.9802\n",
      "Scale: 32 --> Train F1-Score: 0.9436 | Train Bacc: 0.9132 | Train ROC-AUC: 0.9607\n",
      "Scale: 128 --> Train F1-Score: 0.9322 | Train Bacc: 0.9034 | Train ROC-AUC: 0.9602\n",
      "Aggregated Results --> Train F1-Score: 0.9575 | Train Bacc: 0.9448 | Train ROC-AUC: 0.9820\n",
      "\n",
      "Val Loss: 2.1501\n",
      "Scale: 16 --> Val F1-Score: 0.9381 | Val Bacc: 0.8894 | Val ROC-AUC: 0.9546\n",
      "Scale: 32 --> Val F1-Score: 0.9188 | Val Bacc: 0.8800 | Val ROC-AUC: 0.9538\n",
      "Scale: 128 --> Val F1-Score: 0.9111 | Val Bacc: 0.8807 | Val ROC-AUC: 0.9472\n",
      "Aggregated Results --> Val F1-Score: 0.9359 | Val Bacc: 0.8947 | Val ROC-AUC: 0.9523\n",
      "\n",
      "best AUC-ROC Score at epoch 7: 0.9595\n",
      "\n",
      "-------- Epoch 12/30 --------\n"
     ]
    },
    {
     "name": "stderr",
     "output_type": "stream",
     "text": [
      "\n",
      "[012/030 epoch train]: 100%|██████████| 1600/1600 [03:42<00:00,  7.18it/s, lr=[3.425345388349786e-05], loss=1.2570, CUDA-Mem=0%, CUDA-Util=0%] \n",
      "[012/030 epoch valid]: 100%|██████████| 400/400 [00:45<00:00,  8.77it/s, loss=2.5616, CUDA-Mem=0%, CUDA-Util=0%]\n"
     ]
    },
    {
     "name": "stdout",
     "output_type": "stream",
     "text": [
      "\n",
      "Train Loss: 1.2570\n",
      "Scale: 16 --> Train F1-Score: 0.9568 | Train Bacc: 0.9478 | Train ROC-AUC: 0.9820\n",
      "Scale: 32 --> Train F1-Score: 0.9448 | Train Bacc: 0.9124 | Train ROC-AUC: 0.9652\n",
      "Scale: 128 --> Train F1-Score: 0.9443 | Train Bacc: 0.9247 | Train ROC-AUC: 0.9665\n",
      "Aggregated Results --> Train F1-Score: 0.9619 | Train Bacc: 0.9610 | Train ROC-AUC: 0.9876\n",
      "\n",
      "Val Loss: 2.5616\n",
      "Scale: 16 --> Val F1-Score: 0.9689 | Val Bacc: 0.8723 | Val ROC-AUC: 0.9427\n",
      "Scale: 32 --> Val F1-Score: 0.9630 | Val Bacc: 0.8747 | Val ROC-AUC: 0.9539\n",
      "Scale: 128 --> Val F1-Score: 0.9597 | Val Bacc: 0.8650 | Val ROC-AUC: 0.9439\n",
      "Aggregated Results --> Val F1-Score: 0.9696 | Val Bacc: 0.8515 | Val ROC-AUC: 0.9508\n",
      "\n",
      "best AUC-ROC Score at epoch 7: 0.9595\n",
      "\n",
      "-------- Epoch 13/30 --------\n"
     ]
    },
    {
     "name": "stderr",
     "output_type": "stream",
     "text": [
      "[013/030 epoch train]: 100%|██████████| 1600/1600 [03:50<00:00,  6.93it/s, lr=[3.168820846323052e-05], loss=1.1493, CUDA-Mem=0%, CUDA-Util=0%] \n",
      "[013/030 epoch valid]: 100%|██████████| 400/400 [00:44<00:00,  8.96it/s, loss=2.4021, CUDA-Mem=0%, CUDA-Util=0%]\n"
     ]
    },
    {
     "name": "stdout",
     "output_type": "stream",
     "text": [
      "\n",
      "Train Loss: 1.1493\n",
      "Scale: 16 --> Train F1-Score: 0.9604 | Train Bacc: 0.9544 | Train ROC-AUC: 0.9830\n",
      "Scale: 32 --> Train F1-Score: 0.9494 | Train Bacc: 0.9253 | Train ROC-AUC: 0.9665\n",
      "Scale: 128 --> Train F1-Score: 0.9497 | Train Bacc: 0.9292 | Train ROC-AUC: 0.9726\n",
      "Aggregated Results --> Train F1-Score: 0.9666 | Train Bacc: 0.9666 | Train ROC-AUC: 0.9896\n",
      "\n",
      "Val Loss: 2.4021\n",
      "Scale: 16 --> Val F1-Score: 0.9539 | Val Bacc: 0.8886 | Val ROC-AUC: 0.9606\n",
      "Scale: 32 --> Val F1-Score: 0.9403 | Val Bacc: 0.8842 | Val ROC-AUC: 0.9437\n",
      "Scale: 128 --> Val F1-Score: 0.9377 | Val Bacc: 0.8677 | Val ROC-AUC: 0.9124\n",
      "Aggregated Results --> Val F1-Score: 0.9560 | Val Bacc: 0.8904 | Val ROC-AUC: 0.9573\n",
      "\n",
      "best AUC-ROC Score at epoch 7: 0.9595\n",
      "\n",
      "-------- Epoch 14/30 --------\n"
     ]
    },
    {
     "name": "stderr",
     "output_type": "stream",
     "text": [
      "[014/030 epoch train]: 100%|██████████| 1600/1600 [03:47<00:00,  7.03it/s, lr=[2.904454991381912e-05], loss=1.0348, CUDA-Mem=0%, CUDA-Util=0%] \n",
      "[014/030 epoch valid]: 100%|██████████| 400/400 [00:44<00:00,  8.96it/s, loss=2.6005, CUDA-Mem=0%, CUDA-Util=0%]\n"
     ]
    },
    {
     "name": "stdout",
     "output_type": "stream",
     "text": [
      "\n",
      "Train Loss: 1.0348\n",
      "Scale: 16 --> Train F1-Score: 0.9673 | Train Bacc: 0.9617 | Train ROC-AUC: 0.9871\n",
      "Scale: 32 --> Train F1-Score: 0.9499 | Train Bacc: 0.9330 | Train ROC-AUC: 0.9728\n",
      "Scale: 128 --> Train F1-Score: 0.9490 | Train Bacc: 0.9304 | Train ROC-AUC: 0.9770\n",
      "Aggregated Results --> Train F1-Score: 0.9703 | Train Bacc: 0.9713 | Train ROC-AUC: 0.9931\n",
      "\n",
      "Val Loss: 2.6005\n",
      "Scale: 16 --> Val F1-Score: 0.9512 | Val Bacc: 0.8792 | Val ROC-AUC: 0.9521\n",
      "Scale: 32 --> Val F1-Score: 0.9396 | Val Bacc: 0.8907 | Val ROC-AUC: 0.9490\n",
      "Scale: 128 --> Val F1-Score: 0.8953 | Val Bacc: 0.8602 | Val ROC-AUC: 0.9443\n",
      "Aggregated Results --> Val F1-Score: 0.9515 | Val Bacc: 0.8866 | Val ROC-AUC: 0.9557\n",
      "\n",
      "best AUC-ROC Score at epoch 7: 0.9595\n",
      "\n",
      "-------- Epoch 15/30 --------\n"
     ]
    },
    {
     "name": "stderr",
     "output_type": "stream",
     "text": [
      "[015/030 epoch train]:   0%|          | 7/1600 [00:01<04:09,  6.38it/s, lr=[2.90311863601526e-05], loss=0.9454, CUDA-Mem=0%, CUDA-Util=0%]  IOPub message rate exceeded.\n",
      "The Jupyter server will temporarily stop sending output\n",
      "to the client in order to avoid crashing it.\n",
      "To change this limit, set the config variable\n",
      "`--ServerApp.iopub_msg_rate_limit`.\n",
      "\n",
      "Current values:\n",
      "ServerApp.iopub_msg_rate_limit=1000.0 (msgs/sec)\n",
      "ServerApp.rate_limit_window=3.0 (secs)\n",
      "\n",
      "[015/030 epoch train]: 100%|██████████| 1600/1600 [03:39<00:00,  7.29it/s, lr=[2.635347271463544e-05], loss=0.9336, CUDA-Mem=0%, CUDA-Util=0%] \n",
      "[015/030 epoch valid]: 100%|██████████| 400/400 [00:44<00:00,  8.97it/s, loss=2.6355, CUDA-Mem=0%, CUDA-Util=0%]\n"
     ]
    },
    {
     "name": "stdout",
     "output_type": "stream",
     "text": [
      "\n",
      "Train Loss: 0.9336\n",
      "Scale: 16 --> Train F1-Score: 0.9707 | Train Bacc: 0.9698 | Train ROC-AUC: 0.9868\n",
      "Scale: 32 --> Train F1-Score: 0.9537 | Train Bacc: 0.9272 | Train ROC-AUC: 0.9763\n",
      "Scale: 128 --> Train F1-Score: 0.9585 | Train Bacc: 0.9528 | Train ROC-AUC: 0.9843\n",
      "Aggregated Results --> Train F1-Score: 0.9756 | Train Bacc: 0.9753 | Train ROC-AUC: 0.9938\n",
      "\n",
      "Val Loss: 2.6355\n",
      "Scale: 16 --> Val F1-Score: 0.9531 | Val Bacc: 0.8808 | Val ROC-AUC: 0.9565\n",
      "Scale: 32 --> Val F1-Score: 0.9310 | Val Bacc: 0.8834 | Val ROC-AUC: 0.9531\n",
      "Scale: 128 --> Val F1-Score: 0.9124 | Val Bacc: 0.8746 | Val ROC-AUC: 0.9372\n",
      "Aggregated Results --> Val F1-Score: 0.9518 | Val Bacc: 0.8869 | Val ROC-AUC: 0.9302\n",
      "\n",
      "best AUC-ROC Score at epoch 7: 0.9595\n",
      "\n",
      "-------- Epoch 16/30 --------\n"
     ]
    },
    {
     "name": "stderr",
     "output_type": "stream",
     "text": [
      "[016/030 epoch train]: 100%|██████████| 1600/1600 [03:47<00:00,  7.05it/s, lr=[2.3646527285364565e-05], loss=0.7771, CUDA-Mem=0%, CUDA-Util=0%]\n",
      "[016/030 epoch valid]: 100%|██████████| 400/400 [00:44<00:00,  8.93it/s, loss=2.9024, CUDA-Mem=0%, CUDA-Util=0%]\n"
     ]
    },
    {
     "name": "stdout",
     "output_type": "stream",
     "text": [
      "\n",
      "Train Loss: 0.7771\n",
      "Scale: 16 --> Train F1-Score: 0.9767 | Train Bacc: 0.9762 | Train ROC-AUC: 0.9902\n",
      "Scale: 32 --> Train F1-Score: 0.9581 | Train Bacc: 0.9417 | Train ROC-AUC: 0.9841\n",
      "Scale: 128 --> Train F1-Score: 0.9616 | Train Bacc: 0.9571 | Train ROC-AUC: 0.9845\n",
      "Aggregated Results --> Train F1-Score: 0.9796 | Train Bacc: 0.9801 | Train ROC-AUC: 0.9959\n",
      "\n",
      "Val Loss: 2.9024\n",
      "Scale: 16 --> Val F1-Score: 0.9675 | Val Bacc: 0.8712 | Val ROC-AUC: 0.9579\n",
      "Scale: 32 --> Val F1-Score: 0.9515 | Val Bacc: 0.8866 | Val ROC-AUC: 0.9429\n",
      "Scale: 128 --> Val F1-Score: 0.9543 | Val Bacc: 0.8675 | Val ROC-AUC: 0.9381\n",
      "Aggregated Results --> Val F1-Score: 0.9687 | Val Bacc: 0.8579 | Val ROC-AUC: 0.9435\n",
      "\n",
      "best AUC-ROC Score at epoch 7: 0.9595\n",
      "\n",
      "-------- Epoch 17/30 --------\n"
     ]
    },
    {
     "name": "stderr",
     "output_type": "stream",
     "text": [
      "[017/030 epoch train]: 100%|██████████| 1600/1600 [03:48<00:00,  7.00it/s, lr=[2.0955450086180886e-05], loss=0.7232, CUDA-Mem=0%, CUDA-Util=0%]\n",
      "[017/030 epoch valid]: 100%|██████████| 400/400 [00:44<00:00,  8.93it/s, loss=3.3103, CUDA-Mem=0%, CUDA-Util=0%]\n"
     ]
    },
    {
     "name": "stdout",
     "output_type": "stream",
     "text": [
      "\n",
      "Train Loss: 0.7232\n",
      "Scale: 16 --> Train F1-Score: 0.9742 | Train Bacc: 0.9707 | Train ROC-AUC: 0.9883\n",
      "Scale: 32 --> Train F1-Score: 0.9619 | Train Bacc: 0.9466 | Train ROC-AUC: 0.9867\n",
      "Scale: 128 --> Train F1-Score: 0.9608 | Train Bacc: 0.9619 | Train ROC-AUC: 0.9889\n",
      "Aggregated Results --> Train F1-Score: 0.9809 | Train Bacc: 0.9865 | Train ROC-AUC: 0.9970\n",
      "\n",
      "Val Loss: 3.3103\n",
      "Scale: 16 --> Val F1-Score: 0.9583 | Val Bacc: 0.8709 | Val ROC-AUC: 0.9524\n",
      "Scale: 32 --> Val F1-Score: 0.9564 | Val Bacc: 0.8765 | Val ROC-AUC: 0.9420\n",
      "Scale: 128 --> Val F1-Score: 0.9680 | Val Bacc: 0.8502 | Val ROC-AUC: 0.9323\n",
      "Aggregated Results --> Val F1-Score: 0.9700 | Val Bacc: 0.8518 | Val ROC-AUC: 0.9096\n",
      "\n",
      "best AUC-ROC Score at epoch 7: 0.9595\n",
      "\n",
      "-------- Epoch 18/30 --------\n"
     ]
    },
    {
     "name": "stderr",
     "output_type": "stream",
     "text": [
      "[018/030 epoch train]: 100%|██████████| 1600/1600 [03:47<00:00,  7.03it/s, lr=[1.8311791536769483e-05], loss=0.5448, CUDA-Mem=0%, CUDA-Util=0%]\n",
      "[018/030 epoch valid]: 100%|██████████| 400/400 [00:44<00:00,  8.94it/s, loss=4.3785, CUDA-Mem=0%, CUDA-Util=0%]\n"
     ]
    },
    {
     "name": "stdout",
     "output_type": "stream",
     "text": [
      "\n",
      "Train Loss: 0.5448\n",
      "Scale: 16 --> Train F1-Score: 0.9802 | Train Bacc: 0.9823 | Train ROC-AUC: 0.9897\n",
      "Scale: 32 --> Train F1-Score: 0.9668 | Train Bacc: 0.9577 | Train ROC-AUC: 0.9904\n",
      "Scale: 128 --> Train F1-Score: 0.9740 | Train Bacc: 0.9705 | Train ROC-AUC: 0.9938\n",
      "Aggregated Results --> Train F1-Score: 0.9867 | Train Bacc: 0.9922 | Train ROC-AUC: 0.9978\n",
      "\n",
      "Val Loss: 4.3785\n",
      "Scale: 16 --> Val F1-Score: 0.9700 | Val Bacc: 0.8234 | Val ROC-AUC: 0.9424\n",
      "Scale: 32 --> Val F1-Score: 0.9637 | Val Bacc: 0.8539 | Val ROC-AUC: 0.9374\n",
      "Scale: 128 --> Val F1-Score: 0.9617 | Val Bacc: 0.8523 | Val ROC-AUC: 0.9160\n",
      "Aggregated Results --> Val F1-Score: 0.9739 | Val Bacc: 0.8192 | Val ROC-AUC: 0.8999\n",
      "\n",
      "best AUC-ROC Score at epoch 7: 0.9595\n",
      "\n",
      "-------- Epoch 19/30 --------\n"
     ]
    },
    {
     "name": "stderr",
     "output_type": "stream",
     "text": [
      "[019/030 epoch train]: 100%|██████████| 1600/1600 [03:48<00:00,  7.01it/s, lr=[1.5746546116502143e-05], loss=0.5532, CUDA-Mem=0%, CUDA-Util=0%]\n",
      "[019/030 epoch valid]: 100%|██████████| 400/400 [00:44<00:00,  8.94it/s, loss=3.6619, CUDA-Mem=0%, CUDA-Util=0%]\n"
     ]
    },
    {
     "name": "stdout",
     "output_type": "stream",
     "text": [
      "\n",
      "Train Loss: 0.5532\n",
      "Scale: 16 --> Train F1-Score: 0.9758 | Train Bacc: 0.9737 | Train ROC-AUC: 0.9887\n",
      "Scale: 32 --> Train F1-Score: 0.9680 | Train Bacc: 0.9677 | Train ROC-AUC: 0.9920\n",
      "Scale: 128 --> Train F1-Score: 0.9751 | Train Bacc: 0.9749 | Train ROC-AUC: 0.9939\n",
      "Aggregated Results --> Train F1-Score: 0.9845 | Train Bacc: 0.9853 | Train ROC-AUC: 0.9976\n",
      "\n",
      "Val Loss: 3.6619\n",
      "Scale: 16 --> Val F1-Score: 0.9611 | Val Bacc: 0.8661 | Val ROC-AUC: 0.9498\n",
      "Scale: 32 --> Val F1-Score: 0.9546 | Val Bacc: 0.8464 | Val ROC-AUC: 0.9387\n",
      "Scale: 128 --> Val F1-Score: 0.9548 | Val Bacc: 0.8680 | Val ROC-AUC: 0.9234\n",
      "Aggregated Results --> Val F1-Score: 0.9714 | Val Bacc: 0.8600 | Val ROC-AUC: 0.9039\n",
      "\n",
      "best AUC-ROC Score at epoch 7: 0.9595\n",
      "\n",
      "-------- Epoch 20/30 --------\n"
     ]
    },
    {
     "name": "stderr",
     "output_type": "stream",
     "text": [
      "[020/030 epoch train]: 100%|██████████| 1600/1600 [03:46<00:00,  7.07it/s, lr=[1.3289788982505247e-05], loss=0.4480, CUDA-Mem=0%, CUDA-Util=0%]\n",
      "[020/030 epoch valid]: 100%|██████████| 400/400 [00:45<00:00,  8.76it/s, loss=5.0041, CUDA-Mem=0%, CUDA-Util=0%]\n"
     ]
    },
    {
     "name": "stdout",
     "output_type": "stream",
     "text": [
      "\n",
      "Train Loss: 0.4480\n",
      "Scale: 16 --> Train F1-Score: 0.9837 | Train Bacc: 0.9829 | Train ROC-AUC: 0.9914\n",
      "Scale: 32 --> Train F1-Score: 0.9743 | Train Bacc: 0.9744 | Train ROC-AUC: 0.9937\n",
      "Scale: 128 --> Train F1-Score: 0.9781 | Train Bacc: 0.9790 | Train ROC-AUC: 0.9951\n",
      "Aggregated Results --> Train F1-Score: 0.9886 | Train Bacc: 0.9916 | Train ROC-AUC: 0.9982\n",
      "\n",
      "Val Loss: 5.0041\n",
      "Scale: 16 --> Val F1-Score: 0.9739 | Val Bacc: 0.8335 | Val ROC-AUC: 0.9314\n",
      "Scale: 32 --> Val F1-Score: 0.9692 | Val Bacc: 0.7873 | Val ROC-AUC: 0.9351\n",
      "Scale: 128 --> Val F1-Score: 0.9724 | Val Bacc: 0.8323 | Val ROC-AUC: 0.9104\n",
      "Aggregated Results --> Val F1-Score: 0.9781 | Val Bacc: 0.8223 | Val ROC-AUC: 0.8924\n",
      "\n",
      "best AUC-ROC Score at epoch 7: 0.9595\n",
      "\n",
      "-------- Epoch 21/30 --------\n"
     ]
    },
    {
     "name": "stderr",
     "output_type": "stream",
     "text": [
      "[021/030 epoch train]: 100%|██████████| 1600/1600 [03:45<00:00,  7.09it/s, lr=[1.0970323365940443e-05], loss=0.4050, CUDA-Mem=0%, CUDA-Util=0%]\n",
      "[021/030 epoch valid]: 100%|██████████| 400/400 [00:44<00:00,  8.95it/s, loss=4.6214, CUDA-Mem=0%, CUDA-Util=0%]\n"
     ]
    },
    {
     "name": "stdout",
     "output_type": "stream",
     "text": [
      "\n",
      "Train Loss: 0.4050\n",
      "Scale: 16 --> Train F1-Score: 0.9844 | Train Bacc: 0.9834 | Train ROC-AUC: 0.9911\n",
      "Scale: 32 --> Train F1-Score: 0.9765 | Train Bacc: 0.9796 | Train ROC-AUC: 0.9946\n",
      "Scale: 128 --> Train F1-Score: 0.9807 | Train Bacc: 0.9808 | Train ROC-AUC: 0.9963\n",
      "Aggregated Results --> Train F1-Score: 0.9898 | Train Bacc: 0.9924 | Train ROC-AUC: 0.9986\n",
      "\n",
      "Val Loss: 4.6214\n",
      "Scale: 16 --> Val F1-Score: 0.9701 | Val Bacc: 0.8448 | Val ROC-AUC: 0.9412\n",
      "Scale: 32 --> Val F1-Score: 0.9641 | Val Bacc: 0.8400 | Val ROC-AUC: 0.9337\n",
      "Scale: 128 --> Val F1-Score: 0.9729 | Val Bacc: 0.8114 | Val ROC-AUC: 0.9131\n",
      "Aggregated Results --> Val F1-Score: 0.9773 | Val Bacc: 0.8288 | Val ROC-AUC: 0.8945\n",
      "\n",
      "best AUC-ROC Score at epoch 7: 0.9595\n",
      "\n",
      "-------- Epoch 22/30 --------\n"
     ]
    },
    {
     "name": "stderr",
     "output_type": "stream",
     "text": [
      "[022/030 epoch train]: 100%|██████████| 1600/1600 [03:47<00:00,  7.02it/s, lr=[8.815342880454311e-06], loss=0.3235, CUDA-Mem=0%, CUDA-Util=0%]\n",
      "[022/030 epoch valid]: 100%|██████████| 400/400 [00:46<00:00,  8.57it/s, loss=4.7749, CUDA-Mem=0%, CUDA-Util=0%]\n"
     ]
    },
    {
     "name": "stdout",
     "output_type": "stream",
     "text": [
      "\n",
      "Train Loss: 0.3235\n",
      "Scale: 16 --> Train F1-Score: 0.9879 | Train Bacc: 0.9894 | Train ROC-AUC: 0.9924\n",
      "Scale: 32 --> Train F1-Score: 0.9803 | Train Bacc: 0.9806 | Train ROC-AUC: 0.9956\n",
      "Scale: 128 --> Train F1-Score: 0.9853 | Train Bacc: 0.9895 | Train ROC-AUC: 0.9972\n",
      "Aggregated Results --> Train F1-Score: 0.9918 | Train Bacc: 0.9954 | Train ROC-AUC: 0.9990\n",
      "\n",
      "Val Loss: 4.7749\n",
      "Scale: 16 --> Val F1-Score: 0.9702 | Val Bacc: 0.8520 | Val ROC-AUC: 0.9299\n",
      "Scale: 32 --> Val F1-Score: 0.9649 | Val Bacc: 0.8122 | Val ROC-AUC: 0.9347\n",
      "Scale: 128 --> Val F1-Score: 0.9675 | Val Bacc: 0.8285 | Val ROC-AUC: 0.9098\n",
      "Aggregated Results --> Val F1-Score: 0.9759 | Val Bacc: 0.8207 | Val ROC-AUC: 0.8972\n",
      "\n",
      "best AUC-ROC Score at epoch 7: 0.9595\n",
      "\n",
      "-------- Epoch 23/30 --------\n"
     ]
    },
    {
     "name": "stderr",
     "output_type": "stream",
     "text": [
      "[023/030 epoch train]: 100%|██████████| 1600/1600 [03:48<00:00,  7.01it/s, lr=[6.850112701921736e-06], loss=0.3071, CUDA-Mem=0%, CUDA-Util=0%] \n",
      "[023/030 epoch valid]: 100%|██████████| 400/400 [00:44<00:00,  8.94it/s, loss=4.9664, CUDA-Mem=0%, CUDA-Util=0%]\n"
     ]
    },
    {
     "name": "stdout",
     "output_type": "stream",
     "text": [
      "\n",
      "Train Loss: 0.3071\n",
      "Scale: 16 --> Train F1-Score: 0.9890 | Train Bacc: 0.9901 | Train ROC-AUC: 0.9931\n",
      "Scale: 32 --> Train F1-Score: 0.9836 | Train Bacc: 0.9847 | Train ROC-AUC: 0.9959\n",
      "Scale: 128 --> Train F1-Score: 0.9879 | Train Bacc: 0.9875 | Train ROC-AUC: 0.9976\n",
      "Aggregated Results --> Train F1-Score: 0.9934 | Train Bacc: 0.9964 | Train ROC-AUC: 0.9991\n",
      "\n",
      "Val Loss: 4.9664\n",
      "Scale: 16 --> Val F1-Score: 0.9731 | Val Bacc: 0.8470 | Val ROC-AUC: 0.9268\n",
      "Scale: 32 --> Val F1-Score: 0.9664 | Val Bacc: 0.8347 | Val ROC-AUC: 0.9187\n",
      "Scale: 128 --> Val F1-Score: 0.9681 | Val Bacc: 0.8432 | Val ROC-AUC: 0.9112\n",
      "Aggregated Results --> Val F1-Score: 0.9779 | Val Bacc: 0.8221 | Val ROC-AUC: 0.8957\n",
      "\n",
      "best AUC-ROC Score at epoch 7: 0.9595\n",
      "\n",
      "-------- Epoch 24/30 --------\n"
     ]
    },
    {
     "name": "stderr",
     "output_type": "stream",
     "text": [
      "[024/030 epoch train]: 100%|██████████| 1600/1600 [03:48<00:00,  7.01it/s, lr=[5.097673357358906e-06], loss=0.2539, CUDA-Mem=0%, CUDA-Util=0%] \n",
      "[024/030 epoch valid]: 100%|██████████| 400/400 [00:45<00:00,  8.87it/s, loss=5.9714, CUDA-Mem=0%, CUDA-Util=0%]\n"
     ]
    },
    {
     "name": "stdout",
     "output_type": "stream",
     "text": [
      "\n",
      "Train Loss: 0.2539\n",
      "Scale: 16 --> Train F1-Score: 0.9909 | Train Bacc: 0.9913 | Train ROC-AUC: 0.9936\n",
      "Scale: 32 --> Train F1-Score: 0.9842 | Train Bacc: 0.9851 | Train ROC-AUC: 0.9966\n",
      "Scale: 128 --> Train F1-Score: 0.9889 | Train Bacc: 0.9900 | Train ROC-AUC: 0.9980\n",
      "Aggregated Results --> Train F1-Score: 0.9946 | Train Bacc: 0.9953 | Train ROC-AUC: 0.9993\n",
      "\n",
      "Val Loss: 5.9714\n",
      "Scale: 16 --> Val F1-Score: 0.9762 | Val Bacc: 0.8138 | Val ROC-AUC: 0.9273\n",
      "Scale: 32 --> Val F1-Score: 0.9712 | Val Bacc: 0.8172 | Val ROC-AUC: 0.9281\n",
      "Scale: 128 --> Val F1-Score: 0.9774 | Val Bacc: 0.7933 | Val ROC-AUC: 0.9147\n",
      "Aggregated Results --> Val F1-Score: 0.9823 | Val Bacc: 0.7895 | Val ROC-AUC: 0.8887\n",
      "\n",
      "best AUC-ROC Score at epoch 7: 0.9595\n",
      "\n",
      "-------- Epoch 25/30 --------\n"
     ]
    },
    {
     "name": "stderr",
     "output_type": "stream",
     "text": [
      "[025/030 epoch train]: 100%|██████████| 1600/1600 [03:43<00:00,  7.17it/s, lr=[3.578570595810273e-06], loss=0.2550, CUDA-Mem=0%, CUDA-Util=0%] \n",
      "[025/030 epoch valid]: 100%|██████████| 400/400 [00:44<00:00,  8.92it/s, loss=5.8982, CUDA-Mem=0%, CUDA-Util=0%]\n"
     ]
    },
    {
     "name": "stdout",
     "output_type": "stream",
     "text": [
      "\n",
      "Train Loss: 0.2550\n",
      "Scale: 16 --> Train F1-Score: 0.9902 | Train Bacc: 0.9908 | Train ROC-AUC: 0.9938\n",
      "Scale: 32 --> Train F1-Score: 0.9859 | Train Bacc: 0.9880 | Train ROC-AUC: 0.9969\n",
      "Scale: 128 --> Train F1-Score: 0.9889 | Train Bacc: 0.9900 | Train ROC-AUC: 0.9982\n",
      "Aggregated Results --> Train F1-Score: 0.9946 | Train Bacc: 0.9952 | Train ROC-AUC: 0.9992\n",
      "\n",
      "Val Loss: 5.8982\n",
      "Scale: 16 --> Val F1-Score: 0.9748 | Val Bacc: 0.8199 | Val ROC-AUC: 0.9253\n",
      "Scale: 32 --> Val F1-Score: 0.9722 | Val Bacc: 0.8180 | Val ROC-AUC: 0.9276\n",
      "Scale: 128 --> Val F1-Score: 0.9772 | Val Bacc: 0.8074 | Val ROC-AUC: 0.9153\n",
      "Aggregated Results --> Val F1-Score: 0.9808 | Val Bacc: 0.7885 | Val ROC-AUC: 0.8816\n",
      "\n",
      "best AUC-ROC Score at epoch 7: 0.9595\n",
      "\n",
      "-------- Epoch 26/30 --------\n"
     ]
    },
    {
     "name": "stderr",
     "output_type": "stream",
     "text": [
      "[026/030 epoch train]: 100%|██████████| 1600/1600 [03:49<00:00,  6.97it/s, lr=[2.310614508226077e-06], loss=0.2156, CUDA-Mem=0%, CUDA-Util=0%] \n",
      "[026/030 epoch valid]: 100%|██████████| 400/400 [00:44<00:00,  8.89it/s, loss=6.0087, CUDA-Mem=0%, CUDA-Util=0%]\n"
     ]
    },
    {
     "name": "stdout",
     "output_type": "stream",
     "text": [
      "\n",
      "Train Loss: 0.2156\n",
      "Scale: 16 --> Train F1-Score: 0.9925 | Train Bacc: 0.9922 | Train ROC-AUC: 0.9949\n",
      "Scale: 32 --> Train F1-Score: 0.9872 | Train Bacc: 0.9889 | Train ROC-AUC: 0.9972\n",
      "Scale: 128 --> Train F1-Score: 0.9913 | Train Bacc: 0.9951 | Train ROC-AUC: 0.9984\n",
      "Aggregated Results --> Train F1-Score: 0.9960 | Train Bacc: 0.9979 | Train ROC-AUC: 0.9995\n",
      "\n",
      "Val Loss: 6.0087\n",
      "Scale: 16 --> Val F1-Score: 0.9779 | Val Bacc: 0.8079 | Val ROC-AUC: 0.9202\n",
      "Scale: 32 --> Val F1-Score: 0.9737 | Val Bacc: 0.8191 | Val ROC-AUC: 0.9277\n",
      "Scale: 128 --> Val F1-Score: 0.9741 | Val Bacc: 0.8336 | Val ROC-AUC: 0.9136\n",
      "Aggregated Results --> Val F1-Score: 0.9816 | Val Bacc: 0.7962 | Val ROC-AUC: 0.8676\n",
      "\n",
      "best AUC-ROC Score at epoch 7: 0.9595\n",
      "\n",
      "-------- Epoch 27/30 --------\n"
     ]
    },
    {
     "name": "stderr",
     "output_type": "stream",
     "text": [
      "[027/030 epoch train]: 100%|██████████| 1600/1600 [03:46<00:00,  7.06it/s, lr=[1.308670720429941e-06], loss=0.1947, CUDA-Mem=0%, CUDA-Util=0%] \n",
      "[027/030 epoch valid]: 100%|██████████| 400/400 [00:47<00:00,  8.49it/s, loss=6.3461, CUDA-Mem=0%, CUDA-Util=0%]"
     ]
    },
    {
     "name": "stdout",
     "output_type": "stream",
     "text": [
      "\n",
      "Train Loss: 0.1947\n",
      "Scale: 16 --> Train F1-Score: 0.9932 | Train Bacc: 0.9927 | Train ROC-AUC: 0.9954\n",
      "Scale: 32 --> Train F1-Score: 0.9881 | Train Bacc: 0.9895 | Train ROC-AUC: 0.9975\n",
      "Scale: 128 --> Train F1-Score: 0.9921 | Train Bacc: 0.9956 | Train ROC-AUC: 0.9987\n",
      "Aggregated Results --> Train F1-Score: 0.9964 | Train Bacc: 0.9981 | Train ROC-AUC: 0.9996\n",
      "\n",
      "Val Loss: 6.3461\n",
      "Scale: 16 --> Val F1-Score: 0.9764 | Val Bacc: 0.8140 | Val ROC-AUC: 0.9209\n",
      "Scale: 32 --> Val F1-Score: 0.9751 | Val Bacc: 0.8130 | Val ROC-AUC: 0.9276\n",
      "Scale: 128 --> Val F1-Score: 0.9767 | Val Bacc: 0.8071 | Val ROC-AUC: 0.9161\n",
      "Aggregated Results --> Val F1-Score: 0.9825 | Val Bacc: 0.7896 | Val ROC-AUC: 0.8532\n",
      "\n",
      "best AUC-ROC Score at epoch 7: 0.9595\n",
      "\n",
      "-------- Epoch 28/30 --------\n"
     ]
    },
    {
     "name": "stderr",
     "output_type": "stream",
     "text": [
      "\n",
      "[028/030 epoch train]: 100%|██████████| 1600/1600 [03:46<00:00,  7.06it/s, lr=[5.84486107247834e-07], loss=0.1829, CUDA-Mem=0%, CUDA-Util=0%] \n",
      "[028/030 epoch valid]: 100%|██████████| 400/400 [00:44<00:00,  8.92it/s, loss=6.4576, CUDA-Mem=0%, CUDA-Util=0%]\n"
     ]
    },
    {
     "name": "stdout",
     "output_type": "stream",
     "text": [
      "\n",
      "Train Loss: 0.1829\n",
      "Scale: 16 --> Train F1-Score: 0.9936 | Train Bacc: 0.9929 | Train ROC-AUC: 0.9960\n",
      "Scale: 32 --> Train F1-Score: 0.9885 | Train Bacc: 0.9897 | Train ROC-AUC: 0.9976\n",
      "Scale: 128 --> Train F1-Score: 0.9935 | Train Bacc: 0.9964 | Train ROC-AUC: 0.9987\n",
      "Aggregated Results --> Train F1-Score: 0.9971 | Train Bacc: 0.9984 | Train ROC-AUC: 0.9997\n",
      "\n",
      "Val Loss: 6.4576\n",
      "Scale: 16 --> Val F1-Score: 0.9779 | Val Bacc: 0.8079 | Val ROC-AUC: 0.9175\n",
      "Scale: 32 --> Val F1-Score: 0.9749 | Val Bacc: 0.8128 | Val ROC-AUC: 0.9274\n",
      "Scale: 128 --> Val F1-Score: 0.9773 | Val Bacc: 0.8004 | Val ROC-AUC: 0.9167\n",
      "Aggregated Results --> Val F1-Score: 0.9833 | Val Bacc: 0.7901 | Val ROC-AUC: 0.8505\n",
      "\n",
      "best AUC-ROC Score at epoch 7: 0.9595\n",
      "\n",
      "-------- Epoch 29/30 --------\n"
     ]
    },
    {
     "name": "stderr",
     "output_type": "stream",
     "text": [
      "[029/030 epoch train]: 100%|██████████| 1600/1600 [03:40<00:00,  7.25it/s, lr=[1.4655107114101023e-07], loss=0.1762, CUDA-Mem=0%, CUDA-Util=0%]\n",
      "[029/030 epoch valid]: 100%|██████████| 400/400 [00:44<00:00,  8.90it/s, loss=6.5149, CUDA-Mem=0%, CUDA-Util=0%]\n"
     ]
    },
    {
     "name": "stdout",
     "output_type": "stream",
     "text": [
      "\n",
      "Train Loss: 0.1762\n",
      "Scale: 16 --> Train F1-Score: 0.9939 | Train Bacc: 0.9931 | Train ROC-AUC: 0.9965\n",
      "Scale: 32 --> Train F1-Score: 0.9887 | Train Bacc: 0.9899 | Train ROC-AUC: 0.9977\n",
      "Scale: 128 --> Train F1-Score: 0.9937 | Train Bacc: 0.9966 | Train ROC-AUC: 0.9988\n",
      "Aggregated Results --> Train F1-Score: 0.9973 | Train Bacc: 0.9986 | Train ROC-AUC: 0.9997\n",
      "\n",
      "Val Loss: 6.5149\n",
      "Scale: 16 --> Val F1-Score: 0.9779 | Val Bacc: 0.8079 | Val ROC-AUC: 0.9170\n",
      "Scale: 32 --> Val F1-Score: 0.9751 | Val Bacc: 0.8130 | Val ROC-AUC: 0.9273\n",
      "Scale: 128 --> Val F1-Score: 0.9770 | Val Bacc: 0.7930 | Val ROC-AUC: 0.9169\n",
      "Aggregated Results --> Val F1-Score: 0.9833 | Val Bacc: 0.7901 | Val ROC-AUC: 0.8486\n",
      "\n",
      "best AUC-ROC Score at epoch 7: 0.9595\n",
      "\n",
      "-------- Epoch 30/30 --------\n"
     ]
    },
    {
     "name": "stderr",
     "output_type": "stream",
     "text": [
      "[030/030 epoch train]: 100%|██████████| 1600/1600 [03:48<00:00,  6.99it/s, lr=[1.874699728327322e-37], loss=0.1728, CUDA-Mem=0%, CUDA-Util=0%] \n",
      "[030/030 epoch valid]: 100%|██████████| 400/400 [00:45<00:00,  8.85it/s, loss=6.5227, CUDA-Mem=0%, CUDA-Util=0%]\n"
     ]
    },
    {
     "name": "stdout",
     "output_type": "stream",
     "text": [
      "\n",
      "Train Loss: 0.1728\n",
      "Scale: 16 --> Train F1-Score: 0.9939 | Train Bacc: 0.9931 | Train ROC-AUC: 0.9968\n",
      "Scale: 32 --> Train F1-Score: 0.9893 | Train Bacc: 0.9903 | Train ROC-AUC: 0.9977\n",
      "Scale: 128 --> Train F1-Score: 0.9939 | Train Bacc: 0.9967 | Train ROC-AUC: 0.9988\n",
      "Aggregated Results --> Train F1-Score: 0.9971 | Train Bacc: 0.9985 | Train ROC-AUC: 0.9997\n",
      "\n",
      "Val Loss: 6.5227\n",
      "Scale: 16 --> Val F1-Score: 0.9777 | Val Bacc: 0.8077 | Val ROC-AUC: 0.9170\n",
      "Scale: 32 --> Val F1-Score: 0.9751 | Val Bacc: 0.8130 | Val ROC-AUC: 0.9274\n",
      "Scale: 128 --> Val F1-Score: 0.9767 | Val Bacc: 0.7928 | Val ROC-AUC: 0.9171\n",
      "Aggregated Results --> Val F1-Score: 0.9833 | Val Bacc: 0.7901 | Val ROC-AUC: 0.8483\n",
      "\n",
      "best AUC-ROC Score at epoch 7: 0.9595\n"
     ]
    },
    {
     "name": "stderr",
     "output_type": "stream",
     "text": [
      "100%|██████████| 500/500 [00:57<00:00,  8.71it/s, loss=1.0764, CUDA-Mem=0%, CUDA-Util=0%]\n"
     ]
    },
    {
     "name": "stdout",
     "output_type": "stream",
     "text": [
      "\n",
      "Test Loss: 1.0764\n",
      "Scale: 16 --> Test F1-Score: 0.9427 | Test Bacc: 0.8765 | Test ROC-AUC: 0.9461\n",
      "Scale: 32 --> Test F1-Score: 0.9241 | Test Bacc: 0.8609 | Test ROC-AUC: 0.9361\n",
      "Scale: 128 --> Test F1-Score: 0.9203 | Test Bacc: 0.8577 | Test ROC-AUC: 0.9003\n",
      "Aggregated Results --> Test F1-Score: 0.9293 | Test Bacc: 0.8837 | Test ROC-AUC: 0.9423\n",
      "---------------finished running code-------------------\n"
     ]
    },
    {
     "data": {
      "text/plain": [
       "<Figure size 640x480 with 0 Axes>"
      ]
     },
     "metadata": {},
     "output_type": "display_data"
    },
    {
     "data": {
      "text/plain": [
       "<Figure size 2000x800 with 0 Axes>"
      ]
     },
     "metadata": {},
     "output_type": "display_data"
    },
    {
     "data": {
      "text/plain": [
       "<Figure size 1000x800 with 0 Axes>"
      ]
     },
     "metadata": {},
     "output_type": "display_data"
    },
    {
     "data": {
      "text/plain": [
       "<Figure size 640x480 with 0 Axes>"
      ]
     },
     "metadata": {},
     "output_type": "display_data"
    },
    {
     "data": {
      "text/plain": [
       "<Figure size 640x480 with 0 Axes>"
      ]
     },
     "metadata": {},
     "output_type": "display_data"
    }
   ],
   "source": [
    "%run foundational_models/Mammo-CLIP-main/Mammo-CLIP-main/src3-Copy1/codebase/main.py \\\n",
    "  --clip_chk_pt_path \"foundational_models/Mammo-CLIP-main/Mammo-CLIP-main/b2-model-best-epoch-10.tar\" \\\n",
    "  --dataset 'ViNDr' \\\n",
    "  --label \"Suspicious_Calcification\" \\\n",
    "  --train --epochs 30 --batch-size 8 \\\n",
    "  --num-workers 4 \\\n",
    "  --eval_scheme 'kruns_train+val+test' --n_runs 1 \\\n",
    "  --lr 5.0e-5 \\\n",
    "  --weighted-BCE 'y' \\\n",
    "  --mil_type 'pyramidal_mil' \\\n",
    "  --pooling_type 'pma' \\\n",
    "  --fcl_encoder_dim 256 \\\n",
    "  --fcl_dropout 0.25 \\\n",
    "  --drop_attention_pool 0.25 \\\n",
    "  --fpn_dim 256 \\\n",
    "  --multi_scale_model 'fpn' \\\n",
    "  --type_mil_encoder 'isab' \\\n",
    "  --trans_layer_norm True \\\n",
    "  --type_scale_aggregator 'gated-attention' \\\n",
    "  --deep_supervision --scales 16 32 128 \n",
    "\n",
    "print('---------------finished running code-------------------')"
   ]
  },
  {
   "cell_type": "code",
   "execution_count": null,
   "id": "f3c18406-5647-468e-8cce-53a286f5b7c1",
   "metadata": {},
   "outputs": [],
   "source": []
  },
  {
   "cell_type": "code",
   "execution_count": null,
   "id": "c7455bc4-a4bd-40c9-bbb1-52b95635affb",
   "metadata": {},
   "outputs": [],
   "source": []
  },
  {
   "cell_type": "code",
   "execution_count": 1,
   "id": "93ef7b39-4aeb-424d-bc17-74bee17410c8",
   "metadata": {
    "scrolled": true
   },
   "outputs": [
    {
     "name": "stderr",
     "output_type": "stream",
     "text": [
      "/home/csantiago/.local/lib/python3.10/site-packages/albumentations/__init__.py:13: UserWarning: A new version of Albumentations is available: 2.0.8 (you have 1.4.18). Upgrade using: pip install -U albumentations. To disable automatic update checks, set the environment variable NO_ALBUMENTATIONS_UPDATE to 1.\n",
      "  check_for_updates()\n"
     ]
    },
    {
     "name": "stdout",
     "output_type": "stream",
     "text": [
      "\n",
      "torch.cuda.current_device(): 0\n",
      "\n",
      "Using device: cuda\n",
      "\n",
      "Running eval for model run nº0....\n",
      "df shape: (20000, 16)\n",
      "Index(['image_id', 'patient_id', 'laterality', 'view', 'finding_categories',\n",
      "       'finding_birads', 'breast_birads', 'breast_density', 'split', 'fold',\n",
      "       'Mass', 'Suspicious_Calcification', 'resized_xmin', 'resized_ymin',\n",
      "       'resized_xmax', 'resized_ymax'],\n",
      "      dtype='object')\n",
      "{'source': 'cnn', 'name': 'tf_efficientnetv2-detect', 'pretrained': True, 'model_type': 'cnn'}\n",
      "_IncompatibleKeys(missing_keys=[], unexpected_keys=['_conv_head.weight', '_bn1.weight', '_bn1.bias', '_bn1.running_mean', '_bn1.running_var', '_bn1.num_batches_tracked'])\n",
      "Loaded pretrained weights for efficientnet-b2\n",
      "PyramidalMILmodel(\n",
      "  (inst_encoder): FeaturePyramidNetwork(\n",
      "    (backbone): EfficientNet(\n",
      "      (_conv_stem): Conv2dStaticSamePadding(\n",
      "        3, 32, kernel_size=(3, 3), stride=(2, 2), bias=False\n",
      "        (static_padding): ZeroPad2d((0, 1, 0, 1))\n",
      "      )\n",
      "      (_bn0): BatchNorm2d(32, eps=0.001, momentum=0.010000000000000009, affine=True, track_running_stats=True)\n",
      "      (_blocks): ModuleList(\n",
      "        (0): MBConvBlock(\n",
      "          (_depthwise_conv): Conv2dStaticSamePadding(\n",
      "            32, 32, kernel_size=(3, 3), stride=[1, 1], groups=32, bias=False\n",
      "            (static_padding): ZeroPad2d((1, 1, 1, 1))\n",
      "          )\n",
      "          (_bn1): BatchNorm2d(32, eps=0.001, momentum=0.010000000000000009, affine=True, track_running_stats=True)\n",
      "          (_se_reduce): Conv2dStaticSamePadding(\n",
      "            32, 8, kernel_size=(1, 1), stride=(1, 1)\n",
      "            (static_padding): Identity()\n",
      "          )\n",
      "          (_se_expand): Conv2dStaticSamePadding(\n",
      "            8, 32, kernel_size=(1, 1), stride=(1, 1)\n",
      "            (static_padding): Identity()\n",
      "          )\n",
      "          (_project_conv): Conv2dStaticSamePadding(\n",
      "            32, 16, kernel_size=(1, 1), stride=(1, 1), bias=False\n",
      "            (static_padding): Identity()\n",
      "          )\n",
      "          (_bn2): BatchNorm2d(16, eps=0.001, momentum=0.010000000000000009, affine=True, track_running_stats=True)\n",
      "          (_swish): MemoryEfficientSwish()\n",
      "        )\n",
      "        (1): MBConvBlock(\n",
      "          (_depthwise_conv): Conv2dStaticSamePadding(\n",
      "            16, 16, kernel_size=(3, 3), stride=(1, 1), groups=16, bias=False\n",
      "            (static_padding): ZeroPad2d((1, 1, 1, 1))\n",
      "          )\n",
      "          (_bn1): BatchNorm2d(16, eps=0.001, momentum=0.010000000000000009, affine=True, track_running_stats=True)\n",
      "          (_se_reduce): Conv2dStaticSamePadding(\n",
      "            16, 4, kernel_size=(1, 1), stride=(1, 1)\n",
      "            (static_padding): Identity()\n",
      "          )\n",
      "          (_se_expand): Conv2dStaticSamePadding(\n",
      "            4, 16, kernel_size=(1, 1), stride=(1, 1)\n",
      "            (static_padding): Identity()\n",
      "          )\n",
      "          (_project_conv): Conv2dStaticSamePadding(\n",
      "            16, 16, kernel_size=(1, 1), stride=(1, 1), bias=False\n",
      "            (static_padding): Identity()\n",
      "          )\n",
      "          (_bn2): BatchNorm2d(16, eps=0.001, momentum=0.010000000000000009, affine=True, track_running_stats=True)\n",
      "          (_swish): MemoryEfficientSwish()\n",
      "        )\n",
      "        (2): MBConvBlock(\n",
      "          (_expand_conv): Conv2dStaticSamePadding(\n",
      "            16, 96, kernel_size=(1, 1), stride=(1, 1), bias=False\n",
      "            (static_padding): Identity()\n",
      "          )\n",
      "          (_bn0): BatchNorm2d(96, eps=0.001, momentum=0.010000000000000009, affine=True, track_running_stats=True)\n",
      "          (_depthwise_conv): Conv2dStaticSamePadding(\n",
      "            96, 96, kernel_size=(3, 3), stride=[2, 2], groups=96, bias=False\n",
      "            (static_padding): ZeroPad2d((0, 1, 0, 1))\n",
      "          )\n",
      "          (_bn1): BatchNorm2d(96, eps=0.001, momentum=0.010000000000000009, affine=True, track_running_stats=True)\n",
      "          (_se_reduce): Conv2dStaticSamePadding(\n",
      "            96, 4, kernel_size=(1, 1), stride=(1, 1)\n",
      "            (static_padding): Identity()\n",
      "          )\n",
      "          (_se_expand): Conv2dStaticSamePadding(\n",
      "            4, 96, kernel_size=(1, 1), stride=(1, 1)\n",
      "            (static_padding): Identity()\n",
      "          )\n",
      "          (_project_conv): Conv2dStaticSamePadding(\n",
      "            96, 24, kernel_size=(1, 1), stride=(1, 1), bias=False\n",
      "            (static_padding): Identity()\n",
      "          )\n",
      "          (_bn2): BatchNorm2d(24, eps=0.001, momentum=0.010000000000000009, affine=True, track_running_stats=True)\n",
      "          (_swish): MemoryEfficientSwish()\n",
      "        )\n",
      "        (3-4): 2 x MBConvBlock(\n",
      "          (_expand_conv): Conv2dStaticSamePadding(\n",
      "            24, 144, kernel_size=(1, 1), stride=(1, 1), bias=False\n",
      "            (static_padding): Identity()\n",
      "          )\n",
      "          (_bn0): BatchNorm2d(144, eps=0.001, momentum=0.010000000000000009, affine=True, track_running_stats=True)\n",
      "          (_depthwise_conv): Conv2dStaticSamePadding(\n",
      "            144, 144, kernel_size=(3, 3), stride=(1, 1), groups=144, bias=False\n",
      "            (static_padding): ZeroPad2d((1, 1, 1, 1))\n",
      "          )\n",
      "          (_bn1): BatchNorm2d(144, eps=0.001, momentum=0.010000000000000009, affine=True, track_running_stats=True)\n",
      "          (_se_reduce): Conv2dStaticSamePadding(\n",
      "            144, 6, kernel_size=(1, 1), stride=(1, 1)\n",
      "            (static_padding): Identity()\n",
      "          )\n",
      "          (_se_expand): Conv2dStaticSamePadding(\n",
      "            6, 144, kernel_size=(1, 1), stride=(1, 1)\n",
      "            (static_padding): Identity()\n",
      "          )\n",
      "          (_project_conv): Conv2dStaticSamePadding(\n",
      "            144, 24, kernel_size=(1, 1), stride=(1, 1), bias=False\n",
      "            (static_padding): Identity()\n",
      "          )\n",
      "          (_bn2): BatchNorm2d(24, eps=0.001, momentum=0.010000000000000009, affine=True, track_running_stats=True)\n",
      "          (_swish): MemoryEfficientSwish()\n",
      "        )\n",
      "        (5): MBConvBlock(\n",
      "          (_expand_conv): Conv2dStaticSamePadding(\n",
      "            24, 144, kernel_size=(1, 1), stride=(1, 1), bias=False\n",
      "            (static_padding): Identity()\n",
      "          )\n",
      "          (_bn0): BatchNorm2d(144, eps=0.001, momentum=0.010000000000000009, affine=True, track_running_stats=True)\n",
      "          (_depthwise_conv): Conv2dStaticSamePadding(\n",
      "            144, 144, kernel_size=(5, 5), stride=[2, 2], groups=144, bias=False\n",
      "            (static_padding): ZeroPad2d((2, 2, 2, 2))\n",
      "          )\n",
      "          (_bn1): BatchNorm2d(144, eps=0.001, momentum=0.010000000000000009, affine=True, track_running_stats=True)\n",
      "          (_se_reduce): Conv2dStaticSamePadding(\n",
      "            144, 6, kernel_size=(1, 1), stride=(1, 1)\n",
      "            (static_padding): Identity()\n",
      "          )\n",
      "          (_se_expand): Conv2dStaticSamePadding(\n",
      "            6, 144, kernel_size=(1, 1), stride=(1, 1)\n",
      "            (static_padding): Identity()\n",
      "          )\n",
      "          (_project_conv): Conv2dStaticSamePadding(\n",
      "            144, 48, kernel_size=(1, 1), stride=(1, 1), bias=False\n",
      "            (static_padding): Identity()\n",
      "          )\n",
      "          (_bn2): BatchNorm2d(48, eps=0.001, momentum=0.010000000000000009, affine=True, track_running_stats=True)\n",
      "          (_swish): MemoryEfficientSwish()\n",
      "        )\n",
      "        (6-7): 2 x MBConvBlock(\n",
      "          (_expand_conv): Conv2dStaticSamePadding(\n",
      "            48, 288, kernel_size=(1, 1), stride=(1, 1), bias=False\n",
      "            (static_padding): Identity()\n",
      "          )\n",
      "          (_bn0): BatchNorm2d(288, eps=0.001, momentum=0.010000000000000009, affine=True, track_running_stats=True)\n",
      "          (_depthwise_conv): Conv2dStaticSamePadding(\n",
      "            288, 288, kernel_size=(5, 5), stride=(1, 1), groups=288, bias=False\n",
      "            (static_padding): ZeroPad2d((2, 2, 2, 2))\n",
      "          )\n",
      "          (_bn1): BatchNorm2d(288, eps=0.001, momentum=0.010000000000000009, affine=True, track_running_stats=True)\n",
      "          (_se_reduce): Conv2dStaticSamePadding(\n",
      "            288, 12, kernel_size=(1, 1), stride=(1, 1)\n",
      "            (static_padding): Identity()\n",
      "          )\n",
      "          (_se_expand): Conv2dStaticSamePadding(\n",
      "            12, 288, kernel_size=(1, 1), stride=(1, 1)\n",
      "            (static_padding): Identity()\n",
      "          )\n",
      "          (_project_conv): Conv2dStaticSamePadding(\n",
      "            288, 48, kernel_size=(1, 1), stride=(1, 1), bias=False\n",
      "            (static_padding): Identity()\n",
      "          )\n",
      "          (_bn2): BatchNorm2d(48, eps=0.001, momentum=0.010000000000000009, affine=True, track_running_stats=True)\n",
      "          (_swish): MemoryEfficientSwish()\n",
      "        )\n",
      "        (8): MBConvBlock(\n",
      "          (_expand_conv): Conv2dStaticSamePadding(\n",
      "            48, 288, kernel_size=(1, 1), stride=(1, 1), bias=False\n",
      "            (static_padding): Identity()\n",
      "          )\n",
      "          (_bn0): BatchNorm2d(288, eps=0.001, momentum=0.010000000000000009, affine=True, track_running_stats=True)\n",
      "          (_depthwise_conv): Conv2dStaticSamePadding(\n",
      "            288, 288, kernel_size=(3, 3), stride=[2, 2], groups=288, bias=False\n",
      "            (static_padding): ZeroPad2d((1, 1, 1, 1))\n",
      "          )\n",
      "          (_bn1): BatchNorm2d(288, eps=0.001, momentum=0.010000000000000009, affine=True, track_running_stats=True)\n",
      "          (_se_reduce): Conv2dStaticSamePadding(\n",
      "            288, 12, kernel_size=(1, 1), stride=(1, 1)\n",
      "            (static_padding): Identity()\n",
      "          )\n",
      "          (_se_expand): Conv2dStaticSamePadding(\n",
      "            12, 288, kernel_size=(1, 1), stride=(1, 1)\n",
      "            (static_padding): Identity()\n",
      "          )\n",
      "          (_project_conv): Conv2dStaticSamePadding(\n",
      "            288, 88, kernel_size=(1, 1), stride=(1, 1), bias=False\n",
      "            (static_padding): Identity()\n",
      "          )\n",
      "          (_bn2): BatchNorm2d(88, eps=0.001, momentum=0.010000000000000009, affine=True, track_running_stats=True)\n",
      "          (_swish): MemoryEfficientSwish()\n",
      "        )\n",
      "        (9-11): 3 x MBConvBlock(\n",
      "          (_expand_conv): Conv2dStaticSamePadding(\n",
      "            88, 528, kernel_size=(1, 1), stride=(1, 1), bias=False\n",
      "            (static_padding): Identity()\n",
      "          )\n",
      "          (_bn0): BatchNorm2d(528, eps=0.001, momentum=0.010000000000000009, affine=True, track_running_stats=True)\n",
      "          (_depthwise_conv): Conv2dStaticSamePadding(\n",
      "            528, 528, kernel_size=(3, 3), stride=(1, 1), groups=528, bias=False\n",
      "            (static_padding): ZeroPad2d((1, 1, 1, 1))\n",
      "          )\n",
      "          (_bn1): BatchNorm2d(528, eps=0.001, momentum=0.010000000000000009, affine=True, track_running_stats=True)\n",
      "          (_se_reduce): Conv2dStaticSamePadding(\n",
      "            528, 22, kernel_size=(1, 1), stride=(1, 1)\n",
      "            (static_padding): Identity()\n",
      "          )\n",
      "          (_se_expand): Conv2dStaticSamePadding(\n",
      "            22, 528, kernel_size=(1, 1), stride=(1, 1)\n",
      "            (static_padding): Identity()\n",
      "          )\n",
      "          (_project_conv): Conv2dStaticSamePadding(\n",
      "            528, 88, kernel_size=(1, 1), stride=(1, 1), bias=False\n",
      "            (static_padding): Identity()\n",
      "          )\n",
      "          (_bn2): BatchNorm2d(88, eps=0.001, momentum=0.010000000000000009, affine=True, track_running_stats=True)\n",
      "          (_swish): MemoryEfficientSwish()\n",
      "        )\n",
      "        (12): MBConvBlock(\n",
      "          (_expand_conv): Conv2dStaticSamePadding(\n",
      "            88, 528, kernel_size=(1, 1), stride=(1, 1), bias=False\n",
      "            (static_padding): Identity()\n",
      "          )\n",
      "          (_bn0): BatchNorm2d(528, eps=0.001, momentum=0.010000000000000009, affine=True, track_running_stats=True)\n",
      "          (_depthwise_conv): Conv2dStaticSamePadding(\n",
      "            528, 528, kernel_size=(5, 5), stride=[1, 1], groups=528, bias=False\n",
      "            (static_padding): ZeroPad2d((2, 2, 2, 2))\n",
      "          )\n",
      "          (_bn1): BatchNorm2d(528, eps=0.001, momentum=0.010000000000000009, affine=True, track_running_stats=True)\n",
      "          (_se_reduce): Conv2dStaticSamePadding(\n",
      "            528, 22, kernel_size=(1, 1), stride=(1, 1)\n",
      "            (static_padding): Identity()\n",
      "          )\n",
      "          (_se_expand): Conv2dStaticSamePadding(\n",
      "            22, 528, kernel_size=(1, 1), stride=(1, 1)\n",
      "            (static_padding): Identity()\n",
      "          )\n",
      "          (_project_conv): Conv2dStaticSamePadding(\n",
      "            528, 120, kernel_size=(1, 1), stride=(1, 1), bias=False\n",
      "            (static_padding): Identity()\n",
      "          )\n",
      "          (_bn2): BatchNorm2d(120, eps=0.001, momentum=0.010000000000000009, affine=True, track_running_stats=True)\n",
      "          (_swish): MemoryEfficientSwish()\n",
      "        )\n",
      "        (13-15): 3 x MBConvBlock(\n",
      "          (_expand_conv): Conv2dStaticSamePadding(\n",
      "            120, 720, kernel_size=(1, 1), stride=(1, 1), bias=False\n",
      "            (static_padding): Identity()\n",
      "          )\n",
      "          (_bn0): BatchNorm2d(720, eps=0.001, momentum=0.010000000000000009, affine=True, track_running_stats=True)\n",
      "          (_depthwise_conv): Conv2dStaticSamePadding(\n",
      "            720, 720, kernel_size=(5, 5), stride=(1, 1), groups=720, bias=False\n",
      "            (static_padding): ZeroPad2d((2, 2, 2, 2))\n",
      "          )\n",
      "          (_bn1): BatchNorm2d(720, eps=0.001, momentum=0.010000000000000009, affine=True, track_running_stats=True)\n",
      "          (_se_reduce): Conv2dStaticSamePadding(\n",
      "            720, 30, kernel_size=(1, 1), stride=(1, 1)\n",
      "            (static_padding): Identity()\n",
      "          )\n",
      "          (_se_expand): Conv2dStaticSamePadding(\n",
      "            30, 720, kernel_size=(1, 1), stride=(1, 1)\n",
      "            (static_padding): Identity()\n",
      "          )\n",
      "          (_project_conv): Conv2dStaticSamePadding(\n",
      "            720, 120, kernel_size=(1, 1), stride=(1, 1), bias=False\n",
      "            (static_padding): Identity()\n",
      "          )\n",
      "          (_bn2): BatchNorm2d(120, eps=0.001, momentum=0.010000000000000009, affine=True, track_running_stats=True)\n",
      "          (_swish): MemoryEfficientSwish()\n",
      "        )\n",
      "        (16): MBConvBlock(\n",
      "          (_expand_conv): Conv2dStaticSamePadding(\n",
      "            120, 720, kernel_size=(1, 1), stride=(1, 1), bias=False\n",
      "            (static_padding): Identity()\n",
      "          )\n",
      "          (_bn0): BatchNorm2d(720, eps=0.001, momentum=0.010000000000000009, affine=True, track_running_stats=True)\n",
      "          (_depthwise_conv): Conv2dStaticSamePadding(\n",
      "            720, 720, kernel_size=(5, 5), stride=[2, 2], groups=720, bias=False\n",
      "            (static_padding): ZeroPad2d((2, 2, 2, 2))\n",
      "          )\n",
      "          (_bn1): BatchNorm2d(720, eps=0.001, momentum=0.010000000000000009, affine=True, track_running_stats=True)\n",
      "          (_se_reduce): Conv2dStaticSamePadding(\n",
      "            720, 30, kernel_size=(1, 1), stride=(1, 1)\n",
      "            (static_padding): Identity()\n",
      "          )\n",
      "          (_se_expand): Conv2dStaticSamePadding(\n",
      "            30, 720, kernel_size=(1, 1), stride=(1, 1)\n",
      "            (static_padding): Identity()\n",
      "          )\n",
      "          (_project_conv): Conv2dStaticSamePadding(\n",
      "            720, 208, kernel_size=(1, 1), stride=(1, 1), bias=False\n",
      "            (static_padding): Identity()\n",
      "          )\n",
      "          (_bn2): BatchNorm2d(208, eps=0.001, momentum=0.010000000000000009, affine=True, track_running_stats=True)\n",
      "          (_swish): MemoryEfficientSwish()\n",
      "        )\n",
      "        (17-20): 4 x MBConvBlock(\n",
      "          (_expand_conv): Conv2dStaticSamePadding(\n",
      "            208, 1248, kernel_size=(1, 1), stride=(1, 1), bias=False\n",
      "            (static_padding): Identity()\n",
      "          )\n",
      "          (_bn0): BatchNorm2d(1248, eps=0.001, momentum=0.010000000000000009, affine=True, track_running_stats=True)\n",
      "          (_depthwise_conv): Conv2dStaticSamePadding(\n",
      "            1248, 1248, kernel_size=(5, 5), stride=(1, 1), groups=1248, bias=False\n",
      "            (static_padding): ZeroPad2d((2, 2, 2, 2))\n",
      "          )\n",
      "          (_bn1): BatchNorm2d(1248, eps=0.001, momentum=0.010000000000000009, affine=True, track_running_stats=True)\n",
      "          (_se_reduce): Conv2dStaticSamePadding(\n",
      "            1248, 52, kernel_size=(1, 1), stride=(1, 1)\n",
      "            (static_padding): Identity()\n",
      "          )\n",
      "          (_se_expand): Conv2dStaticSamePadding(\n",
      "            52, 1248, kernel_size=(1, 1), stride=(1, 1)\n",
      "            (static_padding): Identity()\n",
      "          )\n",
      "          (_project_conv): Conv2dStaticSamePadding(\n",
      "            1248, 208, kernel_size=(1, 1), stride=(1, 1), bias=False\n",
      "            (static_padding): Identity()\n",
      "          )\n",
      "          (_bn2): BatchNorm2d(208, eps=0.001, momentum=0.010000000000000009, affine=True, track_running_stats=True)\n",
      "          (_swish): MemoryEfficientSwish()\n",
      "        )\n",
      "        (21): MBConvBlock(\n",
      "          (_expand_conv): Conv2dStaticSamePadding(\n",
      "            208, 1248, kernel_size=(1, 1), stride=(1, 1), bias=False\n",
      "            (static_padding): Identity()\n",
      "          )\n",
      "          (_bn0): BatchNorm2d(1248, eps=0.001, momentum=0.010000000000000009, affine=True, track_running_stats=True)\n",
      "          (_depthwise_conv): Conv2dStaticSamePadding(\n",
      "            1248, 1248, kernel_size=(3, 3), stride=[1, 1], groups=1248, bias=False\n",
      "            (static_padding): ZeroPad2d((1, 1, 1, 1))\n",
      "          )\n",
      "          (_bn1): BatchNorm2d(1248, eps=0.001, momentum=0.010000000000000009, affine=True, track_running_stats=True)\n",
      "          (_se_reduce): Conv2dStaticSamePadding(\n",
      "            1248, 52, kernel_size=(1, 1), stride=(1, 1)\n",
      "            (static_padding): Identity()\n",
      "          )\n",
      "          (_se_expand): Conv2dStaticSamePadding(\n",
      "            52, 1248, kernel_size=(1, 1), stride=(1, 1)\n",
      "            (static_padding): Identity()\n",
      "          )\n",
      "          (_project_conv): Conv2dStaticSamePadding(\n",
      "            1248, 352, kernel_size=(1, 1), stride=(1, 1), bias=False\n",
      "            (static_padding): Identity()\n",
      "          )\n",
      "          (_bn2): BatchNorm2d(352, eps=0.001, momentum=0.010000000000000009, affine=True, track_running_stats=True)\n",
      "          (_swish): MemoryEfficientSwish()\n",
      "        )\n",
      "        (22): MBConvBlock(\n",
      "          (_expand_conv): Conv2dStaticSamePadding(\n",
      "            352, 2112, kernel_size=(1, 1), stride=(1, 1), bias=False\n",
      "            (static_padding): Identity()\n",
      "          )\n",
      "          (_bn0): BatchNorm2d(2112, eps=0.001, momentum=0.010000000000000009, affine=True, track_running_stats=True)\n",
      "          (_depthwise_conv): Conv2dStaticSamePadding(\n",
      "            2112, 2112, kernel_size=(3, 3), stride=(1, 1), groups=2112, bias=False\n",
      "            (static_padding): ZeroPad2d((1, 1, 1, 1))\n",
      "          )\n",
      "          (_bn1): BatchNorm2d(2112, eps=0.001, momentum=0.010000000000000009, affine=True, track_running_stats=True)\n",
      "          (_se_reduce): Conv2dStaticSamePadding(\n",
      "            2112, 88, kernel_size=(1, 1), stride=(1, 1)\n",
      "            (static_padding): Identity()\n",
      "          )\n",
      "          (_se_expand): Conv2dStaticSamePadding(\n",
      "            88, 2112, kernel_size=(1, 1), stride=(1, 1)\n",
      "            (static_padding): Identity()\n",
      "          )\n",
      "          (_project_conv): Conv2dStaticSamePadding(\n",
      "            2112, 352, kernel_size=(1, 1), stride=(1, 1), bias=False\n",
      "            (static_padding): Identity()\n",
      "          )\n",
      "          (_bn2): BatchNorm2d(352, eps=0.001, momentum=0.010000000000000009, affine=True, track_running_stats=True)\n",
      "          (_swish): MemoryEfficientSwish()\n",
      "        )\n",
      "      )\n",
      "      (_avg_pooling): AdaptiveAvgPool2d(output_size=1)\n",
      "      (_swish): MemoryEfficientSwish()\n",
      "    )\n",
      "    (inner_blocks): ModuleDict(\n",
      "      (inner_block_0): Sequential(\n",
      "        (0): Conv2d(120, 256, kernel_size=(1, 1), stride=(1, 1))\n",
      "        (1): Identity()\n",
      "      )\n",
      "      (inner_block_1): Sequential(\n",
      "        (0): Conv2d(352, 256, kernel_size=(1, 1), stride=(1, 1))\n",
      "        (1): Identity()\n",
      "      )\n",
      "    )\n",
      "    (layer_blocks): ModuleDict(\n",
      "      (layer_block_0): Sequential(\n",
      "        (0): Conv2d(256, 256, kernel_size=(3, 3), stride=(1, 1), padding=(1, 1))\n",
      "        (1): Identity()\n",
      "      )\n",
      "      (layer_block_1): Sequential(\n",
      "        (0): Conv2d(256, 256, kernel_size=(3, 3), stride=(1, 1), padding=(1, 1))\n",
      "        (1): Identity()\n",
      "      )\n",
      "    )\n",
      "  )\n",
      "  (side_inst_aggregator): ModuleDict(\n",
      "    (encoders): ModuleDict(\n",
      "      (encoder_16): ModuleList(\n",
      "        (0-1): 2 x InducedSetAttentionBlock(256, d_hidden = 256, num_induced_points=38, heads=4, layer_norm=True, activation=softmax)\n",
      "      )\n",
      "      (encoder_32): ModuleList(\n",
      "        (0-1): 2 x InducedSetAttentionBlock(256, d_hidden = 256, num_induced_points=32, heads=4, layer_norm=True, activation=softmax)\n",
      "      )\n",
      "      (encoder_128): ModuleList(\n",
      "        (0-1): 2 x InducedSetAttentionBlock(256, d_hidden = 256, num_induced_points=20, heads=4, layer_norm=True, activation=softmax)\n",
      "      )\n",
      "    )\n",
      "    (aggregators): ModuleDict(\n",
      "      (aggregator_16): PoolingByMultiheadAttention(256, num_seed_points=1, heads=1, layer_norm=True, activation=softmax)\n",
      "      (aggregator_32): PoolingByMultiheadAttention(256, num_seed_points=1, heads=1, layer_norm=True, activation=softmax)\n",
      "      (aggregator_128): PoolingByMultiheadAttention(256, num_seed_points=1, heads=1, layer_norm=True, activation=softmax)\n",
      "    )\n",
      "  )\n",
      "  (side_classifiers): ModuleDict(\n",
      "    (classifier_16): head(\n",
      "      (drop): Dropout(p=0.0, inplace=True)\n",
      "      (head_classifier): Linear(in_features=256, out_features=1, bias=True)\n",
      "    )\n",
      "    (classifier_32): head(\n",
      "      (drop): Dropout(p=0.0, inplace=True)\n",
      "      (head_classifier): Linear(in_features=256, out_features=1, bias=True)\n",
      "    )\n",
      "    (classifier_128): head(\n",
      "      (drop): Dropout(p=0.0, inplace=True)\n",
      "      (head_classifier): Linear(in_features=256, out_features=1, bias=True)\n",
      "    )\n",
      "  )\n",
      "  (scale_aggregator): Gated_Attn_Net(\n",
      "    (attention_V): Sequential(\n",
      "      (0): Linear(in_features=256, out_features=128, bias=True)\n",
      "      (1): Tanh()\n",
      "      (2): Dropout(p=0.25, inplace=False)\n",
      "    )\n",
      "    (attention_U): Sequential(\n",
      "      (0): Linear(in_features=256, out_features=128, bias=True)\n",
      "      (1): Sigmoid()\n",
      "      (2): Dropout(p=0.25, inplace=False)\n",
      "    )\n",
      "    (attention_weights): Linear(in_features=128, out_features=1, bias=True)\n",
      "  )\n",
      "  (classifier): head(\n",
      "    (drop): Dropout(p=0.0, inplace=True)\n",
      "    (head_classifier): Linear(in_features=256, out_features=1, bias=True)\n",
      "  )\n",
      ")\n",
      "\n",
      "Total number of parameters: 12.580743 M\n",
      "Total number of trainable parameters: 12.580743 M\n"
     ]
    },
    {
     "name": "stderr",
     "output_type": "stream",
     "text": [
      "100%|██████████| 500/500 [03:37<00:00,  2.30it/s, loss=1.0756, CUDA-Mem=0%, CUDA-Util=0%]"
     ]
    },
    {
     "name": "stdout",
     "output_type": "stream",
     "text": [
      "\n",
      "Test Loss: 1.0756\n",
      "Scale: 16 --> Test F1-Score: 0.9426 | Test Bacc: 0.8764 | Test ROC-AUC: 0.9462\n",
      "Scale: 32 --> Test F1-Score: 0.9239 | Test Bacc: 0.8608 | Test ROC-AUC: 0.9360\n",
      "Scale: 128 --> Test F1-Score: 0.9204 | Test Bacc: 0.8578 | Test ROC-AUC: 0.9006\n",
      "Aggregated Results --> Test F1-Score: 0.9287 | Test Bacc: 0.8831 | Test ROC-AUC: 0.9423\n",
      "---------------finished running code-------------------\n"
     ]
    },
    {
     "name": "stderr",
     "output_type": "stream",
     "text": [
      "\n"
     ]
    }
   ],
   "source": [
    "path = 'Mammo-CLIP-output/out_splits_new/MIL_experiments/ViNDr_data_frac_1.0/Suspicious_Calcification/offline_feature_extraction/multi_scale/fpn-deep_supervision/scale_aggregator_gated-attention/isab-dim_256-nblocks_2-nheads_4-dropout_0.0-layer_norm-softmax/pooling_pma-dropout_0.0-layer_norm-softmax/2025-06-24'\n",
    "\n",
    "%run foundational_models/Mammo-CLIP-main/Mammo-CLIP-main/src3-Copy1/codebase/main.py \\\n",
    "--clip_chk_pt_path \"foundational_models/Mammo-CLIP-main/Mammo-CLIP-main/b2-model-best-epoch-10.tar\" \\\n",
    "--data_frac 1.0 \\\n",
    "--dataset 'ViNDr' \\\n",
    "--label \"Suspicious_Calcification\" \\\n",
    "--evaluation --eval_set 'test' --resume \"$path\" \\\n",
    "--feature_extraction 'online' --patch_size 512 \\\n",
    "--mil_type 'pyramidal_mil' \\\n",
    "--pooling_type 'pma' \\\n",
    "--fcl_encoder_dim 256 \\\n",
    "--fcl_dropout 0.25 \\\n",
    "--drop_attention_pool 0.25 \\\n",
    "--fpn_dim 256 \\\n",
    "--multi_scale_model 'fpn' \\\n",
    "--type_mil_encoder 'isab' \\\n",
    "--trans_layer_norm True \\\n",
    "--type_scale_aggregator 'gated-attention' --deep_supervision --scales 16 32 128 \n",
    "\n",
    "print('---------------finished running code-------------------')"
   ]
  },
  {
   "cell_type": "markdown",
   "id": "d31c8c15-4533-4688-bba1-00082b4df8f2",
   "metadata": {},
   "source": [
    "## Lesion Detection "
   ]
  },
  {
   "cell_type": "markdown",
   "id": "d1c7e2da-a255-46ac-8fda-4b3dccbc718b",
   "metadata": {},
   "source": [
    "### all lesions (mAP) "
   ]
  },
  {
   "cell_type": "code",
   "execution_count": 1,
   "id": "84bb6451-9193-4c7d-87b6-2a90fc4a9af6",
   "metadata": {
    "scrolled": true
   },
   "outputs": [
    {
     "name": "stderr",
     "output_type": "stream",
     "text": [
      "/home/csantiago/.local/lib/python3.10/site-packages/albumentations/__init__.py:13: UserWarning: A new version of Albumentations is available: 2.0.8 (you have 1.4.18). Upgrade using: pip install -U albumentations. To disable automatic update checks, set the environment variable NO_ALBUMENTATIONS_UPDATE to 1.\n",
      "  check_for_updates()\n"
     ]
    },
    {
     "name": "stdout",
     "output_type": "stream",
     "text": [
      "\n",
      "torch.cuda.current_device(): 0\n",
      "\n",
      "Using device: cuda\n",
      "\n",
      "Running roi eval for model run nº0....\n",
      "{'source': 'cnn', 'name': 'tf_efficientnetv2-detect', 'pretrained': True, 'model_type': 'cnn'}\n",
      "_IncompatibleKeys(missing_keys=[], unexpected_keys=['_conv_head.weight', '_bn1.weight', '_bn1.bias', '_bn1.running_mean', '_bn1.running_var', '_bn1.num_batches_tracked'])\n",
      "Loaded pretrained weights for efficientnet-b2\n"
     ]
    },
    {
     "name": "stderr",
     "output_type": "stream",
     "text": [
      "100%|██████████| 105/105 [02:57<00:00,  1.69s/it]\n"
     ]
    },
    {
     "name": "stdout",
     "output_type": "stream",
     "text": [
      "Total number of annotations: 115.0\n",
      "         16       32       128  aggregated\n",
      "0  0.371766  0.31523  0.210485    0.373677\n",
      "---------------finished running code-------------------\n"
     ]
    }
   ],
   "source": [
    "path = 'Mammo-CLIP-output/out_splits_new/MIL_experiments/ViNDr_data_frac_1.0/Suspicious_Calcification/offline_feature_extraction/multi_scale/fpn-deep_supervision/scale_aggregator_gated-attention/isab-dim_256-nblocks_2-nheads_4-dropout_0.0-layer_norm-softmax/pooling_pma-dropout_0.0-layer_norm-softmax/2025-06-24'\n",
    "\n",
    "%run foundational_models/Mammo-CLIP-main/Mammo-CLIP-main/src3-Copy1/codebase/main.py \\\n",
    "--clip_chk_pt_path \"foundational_models/Mammo-CLIP-main/Mammo-CLIP-main/b2-model-best-epoch-10.tar\" \\\n",
    "--data_frac 1.0 \\\n",
    "--dataset 'ViNDr' \\\n",
    "--label \"Suspicious_Calcification\" \\\n",
    "--feature_extraction 'online' \\\n",
    "--patch_size 512 \\\n",
    "--overlap 0.75 \\\n",
    "--mil_type 'pyramidal_mil' \\\n",
    "--pooling_type 'pma' \\\n",
    "--fcl_encoder_dim 256 \\\n",
    "--fcl_dropout 0.25 \\\n",
    "--drop_attention_pool 0.25 \\\n",
    "--fpn_dim 256 \\\n",
    "--multi_scale_model 'fpn' \\\n",
    "--roi_eval --roi_eval_set 'test' \\\n",
    "--resume \"$path\" \\\n",
    "--type_mil_encoder 'isab' \\\n",
    "--trans_layer_norm True \\\n",
    "--type_scale_aggregator 'gated-attention' --deep_supervision --scales 16 32 128 \n",
    "\n",
    "print('---------------finished running code-------------------')"
   ]
  },
  {
   "cell_type": "markdown",
   "id": "557cb09c-7af7-4180-8fab-d8fd517eab7d",
   "metadata": {},
   "source": [
    "### small lesions (mAP_s)"
   ]
  },
  {
   "cell_type": "code",
   "execution_count": 1,
   "id": "7eb93070-0d2e-448d-bf11-7b4961e0a997",
   "metadata": {
    "scrolled": true
   },
   "outputs": [
    {
     "name": "stderr",
     "output_type": "stream",
     "text": [
      "/home/csantiago/.local/lib/python3.10/site-packages/albumentations/__init__.py:13: UserWarning: A new version of Albumentations is available: 2.0.8 (you have 1.4.18). Upgrade using: pip install -U albumentations. To disable automatic update checks, set the environment variable NO_ALBUMENTATIONS_UPDATE to 1.\n",
      "  check_for_updates()\n"
     ]
    },
    {
     "name": "stdout",
     "output_type": "stream",
     "text": [
      "\n",
      "torch.cuda.current_device(): 0\n",
      "\n",
      "Using device: cuda\n",
      "\n",
      "Running roi eval for model run nº0....\n",
      "{'source': 'cnn', 'name': 'tf_efficientnetv2-detect', 'pretrained': True, 'model_type': 'cnn'}\n",
      "_IncompatibleKeys(missing_keys=[], unexpected_keys=['_conv_head.weight', '_bn1.weight', '_bn1.bias', '_bn1.running_mean', '_bn1.running_var', '_bn1.num_batches_tracked'])\n",
      "Loaded pretrained weights for efficientnet-b2\n"
     ]
    },
    {
     "name": "stderr",
     "output_type": "stream",
     "text": [
      "100%|██████████| 105/105 [01:24<00:00,  1.24it/s]\n"
     ]
    },
    {
     "name": "stdout",
     "output_type": "stream",
     "text": [
      "Total number of annotations: 51.0\n",
      "         16        32  128  aggregated\n",
      "0  0.372066  0.072219  0.0    0.187866\n",
      "---------------finished running code-------------------\n"
     ]
    }
   ],
   "source": [
    "path = 'Mammo-CLIP-output/out_splits_new/MIL_experiments/ViNDr_data_frac_1.0/Suspicious_Calcification/offline_feature_extraction/multi_scale/fpn-deep_supervision/scale_aggregator_gated-attention/isab-dim_256-nblocks_2-nheads_4-dropout_0.0-layer_norm-softmax/pooling_pma-dropout_0.0-layer_norm-softmax/2025-06-24'\n",
    "\n",
    "%run foundational_models/Mammo-CLIP-main/Mammo-CLIP-main/src3-Copy1/codebase/main.py \\\n",
    "--clip_chk_pt_path \"foundational_models/Mammo-CLIP-main/Mammo-CLIP-main/b2-model-best-epoch-10.tar\" \\\n",
    "--data_frac 1.0 \\\n",
    "--dataset 'ViNDr' \\\n",
    "--label \"Suspicious_Calcification\" \\\n",
    "--feature_extraction 'online' \\\n",
    "--patch_size 512 \\\n",
    "--overlap 0.75 \\\n",
    "--mil_type 'pyramidal_mil' \\\n",
    "--pooling_type 'pma' \\\n",
    "--fcl_encoder_dim 256 \\\n",
    "--fcl_dropout 0.25 \\\n",
    "--drop_attention_pool 0.25 \\\n",
    "--fpn_dim 256 \\\n",
    "--multi_scale_model 'fpn' \\\n",
    "--roi_eval --roi_eval_set 'test' --roi_eval_scheme 'small_roi' \\\n",
    "--resume \"$path\" \\\n",
    "--type_mil_encoder 'isab' \\\n",
    "--trans_layer_norm True \\\n",
    "--type_scale_aggregator 'gated-attention' --deep_supervision --scales 16 32 128 \n",
    "\n",
    "print('---------------finished running code-------------------')"
   ]
  },
  {
   "cell_type": "markdown",
   "id": "7ca4683f-a5c0-4594-aadc-8b79d66c623b",
   "metadata": {},
   "source": [
    "### medium lesions (mAP_m)"
   ]
  },
  {
   "cell_type": "code",
   "execution_count": 2,
   "id": "c72bb3e5-7bcd-4faa-87dc-3bd7c59b29af",
   "metadata": {
    "scrolled": true
   },
   "outputs": [
    {
     "name": "stdout",
     "output_type": "stream",
     "text": [
      "\n",
      "torch.cuda.current_device(): 0\n",
      "\n",
      "Using device: cuda\n",
      "\n",
      "Running roi eval for model run nº0....\n",
      "{'source': 'cnn', 'name': 'tf_efficientnetv2-detect', 'pretrained': True, 'model_type': 'cnn'}\n",
      "_IncompatibleKeys(missing_keys=[], unexpected_keys=['_conv_head.weight', '_bn1.weight', '_bn1.bias', '_bn1.running_mean', '_bn1.running_var', '_bn1.num_batches_tracked'])\n",
      "Loaded pretrained weights for efficientnet-b2\n"
     ]
    },
    {
     "name": "stderr",
     "output_type": "stream",
     "text": [
      "100%|██████████| 105/105 [00:52<00:00,  2.02it/s]\n"
     ]
    },
    {
     "name": "stdout",
     "output_type": "stream",
     "text": [
      "Total number of annotations: 31.0\n",
      "         16        32       128  aggregated\n",
      "0  0.403783  0.439947  0.195938    0.394725\n",
      "---------------finished running code-------------------\n"
     ]
    }
   ],
   "source": [
    "path = 'Mammo-CLIP-output/out_splits_new/MIL_experiments/ViNDr_data_frac_1.0/Suspicious_Calcification/offline_feature_extraction/multi_scale/fpn-deep_supervision/scale_aggregator_gated-attention/isab-dim_256-nblocks_2-nheads_4-dropout_0.0-layer_norm-softmax/pooling_pma-dropout_0.0-layer_norm-softmax/2025-06-24'\n",
    "\n",
    "%run foundational_models/Mammo-CLIP-main/Mammo-CLIP-main/src3-Copy1/codebase/main.py \\\n",
    "--clip_chk_pt_path \"foundational_models/Mammo-CLIP-main/Mammo-CLIP-main/b2-model-best-epoch-10.tar\" \\\n",
    "--data_frac 1.0 \\\n",
    "--dataset 'ViNDr' \\\n",
    "--label \"Suspicious_Calcification\" \\\n",
    "--feature_extraction 'online' \\\n",
    "--patch_size 512 \\\n",
    "--overlap 0.75 \\\n",
    "--mil_type 'pyramidal_mil' \\\n",
    "--pooling_type 'pma' \\\n",
    "--fcl_encoder_dim 256 \\\n",
    "--fcl_dropout 0.25 \\\n",
    "--drop_attention_pool 0.25 \\\n",
    "--fpn_dim 256 \\\n",
    "--multi_scale_model 'fpn' \\\n",
    "--roi_eval --roi_eval_set 'test' --roi_eval_scheme 'medium_roi' \\\n",
    "--resume \"$path\" \\\n",
    "--type_mil_encoder 'isab' \\\n",
    "--trans_layer_norm True \\\n",
    "--type_scale_aggregator 'gated-attention' --deep_supervision --scales 16 32 128 \n",
    "\n",
    "print('---------------finished running code-------------------')"
   ]
  },
  {
   "cell_type": "markdown",
   "id": "0375059f-19eb-484a-be9e-d7366af086bc",
   "metadata": {},
   "source": [
    "### large lesions (mAP_l)"
   ]
  },
  {
   "cell_type": "code",
   "execution_count": 3,
   "id": "d62838fa-4110-43ce-bcd1-703801feb71a",
   "metadata": {
    "scrolled": true
   },
   "outputs": [
    {
     "name": "stdout",
     "output_type": "stream",
     "text": [
      "\n",
      "torch.cuda.current_device(): 0\n",
      "\n",
      "Using device: cuda\n",
      "\n",
      "Running roi eval for model run nº0....\n",
      "{'source': 'cnn', 'name': 'tf_efficientnetv2-detect', 'pretrained': True, 'model_type': 'cnn'}\n",
      "_IncompatibleKeys(missing_keys=[], unexpected_keys=['_conv_head.weight', '_bn1.weight', '_bn1.bias', '_bn1.running_mean', '_bn1.running_var', '_bn1.num_batches_tracked'])\n",
      "Loaded pretrained weights for efficientnet-b2\n"
     ]
    },
    {
     "name": "stderr",
     "output_type": "stream",
     "text": [
      "100%|██████████| 105/105 [00:54<00:00,  1.93it/s]\n"
     ]
    },
    {
     "name": "stdout",
     "output_type": "stream",
     "text": [
      "Total number of annotations: 33.0\n",
      "         16        32       128  aggregated\n",
      "0  0.462489  0.584132  0.603961    0.622403\n",
      "---------------finished running code-------------------\n"
     ]
    }
   ],
   "source": [
    "path = 'Mammo-CLIP-output/out_splits_new/MIL_experiments/ViNDr_data_frac_1.0/Suspicious_Calcification/offline_feature_extraction/multi_scale/fpn-deep_supervision/scale_aggregator_gated-attention/isab-dim_256-nblocks_2-nheads_4-dropout_0.0-layer_norm-softmax/pooling_pma-dropout_0.0-layer_norm-softmax/2025-06-24'\n",
    "\n",
    "%run foundational_models/Mammo-CLIP-main/Mammo-CLIP-main/src3-Copy1/codebase/main.py \\\n",
    "--clip_chk_pt_path \"foundational_models/Mammo-CLIP-main/Mammo-CLIP-main/b2-model-best-epoch-10.tar\" \\\n",
    "--data_frac 1.0 \\\n",
    "--dataset 'ViNDr' \\\n",
    "--label \"Suspicious_Calcification\" \\\n",
    "--feature_extraction 'online' \\\n",
    "--patch_size 512 \\\n",
    "--overlap 0.75 \\\n",
    "--mil_type 'pyramidal_mil' \\\n",
    "--pooling_type 'pma' \\\n",
    "--fcl_encoder_dim 256 \\\n",
    "--fcl_dropout 0.25 \\\n",
    "--drop_attention_pool 0.25 \\\n",
    "--fpn_dim 256 \\\n",
    "--multi_scale_model 'fpn' \\\n",
    "--roi_eval --roi_eval_set 'test' --roi_eval_scheme 'large_roi' \\\n",
    "--resume \"$path\" \\\n",
    "--type_mil_encoder 'isab' \\\n",
    "--trans_layer_norm True \\\n",
    "--type_scale_aggregator 'gated-attention' --deep_supervision --scales 16 32 128 \n",
    "\n",
    "print('---------------finished running code-------------------')"
   ]
  },
  {
   "cell_type": "markdown",
   "id": "9a677dd0-31c4-4ac9-b4fb-a22ccef7f25d",
   "metadata": {},
   "source": [
    "# FPN-AbMIL"
   ]
  },
  {
   "cell_type": "code",
   "execution_count": 1,
   "id": "1e6e8410-f08a-4fe7-ba10-3679c5cb651c",
   "metadata": {
    "scrolled": true
   },
   "outputs": [
    {
     "name": "stderr",
     "output_type": "stream",
     "text": [
      "/home/csantiago/.local/lib/python3.10/site-packages/albumentations/__init__.py:13: UserWarning: A new version of Albumentations is available: 2.0.8 (you have 1.4.18). Upgrade using: pip install -U albumentations. To disable automatic update checks, set the environment variable NO_ALBUMENTATIONS_UPDATE to 1.\n",
      "  check_for_updates()\n"
     ]
    },
    {
     "name": "stdout",
     "output_type": "stream",
     "text": [
      "\n",
      "torch.cuda.current_device(): 0\n",
      "\n",
      "Using device: cuda\n",
      "output_path: Mammo-CLIP-output/out_splits_new/MIL_experiments/ViNDr_data_frac_1.0/Suspicious_Calcification/offline_feature_extraction/multi_scale/fpn-deep_supervision/scale_aggregator_gated-attention/encoder_mlp-dim_256-dropout_0.25/pooling_gated-attention-dropout_0.25-softmax/2025-06-24\n",
      "df shape: (20000, 16)\n",
      "Index(['image_id', 'patient_id', 'laterality', 'view', 'finding_categories',\n",
      "       'finding_birads', 'breast_birads', 'breast_density', 'split', 'fold',\n",
      "       'Mass', 'Suspicious_Calcification', 'resized_xmin', 'resized_ymin',\n",
      "       'resized_xmax', 'resized_ymax'],\n",
      "      dtype='object')\n",
      "\n",
      "================== run nº: 0 ======================\n",
      "train_loader: 1600, valid_loader: 400\n",
      "Model is loaded\n",
      "PyramidalMILmodel(\n",
      "  (inst_encoder): FeaturePyramidNetwork(\n",
      "    (inner_blocks): ModuleDict(\n",
      "      (inner_block_0): Sequential(\n",
      "        (0): Conv2d(120, 256, kernel_size=(1, 1), stride=(1, 1))\n",
      "        (1): Identity()\n",
      "      )\n",
      "      (inner_block_1): Sequential(\n",
      "        (0): Conv2d(352, 256, kernel_size=(1, 1), stride=(1, 1))\n",
      "        (1): Identity()\n",
      "      )\n",
      "    )\n",
      "    (layer_blocks): ModuleDict(\n",
      "      (layer_block_0): Sequential(\n",
      "        (0): Conv2d(256, 256, kernel_size=(3, 3), stride=(1, 1), padding=(1, 1))\n",
      "        (1): Identity()\n",
      "      )\n",
      "      (layer_block_1): Sequential(\n",
      "        (0): Conv2d(256, 256, kernel_size=(3, 3), stride=(1, 1), padding=(1, 1))\n",
      "        (1): Identity()\n",
      "      )\n",
      "    )\n",
      "  )\n",
      "  (side_inst_aggregator): ModuleDict(\n",
      "    (encoders): ModuleDict(\n",
      "      (encoder_16): ModuleList(\n",
      "        (0): Sequential(\n",
      "          (0): Linear(in_features=256, out_features=256, bias=True)\n",
      "          (1): ReLU()\n",
      "          (2): Dropout(p=0.25, inplace=False)\n",
      "        )\n",
      "      )\n",
      "      (encoder_32): ModuleList(\n",
      "        (0): Sequential(\n",
      "          (0): Linear(in_features=256, out_features=256, bias=True)\n",
      "          (1): ReLU()\n",
      "          (2): Dropout(p=0.25, inplace=False)\n",
      "        )\n",
      "      )\n",
      "      (encoder_128): ModuleList(\n",
      "        (0): Sequential(\n",
      "          (0): Linear(in_features=256, out_features=256, bias=True)\n",
      "          (1): ReLU()\n",
      "          (2): Dropout(p=0.25, inplace=False)\n",
      "        )\n",
      "      )\n",
      "    )\n",
      "    (aggregators): ModuleDict(\n",
      "      (aggregator_16): Gated_Attn_Net(\n",
      "        (attention_V): Sequential(\n",
      "          (0): Linear(in_features=256, out_features=128, bias=True)\n",
      "          (1): Tanh()\n",
      "          (2): Dropout(p=0.25, inplace=False)\n",
      "        )\n",
      "        (attention_U): Sequential(\n",
      "          (0): Linear(in_features=256, out_features=128, bias=True)\n",
      "          (1): Sigmoid()\n",
      "          (2): Dropout(p=0.25, inplace=False)\n",
      "        )\n",
      "        (attention_weights): Linear(in_features=128, out_features=1, bias=True)\n",
      "      )\n",
      "      (aggregator_32): Gated_Attn_Net(\n",
      "        (attention_V): Sequential(\n",
      "          (0): Linear(in_features=256, out_features=128, bias=True)\n",
      "          (1): Tanh()\n",
      "          (2): Dropout(p=0.25, inplace=False)\n",
      "        )\n",
      "        (attention_U): Sequential(\n",
      "          (0): Linear(in_features=256, out_features=128, bias=True)\n",
      "          (1): Sigmoid()\n",
      "          (2): Dropout(p=0.25, inplace=False)\n",
      "        )\n",
      "        (attention_weights): Linear(in_features=128, out_features=1, bias=True)\n",
      "      )\n",
      "      (aggregator_128): Gated_Attn_Net(\n",
      "        (attention_V): Sequential(\n",
      "          (0): Linear(in_features=256, out_features=128, bias=True)\n",
      "          (1): Tanh()\n",
      "          (2): Dropout(p=0.25, inplace=False)\n",
      "        )\n",
      "        (attention_U): Sequential(\n",
      "          (0): Linear(in_features=256, out_features=128, bias=True)\n",
      "          (1): Sigmoid()\n",
      "          (2): Dropout(p=0.25, inplace=False)\n",
      "        )\n",
      "        (attention_weights): Linear(in_features=128, out_features=1, bias=True)\n",
      "      )\n",
      "    )\n",
      "  )\n",
      "  (side_classifiers): ModuleDict(\n",
      "    (classifier_16): head(\n",
      "      (drop): Dropout(p=0.0, inplace=True)\n",
      "      (head_classifier): Linear(in_features=256, out_features=1, bias=True)\n",
      "    )\n",
      "    (classifier_32): head(\n",
      "      (drop): Dropout(p=0.0, inplace=True)\n",
      "      (head_classifier): Linear(in_features=256, out_features=1, bias=True)\n",
      "    )\n",
      "    (classifier_128): head(\n",
      "      (drop): Dropout(p=0.0, inplace=True)\n",
      "      (head_classifier): Linear(in_features=256, out_features=1, bias=True)\n",
      "    )\n",
      "  )\n",
      "  (scale_aggregator): Gated_Attn_Net(\n",
      "    (attention_V): Sequential(\n",
      "      (0): Linear(in_features=256, out_features=128, bias=True)\n",
      "      (1): Tanh()\n",
      "      (2): Dropout(p=0.25, inplace=False)\n",
      "    )\n",
      "    (attention_U): Sequential(\n",
      "      (0): Linear(in_features=256, out_features=128, bias=True)\n",
      "      (1): Sigmoid()\n",
      "      (2): Dropout(p=0.25, inplace=False)\n",
      "    )\n",
      "    (attention_weights): Linear(in_features=128, out_features=1, bias=True)\n",
      "  )\n",
      "  (classifier): head(\n",
      "    (drop): Dropout(p=0.0, inplace=True)\n",
      "    (head_classifier): Linear(in_features=256, out_features=1, bias=True)\n",
      "  )\n",
      ")\n",
      "\n",
      "Total number of parameters: 1.763592 M\n",
      "Total number of trainable parameters: 1.763592 M\n",
      "pos_wt: tensor([37.2967], device='cuda:0')\n",
      "\n",
      "-------- Epoch 1/30 --------\n"
     ]
    },
    {
     "name": "stderr",
     "output_type": "stream",
     "text": [
      "[001/030 epoch train]: 100%|██████████| 1600/1600 [02:58<00:00,  8.97it/s, lr=[5e-05], loss=4.0792, CUDA-Mem=0%, CUDA-Util=0%]                 \n",
      "[001/030 epoch valid]: 100%|██████████| 400/400 [00:44<00:00,  8.94it/s, loss=2.5041, CUDA-Mem=0%, CUDA-Util=0%]\n"
     ]
    },
    {
     "name": "stdout",
     "output_type": "stream",
     "text": [
      "\n",
      "Train Loss: 4.0792\n",
      "Scale: 16 --> Train F1-Score: 0.9132 | Train Bacc: 0.6810 | Train ROC-AUC: 0.7593\n",
      "Scale: 32 --> Train F1-Score: 0.9319 | Train Bacc: 0.6811 | Train ROC-AUC: 0.7608\n",
      "Scale: 128 --> Train F1-Score: 0.9190 | Train Bacc: 0.6463 | Train ROC-AUC: 0.7155\n",
      "Aggregated Results --> Train F1-Score: 0.9285 | Train Bacc: 0.6746 | Train ROC-AUC: 0.7518\n",
      "\n",
      "Val Loss: 2.5041\n",
      "Scale: 16 --> Val F1-Score: 0.8960 | Val Bacc: 0.8751 | Val ROC-AUC: 0.9522\n",
      "Scale: 32 --> Val F1-Score: 0.9122 | Val Bacc: 0.8816 | Val ROC-AUC: 0.9487\n",
      "Scale: 128 --> Val F1-Score: 0.9228 | Val Bacc: 0.8692 | Val ROC-AUC: 0.9357\n",
      "Aggregated Results --> Val F1-Score: 0.9033 | Val Bacc: 0.8956 | Val ROC-AUC: 0.9571\n",
      "\n",
      "Epoch 1 - Save aucroc: 0.9571 Model\n",
      "\n",
      "best AUC-ROC Score at epoch 1: 0.9571\n",
      "\n",
      "-------- Epoch 2/30 --------\n"
     ]
    },
    {
     "name": "stderr",
     "output_type": "stream",
     "text": [
      "[002/030 epoch train]: 100%|██████████| 1600/1600 [02:56<00:00,  9.06it/s, lr=[4.9853448928858984e-05], loss=2.5286, CUDA-Mem=0%, CUDA-Util=0%]\n",
      "[002/030 epoch valid]: 100%|██████████| 400/400 [00:44<00:00,  8.94it/s, loss=2.2294, CUDA-Mem=0%, CUDA-Util=0%]"
     ]
    },
    {
     "name": "stdout",
     "output_type": "stream",
     "text": [
      "\n",
      "Train Loss: 2.5286\n",
      "Scale: 16 --> Train F1-Score: 0.9354 | Train Bacc: 0.8665 | Train ROC-AUC: 0.9302\n",
      "Scale: 32 --> Train F1-Score: 0.9273 | Train Bacc: 0.8577 | Train ROC-AUC: 0.9212\n",
      "Scale: 128 --> Train F1-Score: 0.9312 | Train Bacc: 0.8158 | Train ROC-AUC: 0.8803\n",
      "Aggregated Results --> Train F1-Score: 0.9289 | Train Bacc: 0.8680 | Train ROC-AUC: 0.9324\n",
      "\n",
      "Val Loss: 2.2294\n",
      "Scale: 16 --> Val F1-Score: 0.9231 | Val Bacc: 0.8981 | Val ROC-AUC: 0.9512\n",
      "Scale: 32 --> Val F1-Score: 0.9117 | Val Bacc: 0.8812 | Val ROC-AUC: 0.9502\n",
      "Scale: 128 --> Val F1-Score: 0.9163 | Val Bacc: 0.8780 | Val ROC-AUC: 0.9524\n",
      "Aggregated Results --> Val F1-Score: 0.9100 | Val Bacc: 0.8941 | Val ROC-AUC: 0.9534\n",
      "\n",
      "best AUC-ROC Score at epoch 1: 0.9571\n",
      "\n",
      "-------- Epoch 3/30 --------\n"
     ]
    },
    {
     "name": "stderr",
     "output_type": "stream",
     "text": [
      "\n",
      "[003/030 epoch train]: 100%|██████████| 1600/1600 [02:56<00:00,  9.05it/s, lr=[4.941551389275217e-05], loss=2.1314, CUDA-Mem=0%, CUDA-Util=0%] \n",
      "[003/030 epoch valid]: 100%|██████████| 400/400 [00:44<00:00,  8.94it/s, loss=2.4095, CUDA-Mem=0%, CUDA-Util=0%]"
     ]
    },
    {
     "name": "stdout",
     "output_type": "stream",
     "text": [
      "\n",
      "Train Loss: 2.1314\n",
      "Scale: 16 --> Train F1-Score: 0.9407 | Train Bacc: 0.8837 | Train ROC-AUC: 0.9547\n",
      "Scale: 32 --> Train F1-Score: 0.9313 | Train Bacc: 0.8629 | Train ROC-AUC: 0.9431\n",
      "Scale: 128 --> Train F1-Score: 0.9333 | Train Bacc: 0.8412 | Train ROC-AUC: 0.9105\n",
      "Aggregated Results --> Train F1-Score: 0.9350 | Train Bacc: 0.8896 | Train ROC-AUC: 0.9583\n",
      "\n",
      "Val Loss: 2.4095\n",
      "Scale: 16 --> Val F1-Score: 0.9244 | Val Bacc: 0.8562 | Val ROC-AUC: 0.9132\n",
      "Scale: 32 --> Val F1-Score: 0.9194 | Val Bacc: 0.8591 | Val ROC-AUC: 0.9268\n",
      "Scale: 128 --> Val F1-Score: 0.9274 | Val Bacc: 0.8660 | Val ROC-AUC: 0.9375\n",
      "Aggregated Results --> Val F1-Score: 0.9042 | Val Bacc: 0.8534 | Val ROC-AUC: 0.9319\n",
      "\n",
      "best AUC-ROC Score at epoch 1: 0.9571\n",
      "\n",
      "-------- Epoch 4/30 --------\n"
     ]
    },
    {
     "name": "stderr",
     "output_type": "stream",
     "text": [
      "\n",
      "[004/030 epoch train]: 100%|██████████| 1600/1600 [02:56<00:00,  9.05it/s, lr=[4.869132927957007e-05], loss=1.9488, CUDA-Mem=0%, CUDA-Util=0%] \n",
      "[004/030 epoch valid]: 100%|██████████| 400/400 [00:44<00:00,  8.97it/s, loss=2.3988, CUDA-Mem=0%, CUDA-Util=0%]"
     ]
    },
    {
     "name": "stdout",
     "output_type": "stream",
     "text": [
      "\n",
      "Train Loss: 1.9488\n",
      "Scale: 16 --> Train F1-Score: 0.9424 | Train Bacc: 0.9014 | Train ROC-AUC: 0.9645\n",
      "Scale: 32 --> Train F1-Score: 0.9339 | Train Bacc: 0.8850 | Train ROC-AUC: 0.9476\n",
      "Scale: 128 --> Train F1-Score: 0.9344 | Train Bacc: 0.8620 | Train ROC-AUC: 0.9232\n",
      "Aggregated Results --> Train F1-Score: 0.9392 | Train Bacc: 0.9094 | Train ROC-AUC: 0.9659\n",
      "\n",
      "Val Loss: 2.3988\n",
      "Scale: 16 --> Val F1-Score: 0.8681 | Val Bacc: 0.8739 | Val ROC-AUC: 0.9506\n",
      "Scale: 32 --> Val F1-Score: 0.9033 | Val Bacc: 0.8956 | Val ROC-AUC: 0.9552\n",
      "Scale: 128 --> Val F1-Score: 0.8371 | Val Bacc: 0.8496 | Val ROC-AUC: 0.9555\n",
      "Aggregated Results --> Val F1-Score: 0.8782 | Val Bacc: 0.8676 | Val ROC-AUC: 0.9549\n",
      "\n",
      "best AUC-ROC Score at epoch 1: 0.9571\n",
      "\n",
      "-------- Epoch 5/30 --------\n"
     ]
    },
    {
     "name": "stderr",
     "output_type": "stream",
     "text": [
      "\n",
      "[005/030 epoch train]: 100%|██████████| 1600/1600 [02:57<00:00,  9.04it/s, lr=[4.768938549177392e-05], loss=1.7163, CUDA-Mem=0%, CUDA-Util=0%] \n",
      "[005/030 epoch valid]: 100%|██████████| 400/400 [00:44<00:00,  8.93it/s, loss=2.3691, CUDA-Mem=0%, CUDA-Util=0%]\n"
     ]
    },
    {
     "name": "stdout",
     "output_type": "stream",
     "text": [
      "\n",
      "Train Loss: 1.7163\n",
      "Scale: 16 --> Train F1-Score: 0.9456 | Train Bacc: 0.9149 | Train ROC-AUC: 0.9721\n",
      "Scale: 32 --> Train F1-Score: 0.9389 | Train Bacc: 0.9019 | Train ROC-AUC: 0.9592\n",
      "Scale: 128 --> Train F1-Score: 0.9395 | Train Bacc: 0.8700 | Train ROC-AUC: 0.9415\n",
      "Aggregated Results --> Train F1-Score: 0.9434 | Train Bacc: 0.9221 | Train ROC-AUC: 0.9749\n",
      "\n",
      "Val Loss: 2.3691\n",
      "Scale: 16 --> Val F1-Score: 0.8245 | Val Bacc: 0.8400 | Val ROC-AUC: 0.9551\n",
      "Scale: 32 --> Val F1-Score: 0.9087 | Val Bacc: 0.8930 | Val ROC-AUC: 0.9552\n",
      "Scale: 128 --> Val F1-Score: 0.9106 | Val Bacc: 0.8874 | Val ROC-AUC: 0.9610\n",
      "Aggregated Results --> Val F1-Score: 0.8524 | Val Bacc: 0.8542 | Val ROC-AUC: 0.9568\n",
      "\n",
      "best AUC-ROC Score at epoch 1: 0.9571\n",
      "\n",
      "-------- Epoch 6/30 --------\n"
     ]
    },
    {
     "name": "stderr",
     "output_type": "stream",
     "text": [
      "[006/030 epoch train]: 100%|██████████| 1600/1600 [02:56<00:00,  9.05it/s, lr=[4.6421429404189725e-05], loss=1.4970, CUDA-Mem=0%, CUDA-Util=0%]\n",
      "[006/030 epoch valid]: 100%|██████████| 400/400 [00:44<00:00,  8.95it/s, loss=2.1829, CUDA-Mem=0%, CUDA-Util=0%]"
     ]
    },
    {
     "name": "stdout",
     "output_type": "stream",
     "text": [
      "\n",
      "Train Loss: 1.4970\n",
      "Scale: 16 --> Train F1-Score: 0.9495 | Train Bacc: 0.9273 | Train ROC-AUC: 0.9799\n",
      "Scale: 32 --> Train F1-Score: 0.9459 | Train Bacc: 0.9170 | Train ROC-AUC: 0.9670\n",
      "Scale: 128 --> Train F1-Score: 0.9462 | Train Bacc: 0.9028 | Train ROC-AUC: 0.9508\n",
      "Aggregated Results --> Train F1-Score: 0.9477 | Train Bacc: 0.9330 | Train ROC-AUC: 0.9813\n",
      "\n",
      "Val Loss: 2.1829\n",
      "Scale: 16 --> Val F1-Score: 0.9099 | Val Bacc: 0.8653 | Val ROC-AUC: 0.9485\n",
      "Scale: 32 --> Val F1-Score: 0.9337 | Val Bacc: 0.8928 | Val ROC-AUC: 0.9528\n",
      "Scale: 128 --> Val F1-Score: 0.9367 | Val Bacc: 0.8954 | Val ROC-AUC: 0.9566\n",
      "Aggregated Results --> Val F1-Score: 0.9247 | Val Bacc: 0.8851 | Val ROC-AUC: 0.9534\n",
      "\n",
      "best AUC-ROC Score at epoch 1: 0.9571\n",
      "\n",
      "-------- Epoch 7/30 --------\n"
     ]
    },
    {
     "name": "stderr",
     "output_type": "stream",
     "text": [
      "\n",
      "[007/030 epoch train]: 100%|██████████| 1600/1600 [02:57<00:00,  9.02it/s, lr=[4.4902326642641095e-05], loss=1.2215, CUDA-Mem=0%, CUDA-Util=0%]\n",
      "[007/030 epoch valid]: 100%|██████████| 400/400 [00:44<00:00,  8.97it/s, loss=2.8119, CUDA-Mem=0%, CUDA-Util=0%]\n"
     ]
    },
    {
     "name": "stdout",
     "output_type": "stream",
     "text": [
      "\n",
      "Train Loss: 1.2215\n",
      "Scale: 16 --> Train F1-Score: 0.9578 | Train Bacc: 0.9504 | Train ROC-AUC: 0.9859\n",
      "Scale: 32 --> Train F1-Score: 0.9497 | Train Bacc: 0.9220 | Train ROC-AUC: 0.9773\n",
      "Scale: 128 --> Train F1-Score: 0.9512 | Train Bacc: 0.9142 | Train ROC-AUC: 0.9647\n",
      "Aggregated Results --> Train F1-Score: 0.9568 | Train Bacc: 0.9550 | Train ROC-AUC: 0.9882\n",
      "\n",
      "Val Loss: 2.8119\n",
      "Scale: 16 --> Val F1-Score: 0.9664 | Val Bacc: 0.8846 | Val ROC-AUC: 0.9482\n",
      "Scale: 32 --> Val F1-Score: 0.9624 | Val Bacc: 0.8742 | Val ROC-AUC: 0.9557\n",
      "Scale: 128 --> Val F1-Score: 0.9619 | Val Bacc: 0.8809 | Val ROC-AUC: 0.9611\n",
      "Aggregated Results --> Val F1-Score: 0.9669 | Val Bacc: 0.8921 | Val ROC-AUC: 0.9508\n",
      "\n",
      "best AUC-ROC Score at epoch 1: 0.9571\n",
      "\n",
      "-------- Epoch 8/30 --------\n"
     ]
    },
    {
     "name": "stderr",
     "output_type": "stream",
     "text": [
      "[008/030 epoch train]: 100%|██████████| 1600/1600 [02:57<00:00,  9.03it/s, lr=[4.3149887298078276e-05], loss=1.0981, CUDA-Mem=0%, CUDA-Util=0%]\n",
      "[008/030 epoch valid]: 100%|██████████| 400/400 [00:44<00:00,  8.93it/s, loss=2.5527, CUDA-Mem=0%, CUDA-Util=0%]"
     ]
    },
    {
     "name": "stdout",
     "output_type": "stream",
     "text": [
      "\n",
      "Train Loss: 1.0981\n",
      "Scale: 16 --> Train F1-Score: 0.9594 | Train Bacc: 0.9500 | Train ROC-AUC: 0.9876\n",
      "Scale: 32 --> Train F1-Score: 0.9521 | Train Bacc: 0.9348 | Train ROC-AUC: 0.9826\n",
      "Scale: 128 --> Train F1-Score: 0.9515 | Train Bacc: 0.9163 | Train ROC-AUC: 0.9711\n",
      "Aggregated Results --> Train F1-Score: 0.9615 | Train Bacc: 0.9643 | Train ROC-AUC: 0.9906\n",
      "\n",
      "Val Loss: 2.5527\n",
      "Scale: 16 --> Val F1-Score: 0.9306 | Val Bacc: 0.8831 | Val ROC-AUC: 0.9424\n",
      "Scale: 32 --> Val F1-Score: 0.9323 | Val Bacc: 0.8773 | Val ROC-AUC: 0.9446\n",
      "Scale: 128 --> Val F1-Score: 0.9365 | Val Bacc: 0.8738 | Val ROC-AUC: 0.9480\n",
      "Aggregated Results --> Val F1-Score: 0.9369 | Val Bacc: 0.8813 | Val ROC-AUC: 0.9472\n",
      "\n",
      "best AUC-ROC Score at epoch 1: 0.9571\n",
      "\n",
      "-------- Epoch 9/30 --------\n"
     ]
    },
    {
     "name": "stderr",
     "output_type": "stream",
     "text": [
      "\n",
      "[009/030 epoch train]: 100%|██████████| 1600/1600 [02:57<00:00,  9.03it/s, lr=[4.118465711954569e-05], loss=1.0088, CUDA-Mem=0%, CUDA-Util=0%] \n",
      "[009/030 epoch valid]: 100%|██████████| 400/400 [00:44<00:00,  8.96it/s, loss=2.8083, CUDA-Mem=0%, CUDA-Util=0%]"
     ]
    },
    {
     "name": "stdout",
     "output_type": "stream",
     "text": [
      "\n",
      "Train Loss: 1.0088\n",
      "Scale: 16 --> Train F1-Score: 0.9633 | Train Bacc: 0.9585 | Train ROC-AUC: 0.9889\n",
      "Scale: 32 --> Train F1-Score: 0.9516 | Train Bacc: 0.9416 | Train ROC-AUC: 0.9825\n",
      "Scale: 128 --> Train F1-Score: 0.9557 | Train Bacc: 0.9397 | Train ROC-AUC: 0.9762\n",
      "Aggregated Results --> Train F1-Score: 0.9656 | Train Bacc: 0.9640 | Train ROC-AUC: 0.9917\n",
      "\n",
      "Val Loss: 2.8083\n",
      "Scale: 16 --> Val F1-Score: 0.9301 | Val Bacc: 0.8826 | Val ROC-AUC: 0.9369\n",
      "Scale: 32 --> Val F1-Score: 0.9048 | Val Bacc: 0.8682 | Val ROC-AUC: 0.9383\n",
      "Scale: 128 --> Val F1-Score: 0.9380 | Val Bacc: 0.8751 | Val ROC-AUC: 0.9551\n",
      "Aggregated Results --> Val F1-Score: 0.9381 | Val Bacc: 0.8966 | Val ROC-AUC: 0.9418\n",
      "\n",
      "best AUC-ROC Score at epoch 1: 0.9571\n",
      "\n",
      "-------- Epoch 10/30 --------\n"
     ]
    },
    {
     "name": "stderr",
     "output_type": "stream",
     "text": [
      "\n",
      "[010/030 epoch train]: 100%|██████████| 1600/1600 [02:57<00:00,  9.02it/s, lr=[3.902967663405956e-05], loss=0.8639, CUDA-Mem=0%, CUDA-Util=0%] \n",
      "[010/030 epoch valid]: 100%|██████████| 400/400 [00:44<00:00,  8.91it/s, loss=2.7872, CUDA-Mem=0%, CUDA-Util=0%]\n"
     ]
    },
    {
     "name": "stdout",
     "output_type": "stream",
     "text": [
      "\n",
      "Train Loss: 0.8639\n",
      "Scale: 16 --> Train F1-Score: 0.9681 | Train Bacc: 0.9623 | Train ROC-AUC: 0.9918\n",
      "Scale: 32 --> Train F1-Score: 0.9592 | Train Bacc: 0.9534 | Train ROC-AUC: 0.9870\n",
      "Scale: 128 --> Train F1-Score: 0.9596 | Train Bacc: 0.9375 | Train ROC-AUC: 0.9820\n",
      "Aggregated Results --> Train F1-Score: 0.9717 | Train Bacc: 0.9724 | Train ROC-AUC: 0.9936\n",
      "\n",
      "Val Loss: 2.7872\n",
      "Scale: 16 --> Val F1-Score: 0.9468 | Val Bacc: 0.8683 | Val ROC-AUC: 0.9357\n",
      "Scale: 32 --> Val F1-Score: 0.9339 | Val Bacc: 0.8787 | Val ROC-AUC: 0.9429\n",
      "Scale: 128 --> Val F1-Score: 0.9314 | Val Bacc: 0.8909 | Val ROC-AUC: 0.9496\n",
      "Aggregated Results --> Val F1-Score: 0.9451 | Val Bacc: 0.8811 | Val ROC-AUC: 0.9374\n",
      "\n",
      "best AUC-ROC Score at epoch 1: 0.9571\n",
      "\n",
      "-------- Epoch 11/30 --------\n"
     ]
    },
    {
     "name": "stderr",
     "output_type": "stream",
     "text": [
      "[011/030 epoch train]: 100%|██████████| 1600/1600 [02:57<00:00,  9.03it/s, lr=[3.671021101749476e-05], loss=0.7066, CUDA-Mem=0%, CUDA-Util=0%] \n",
      "[011/030 epoch valid]: 100%|██████████| 400/400 [00:44<00:00,  8.92it/s, loss=3.5868, CUDA-Mem=0%, CUDA-Util=0%]"
     ]
    },
    {
     "name": "stdout",
     "output_type": "stream",
     "text": [
      "\n",
      "Train Loss: 0.7066\n",
      "Scale: 16 --> Train F1-Score: 0.9711 | Train Bacc: 0.9737 | Train ROC-AUC: 0.9934\n",
      "Scale: 32 --> Train F1-Score: 0.9614 | Train Bacc: 0.9624 | Train ROC-AUC: 0.9889\n",
      "Scale: 128 --> Train F1-Score: 0.9647 | Train Bacc: 0.9596 | Train ROC-AUC: 0.9887\n",
      "Aggregated Results --> Train F1-Score: 0.9744 | Train Bacc: 0.9799 | Train ROC-AUC: 0.9961\n",
      "\n",
      "Val Loss: 3.5868\n",
      "Scale: 16 --> Val F1-Score: 0.9617 | Val Bacc: 0.8666 | Val ROC-AUC: 0.9368\n",
      "Scale: 32 --> Val F1-Score: 0.9545 | Val Bacc: 0.8749 | Val ROC-AUC: 0.9424\n",
      "Scale: 128 --> Val F1-Score: 0.9551 | Val Bacc: 0.8896 | Val ROC-AUC: 0.9480\n",
      "Aggregated Results --> Val F1-Score: 0.9668 | Val Bacc: 0.8707 | Val ROC-AUC: 0.9328\n",
      "\n",
      "best AUC-ROC Score at epoch 1: 0.9571\n",
      "\n",
      "-------- Epoch 12/30 --------\n"
     ]
    },
    {
     "name": "stderr",
     "output_type": "stream",
     "text": [
      "\n",
      "[012/030 epoch train]: 100%|██████████| 1600/1600 [02:57<00:00,  9.02it/s, lr=[3.425345388349786e-05], loss=0.6588, CUDA-Mem=0%, CUDA-Util=0%] \n",
      "[012/030 epoch valid]: 100%|██████████| 400/400 [00:44<00:00,  8.92it/s, loss=3.1056, CUDA-Mem=0%, CUDA-Util=0%]"
     ]
    },
    {
     "name": "stdout",
     "output_type": "stream",
     "text": [
      "\n",
      "Train Loss: 0.6588\n",
      "Scale: 16 --> Train F1-Score: 0.9754 | Train Bacc: 0.9770 | Train ROC-AUC: 0.9948\n",
      "Scale: 32 --> Train F1-Score: 0.9634 | Train Bacc: 0.9586 | Train ROC-AUC: 0.9897\n",
      "Scale: 128 --> Train F1-Score: 0.9666 | Train Bacc: 0.9576 | Train ROC-AUC: 0.9867\n",
      "Aggregated Results --> Train F1-Score: 0.9795 | Train Bacc: 0.9818 | Train ROC-AUC: 0.9968\n",
      "\n",
      "Val Loss: 3.1056\n",
      "Scale: 16 --> Val F1-Score: 0.9598 | Val Bacc: 0.8864 | Val ROC-AUC: 0.9429\n",
      "Scale: 32 --> Val F1-Score: 0.9471 | Val Bacc: 0.8829 | Val ROC-AUC: 0.9462\n",
      "Scale: 128 --> Val F1-Score: 0.9461 | Val Bacc: 0.8891 | Val ROC-AUC: 0.9553\n",
      "Aggregated Results --> Val F1-Score: 0.9641 | Val Bacc: 0.8899 | Val ROC-AUC: 0.9389\n",
      "\n",
      "best AUC-ROC Score at epoch 1: 0.9571\n",
      "\n",
      "-------- Epoch 13/30 --------\n"
     ]
    },
    {
     "name": "stderr",
     "output_type": "stream",
     "text": [
      "\n",
      "[013/030 epoch train]: 100%|██████████| 1600/1600 [02:57<00:00,  9.01it/s, lr=[3.168820846323052e-05], loss=0.5906, CUDA-Mem=0%, CUDA-Util=0%] \n",
      "[013/030 epoch valid]: 100%|██████████| 400/400 [00:44<00:00,  8.91it/s, loss=3.2258, CUDA-Mem=0%, CUDA-Util=0%]"
     ]
    },
    {
     "name": "stdout",
     "output_type": "stream",
     "text": [
      "\n",
      "Train Loss: 0.5906\n",
      "Scale: 16 --> Train F1-Score: 0.9781 | Train Bacc: 0.9808 | Train ROC-AUC: 0.9956\n",
      "Scale: 32 --> Train F1-Score: 0.9674 | Train Bacc: 0.9672 | Train ROC-AUC: 0.9916\n",
      "Scale: 128 --> Train F1-Score: 0.9684 | Train Bacc: 0.9662 | Train ROC-AUC: 0.9903\n",
      "Aggregated Results --> Train F1-Score: 0.9822 | Train Bacc: 0.9855 | Train ROC-AUC: 0.9975\n",
      "\n",
      "Val Loss: 3.2258\n",
      "Scale: 16 --> Val F1-Score: 0.9605 | Val Bacc: 0.8798 | Val ROC-AUC: 0.9477\n",
      "Scale: 32 --> Val F1-Score: 0.9420 | Val Bacc: 0.8714 | Val ROC-AUC: 0.9434\n",
      "Scale: 128 --> Val F1-Score: 0.9545 | Val Bacc: 0.8749 | Val ROC-AUC: 0.9415\n",
      "Aggregated Results --> Val F1-Score: 0.9706 | Val Bacc: 0.8665 | Val ROC-AUC: 0.9482\n",
      "\n",
      "best AUC-ROC Score at epoch 1: 0.9571\n",
      "\n",
      "-------- Epoch 14/30 --------\n"
     ]
    },
    {
     "name": "stderr",
     "output_type": "stream",
     "text": [
      "\n",
      "[014/030 epoch train]: 100%|██████████| 1600/1600 [02:57<00:00,  9.02it/s, lr=[2.904454991381912e-05], loss=0.5313, CUDA-Mem=0%, CUDA-Util=0%] \n",
      "[014/030 epoch valid]: 100%|██████████| 400/400 [00:44<00:00,  8.92it/s, loss=4.2746, CUDA-Mem=0%, CUDA-Util=0%]"
     ]
    },
    {
     "name": "stdout",
     "output_type": "stream",
     "text": [
      "\n",
      "Train Loss: 0.5313\n",
      "Scale: 16 --> Train F1-Score: 0.9790 | Train Bacc: 0.9832 | Train ROC-AUC: 0.9964\n",
      "Scale: 32 --> Train F1-Score: 0.9675 | Train Bacc: 0.9673 | Train ROC-AUC: 0.9925\n",
      "Scale: 128 --> Train F1-Score: 0.9717 | Train Bacc: 0.9706 | Train ROC-AUC: 0.9923\n",
      "Aggregated Results --> Train F1-Score: 0.9832 | Train Bacc: 0.9862 | Train ROC-AUC: 0.9981\n",
      "\n",
      "Val Loss: 4.2746\n",
      "Scale: 16 --> Val F1-Score: 0.9714 | Val Bacc: 0.8600 | Val ROC-AUC: 0.9408\n",
      "Scale: 32 --> Val F1-Score: 0.9660 | Val Bacc: 0.8486 | Val ROC-AUC: 0.9467\n",
      "Scale: 128 --> Val F1-Score: 0.9556 | Val Bacc: 0.8686 | Val ROC-AUC: 0.9399\n",
      "Aggregated Results --> Val F1-Score: 0.9752 | Val Bacc: 0.8629 | Val ROC-AUC: 0.9349\n",
      "\n",
      "best AUC-ROC Score at epoch 1: 0.9571\n",
      "\n",
      "-------- Epoch 15/30 --------\n"
     ]
    },
    {
     "name": "stderr",
     "output_type": "stream",
     "text": [
      "\n",
      "[015/030 epoch train]: 100%|██████████| 1600/1600 [02:57<00:00,  9.01it/s, lr=[2.635347271463544e-05], loss=0.4193, CUDA-Mem=0%, CUDA-Util=0%] \n",
      "[015/030 epoch valid]: 100%|██████████| 400/400 [00:44<00:00,  8.93it/s, loss=3.9240, CUDA-Mem=0%, CUDA-Util=0%]"
     ]
    },
    {
     "name": "stdout",
     "output_type": "stream",
     "text": [
      "\n",
      "Train Loss: 0.4193\n",
      "Scale: 16 --> Train F1-Score: 0.9827 | Train Bacc: 0.9859 | Train ROC-AUC: 0.9970\n",
      "Scale: 32 --> Train F1-Score: 0.9740 | Train Bacc: 0.9759 | Train ROC-AUC: 0.9944\n",
      "Scale: 128 --> Train F1-Score: 0.9769 | Train Bacc: 0.9781 | Train ROC-AUC: 0.9957\n",
      "Aggregated Results --> Train F1-Score: 0.9880 | Train Bacc: 0.9912 | Train ROC-AUC: 0.9988\n",
      "\n",
      "Val Loss: 3.9240\n",
      "Scale: 16 --> Val F1-Score: 0.9664 | Val Bacc: 0.8704 | Val ROC-AUC: 0.9437\n",
      "Scale: 32 --> Val F1-Score: 0.9516 | Val Bacc: 0.8795 | Val ROC-AUC: 0.9450\n",
      "Scale: 128 --> Val F1-Score: 0.9586 | Val Bacc: 0.8854 | Val ROC-AUC: 0.9493\n",
      "Aggregated Results --> Val F1-Score: 0.9748 | Val Bacc: 0.8625 | Val ROC-AUC: 0.9463\n",
      "\n",
      "best AUC-ROC Score at epoch 1: 0.9571\n",
      "\n",
      "-------- Epoch 16/30 --------\n"
     ]
    },
    {
     "name": "stderr",
     "output_type": "stream",
     "text": [
      "\n",
      "[016/030 epoch train]: 100%|██████████| 1600/1600 [02:57<00:00,  9.02it/s, lr=[2.3646527285364565e-05], loss=0.4091, CUDA-Mem=0%, CUDA-Util=0%]\n",
      "[016/030 epoch valid]: 100%|██████████| 400/400 [00:44<00:00,  8.90it/s, loss=4.6923, CUDA-Mem=0%, CUDA-Util=0%]\n"
     ]
    },
    {
     "name": "stdout",
     "output_type": "stream",
     "text": [
      "\n",
      "Train Loss: 0.4091\n",
      "Scale: 16 --> Train F1-Score: 0.9814 | Train Bacc: 0.9850 | Train ROC-AUC: 0.9972\n",
      "Scale: 32 --> Train F1-Score: 0.9734 | Train Bacc: 0.9701 | Train ROC-AUC: 0.9945\n",
      "Scale: 128 --> Train F1-Score: 0.9773 | Train Bacc: 0.9712 | Train ROC-AUC: 0.9961\n",
      "Aggregated Results --> Train F1-Score: 0.9878 | Train Bacc: 0.9911 | Train ROC-AUC: 0.9988\n",
      "\n",
      "Val Loss: 4.6923\n",
      "Scale: 16 --> Val F1-Score: 0.9668 | Val Bacc: 0.8493 | Val ROC-AUC: 0.9384\n",
      "Scale: 32 --> Val F1-Score: 0.9600 | Val Bacc: 0.8581 | Val ROC-AUC: 0.9401\n",
      "Scale: 128 --> Val F1-Score: 0.9661 | Val Bacc: 0.8630 | Val ROC-AUC: 0.9449\n",
      "Aggregated Results --> Val F1-Score: 0.9752 | Val Bacc: 0.8629 | Val ROC-AUC: 0.9420\n",
      "\n",
      "best AUC-ROC Score at epoch 1: 0.9571\n",
      "\n",
      "-------- Epoch 17/30 --------\n"
     ]
    },
    {
     "name": "stderr",
     "output_type": "stream",
     "text": [
      "[017/030 epoch train]: 100%|██████████| 1600/1600 [02:57<00:00,  9.02it/s, lr=[2.0955450086180886e-05], loss=0.3128, CUDA-Mem=0%, CUDA-Util=0%]\n",
      "[017/030 epoch valid]: 100%|██████████| 400/400 [00:44<00:00,  8.93it/s, loss=4.6825, CUDA-Mem=0%, CUDA-Util=0%]"
     ]
    },
    {
     "name": "stdout",
     "output_type": "stream",
     "text": [
      "\n",
      "Train Loss: 0.3128\n",
      "Scale: 16 --> Train F1-Score: 0.9878 | Train Bacc: 0.9929 | Train ROC-AUC: 0.9983\n",
      "Scale: 32 --> Train F1-Score: 0.9766 | Train Bacc: 0.9815 | Train ROC-AUC: 0.9956\n",
      "Scale: 128 --> Train F1-Score: 0.9817 | Train Bacc: 0.9798 | Train ROC-AUC: 0.9974\n",
      "Aggregated Results --> Train F1-Score: 0.9907 | Train Bacc: 0.9948 | Train ROC-AUC: 0.9991\n",
      "\n",
      "Val Loss: 4.6825\n",
      "Scale: 16 --> Val F1-Score: 0.9651 | Val Bacc: 0.8550 | Val ROC-AUC: 0.9376\n",
      "Scale: 32 --> Val F1-Score: 0.9594 | Val Bacc: 0.8504 | Val ROC-AUC: 0.9437\n",
      "Scale: 128 --> Val F1-Score: 0.9636 | Val Bacc: 0.8824 | Val ROC-AUC: 0.9494\n",
      "Aggregated Results --> Val F1-Score: 0.9739 | Val Bacc: 0.8619 | Val ROC-AUC: 0.9372\n",
      "\n",
      "best AUC-ROC Score at epoch 1: 0.9571\n",
      "\n",
      "-------- Epoch 18/30 --------\n"
     ]
    },
    {
     "name": "stderr",
     "output_type": "stream",
     "text": [
      "\n",
      "[018/030 epoch train]: 100%|██████████| 1600/1600 [02:57<00:00,  9.02it/s, lr=[1.8311791536769483e-05], loss=0.2719, CUDA-Mem=0%, CUDA-Util=0%]\n",
      "[018/030 epoch valid]: 100%|██████████| 400/400 [00:44<00:00,  8.94it/s, loss=5.8471, CUDA-Mem=0%, CUDA-Util=0%]"
     ]
    },
    {
     "name": "stdout",
     "output_type": "stream",
     "text": [
      "\n",
      "Train Loss: 0.2719\n",
      "Scale: 16 --> Train F1-Score: 0.9904 | Train Bacc: 0.9928 | Train ROC-AUC: 0.9989\n",
      "Scale: 32 --> Train F1-Score: 0.9790 | Train Bacc: 0.9814 | Train ROC-AUC: 0.9962\n",
      "Scale: 128 --> Train F1-Score: 0.9827 | Train Bacc: 0.9841 | Train ROC-AUC: 0.9977\n",
      "Aggregated Results --> Train F1-Score: 0.9937 | Train Bacc: 0.9966 | Train ROC-AUC: 0.9995\n",
      "\n",
      "Val Loss: 5.8471\n",
      "Scale: 16 --> Val F1-Score: 0.9773 | Val Bacc: 0.8430 | Val ROC-AUC: 0.9288\n",
      "Scale: 32 --> Val F1-Score: 0.9624 | Val Bacc: 0.8600 | Val ROC-AUC: 0.9437\n",
      "Scale: 128 --> Val F1-Score: 0.9712 | Val Bacc: 0.8456 | Val ROC-AUC: 0.9376\n",
      "Aggregated Results --> Val F1-Score: 0.9798 | Val Bacc: 0.8306 | Val ROC-AUC: 0.9298\n",
      "\n",
      "best AUC-ROC Score at epoch 1: 0.9571\n",
      "\n",
      "-------- Epoch 19/30 --------\n"
     ]
    },
    {
     "name": "stderr",
     "output_type": "stream",
     "text": [
      "\n",
      "[019/030 epoch train]: 100%|██████████| 1600/1600 [02:57<00:00,  9.02it/s, lr=[1.5746546116502143e-05], loss=0.2669, CUDA-Mem=0%, CUDA-Util=0%]\n",
      "[019/030 epoch valid]: 100%|██████████| 400/400 [00:44<00:00,  8.90it/s, loss=5.5847, CUDA-Mem=0%, CUDA-Util=0%]"
     ]
    },
    {
     "name": "stdout",
     "output_type": "stream",
     "text": [
      "\n",
      "Train Loss: 0.2669\n",
      "Scale: 16 --> Train F1-Score: 0.9901 | Train Bacc: 0.9944 | Train ROC-AUC: 0.9988\n",
      "Scale: 32 --> Train F1-Score: 0.9818 | Train Bacc: 0.9871 | Train ROC-AUC: 0.9969\n",
      "Scale: 128 --> Train F1-Score: 0.9838 | Train Bacc: 0.9867 | Train ROC-AUC: 0.9977\n",
      "Aggregated Results --> Train F1-Score: 0.9937 | Train Bacc: 0.9947 | Train ROC-AUC: 0.9995\n",
      "\n",
      "Val Loss: 5.5847\n",
      "Scale: 16 --> Val F1-Score: 0.9719 | Val Bacc: 0.8391 | Val ROC-AUC: 0.9436\n",
      "Scale: 32 --> Val F1-Score: 0.9678 | Val Bacc: 0.8501 | Val ROC-AUC: 0.9474\n",
      "Scale: 128 --> Val F1-Score: 0.9720 | Val Bacc: 0.8462 | Val ROC-AUC: 0.9416\n",
      "Aggregated Results --> Val F1-Score: 0.9790 | Val Bacc: 0.8514 | Val ROC-AUC: 0.9408\n",
      "\n",
      "best AUC-ROC Score at epoch 1: 0.9571\n",
      "\n",
      "-------- Epoch 20/30 --------\n"
     ]
    },
    {
     "name": "stderr",
     "output_type": "stream",
     "text": [
      "\n",
      "[020/030 epoch train]: 100%|██████████| 1600/1600 [02:57<00:00,  9.03it/s, lr=[1.3289788982505247e-05], loss=0.2044, CUDA-Mem=0%, CUDA-Util=0%]\n",
      "[020/030 epoch valid]: 100%|██████████| 400/400 [00:44<00:00,  8.93it/s, loss=6.0126, CUDA-Mem=0%, CUDA-Util=0%]"
     ]
    },
    {
     "name": "stdout",
     "output_type": "stream",
     "text": [
      "\n",
      "Train Loss: 0.2044\n",
      "Scale: 16 --> Train F1-Score: 0.9931 | Train Bacc: 0.9962 | Train ROC-AUC: 0.9993\n",
      "Scale: 32 --> Train F1-Score: 0.9829 | Train Bacc: 0.9878 | Train ROC-AUC: 0.9973\n",
      "Scale: 128 --> Train F1-Score: 0.9877 | Train Bacc: 0.9910 | Train ROC-AUC: 0.9984\n",
      "Aggregated Results --> Train F1-Score: 0.9958 | Train Bacc: 0.9978 | Train ROC-AUC: 0.9996\n",
      "\n",
      "Val Loss: 6.0126\n",
      "Scale: 16 --> Val F1-Score: 0.9752 | Val Bacc: 0.8344 | Val ROC-AUC: 0.9316\n",
      "Scale: 32 --> Val F1-Score: 0.9669 | Val Bacc: 0.8565 | Val ROC-AUC: 0.9454\n",
      "Scale: 128 --> Val F1-Score: 0.9694 | Val Bacc: 0.8656 | Val ROC-AUC: 0.9484\n",
      "Aggregated Results --> Val F1-Score: 0.9803 | Val Bacc: 0.8309 | Val ROC-AUC: 0.9290\n",
      "\n",
      "best AUC-ROC Score at epoch 1: 0.9571\n",
      "\n",
      "-------- Epoch 21/30 --------\n"
     ]
    },
    {
     "name": "stderr",
     "output_type": "stream",
     "text": [
      "\n",
      "[021/030 epoch valid]: 100%|██████████| 400/400 [00:44<00:00,  8.94it/s, loss=6.9689, CUDA-Mem=0%, CUDA-Util=0%]72, CUDA-Mem=0%, CUDA-Util=0%]\n"
     ]
    },
    {
     "name": "stdout",
     "output_type": "stream",
     "text": [
      "\n",
      "Train Loss: 0.1835\n",
      "Scale: 16 --> Train F1-Score: 0.9928 | Train Bacc: 0.9942 | Train ROC-AUC: 0.9991\n",
      "Scale: 32 --> Train F1-Score: 0.9856 | Train Bacc: 0.9897 | Train ROC-AUC: 0.9976\n",
      "Scale: 128 --> Train F1-Score: 0.9886 | Train Bacc: 0.9934 | Train ROC-AUC: 0.9988\n",
      "Aggregated Results --> Train F1-Score: 0.9959 | Train Bacc: 0.9978 | Train ROC-AUC: 0.9997\n",
      "\n",
      "Val Loss: 6.9689\n",
      "Scale: 16 --> Val F1-Score: 0.9761 | Val Bacc: 0.8208 | Val ROC-AUC: 0.9209\n",
      "Scale: 32 --> Val F1-Score: 0.9664 | Val Bacc: 0.8490 | Val ROC-AUC: 0.9466\n",
      "Scale: 128 --> Val F1-Score: 0.9753 | Val Bacc: 0.8274 | Val ROC-AUC: 0.9469\n",
      "Aggregated Results --> Val F1-Score: 0.9814 | Val Bacc: 0.8103 | Val ROC-AUC: 0.9248\n",
      "\n",
      "best AUC-ROC Score at epoch 1: 0.9571\n",
      "\n",
      "-------- Epoch 22/30 --------\n"
     ]
    },
    {
     "name": "stderr",
     "output_type": "stream",
     "text": [
      "[022/030 epoch train]: 100%|██████████| 1600/1600 [02:57<00:00,  9.01it/s, lr=[8.815342880454311e-06], loss=0.1736, CUDA-Mem=0%, CUDA-Util=0%]\n",
      "[022/030 epoch valid]: 100%|██████████| 400/400 [00:44<00:00,  8.90it/s, loss=7.1704, CUDA-Mem=0%, CUDA-Util=0%]"
     ]
    },
    {
     "name": "stdout",
     "output_type": "stream",
     "text": [
      "\n",
      "Train Loss: 0.1736\n",
      "Scale: 16 --> Train F1-Score: 0.9947 | Train Bacc: 0.9971 | Train ROC-AUC: 0.9995\n",
      "Scale: 32 --> Train F1-Score: 0.9850 | Train Bacc: 0.9875 | Train ROC-AUC: 0.9977\n",
      "Scale: 128 --> Train F1-Score: 0.9894 | Train Bacc: 0.9922 | Train ROC-AUC: 0.9990\n",
      "Aggregated Results --> Train F1-Score: 0.9969 | Train Bacc: 0.9965 | Train ROC-AUC: 0.9998\n",
      "\n",
      "Val Loss: 7.1704\n",
      "Scale: 16 --> Val F1-Score: 0.9774 | Val Bacc: 0.8218 | Val ROC-AUC: 0.9219\n",
      "Scale: 32 --> Val F1-Score: 0.9640 | Val Bacc: 0.8471 | Val ROC-AUC: 0.9385\n",
      "Scale: 128 --> Val F1-Score: 0.9733 | Val Bacc: 0.8330 | Val ROC-AUC: 0.9394\n",
      "Aggregated Results --> Val F1-Score: 0.9820 | Val Bacc: 0.8036 | Val ROC-AUC: 0.9221\n",
      "\n",
      "best AUC-ROC Score at epoch 1: 0.9571\n",
      "\n",
      "-------- Epoch 23/30 --------\n"
     ]
    },
    {
     "name": "stderr",
     "output_type": "stream",
     "text": [
      "\n",
      "[023/030 epoch train]: 100%|██████████| 1600/1600 [02:57<00:00,  9.01it/s, lr=[6.850112701921736e-06], loss=0.1522, CUDA-Mem=0%, CUDA-Util=0%] \n",
      "[023/030 epoch valid]: 100%|██████████| 400/400 [00:44<00:00,  8.90it/s, loss=7.4200, CUDA-Mem=0%, CUDA-Util=0%]"
     ]
    },
    {
     "name": "stdout",
     "output_type": "stream",
     "text": [
      "\n",
      "Train Loss: 0.1522\n",
      "Scale: 16 --> Train F1-Score: 0.9948 | Train Bacc: 0.9972 | Train ROC-AUC: 0.9996\n",
      "Scale: 32 --> Train F1-Score: 0.9864 | Train Bacc: 0.9902 | Train ROC-AUC: 0.9980\n",
      "Scale: 128 --> Train F1-Score: 0.9912 | Train Bacc: 0.9915 | Train ROC-AUC: 0.9991\n",
      "Aggregated Results --> Train F1-Score: 0.9976 | Train Bacc: 0.9987 | Train ROC-AUC: 0.9997\n",
      "\n",
      "Val Loss: 7.4200\n",
      "Scale: 16 --> Val F1-Score: 0.9746 | Val Bacc: 0.8339 | Val ROC-AUC: 0.9220\n",
      "Scale: 32 --> Val F1-Score: 0.9711 | Val Bacc: 0.8384 | Val ROC-AUC: 0.9407\n",
      "Scale: 128 --> Val F1-Score: 0.9750 | Val Bacc: 0.8200 | Val ROC-AUC: 0.9350\n",
      "Aggregated Results --> Val F1-Score: 0.9821 | Val Bacc: 0.8250 | Val ROC-AUC: 0.9290\n",
      "\n",
      "best AUC-ROC Score at epoch 1: 0.9571\n",
      "\n",
      "-------- Epoch 24/30 --------\n"
     ]
    },
    {
     "name": "stderr",
     "output_type": "stream",
     "text": [
      "\n",
      "[024/030 epoch train]: 100%|██████████| 1600/1600 [02:57<00:00,  9.00it/s, lr=[5.097673357358906e-06], loss=0.1319, CUDA-Mem=0%, CUDA-Util=0%] \n",
      "[024/030 epoch valid]: 100%|██████████| 400/400 [00:44<00:00,  8.92it/s, loss=7.8867, CUDA-Mem=0%, CUDA-Util=0%] "
     ]
    },
    {
     "name": "stdout",
     "output_type": "stream",
     "text": [
      "\n",
      "Train Loss: 0.1319\n",
      "Scale: 16 --> Train F1-Score: 0.9956 | Train Bacc: 0.9976 | Train ROC-AUC: 0.9996\n",
      "Scale: 32 --> Train F1-Score: 0.9879 | Train Bacc: 0.9930 | Train ROC-AUC: 0.9983\n",
      "Scale: 128 --> Train F1-Score: 0.9917 | Train Bacc: 0.9936 | Train ROC-AUC: 0.9992\n",
      "Aggregated Results --> Train F1-Score: 0.9983 | Train Bacc: 0.9991 | Train ROC-AUC: 0.9998\n",
      "\n",
      "Val Loss: 7.8867\n",
      "Scale: 16 --> Val F1-Score: 0.9779 | Val Bacc: 0.8079 | Val ROC-AUC: 0.9222\n",
      "Scale: 32 --> Val F1-Score: 0.9699 | Val Bacc: 0.8304 | Val ROC-AUC: 0.9422\n",
      "Scale: 128 --> Val F1-Score: 0.9752 | Val Bacc: 0.8202 | Val ROC-AUC: 0.9385\n",
      "Aggregated Results --> Val F1-Score: 0.9831 | Val Bacc: 0.7972 | Val ROC-AUC: 0.9235\n",
      "\n",
      "best AUC-ROC Score at epoch 1: 0.9571\n",
      "\n",
      "-------- Epoch 25/30 --------\n"
     ]
    },
    {
     "name": "stderr",
     "output_type": "stream",
     "text": [
      "\n",
      "[025/030 epoch train]: 100%|██████████| 1600/1600 [02:57<00:00,  9.00it/s, lr=[3.578570595810273e-06], loss=0.1364, CUDA-Mem=0%, CUDA-Util=0%] \n",
      "[025/030 epoch valid]: 100%|██████████| 400/400 [00:44<00:00,  8.90it/s, loss=7.9201, CUDA-Mem=0%, CUDA-Util=0%] "
     ]
    },
    {
     "name": "stdout",
     "output_type": "stream",
     "text": [
      "\n",
      "Train Loss: 0.1364\n",
      "Scale: 16 --> Train F1-Score: 0.9961 | Train Bacc: 0.9979 | Train ROC-AUC: 0.9996\n",
      "Scale: 32 --> Train F1-Score: 0.9886 | Train Bacc: 0.9898 | Train ROC-AUC: 0.9984\n",
      "Scale: 128 --> Train F1-Score: 0.9928 | Train Bacc: 0.9942 | Train ROC-AUC: 0.9993\n",
      "Aggregated Results --> Train F1-Score: 0.9981 | Train Bacc: 0.9990 | Train ROC-AUC: 0.9998\n",
      "\n",
      "Val Loss: 7.9201\n",
      "Scale: 16 --> Val F1-Score: 0.9777 | Val Bacc: 0.8219 | Val ROC-AUC: 0.9259\n",
      "Scale: 32 --> Val F1-Score: 0.9695 | Val Bacc: 0.8301 | Val ROC-AUC: 0.9421\n",
      "Scale: 128 --> Val F1-Score: 0.9753 | Val Bacc: 0.8274 | Val ROC-AUC: 0.9381\n",
      "Aggregated Results --> Val F1-Score: 0.9846 | Val Bacc: 0.8123 | Val ROC-AUC: 0.9279\n",
      "\n",
      "best AUC-ROC Score at epoch 1: 0.9571\n",
      "\n",
      "-------- Epoch 26/30 --------\n"
     ]
    },
    {
     "name": "stderr",
     "output_type": "stream",
     "text": [
      "\n",
      "[026/030 epoch train]: 100%|██████████| 1600/1600 [02:57<00:00,  9.01it/s, lr=[2.310614508226077e-06], loss=0.1170, CUDA-Mem=0%, CUDA-Util=0%] \n",
      "[026/030 epoch valid]: 100%|██████████| 400/400 [00:44<00:00,  8.90it/s, loss=8.1013, CUDA-Mem=0%, CUDA-Util=0%] \n"
     ]
    },
    {
     "name": "stdout",
     "output_type": "stream",
     "text": [
      "\n",
      "Train Loss: 0.1170\n",
      "Scale: 16 --> Train F1-Score: 0.9957 | Train Bacc: 0.9959 | Train ROC-AUC: 0.9996\n",
      "Scale: 32 --> Train F1-Score: 0.9892 | Train Bacc: 0.9938 | Train ROC-AUC: 0.9985\n",
      "Scale: 128 --> Train F1-Score: 0.9933 | Train Bacc: 0.9963 | Train ROC-AUC: 0.9995\n",
      "Aggregated Results --> Train F1-Score: 0.9985 | Train Bacc: 0.9992 | Train ROC-AUC: 0.9997\n",
      "\n",
      "Val Loss: 8.1013\n",
      "Scale: 16 --> Val F1-Score: 0.9778 | Val Bacc: 0.8007 | Val ROC-AUC: 0.9217\n",
      "Scale: 32 --> Val F1-Score: 0.9679 | Val Bacc: 0.8288 | Val ROC-AUC: 0.9411\n",
      "Scale: 128 --> Val F1-Score: 0.9771 | Val Bacc: 0.8144 | Val ROC-AUC: 0.9374\n",
      "Aggregated Results --> Val F1-Score: 0.9839 | Val Bacc: 0.7976 | Val ROC-AUC: 0.9243\n",
      "\n",
      "best AUC-ROC Score at epoch 1: 0.9571\n",
      "\n",
      "-------- Epoch 27/30 --------\n"
     ]
    },
    {
     "name": "stderr",
     "output_type": "stream",
     "text": [
      "[027/030 epoch train]: 100%|██████████| 1600/1600 [02:57<00:00,  8.99it/s, lr=[1.308670720429941e-06], loss=0.1106, CUDA-Mem=0%, CUDA-Util=0%] \n",
      "[027/030 epoch valid]: 100%|██████████| 400/400 [00:44<00:00,  8.91it/s, loss=8.3519, CUDA-Mem=0%, CUDA-Util=0%] "
     ]
    },
    {
     "name": "stdout",
     "output_type": "stream",
     "text": [
      "\n",
      "Train Loss: 0.1106\n",
      "Scale: 16 --> Train F1-Score: 0.9963 | Train Bacc: 0.9980 | Train ROC-AUC: 0.9997\n",
      "Scale: 32 --> Train F1-Score: 0.9886 | Train Bacc: 0.9916 | Train ROC-AUC: 0.9987\n",
      "Scale: 128 --> Train F1-Score: 0.9937 | Train Bacc: 0.9947 | Train ROC-AUC: 0.9994\n",
      "Aggregated Results --> Train F1-Score: 0.9984 | Train Bacc: 0.9992 | Train ROC-AUC: 0.9998\n",
      "\n",
      "Val Loss: 8.3519\n",
      "Scale: 16 --> Val F1-Score: 0.9782 | Val Bacc: 0.8152 | Val ROC-AUC: 0.9198\n",
      "Scale: 32 --> Val F1-Score: 0.9730 | Val Bacc: 0.8256 | Val ROC-AUC: 0.9407\n",
      "Scale: 128 --> Val F1-Score: 0.9760 | Val Bacc: 0.8136 | Val ROC-AUC: 0.9370\n",
      "Aggregated Results --> Val F1-Score: 0.9844 | Val Bacc: 0.7980 | Val ROC-AUC: 0.9245\n",
      "\n",
      "best AUC-ROC Score at epoch 1: 0.9571\n",
      "\n",
      "-------- Epoch 28/30 --------\n"
     ]
    },
    {
     "name": "stderr",
     "output_type": "stream",
     "text": [
      "\n",
      "[028/030 epoch train]:  80%|████████  | 1284/1600 [02:22<00:30, 10.21it/s, lr=[7.050494298193211e-07], loss=0.1046, CUDA-Mem=0%, CUDA-Util=0%]IOPub message rate exceeded.\n",
      "The Jupyter server will temporarily stop sending output\n",
      "to the client in order to avoid crashing it.\n",
      "To change this limit, set the config variable\n",
      "`--ServerApp.iopub_msg_rate_limit`.\n",
      "\n",
      "Current values:\n",
      "ServerApp.iopub_msg_rate_limit=1000.0 (msgs/sec)\n",
      "ServerApp.rate_limit_window=3.0 (secs)\n",
      "\n",
      "[028/030 epoch valid]: 100%|██████████| 400/400 [00:45<00:00,  8.88it/s, loss=8.3708, CUDA-Mem=0%, CUDA-Util=0%]"
     ]
    },
    {
     "name": "stdout",
     "output_type": "stream",
     "text": [
      "\n",
      "Train Loss: 0.1086\n",
      "Scale: 16 --> Train F1-Score: 0.9968 | Train Bacc: 0.9965 | Train ROC-AUC: 0.9997\n",
      "Scale: 32 --> Train F1-Score: 0.9905 | Train Bacc: 0.9928 | Train ROC-AUC: 0.9988\n",
      "Scale: 128 --> Train F1-Score: 0.9929 | Train Bacc: 0.9961 | Train ROC-AUC: 0.9995\n",
      "Aggregated Results --> Train F1-Score: 0.9986 | Train Bacc: 0.9993 | Train ROC-AUC: 0.9998\n",
      "\n",
      "Val Loss: 8.3708\n",
      "Scale: 16 --> Val F1-Score: 0.9779 | Val Bacc: 0.8079 | Val ROC-AUC: 0.9201\n",
      "Scale: 32 --> Val F1-Score: 0.9731 | Val Bacc: 0.8328 | Val ROC-AUC: 0.9403\n",
      "Scale: 128 --> Val F1-Score: 0.9762 | Val Bacc: 0.8138 | Val ROC-AUC: 0.9390\n",
      "Aggregated Results --> Val F1-Score: 0.9841 | Val Bacc: 0.7978 | Val ROC-AUC: 0.9240\n",
      "\n",
      "best AUC-ROC Score at epoch 1: 0.9571\n",
      "\n",
      "-------- Epoch 29/30 --------\n"
     ]
    },
    {
     "name": "stderr",
     "output_type": "stream",
     "text": [
      "\n",
      "[029/030 epoch train]: 100%|██████████| 1600/1600 [02:57<00:00,  9.00it/s, lr=[1.4655107114101023e-07], loss=0.1036, CUDA-Mem=0%, CUDA-Util=0%]\n",
      "[029/030 epoch valid]: 100%|██████████| 400/400 [00:44<00:00,  8.91it/s, loss=8.3888, CUDA-Mem=0%, CUDA-Util=0%] "
     ]
    },
    {
     "name": "stdout",
     "output_type": "stream",
     "text": [
      "\n",
      "Train Loss: 0.1036\n",
      "Scale: 16 --> Train F1-Score: 0.9972 | Train Bacc: 0.9985 | Train ROC-AUC: 0.9997\n",
      "Scale: 32 --> Train F1-Score: 0.9900 | Train Bacc: 0.9943 | Train ROC-AUC: 0.9988\n",
      "Scale: 128 --> Train F1-Score: 0.9941 | Train Bacc: 0.9968 | Train ROC-AUC: 0.9995\n",
      "Aggregated Results --> Train F1-Score: 0.9985 | Train Bacc: 0.9992 | Train ROC-AUC: 0.9998\n",
      "\n",
      "Val Loss: 8.3888\n",
      "Scale: 16 --> Val F1-Score: 0.9779 | Val Bacc: 0.8079 | Val ROC-AUC: 0.9201\n",
      "Scale: 32 --> Val F1-Score: 0.9733 | Val Bacc: 0.8330 | Val ROC-AUC: 0.9403\n",
      "Scale: 128 --> Val F1-Score: 0.9762 | Val Bacc: 0.8138 | Val ROC-AUC: 0.9385\n",
      "Aggregated Results --> Val F1-Score: 0.9844 | Val Bacc: 0.7980 | Val ROC-AUC: 0.9243\n",
      "\n",
      "best AUC-ROC Score at epoch 1: 0.9571\n",
      "\n",
      "-------- Epoch 30/30 --------\n"
     ]
    },
    {
     "name": "stderr",
     "output_type": "stream",
     "text": [
      "\n",
      "100%|██████████| 500/500 [00:55<00:00,  8.97it/s, loss=1.5951, CUDA-Mem=0%, CUDA-Util=0%]49468616e-08], loss=0.0982, CUDA-Mem=0%, CUDA-Util=0%]\n"
     ]
    },
    {
     "name": "stdout",
     "output_type": "stream",
     "text": [
      "\n",
      "Test Loss: 1.5951\n",
      "Scale: 16 --> Test F1-Score: 0.9067 | Test Bacc: 0.8738 | Test ROC-AUC: 0.9382\n",
      "Scale: 32 --> Test F1-Score: 0.9200 | Test Bacc: 0.8436 | Test ROC-AUC: 0.9191\n",
      "Scale: 128 --> Test F1-Score: 0.9350 | Test Bacc: 0.8379 | Test ROC-AUC: 0.8963\n",
      "Aggregated Results --> Test F1-Score: 0.9140 | Test Bacc: 0.8800 | Test ROC-AUC: 0.9350\n",
      "---------------finished running code-------------------\n"
     ]
    },
    {
     "data": {
      "text/plain": [
       "<Figure size 640x480 with 0 Axes>"
      ]
     },
     "metadata": {},
     "output_type": "display_data"
    },
    {
     "data": {
      "text/plain": [
       "<Figure size 2000x800 with 0 Axes>"
      ]
     },
     "metadata": {},
     "output_type": "display_data"
    },
    {
     "data": {
      "text/plain": [
       "<Figure size 1000x800 with 0 Axes>"
      ]
     },
     "metadata": {},
     "output_type": "display_data"
    },
    {
     "data": {
      "text/plain": [
       "<Figure size 640x480 with 0 Axes>"
      ]
     },
     "metadata": {},
     "output_type": "display_data"
    },
    {
     "data": {
      "text/plain": [
       "<Figure size 640x480 with 0 Axes>"
      ]
     },
     "metadata": {},
     "output_type": "display_data"
    }
   ],
   "source": [
    "%run foundational_models/Mammo-CLIP-main/Mammo-CLIP-main/src3-Copy1/codebase/main.py \\\n",
    "  --clip_chk_pt_path \"foundational_models/Mammo-CLIP-main/Mammo-CLIP-main/b2-model-best-epoch-10.tar\" \\\n",
    "  --dataset 'ViNDr' \\\n",
    "  --label \"Suspicious_Calcification\" \\\n",
    "  --train --epochs 30 --batch-size 8 \\\n",
    "  --num-workers 4 \\\n",
    "  --eval_scheme 'kruns_train+val+test' --n_runs 1 \\\n",
    "  --lr 5.0e-5 \\\n",
    "  --weighted-BCE 'y' \\\n",
    "  --mil_type 'pyramidal_mil' \\\n",
    "  --pooling_type 'gated-attention' \\\n",
    "  --fcl_encoder_dim 256 \\\n",
    "  --fcl_dropout 0.25 \\\n",
    "  --drop_attention_pool 0.25 \\\n",
    "  --fpn_dim 256 \\\n",
    "  --multi_scale_model 'fpn' \\\n",
    "  --type_scale_aggregator 'gated-attention' \\\n",
    "  --deep_supervision --scales 16 32 128 \n",
    "\n",
    "print('---------------finished running code-------------------')"
   ]
  },
  {
   "cell_type": "markdown",
   "id": "a496503a-01b3-463c-9548-0a38a66af6d8",
   "metadata": {},
   "source": [
    "# Ablation Studies "
   ]
  },
  {
   "cell_type": "markdown",
   "id": "8da5dcba-a163-4084-9496-f15c00b01e17",
   "metadata": {},
   "source": [
    "## Effect of Different Multi-scale Instance Encoders "
   ]
  },
  {
   "cell_type": "markdown",
   "id": "cfa4139f-ab88-449d-8edb-8e97bc98c5b4",
   "metadata": {},
   "source": [
    "### Based on Multi-scale Patches (MSP)"
   ]
  },
  {
   "cell_type": "code",
   "execution_count": 1,
   "id": "91b8c3cf-3e04-4989-8d71-f39d798946c6",
   "metadata": {
    "scrolled": true
   },
   "outputs": [
    {
     "name": "stderr",
     "output_type": "stream",
     "text": [
      "/home/csantiago/.local/lib/python3.10/site-packages/albumentations/__init__.py:13: UserWarning: A new version of Albumentations is available: 2.0.8 (you have 1.4.18). Upgrade using: pip install -U albumentations. To disable automatic update checks, set the environment variable NO_ALBUMENTATIONS_UPDATE to 1.\n",
      "  check_for_updates()\n"
     ]
    },
    {
     "name": "stdout",
     "output_type": "stream",
     "text": [
      "\n",
      "torch.cuda.current_device(): 0\n",
      "\n",
      "Using device: cuda\n",
      "output_path: Mammo-CLIP-output/out_splits_new/MIL_experiments/ViNDr_data_frac_1.0/Suspicious_Calcification/offline_feature_extraction/multi_scale/MSP-deep_supervision/scale_aggregator_gated-attention/isab-dim_256-nblocks_2-nheads_4-dropout_0.0-layer_norm-softmax/pooling_pma-dropout_0.0-layer_norm-softmax/2025-06-25\n",
      "df shape: (20000, 16)\n",
      "Index(['image_id', 'patient_id', 'laterality', 'view', 'finding_categories',\n",
      "       'finding_birads', 'breast_birads', 'breast_density', 'split', 'fold',\n",
      "       'Mass', 'Suspicious_Calcification', 'resized_xmin', 'resized_ymin',\n",
      "       'resized_xmax', 'resized_ymax'],\n",
      "      dtype='object')\n",
      "\n",
      "================== run nº: 0 ======================\n",
      "train_loader: 1600, valid_loader: 400\n",
      "Model is loaded\n",
      "PyramidalMILmodel(\n",
      "  (side_inst_aggregator): ModuleDict(\n",
      "    (encoders): ModuleDict(\n",
      "      (encoder_128): ModuleList(\n",
      "        (0): InducedSetAttentionBlock(352, d_hidden = 256, num_induced_points=20, heads=4, layer_norm=True, activation=softmax)\n",
      "        (1): InducedSetAttentionBlock(256, d_hidden = 256, num_induced_points=20, heads=4, layer_norm=True, activation=softmax)\n",
      "      )\n",
      "      (encoder_256): ModuleList(\n",
      "        (0): InducedSetAttentionBlock(352, d_hidden = 256, num_induced_points=14, heads=4, layer_norm=True, activation=softmax)\n",
      "        (1): InducedSetAttentionBlock(256, d_hidden = 256, num_induced_points=14, heads=4, layer_norm=True, activation=softmax)\n",
      "      )\n",
      "      (encoder_384): ModuleList(\n",
      "        (0): InducedSetAttentionBlock(352, d_hidden = 256, num_induced_points=11, heads=4, layer_norm=True, activation=softmax)\n",
      "        (1): InducedSetAttentionBlock(256, d_hidden = 256, num_induced_points=11, heads=4, layer_norm=True, activation=softmax)\n",
      "      )\n",
      "    )\n",
      "    (aggregators): ModuleDict(\n",
      "      (aggregator_128): PoolingByMultiheadAttention(256, num_seed_points=1, heads=1, layer_norm=True, activation=softmax)\n",
      "      (aggregator_256): PoolingByMultiheadAttention(256, num_seed_points=1, heads=1, layer_norm=True, activation=softmax)\n",
      "      (aggregator_384): PoolingByMultiheadAttention(256, num_seed_points=1, heads=1, layer_norm=True, activation=softmax)\n",
      "    )\n",
      "  )\n",
      "  (side_classifiers): ModuleDict(\n",
      "    (classifier_128): head(\n",
      "      (drop): Dropout(p=0.0, inplace=True)\n",
      "      (head_classifier): Linear(in_features=256, out_features=1, bias=True)\n",
      "    )\n",
      "    (classifier_256): head(\n",
      "      (drop): Dropout(p=0.0, inplace=True)\n",
      "      (head_classifier): Linear(in_features=256, out_features=1, bias=True)\n",
      "    )\n",
      "    (classifier_384): head(\n",
      "      (drop): Dropout(p=0.0, inplace=True)\n",
      "      (head_classifier): Linear(in_features=256, out_features=1, bias=True)\n",
      "    )\n",
      "  )\n",
      "  (scale_aggregator): Gated_Attn_Net(\n",
      "    (attention_V): Sequential(\n",
      "      (0): Linear(in_features=256, out_features=128, bias=True)\n",
      "      (1): Tanh()\n",
      "      (2): Dropout(p=0.25, inplace=False)\n",
      "    )\n",
      "    (attention_U): Sequential(\n",
      "      (0): Linear(in_features=256, out_features=128, bias=True)\n",
      "      (1): Sigmoid()\n",
      "      (2): Dropout(p=0.25, inplace=False)\n",
      "    )\n",
      "    (attention_weights): Linear(in_features=128, out_features=1, bias=True)\n",
      "  )\n",
      "  (classifier): head(\n",
      "    (drop): Dropout(p=0.0, inplace=True)\n",
      "    (head_classifier): Linear(in_features=256, out_features=1, bias=True)\n",
      "  )\n",
      ")\n",
      "\n",
      "Total number of parameters: 4.274821 M\n",
      "Total number of trainable parameters: 4.274821 M\n",
      "pos_wt: tensor([37.2967], device='cuda:0')\n",
      "\n",
      "-------- Epoch 1/30 --------\n"
     ]
    },
    {
     "name": "stderr",
     "output_type": "stream",
     "text": [
      "[001/030 epoch train]: 100%|██████████| 1600/1600 [02:02<00:00, 13.06it/s, lr=[5e-05], loss=4.6869, CUDA-Mem=0%, CUDA-Util=0%]                 \n",
      "[001/030 epoch valid]: 100%|██████████| 400/400 [00:11<00:00, 35.63it/s, loss=4.1724, CUDA-Mem=0%, CUDA-Util=0%]\n"
     ]
    },
    {
     "name": "stdout",
     "output_type": "stream",
     "text": [
      "\n",
      "Train Loss: 4.6869\n",
      "Scale: 128 --> Train F1-Score: 0.8461 | Train Bacc: 0.5705 | Train ROC-AUC: 0.5915\n",
      "Scale: 256 --> Train F1-Score: 0.8415 | Train Bacc: 0.5978 | Train ROC-AUC: 0.6251\n",
      "Scale: 384 --> Train F1-Score: 0.8616 | Train Bacc: 0.6156 | Train ROC-AUC: 0.6389\n",
      "Aggregated Results --> Train F1-Score: 0.8656 | Train Bacc: 0.5934 | Train ROC-AUC: 0.6258\n",
      "\n",
      "Val Loss: 4.1724\n",
      "Scale: 128 --> Val F1-Score: 0.9519 | Val Bacc: 0.6311 | Val ROC-AUC: 0.6815\n",
      "Scale: 256 --> Val F1-Score: 0.9511 | Val Bacc: 0.6445 | Val ROC-AUC: 0.7628\n",
      "Scale: 384 --> Val F1-Score: 0.9472 | Val Bacc: 0.6907 | Val ROC-AUC: 0.7998\n",
      "Aggregated Results --> Val F1-Score: 0.9472 | Val Bacc: 0.6907 | Val ROC-AUC: 0.7995\n",
      "\n",
      "Epoch 1 - Save aucroc: 0.7995 Model\n",
      "\n",
      "best AUC-ROC Score at epoch 1: 0.7995\n",
      "\n",
      "-------- Epoch 2/30 --------\n"
     ]
    },
    {
     "name": "stderr",
     "output_type": "stream",
     "text": [
      "[002/030 epoch train]: 100%|██████████| 1600/1600 [02:05<00:00, 12.77it/s, lr=[4.9853448928858984e-05], loss=4.1112, CUDA-Mem=0%, CUDA-Util=0%]\n",
      "[002/030 epoch valid]: 100%|██████████| 400/400 [00:07<00:00, 51.60it/s, loss=3.3380, CUDA-Mem=0%, CUDA-Util=0%]\n"
     ]
    },
    {
     "name": "stdout",
     "output_type": "stream",
     "text": [
      "\n",
      "Train Loss: 4.1112\n",
      "Scale: 128 --> Train F1-Score: 0.8655 | Train Bacc: 0.5771 | Train ROC-AUC: 0.5958\n",
      "Scale: 256 --> Train F1-Score: 0.8803 | Train Bacc: 0.6764 | Train ROC-AUC: 0.7472\n",
      "Scale: 384 --> Train F1-Score: 0.8878 | Train Bacc: 0.7262 | Train ROC-AUC: 0.7865\n",
      "Aggregated Results --> Train F1-Score: 0.8983 | Train Bacc: 0.7314 | Train ROC-AUC: 0.7930\n",
      "\n",
      "Val Loss: 3.3380\n",
      "Scale: 128 --> Val F1-Score: 0.9457 | Val Bacc: 0.6397 | Val ROC-AUC: 0.7255\n",
      "Scale: 256 --> Val F1-Score: 0.9242 | Val Bacc: 0.8060 | Val ROC-AUC: 0.9126\n",
      "Scale: 384 --> Val F1-Score: 0.9279 | Val Bacc: 0.8092 | Val ROC-AUC: 0.8933\n",
      "Aggregated Results --> Val F1-Score: 0.9225 | Val Bacc: 0.7974 | Val ROC-AUC: 0.9097\n",
      "\n",
      "Epoch 2 - Save aucroc: 0.9097 Model\n",
      "\n",
      "best AUC-ROC Score at epoch 2: 0.9097\n",
      "\n",
      "-------- Epoch 3/30 --------\n"
     ]
    },
    {
     "name": "stderr",
     "output_type": "stream",
     "text": [
      "[003/030 epoch train]: 100%|██████████| 1600/1600 [02:03<00:00, 13.01it/s, lr=[4.941551389275217e-05], loss=3.5954, CUDA-Mem=0%, CUDA-Util=0%] \n",
      "[003/030 epoch valid]: 100%|██████████| 400/400 [00:07<00:00, 54.50it/s, loss=3.1874, CUDA-Mem=0%, CUDA-Util=0%]\n"
     ]
    },
    {
     "name": "stdout",
     "output_type": "stream",
     "text": [
      "\n",
      "Train Loss: 3.5954\n",
      "Scale: 128 --> Train F1-Score: 0.8952 | Train Bacc: 0.6002 | Train ROC-AUC: 0.6190\n",
      "Scale: 256 --> Train F1-Score: 0.9009 | Train Bacc: 0.7880 | Train ROC-AUC: 0.8509\n",
      "Scale: 384 --> Train F1-Score: 0.9120 | Train Bacc: 0.7848 | Train ROC-AUC: 0.8413\n",
      "Aggregated Results --> Train F1-Score: 0.9123 | Train Bacc: 0.7977 | Train ROC-AUC: 0.8627\n",
      "\n",
      "Val Loss: 3.1874\n",
      "Scale: 128 --> Val F1-Score: 0.9316 | Val Bacc: 0.6414 | Val ROC-AUC: 0.7403\n",
      "Scale: 256 --> Val F1-Score: 0.9138 | Val Bacc: 0.8329 | Val ROC-AUC: 0.9283\n",
      "Scale: 384 --> Val F1-Score: 0.8746 | Val Bacc: 0.8288 | Val ROC-AUC: 0.9003\n",
      "Aggregated Results --> Val F1-Score: 0.8963 | Val Bacc: 0.8682 | Val ROC-AUC: 0.9310\n",
      "\n",
      "Epoch 3 - Save aucroc: 0.9310 Model\n",
      "\n",
      "best AUC-ROC Score at epoch 3: 0.9310\n",
      "\n",
      "-------- Epoch 4/30 --------\n"
     ]
    },
    {
     "name": "stderr",
     "output_type": "stream",
     "text": [
      "[004/030 epoch train]: 100%|██████████| 1600/1600 [02:01<00:00, 13.22it/s, lr=[4.869132927957007e-05], loss=3.2493, CUDA-Mem=0%, CUDA-Util=0%] \n",
      "[004/030 epoch valid]: 100%|██████████| 400/400 [00:07<00:00, 51.59it/s, loss=3.8072, CUDA-Mem=0%, CUDA-Util=0%]\n"
     ]
    },
    {
     "name": "stdout",
     "output_type": "stream",
     "text": [
      "\n",
      "Train Loss: 3.2493\n",
      "Scale: 128 --> Train F1-Score: 0.8963 | Train Bacc: 0.6482 | Train ROC-AUC: 0.6966\n",
      "Scale: 256 --> Train F1-Score: 0.9033 | Train Bacc: 0.8154 | Train ROC-AUC: 0.8963\n",
      "Scale: 384 --> Train F1-Score: 0.9103 | Train Bacc: 0.8033 | Train ROC-AUC: 0.8714\n",
      "Aggregated Results --> Train F1-Score: 0.9116 | Train Bacc: 0.8135 | Train ROC-AUC: 0.9037\n",
      "\n",
      "Val Loss: 3.8072\n",
      "Scale: 128 --> Val F1-Score: 0.7181 | Val Bacc: 0.7450 | Val ROC-AUC: 0.8868\n",
      "Scale: 256 --> Val F1-Score: 0.6355 | Val Bacc: 0.7249 | Val ROC-AUC: 0.9249\n",
      "Scale: 384 --> Val F1-Score: 0.7082 | Val Bacc: 0.7605 | Val ROC-AUC: 0.9107\n",
      "Aggregated Results --> Val F1-Score: 0.7120 | Val Bacc: 0.7701 | Val ROC-AUC: 0.9333\n",
      "\n",
      "Epoch 4 - Save aucroc: 0.9333 Model\n",
      "\n",
      "best AUC-ROC Score at epoch 4: 0.9333\n",
      "\n",
      "-------- Epoch 5/30 --------\n"
     ]
    },
    {
     "name": "stderr",
     "output_type": "stream",
     "text": [
      "[005/030 epoch train]:  47%|████▋     | 757/1600 [00:57<01:06, 12.72it/s, lr=[4.825125994086765e-05], loss=2.8296, CUDA-Mem=0%, CUDA-Util=0%] IOPub message rate exceeded.\n",
      "The Jupyter server will temporarily stop sending output\n",
      "to the client in order to avoid crashing it.\n",
      "To change this limit, set the config variable\n",
      "`--ServerApp.iopub_msg_rate_limit`.\n",
      "\n",
      "Current values:\n",
      "ServerApp.iopub_msg_rate_limit=1000.0 (msgs/sec)\n",
      "ServerApp.rate_limit_window=3.0 (secs)\n",
      "\n",
      "[016/030 epoch train]: 100%|██████████| 1600/1600 [01:57<00:00, 13.59it/s, lr=[2.3646527285364565e-05], loss=0.8813, CUDA-Mem=0%, CUDA-Util=0%]\n",
      "[016/030 epoch valid]: 100%|██████████| 400/400 [00:07<00:00, 50.99it/s, loss=4.0850, CUDA-Mem=0%, CUDA-Util=0%]\n"
     ]
    },
    {
     "name": "stdout",
     "output_type": "stream",
     "text": [
      "\n",
      "Train Loss: 0.8813\n",
      "Scale: 128 --> Train F1-Score: 0.9519 | Train Bacc: 0.9473 | Train ROC-AUC: 0.9841\n",
      "Scale: 256 --> Train F1-Score: 0.9570 | Train Bacc: 0.9533 | Train ROC-AUC: 0.9870\n",
      "Scale: 384 --> Train F1-Score: 0.9553 | Train Bacc: 0.9448 | Train ROC-AUC: 0.9854\n",
      "Aggregated Results --> Train F1-Score: 0.9783 | Train Bacc: 0.9792 | Train ROC-AUC: 0.9961\n",
      "\n",
      "Val Loss: 4.0850\n",
      "Scale: 128 --> Val F1-Score: 0.9323 | Val Bacc: 0.8559 | Val ROC-AUC: 0.9278\n",
      "Scale: 256 --> Val F1-Score: 0.9482 | Val Bacc: 0.8125 | Val ROC-AUC: 0.8870\n",
      "Scale: 384 --> Val F1-Score: 0.9580 | Val Bacc: 0.7994 | Val ROC-AUC: 0.8978\n",
      "Aggregated Results --> Val F1-Score: 0.9663 | Val Bacc: 0.8133 | Val ROC-AUC: 0.9330\n",
      "\n",
      "best AUC-ROC Score at epoch 15: 0.9345\n",
      "\n",
      "-------- Epoch 17/30 --------\n"
     ]
    },
    {
     "name": "stderr",
     "output_type": "stream",
     "text": [
      "[017/030 epoch train]: 100%|██████████| 1600/1600 [02:01<00:00, 13.18it/s, lr=[2.0955450086180886e-05], loss=0.7595, CUDA-Mem=0%, CUDA-Util=0%]\n",
      "[017/030 epoch valid]: 100%|██████████| 400/400 [00:07<00:00, 53.13it/s, loss=4.3160, CUDA-Mem=0%, CUDA-Util=0%]\n"
     ]
    },
    {
     "name": "stdout",
     "output_type": "stream",
     "text": [
      "\n",
      "Train Loss: 0.7595\n",
      "Scale: 128 --> Train F1-Score: 0.9533 | Train Bacc: 0.9485 | Train ROC-AUC: 0.9858\n",
      "Scale: 256 --> Train F1-Score: 0.9634 | Train Bacc: 0.9640 | Train ROC-AUC: 0.9889\n",
      "Scale: 384 --> Train F1-Score: 0.9622 | Train Bacc: 0.9522 | Train ROC-AUC: 0.9893\n",
      "Aggregated Results --> Train F1-Score: 0.9830 | Train Bacc: 0.9879 | Train ROC-AUC: 0.9973\n",
      "\n",
      "Val Loss: 4.3160\n",
      "Scale: 128 --> Val F1-Score: 0.9379 | Val Bacc: 0.8250 | Val ROC-AUC: 0.9139\n",
      "Scale: 256 --> Val F1-Score: 0.9404 | Val Bacc: 0.8201 | Val ROC-AUC: 0.8926\n",
      "Scale: 384 --> Val F1-Score: 0.9553 | Val Bacc: 0.8114 | Val ROC-AUC: 0.9156\n",
      "Aggregated Results --> Val F1-Score: 0.9617 | Val Bacc: 0.7954 | Val ROC-AUC: 0.9180\n",
      "\n",
      "best AUC-ROC Score at epoch 15: 0.9345\n",
      "\n",
      "-------- Epoch 18/30 --------\n"
     ]
    },
    {
     "name": "stderr",
     "output_type": "stream",
     "text": [
      "[018/030 epoch train]: 100%|██████████| 1600/1600 [02:02<00:00, 13.03it/s, lr=[1.8311791536769483e-05], loss=0.6545, CUDA-Mem=0%, CUDA-Util=0%]\n",
      "[018/030 epoch valid]: 100%|██████████| 400/400 [00:07<00:00, 53.08it/s, loss=4.6578, CUDA-Mem=0%, CUDA-Util=0%]\n"
     ]
    },
    {
     "name": "stdout",
     "output_type": "stream",
     "text": [
      "\n",
      "Train Loss: 0.6545\n",
      "Scale: 128 --> Train F1-Score: 0.9564 | Train Bacc: 0.9529 | Train ROC-AUC: 0.9885\n",
      "Scale: 256 --> Train F1-Score: 0.9663 | Train Bacc: 0.9610 | Train ROC-AUC: 0.9912\n",
      "Scale: 384 --> Train F1-Score: 0.9672 | Train Bacc: 0.9635 | Train ROC-AUC: 0.9916\n",
      "Aggregated Results --> Train F1-Score: 0.9862 | Train Bacc: 0.9901 | Train ROC-AUC: 0.9985\n",
      "\n",
      "Val Loss: 4.6578\n",
      "Scale: 128 --> Val F1-Score: 0.9483 | Val Bacc: 0.8340 | Val ROC-AUC: 0.9235\n",
      "Scale: 256 --> Val F1-Score: 0.9492 | Val Bacc: 0.8133 | Val ROC-AUC: 0.8950\n",
      "Scale: 384 --> Val F1-Score: 0.9528 | Val Bacc: 0.8236 | Val ROC-AUC: 0.9158\n",
      "Aggregated Results --> Val F1-Score: 0.9670 | Val Bacc: 0.7997 | Val ROC-AUC: 0.9162\n",
      "\n",
      "best AUC-ROC Score at epoch 15: 0.9345\n",
      "\n",
      "-------- Epoch 19/30 --------\n"
     ]
    },
    {
     "name": "stderr",
     "output_type": "stream",
     "text": [
      "[019/030 epoch train]: 100%|██████████| 1600/1600 [02:02<00:00, 13.10it/s, lr=[1.5746546116502143e-05], loss=0.5609, CUDA-Mem=0%, CUDA-Util=0%]\n",
      "[019/030 epoch valid]: 100%|██████████| 400/400 [00:07<00:00, 52.46it/s, loss=5.2021, CUDA-Mem=0%, CUDA-Util=0%]\n"
     ]
    },
    {
     "name": "stdout",
     "output_type": "stream",
     "text": [
      "\n",
      "Train Loss: 0.5609\n",
      "Scale: 128 --> Train F1-Score: 0.9622 | Train Bacc: 0.9630 | Train ROC-AUC: 0.9908\n",
      "Scale: 256 --> Train F1-Score: 0.9705 | Train Bacc: 0.9733 | Train ROC-AUC: 0.9925\n",
      "Scale: 384 --> Train F1-Score: 0.9737 | Train Bacc: 0.9703 | Train ROC-AUC: 0.9937\n",
      "Aggregated Results --> Train F1-Score: 0.9879 | Train Bacc: 0.9912 | Train ROC-AUC: 0.9988\n",
      "\n",
      "Val Loss: 5.2021\n",
      "Scale: 128 --> Val F1-Score: 0.9394 | Val Bacc: 0.8335 | Val ROC-AUC: 0.9152\n",
      "Scale: 256 --> Val F1-Score: 0.9554 | Val Bacc: 0.7902 | Val ROC-AUC: 0.8820\n",
      "Scale: 384 --> Val F1-Score: 0.9496 | Val Bacc: 0.8066 | Val ROC-AUC: 0.9053\n",
      "Aggregated Results --> Val F1-Score: 0.9723 | Val Bacc: 0.7967 | Val ROC-AUC: 0.8963\n",
      "\n",
      "best AUC-ROC Score at epoch 15: 0.9345\n",
      "\n",
      "-------- Epoch 20/30 --------\n"
     ]
    },
    {
     "name": "stderr",
     "output_type": "stream",
     "text": [
      "[020/030 epoch train]: 100%|██████████| 1600/1600 [02:02<00:00, 13.04it/s, lr=[1.3289788982505247e-05], loss=0.5487, CUDA-Mem=0%, CUDA-Util=0%]\n",
      "[020/030 epoch valid]: 100%|██████████| 400/400 [00:07<00:00, 51.40it/s, loss=5.8885, CUDA-Mem=0%, CUDA-Util=0%]\n"
     ]
    },
    {
     "name": "stdout",
     "output_type": "stream",
     "text": [
      "\n",
      "Train Loss: 0.5487\n",
      "Scale: 128 --> Train F1-Score: 0.9609 | Train Bacc: 0.9584 | Train ROC-AUC: 0.9903\n",
      "Scale: 256 --> Train F1-Score: 0.9730 | Train Bacc: 0.9733 | Train ROC-AUC: 0.9935\n",
      "Scale: 384 --> Train F1-Score: 0.9710 | Train Bacc: 0.9682 | Train ROC-AUC: 0.9943\n",
      "Aggregated Results --> Train F1-Score: 0.9889 | Train Bacc: 0.9900 | Train ROC-AUC: 0.9988\n",
      "\n",
      "Val Loss: 5.8885\n",
      "Scale: 128 --> Val F1-Score: 0.9570 | Val Bacc: 0.8271 | Val ROC-AUC: 0.9216\n",
      "Scale: 256 --> Val F1-Score: 0.9591 | Val Bacc: 0.8004 | Val ROC-AUC: 0.8921\n",
      "Scale: 384 --> Val F1-Score: 0.9617 | Val Bacc: 0.7812 | Val ROC-AUC: 0.8968\n",
      "Aggregated Results --> Val F1-Score: 0.9750 | Val Bacc: 0.7703 | Val ROC-AUC: 0.8825\n",
      "\n",
      "best AUC-ROC Score at epoch 15: 0.9345\n",
      "\n",
      "-------- Epoch 21/30 --------\n"
     ]
    },
    {
     "name": "stderr",
     "output_type": "stream",
     "text": [
      "[021/030 epoch train]: 100%|██████████| 1600/1600 [01:55<00:00, 13.82it/s, lr=[1.0970323365940443e-05], loss=0.4373, CUDA-Mem=0%, CUDA-Util=0%]\n",
      "[021/030 epoch valid]: 100%|██████████| 400/400 [00:07<00:00, 53.69it/s, loss=6.3086, CUDA-Mem=0%, CUDA-Util=0%]\n"
     ]
    },
    {
     "name": "stdout",
     "output_type": "stream",
     "text": [
      "\n",
      "Train Loss: 0.4373\n",
      "Scale: 128 --> Train F1-Score: 0.9683 | Train Bacc: 0.9715 | Train ROC-AUC: 0.9931\n",
      "Scale: 256 --> Train F1-Score: 0.9766 | Train Bacc: 0.9779 | Train ROC-AUC: 0.9945\n",
      "Scale: 384 --> Train F1-Score: 0.9789 | Train Bacc: 0.9850 | Train ROC-AUC: 0.9960\n",
      "Aggregated Results --> Train F1-Score: 0.9903 | Train Bacc: 0.9927 | Train ROC-AUC: 0.9992\n",
      "\n",
      "Val Loss: 6.3086\n",
      "Scale: 128 --> Val F1-Score: 0.9562 | Val Bacc: 0.8122 | Val ROC-AUC: 0.9187\n",
      "Scale: 256 --> Val F1-Score: 0.9634 | Val Bacc: 0.7826 | Val ROC-AUC: 0.8826\n",
      "Scale: 384 --> Val F1-Score: 0.9654 | Val Bacc: 0.7842 | Val ROC-AUC: 0.8959\n",
      "Aggregated Results --> Val F1-Score: 0.9764 | Val Bacc: 0.7642 | Val ROC-AUC: 0.8652\n",
      "\n",
      "best AUC-ROC Score at epoch 15: 0.9345\n",
      "\n",
      "-------- Epoch 22/30 --------\n"
     ]
    },
    {
     "name": "stderr",
     "output_type": "stream",
     "text": [
      "[022/030 epoch train]: 100%|██████████| 1600/1600 [02:01<00:00, 13.21it/s, lr=[8.815342880454311e-06], loss=0.3658, CUDA-Mem=0%, CUDA-Util=0%]\n",
      "[022/030 epoch valid]: 100%|██████████| 400/400 [00:07<00:00, 51.67it/s, loss=6.6868, CUDA-Mem=0%, CUDA-Util=0%]\n"
     ]
    },
    {
     "name": "stdout",
     "output_type": "stream",
     "text": [
      "\n",
      "Train Loss: 0.3658\n",
      "Scale: 128 --> Train F1-Score: 0.9718 | Train Bacc: 0.9797 | Train ROC-AUC: 0.9942\n",
      "Scale: 256 --> Train F1-Score: 0.9799 | Train Bacc: 0.9839 | Train ROC-AUC: 0.9958\n",
      "Scale: 384 --> Train F1-Score: 0.9810 | Train Bacc: 0.9829 | Train ROC-AUC: 0.9968\n",
      "Aggregated Results --> Train F1-Score: 0.9924 | Train Bacc: 0.9940 | Train ROC-AUC: 0.9994\n",
      "\n",
      "Val Loss: 6.6868\n",
      "Scale: 128 --> Val F1-Score: 0.9651 | Val Bacc: 0.8124 | Val ROC-AUC: 0.9186\n",
      "Scale: 256 --> Val F1-Score: 0.9669 | Val Bacc: 0.7783 | Val ROC-AUC: 0.8752\n",
      "Scale: 384 --> Val F1-Score: 0.9652 | Val Bacc: 0.7983 | Val ROC-AUC: 0.8970\n",
      "Aggregated Results --> Val F1-Score: 0.9786 | Val Bacc: 0.7586 | Val ROC-AUC: 0.8551\n",
      "\n",
      "best AUC-ROC Score at epoch 15: 0.9345\n",
      "\n",
      "-------- Epoch 23/30 --------\n"
     ]
    },
    {
     "name": "stderr",
     "output_type": "stream",
     "text": [
      "[023/030 epoch train]: 100%|██████████| 1600/1600 [01:59<00:00, 13.37it/s, lr=[6.850112701921736e-06], loss=0.3241, CUDA-Mem=0%, CUDA-Util=0%] \n",
      "[023/030 epoch valid]: 100%|██████████| 400/400 [00:07<00:00, 53.48it/s, loss=7.0505, CUDA-Mem=0%, CUDA-Util=0%]\n"
     ]
    },
    {
     "name": "stdout",
     "output_type": "stream",
     "text": [
      "\n",
      "Train Loss: 0.3241\n",
      "Scale: 128 --> Train F1-Score: 0.9764 | Train Bacc: 0.9831 | Train ROC-AUC: 0.9954\n",
      "Scale: 256 --> Train F1-Score: 0.9826 | Train Bacc: 0.9840 | Train ROC-AUC: 0.9964\n",
      "Scale: 384 --> Train F1-Score: 0.9825 | Train Bacc: 0.9875 | Train ROC-AUC: 0.9972\n",
      "Aggregated Results --> Train F1-Score: 0.9942 | Train Bacc: 0.9968 | Train ROC-AUC: 0.9996\n",
      "\n",
      "Val Loss: 7.0505\n",
      "Scale: 128 --> Val F1-Score: 0.9659 | Val Bacc: 0.8130 | Val ROC-AUC: 0.9202\n",
      "Scale: 256 --> Val F1-Score: 0.9694 | Val Bacc: 0.7732 | Val ROC-AUC: 0.8783\n",
      "Scale: 384 --> Val F1-Score: 0.9680 | Val Bacc: 0.7863 | Val ROC-AUC: 0.8999\n",
      "Aggregated Results --> Val F1-Score: 0.9786 | Val Bacc: 0.7586 | Val ROC-AUC: 0.8623\n",
      "\n",
      "best AUC-ROC Score at epoch 15: 0.9345\n",
      "\n",
      "-------- Epoch 24/30 --------\n"
     ]
    },
    {
     "name": "stderr",
     "output_type": "stream",
     "text": [
      "[024/030 epoch train]: 100%|██████████| 1600/1600 [02:00<00:00, 13.33it/s, lr=[5.097673357358906e-06], loss=0.3033, CUDA-Mem=0%, CUDA-Util=0%] \n",
      "[024/030 epoch valid]: 100%|██████████| 400/400 [00:07<00:00, 52.55it/s, loss=7.5318, CUDA-Mem=0%, CUDA-Util=0%]\n"
     ]
    },
    {
     "name": "stdout",
     "output_type": "stream",
     "text": [
      "\n",
      "Train Loss: 0.3033\n",
      "Scale: 128 --> Train F1-Score: 0.9765 | Train Bacc: 0.9814 | Train ROC-AUC: 0.9955\n",
      "Scale: 256 --> Train F1-Score: 0.9842 | Train Bacc: 0.9851 | Train ROC-AUC: 0.9968\n",
      "Scale: 384 --> Train F1-Score: 0.9866 | Train Bacc: 0.9921 | Train ROC-AUC: 0.9978\n",
      "Aggregated Results --> Train F1-Score: 0.9944 | Train Bacc: 0.9969 | Train ROC-AUC: 0.9996\n",
      "\n",
      "Val Loss: 7.5318\n",
      "Scale: 128 --> Val F1-Score: 0.9641 | Val Bacc: 0.8116 | Val ROC-AUC: 0.9205\n",
      "Scale: 256 --> Val F1-Score: 0.9712 | Val Bacc: 0.7391 | Val ROC-AUC: 0.8687\n",
      "Scale: 384 --> Val F1-Score: 0.9735 | Val Bacc: 0.7692 | Val ROC-AUC: 0.8931\n",
      "Aggregated Results --> Val F1-Score: 0.9808 | Val Bacc: 0.7530 | Val ROC-AUC: 0.8465\n",
      "\n",
      "best AUC-ROC Score at epoch 15: 0.9345\n",
      "\n",
      "-------- Epoch 25/30 --------\n"
     ]
    },
    {
     "name": "stderr",
     "output_type": "stream",
     "text": [
      "[025/030 epoch train]: 100%|██████████| 1600/1600 [01:52<00:00, 14.27it/s, lr=[3.578570595810273e-06], loss=0.2661, CUDA-Mem=0%, CUDA-Util=0%] \n",
      "[025/030 epoch valid]: 100%|██████████| 400/400 [00:07<00:00, 51.37it/s, loss=7.2860, CUDA-Mem=0%, CUDA-Util=0%]\n"
     ]
    },
    {
     "name": "stdout",
     "output_type": "stream",
     "text": [
      "\n",
      "Train Loss: 0.2661\n",
      "Scale: 128 --> Train F1-Score: 0.9810 | Train Bacc: 0.9883 | Train ROC-AUC: 0.9965\n",
      "Scale: 256 --> Train F1-Score: 0.9841 | Train Bacc: 0.9850 | Train ROC-AUC: 0.9971\n",
      "Scale: 384 --> Train F1-Score: 0.9887 | Train Bacc: 0.9935 | Train ROC-AUC: 0.9981\n",
      "Aggregated Results --> Train F1-Score: 0.9962 | Train Bacc: 0.9980 | Train ROC-AUC: 0.9997\n",
      "\n",
      "Val Loss: 7.2860\n",
      "Scale: 128 --> Val F1-Score: 0.9629 | Val Bacc: 0.8106 | Val ROC-AUC: 0.9193\n",
      "Scale: 256 --> Val F1-Score: 0.9705 | Val Bacc: 0.7670 | Val ROC-AUC: 0.8736\n",
      "Scale: 384 --> Val F1-Score: 0.9712 | Val Bacc: 0.7817 | Val ROC-AUC: 0.8984\n",
      "Aggregated Results --> Val F1-Score: 0.9801 | Val Bacc: 0.7668 | Val ROC-AUC: 0.8532\n",
      "\n",
      "best AUC-ROC Score at epoch 15: 0.9345\n",
      "\n",
      "-------- Epoch 26/30 --------\n"
     ]
    },
    {
     "name": "stderr",
     "output_type": "stream",
     "text": [
      "[026/030 epoch train]: 100%|██████████| 1600/1600 [01:55<00:00, 13.91it/s, lr=[2.310614508226077e-06], loss=0.2261, CUDA-Mem=0%, CUDA-Util=0%] \n",
      "[026/030 epoch valid]: 100%|██████████| 400/400 [00:07<00:00, 51.43it/s, loss=7.5952, CUDA-Mem=0%, CUDA-Util=0%]\n"
     ]
    },
    {
     "name": "stdout",
     "output_type": "stream",
     "text": [
      "\n",
      "Train Loss: 0.2261\n",
      "Scale: 128 --> Train F1-Score: 0.9812 | Train Bacc: 0.9885 | Train ROC-AUC: 0.9966\n",
      "Scale: 256 --> Train F1-Score: 0.9869 | Train Bacc: 0.9887 | Train ROC-AUC: 0.9978\n",
      "Scale: 384 --> Train F1-Score: 0.9901 | Train Bacc: 0.9944 | Train ROC-AUC: 0.9983\n",
      "Aggregated Results --> Train F1-Score: 0.9969 | Train Bacc: 0.9984 | Train ROC-AUC: 0.9998\n",
      "\n",
      "Val Loss: 7.5952\n",
      "Scale: 128 --> Val F1-Score: 0.9679 | Val Bacc: 0.8146 | Val ROC-AUC: 0.9185\n",
      "Scale: 256 --> Val F1-Score: 0.9718 | Val Bacc: 0.7679 | Val ROC-AUC: 0.8691\n",
      "Scale: 384 --> Val F1-Score: 0.9722 | Val Bacc: 0.7825 | Val ROC-AUC: 0.8939\n",
      "Aggregated Results --> Val F1-Score: 0.9800 | Val Bacc: 0.7596 | Val ROC-AUC: 0.8472\n",
      "\n",
      "best AUC-ROC Score at epoch 15: 0.9345\n",
      "\n",
      "-------- Epoch 27/30 --------\n"
     ]
    },
    {
     "name": "stderr",
     "output_type": "stream",
     "text": [
      "[027/030 epoch train]: 100%|██████████| 1600/1600 [02:00<00:00, 13.28it/s, lr=[1.308670720429941e-06], loss=0.2075, CUDA-Mem=0%, CUDA-Util=0%] \n",
      "[027/030 epoch valid]: 100%|██████████| 400/400 [00:07<00:00, 51.99it/s, loss=7.7334, CUDA-Mem=0%, CUDA-Util=0%] \n"
     ]
    },
    {
     "name": "stdout",
     "output_type": "stream",
     "text": [
      "\n",
      "Train Loss: 0.2075\n",
      "Scale: 128 --> Train F1-Score: 0.9825 | Train Bacc: 0.9894 | Train ROC-AUC: 0.9969\n",
      "Scale: 256 --> Train F1-Score: 0.9876 | Train Bacc: 0.9910 | Train ROC-AUC: 0.9980\n",
      "Scale: 384 --> Train F1-Score: 0.9911 | Train Bacc: 0.9950 | Train ROC-AUC: 0.9986\n",
      "Aggregated Results --> Train F1-Score: 0.9973 | Train Bacc: 0.9986 | Train ROC-AUC: 0.9997\n",
      "\n",
      "Val Loss: 7.7334\n",
      "Scale: 128 --> Val F1-Score: 0.9707 | Val Bacc: 0.8026 | Val ROC-AUC: 0.9181\n",
      "Scale: 256 --> Val F1-Score: 0.9711 | Val Bacc: 0.7745 | Val ROC-AUC: 0.8682\n",
      "Scale: 384 --> Val F1-Score: 0.9716 | Val Bacc: 0.7678 | Val ROC-AUC: 0.8967\n",
      "Aggregated Results --> Val F1-Score: 0.9808 | Val Bacc: 0.7530 | Val ROC-AUC: 0.8442\n",
      "\n",
      "best AUC-ROC Score at epoch 15: 0.9345\n",
      "\n",
      "-------- Epoch 28/30 --------\n"
     ]
    },
    {
     "name": "stderr",
     "output_type": "stream",
     "text": [
      "[028/030 epoch train]: 100%|██████████| 1600/1600 [01:59<00:00, 13.38it/s, lr=[5.84486107247834e-07], loss=0.1970, CUDA-Mem=0%, CUDA-Util=0%] \n",
      "[028/030 epoch valid]: 100%|██████████| 400/400 [00:07<00:00, 54.14it/s, loss=7.9486, CUDA-Mem=0%, CUDA-Util=0%] \n"
     ]
    },
    {
     "name": "stdout",
     "output_type": "stream",
     "text": [
      "\n",
      "Train Loss: 0.1970\n",
      "Scale: 128 --> Train F1-Score: 0.9842 | Train Bacc: 0.9905 | Train ROC-AUC: 0.9971\n",
      "Scale: 256 --> Train F1-Score: 0.9880 | Train Bacc: 0.9912 | Train ROC-AUC: 0.9981\n",
      "Scale: 384 --> Train F1-Score: 0.9920 | Train Bacc: 0.9955 | Train ROC-AUC: 0.9987\n",
      "Aggregated Results --> Train F1-Score: 0.9976 | Train Bacc: 0.9988 | Train ROC-AUC: 0.9998\n",
      "\n",
      "Val Loss: 7.9486\n",
      "Scale: 128 --> Val F1-Score: 0.9717 | Val Bacc: 0.8104 | Val ROC-AUC: 0.9181\n",
      "Scale: 256 --> Val F1-Score: 0.9734 | Val Bacc: 0.7762 | Val ROC-AUC: 0.8672\n",
      "Scale: 384 --> Val F1-Score: 0.9728 | Val Bacc: 0.7545 | Val ROC-AUC: 0.8917\n",
      "Aggregated Results --> Val F1-Score: 0.9816 | Val Bacc: 0.7535 | Val ROC-AUC: 0.8390\n",
      "\n",
      "best AUC-ROC Score at epoch 15: 0.9345\n",
      "\n",
      "-------- Epoch 29/30 --------\n"
     ]
    },
    {
     "name": "stderr",
     "output_type": "stream",
     "text": [
      "[029/030 epoch train]: 100%|██████████| 1600/1600 [02:05<00:00, 12.76it/s, lr=[1.4655107114101023e-07], loss=0.1890, CUDA-Mem=0%, CUDA-Util=0%]\n",
      "[029/030 epoch valid]: 100%|██████████| 400/400 [00:07<00:00, 53.18it/s, loss=8.0108, CUDA-Mem=0%, CUDA-Util=0%] \n"
     ]
    },
    {
     "name": "stdout",
     "output_type": "stream",
     "text": [
      "\n",
      "Train Loss: 0.1890\n",
      "Scale: 128 --> Train F1-Score: 0.9855 | Train Bacc: 0.9914 | Train ROC-AUC: 0.9972\n",
      "Scale: 256 --> Train F1-Score: 0.9888 | Train Bacc: 0.9917 | Train ROC-AUC: 0.9982\n",
      "Scale: 384 --> Train F1-Score: 0.9925 | Train Bacc: 0.9959 | Train ROC-AUC: 0.9988\n",
      "Aggregated Results --> Train F1-Score: 0.9979 | Train Bacc: 0.9989 | Train ROC-AUC: 0.9998\n",
      "\n",
      "Val Loss: 8.0108\n",
      "Scale: 128 --> Val F1-Score: 0.9718 | Val Bacc: 0.8034 | Val ROC-AUC: 0.9179\n",
      "Scale: 256 --> Val F1-Score: 0.9738 | Val Bacc: 0.7765 | Val ROC-AUC: 0.8671\n",
      "Scale: 384 --> Val F1-Score: 0.9728 | Val Bacc: 0.7545 | Val ROC-AUC: 0.8906\n",
      "Aggregated Results --> Val F1-Score: 0.9816 | Val Bacc: 0.7535 | Val ROC-AUC: 0.8380\n",
      "\n",
      "best AUC-ROC Score at epoch 15: 0.9345\n",
      "\n",
      "-------- Epoch 30/30 --------\n"
     ]
    },
    {
     "name": "stderr",
     "output_type": "stream",
     "text": [
      "[030/030 epoch train]: 100%|██████████| 1600/1600 [02:00<00:00, 13.30it/s, lr=[1.874699728327322e-37], loss=0.1849, CUDA-Mem=0%, CUDA-Util=0%] \n",
      "[030/030 epoch valid]: 100%|██████████| 400/400 [00:07<00:00, 53.19it/s, loss=8.0151, CUDA-Mem=0%, CUDA-Util=0%] \n"
     ]
    },
    {
     "name": "stdout",
     "output_type": "stream",
     "text": [
      "\n",
      "Train Loss: 0.1849\n",
      "Scale: 128 --> Train F1-Score: 0.9852 | Train Bacc: 0.9912 | Train ROC-AUC: 0.9972\n",
      "Scale: 256 --> Train F1-Score: 0.9888 | Train Bacc: 0.9918 | Train ROC-AUC: 0.9983\n",
      "Scale: 384 --> Train F1-Score: 0.9926 | Train Bacc: 0.9959 | Train ROC-AUC: 0.9988\n",
      "Aggregated Results --> Train F1-Score: 0.9979 | Train Bacc: 0.9989 | Train ROC-AUC: 0.9998\n",
      "\n",
      "Val Loss: 8.0151\n",
      "Scale: 128 --> Val F1-Score: 0.9718 | Val Bacc: 0.8034 | Val ROC-AUC: 0.9180\n",
      "Scale: 256 --> Val F1-Score: 0.9740 | Val Bacc: 0.7767 | Val ROC-AUC: 0.8672\n",
      "Scale: 384 --> Val F1-Score: 0.9728 | Val Bacc: 0.7545 | Val ROC-AUC: 0.8907\n",
      "Aggregated Results --> Val F1-Score: 0.9818 | Val Bacc: 0.7537 | Val ROC-AUC: 0.8385\n",
      "\n",
      "best AUC-ROC Score at epoch 15: 0.9345\n"
     ]
    },
    {
     "name": "stderr",
     "output_type": "stream",
     "text": [
      "100%|██████████| 500/500 [00:13<00:00, 36.16it/s, loss=0.8792, CUDA-Mem=0%, CUDA-Util=0%]\n"
     ]
    },
    {
     "name": "stdout",
     "output_type": "stream",
     "text": [
      "\n",
      "Test Loss: 0.8792\n",
      "Scale: 128 --> Test F1-Score: 0.8981 | Test Bacc: 0.8482 | Test ROC-AUC: 0.9022\n",
      "Scale: 256 --> Test F1-Score: 0.9466 | Test Bacc: 0.8157 | Test ROC-AUC: 0.8993\n",
      "Scale: 384 --> Test F1-Score: 0.9439 | Test Bacc: 0.8318 | Test ROC-AUC: 0.8969\n",
      "Aggregated Results --> Test F1-Score: 0.9541 | Test Bacc: 0.8539 | Test ROC-AUC: 0.9127\n",
      "---------------finished running code-------------------\n"
     ]
    },
    {
     "data": {
      "text/plain": [
       "<Figure size 640x480 with 0 Axes>"
      ]
     },
     "metadata": {},
     "output_type": "display_data"
    },
    {
     "data": {
      "text/plain": [
       "<Figure size 2000x800 with 0 Axes>"
      ]
     },
     "metadata": {},
     "output_type": "display_data"
    },
    {
     "data": {
      "text/plain": [
       "<Figure size 1000x800 with 0 Axes>"
      ]
     },
     "metadata": {},
     "output_type": "display_data"
    },
    {
     "data": {
      "text/plain": [
       "<Figure size 640x480 with 0 Axes>"
      ]
     },
     "metadata": {},
     "output_type": "display_data"
    },
    {
     "data": {
      "text/plain": [
       "<Figure size 640x480 with 0 Axes>"
      ]
     },
     "metadata": {},
     "output_type": "display_data"
    }
   ],
   "source": [
    "%run foundational_models/Mammo-CLIP-main/Mammo-CLIP-main/src3-Copy1/codebase/main.py \\\n",
    "  --clip_chk_pt_path \"foundational_models/Mammo-CLIP-main/Mammo-CLIP-main/b2-model-best-epoch-10.tar\" \\\n",
    "  --dataset 'ViNDr' \\\n",
    "  --label \"Suspicious_Calcification\" \\\n",
    "  --train --epochs 30 --batch-size 8 \\\n",
    "  --num-workers 4 \\\n",
    "  --running-interactive 'n' \\\n",
    "  --eval_scheme 'kruns_train+val+test' --n_runs 1 \\\n",
    "  --lr 5.0e-5 \\\n",
    "  --weighted-BCE 'y' \\\n",
    "  --balanced-dataloader 'n' \\\n",
    "  --mil_type 'pyramidal_mil' \\\n",
    "  --pooling_type 'pma' \\\n",
    "  --fcl_encoder_dim 256 \\\n",
    "  --fcl_dropout 0.25 \\\n",
    "  --drop_attention_pool 0.25 \\\n",
    "  --multi_scale_model 'msp' \\\n",
    "  --type_mil_encoder 'isab' \\\n",
    "  --trans_layer_norm True \\\n",
    "  --type_scale_aggregator 'gated-attention' \\\n",
    "  --deep_supervision --scales 128 256 384 \n",
    "\n",
    "print('---------------finished running code-------------------')"
   ]
  },
  {
   "cell_type": "markdown",
   "id": "934cadfb-e8be-46ad-b23b-9478ee663dd4",
   "metadata": {},
   "source": [
    "## Effect of Different Multi-scale Aggregators"
   ]
  },
  {
   "cell_type": "markdown",
   "id": "51a759d0-d6ca-4566-944f-bb9895aa47f4",
   "metadata": {},
   "source": [
    "### w/o "
   ]
  },
  {
   "cell_type": "code",
   "execution_count": 1,
   "id": "bb760b84-898e-4371-9b44-c0c7e5eabb41",
   "metadata": {
    "scrolled": true
   },
   "outputs": [
    {
     "name": "stderr",
     "output_type": "stream",
     "text": [
      "/home/csantiago/.local/lib/python3.10/site-packages/albumentations/__init__.py:13: UserWarning: A new version of Albumentations is available: 2.0.8 (you have 1.4.18). Upgrade using: pip install -U albumentations. To disable automatic update checks, set the environment variable NO_ALBUMENTATIONS_UPDATE to 1.\n",
      "  check_for_updates()\n"
     ]
    },
    {
     "name": "stdout",
     "output_type": "stream",
     "text": [
      "\n",
      "torch.cuda.current_device(): 0\n",
      "\n",
      "Using device: cuda\n",
      "output_path: Mammo-CLIP-output/out_splits_new/MIL_experiments/ViNDr_data_frac_1.0/Suspicious_Calcification/offline_feature_extraction/multi_scale/fpn-deep_supervision/scale_aggregator_mean_p/isab-dim_256-nblocks_2-nheads_4-dropout_0.0-layer_norm-softmax/pooling_pma-dropout_0.0-layer_norm-softmax/2025-06-24\n",
      "df shape: (20000, 16)\n",
      "Index(['image_id', 'patient_id', 'laterality', 'view', 'finding_categories',\n",
      "       'finding_birads', 'breast_birads', 'breast_density', 'split', 'fold',\n",
      "       'Mass', 'Suspicious_Calcification', 'resized_xmin', 'resized_ymin',\n",
      "       'resized_xmax', 'resized_ymax'],\n",
      "      dtype='object')\n",
      "\n",
      "================== run nº: 0 ======================\n",
      "train_loader: 1600, valid_loader: 400\n",
      "Model is loaded\n",
      "PyramidalMILmodel(\n",
      "  (inst_encoder): FeaturePyramidNetwork(\n",
      "    (inner_blocks): ModuleDict(\n",
      "      (inner_block_0): Sequential(\n",
      "        (0): Conv2d(120, 256, kernel_size=(1, 1), stride=(1, 1))\n",
      "        (1): Identity()\n",
      "      )\n",
      "      (inner_block_1): Sequential(\n",
      "        (0): Conv2d(352, 256, kernel_size=(1, 1), stride=(1, 1))\n",
      "        (1): Identity()\n",
      "      )\n",
      "    )\n",
      "    (layer_blocks): ModuleDict(\n",
      "      (layer_block_0): Sequential(\n",
      "        (0): Conv2d(256, 256, kernel_size=(3, 3), stride=(1, 1), padding=(1, 1))\n",
      "        (1): Identity()\n",
      "      )\n",
      "      (layer_block_1): Sequential(\n",
      "        (0): Conv2d(256, 256, kernel_size=(3, 3), stride=(1, 1), padding=(1, 1))\n",
      "        (1): Identity()\n",
      "      )\n",
      "    )\n",
      "  )\n",
      "  (side_inst_aggregator): ModuleDict(\n",
      "    (encoders): ModuleDict(\n",
      "      (encoder_16): ModuleList(\n",
      "        (0-1): 2 x InducedSetAttentionBlock(256, d_hidden = 256, num_induced_points=38, heads=4, layer_norm=True, activation=softmax)\n",
      "      )\n",
      "      (encoder_32): ModuleList(\n",
      "        (0-1): 2 x InducedSetAttentionBlock(256, d_hidden = 256, num_induced_points=32, heads=4, layer_norm=True, activation=softmax)\n",
      "      )\n",
      "      (encoder_128): ModuleList(\n",
      "        (0-1): 2 x InducedSetAttentionBlock(256, d_hidden = 256, num_induced_points=20, heads=4, layer_norm=True, activation=softmax)\n",
      "      )\n",
      "    )\n",
      "    (aggregators): ModuleDict(\n",
      "      (aggregator_16): PoolingByMultiheadAttention(256, num_seed_points=1, heads=1, layer_norm=True, activation=softmax)\n",
      "      (aggregator_32): PoolingByMultiheadAttention(256, num_seed_points=1, heads=1, layer_norm=True, activation=softmax)\n",
      "      (aggregator_128): PoolingByMultiheadAttention(256, num_seed_points=1, heads=1, layer_norm=True, activation=softmax)\n",
      "    )\n",
      "  )\n",
      "  (side_classifiers): ModuleDict(\n",
      "    (classifier_16): head(\n",
      "      (drop): Dropout(p=0.0, inplace=True)\n",
      "      (head_classifier): Linear(in_features=256, out_features=1, bias=True)\n",
      "    )\n",
      "    (classifier_32): head(\n",
      "      (drop): Dropout(p=0.0, inplace=True)\n",
      "      (head_classifier): Linear(in_features=256, out_features=1, bias=True)\n",
      "    )\n",
      "    (classifier_128): head(\n",
      "      (drop): Dropout(p=0.0, inplace=True)\n",
      "      (head_classifier): Linear(in_features=256, out_features=1, bias=True)\n",
      "    )\n",
      "  )\n",
      ")\n",
      "\n",
      "Total number of parameters: 5.312003 M\n",
      "Total number of trainable parameters: 5.312003 M\n",
      "pos_wt: tensor([37.2967], device='cuda:0')\n",
      "\n",
      "-------- Epoch 1/30 --------\n"
     ]
    },
    {
     "name": "stderr",
     "output_type": "stream",
     "text": [
      "[001/030 epoch train]: 100%|██████████| 1600/1600 [03:42<00:00,  7.20it/s, lr=[5e-05], loss=3.3891, CUDA-Mem=0%, CUDA-Util=0%]                 \n",
      "[001/030 epoch valid]: 100%|██████████| 400/400 [00:44<00:00,  8.94it/s, loss=2.9260, CUDA-Mem=0%, CUDA-Util=0%]\n"
     ]
    },
    {
     "name": "stdout",
     "output_type": "stream",
     "text": [
      "\n",
      "Train Loss: 3.3891\n",
      "Scale: 16 --> Train F1-Score: 0.8495 | Train Bacc: 0.5987 | Train ROC-AUC: 0.6362\n",
      "Scale: 32 --> Train F1-Score: 0.8666 | Train Bacc: 0.6433 | Train ROC-AUC: 0.7039\n",
      "Scale: 128 --> Train F1-Score: 0.8666 | Train Bacc: 0.6397 | Train ROC-AUC: 0.6942\n",
      "Aggregated Results --> Train F1-Score: 0.8660 | Train Bacc: 0.6301 | Train ROC-AUC: 0.6884\n",
      "\n",
      "Val Loss: 2.9260\n",
      "Scale: 16 --> Val F1-Score: 0.9518 | Val Bacc: 0.6522 | Val ROC-AUC: 0.8316\n",
      "Scale: 32 --> Val F1-Score: 0.9494 | Val Bacc: 0.7139 | Val ROC-AUC: 0.8619\n",
      "Scale: 128 --> Val F1-Score: 0.9487 | Val Bacc: 0.6850 | Val ROC-AUC: 0.8454\n",
      "Aggregated Results --> Val F1-Score: 0.9494 | Val Bacc: 0.6927 | Val ROC-AUC: 0.8519\n",
      "\n",
      "Epoch 1 - Save aucroc: 0.8519 Model\n",
      "\n",
      "best AUC-ROC Score at epoch 1: 0.8519\n",
      "\n",
      "-------- Epoch 2/30 --------\n"
     ]
    },
    {
     "name": "stderr",
     "output_type": "stream",
     "text": [
      "[002/030 epoch train]: 100%|██████████| 1600/1600 [03:46<00:00,  7.05it/s, lr=[4.9853448928858984e-05], loss=2.6263, CUDA-Mem=0%, CUDA-Util=0%]\n",
      "[002/030 epoch valid]: 100%|██████████| 400/400 [00:44<00:00,  8.93it/s, loss=2.0428, CUDA-Mem=0%, CUDA-Util=0%]\n"
     ]
    },
    {
     "name": "stdout",
     "output_type": "stream",
     "text": [
      "\n",
      "Train Loss: 2.6263\n",
      "Scale: 16 --> Train F1-Score: 0.8948 | Train Bacc: 0.7720 | Train ROC-AUC: 0.8382\n",
      "Scale: 32 --> Train F1-Score: 0.9023 | Train Bacc: 0.7910 | Train ROC-AUC: 0.8434\n",
      "Scale: 128 --> Train F1-Score: 0.9076 | Train Bacc: 0.7611 | Train ROC-AUC: 0.8122\n",
      "Aggregated Results --> Train F1-Score: 0.9050 | Train Bacc: 0.7879 | Train ROC-AUC: 0.8483\n",
      "\n",
      "Val Loss: 2.0428\n",
      "Scale: 16 --> Val F1-Score: 0.9294 | Val Bacc: 0.8677 | Val ROC-AUC: 0.9205\n",
      "Scale: 32 --> Val F1-Score: 0.9019 | Val Bacc: 0.8801 | Val ROC-AUC: 0.9331\n",
      "Scale: 128 --> Val F1-Score: 0.8321 | Val Bacc: 0.8314 | Val ROC-AUC: 0.9033\n",
      "Aggregated Results --> Val F1-Score: 0.9063 | Val Bacc: 0.8623 | Val ROC-AUC: 0.9337\n",
      "\n",
      "Epoch 2 - Save aucroc: 0.9337 Model\n",
      "\n",
      "best AUC-ROC Score at epoch 2: 0.9337\n",
      "\n",
      "-------- Epoch 3/30 --------\n"
     ]
    },
    {
     "name": "stderr",
     "output_type": "stream",
     "text": [
      "[003/030 epoch train]:  85%|████████▌ | 1362/1600 [03:08<00:31,  7.62it/s, lr=[4.949894219153493e-05], loss=2.1978, CUDA-Mem=0%, CUDA-Util=0%] IOPub message rate exceeded.\n",
      "The Jupyter server will temporarily stop sending output\n",
      "to the client in order to avoid crashing it.\n",
      "To change this limit, set the config variable\n",
      "`--ServerApp.iopub_msg_rate_limit`.\n",
      "\n",
      "Current values:\n",
      "ServerApp.iopub_msg_rate_limit=1000.0 (msgs/sec)\n",
      "ServerApp.rate_limit_window=3.0 (secs)\n",
      "\n",
      "[013/030 epoch valid]: 100%|██████████| 400/400 [00:44<00:00,  8.92it/s, loss=1.7694, CUDA-Mem=0%, CUDA-Util=0%]\n"
     ]
    },
    {
     "name": "stdout",
     "output_type": "stream",
     "text": [
      "\n",
      "Train Loss: 0.8945\n",
      "Scale: 16 --> Train F1-Score: 0.9625 | Train Bacc: 0.9507 | Train ROC-AUC: 0.9843\n",
      "Scale: 32 --> Train F1-Score: 0.9517 | Train Bacc: 0.9309 | Train ROC-AUC: 0.9752\n",
      "Scale: 128 --> Train F1-Score: 0.9468 | Train Bacc: 0.9412 | Train ROC-AUC: 0.9797\n",
      "Aggregated Results --> Train F1-Score: 0.9622 | Train Bacc: 0.9558 | Train ROC-AUC: 0.9878\n",
      "\n",
      "Val Loss: 1.7694\n",
      "Scale: 16 --> Val F1-Score: 0.9536 | Val Bacc: 0.8741 | Val ROC-AUC: 0.9480\n",
      "Scale: 32 --> Val F1-Score: 0.9541 | Val Bacc: 0.8888 | Val ROC-AUC: 0.9462\n",
      "Scale: 128 --> Val F1-Score: 0.9501 | Val Bacc: 0.8782 | Val ROC-AUC: 0.9441\n",
      "Aggregated Results --> Val F1-Score: 0.9578 | Val Bacc: 0.8918 | Val ROC-AUC: 0.9505\n",
      "\n",
      "best AUC-ROC Score at epoch 6: 0.9576\n",
      "\n",
      "-------- Epoch 14/30 --------\n"
     ]
    },
    {
     "name": "stderr",
     "output_type": "stream",
     "text": [
      "[014/030 epoch train]: 100%|██████████| 1600/1600 [03:38<00:00,  7.32it/s, lr=[2.904454991381912e-05], loss=0.8168, CUDA-Mem=0%, CUDA-Util=0%] \n",
      "[014/030 epoch valid]: 100%|██████████| 400/400 [00:44<00:00,  8.92it/s, loss=1.7258, CUDA-Mem=0%, CUDA-Util=0%]\n"
     ]
    },
    {
     "name": "stdout",
     "output_type": "stream",
     "text": [
      "\n",
      "Train Loss: 0.8168\n",
      "Scale: 16 --> Train F1-Score: 0.9651 | Train Bacc: 0.9617 | Train ROC-AUC: 0.9858\n",
      "Scale: 32 --> Train F1-Score: 0.9519 | Train Bacc: 0.9347 | Train ROC-AUC: 0.9799\n",
      "Scale: 128 --> Train F1-Score: 0.9513 | Train Bacc: 0.9432 | Train ROC-AUC: 0.9816\n",
      "Aggregated Results --> Train F1-Score: 0.9633 | Train Bacc: 0.9603 | Train ROC-AUC: 0.9897\n",
      "\n",
      "Val Loss: 1.7258\n",
      "Scale: 16 --> Val F1-Score: 0.9483 | Val Bacc: 0.9053 | Val ROC-AUC: 0.9508\n",
      "Scale: 32 --> Val F1-Score: 0.9418 | Val Bacc: 0.8712 | Val ROC-AUC: 0.9439\n",
      "Scale: 128 --> Val F1-Score: 0.9212 | Val Bacc: 0.8821 | Val ROC-AUC: 0.9402\n",
      "Aggregated Results --> Val F1-Score: 0.9467 | Val Bacc: 0.8826 | Val ROC-AUC: 0.9517\n",
      "\n",
      "best AUC-ROC Score at epoch 6: 0.9576\n",
      "\n",
      "-------- Epoch 15/30 --------\n"
     ]
    },
    {
     "name": "stderr",
     "output_type": "stream",
     "text": [
      "[015/030 epoch train]: 100%|██████████| 1600/1600 [03:42<00:00,  7.19it/s, lr=[2.635347271463544e-05], loss=0.6766, CUDA-Mem=0%, CUDA-Util=0%] \n",
      "[015/030 epoch valid]: 100%|██████████| 400/400 [00:44<00:00,  8.93it/s, loss=2.4462, CUDA-Mem=0%, CUDA-Util=0%]\n"
     ]
    },
    {
     "name": "stdout",
     "output_type": "stream",
     "text": [
      "\n",
      "Train Loss: 0.6766\n",
      "Scale: 16 --> Train F1-Score: 0.9711 | Train Bacc: 0.9737 | Train ROC-AUC: 0.9890\n",
      "Scale: 32 --> Train F1-Score: 0.9550 | Train Bacc: 0.9481 | Train ROC-AUC: 0.9838\n",
      "Scale: 128 --> Train F1-Score: 0.9560 | Train Bacc: 0.9544 | Train ROC-AUC: 0.9856\n",
      "Aggregated Results --> Train F1-Score: 0.9695 | Train Bacc: 0.9725 | Train ROC-AUC: 0.9921\n",
      "\n",
      "Val Loss: 2.4462\n",
      "Scale: 16 --> Val F1-Score: 0.9647 | Val Bacc: 0.8547 | Val ROC-AUC: 0.9427\n",
      "Scale: 32 --> Val F1-Score: 0.9480 | Val Bacc: 0.8979 | Val ROC-AUC: 0.9392\n",
      "Scale: 128 --> Val F1-Score: 0.9526 | Val Bacc: 0.8661 | Val ROC-AUC: 0.9363\n",
      "Aggregated Results --> Val F1-Score: 0.9616 | Val Bacc: 0.8950 | Val ROC-AUC: 0.9480\n",
      "\n",
      "best AUC-ROC Score at epoch 6: 0.9576\n",
      "\n",
      "-------- Epoch 16/30 --------\n"
     ]
    },
    {
     "name": "stderr",
     "output_type": "stream",
     "text": [
      "[016/030 epoch train]: 100%|██████████| 1600/1600 [03:41<00:00,  7.22it/s, lr=[2.3646527285364565e-05], loss=0.6284, CUDA-Mem=0%, CUDA-Util=0%]\n",
      "[016/030 epoch valid]: 100%|██████████| 400/400 [00:44<00:00,  8.92it/s, loss=2.4663, CUDA-Mem=0%, CUDA-Util=0%]\n"
     ]
    },
    {
     "name": "stdout",
     "output_type": "stream",
     "text": [
      "\n",
      "Train Loss: 0.6284\n",
      "Scale: 16 --> Train F1-Score: 0.9675 | Train Bacc: 0.9709 | Train ROC-AUC: 0.9914\n",
      "Scale: 32 --> Train F1-Score: 0.9525 | Train Bacc: 0.9460 | Train ROC-AUC: 0.9852\n",
      "Scale: 128 --> Train F1-Score: 0.9597 | Train Bacc: 0.9592 | Train ROC-AUC: 0.9886\n",
      "Aggregated Results --> Train F1-Score: 0.9679 | Train Bacc: 0.9749 | Train ROC-AUC: 0.9930\n",
      "\n",
      "Val Loss: 2.4663\n",
      "Scale: 16 --> Val F1-Score: 0.9616 | Val Bacc: 0.8594 | Val ROC-AUC: 0.9304\n",
      "Scale: 32 --> Val F1-Score: 0.9502 | Val Bacc: 0.8926 | Val ROC-AUC: 0.9389\n",
      "Scale: 128 --> Val F1-Score: 0.9612 | Val Bacc: 0.8733 | Val ROC-AUC: 0.9257\n",
      "Aggregated Results --> Val F1-Score: 0.9632 | Val Bacc: 0.8963 | Val ROC-AUC: 0.9435\n",
      "\n",
      "best AUC-ROC Score at epoch 6: 0.9576\n",
      "\n",
      "-------- Epoch 17/30 --------\n"
     ]
    },
    {
     "name": "stderr",
     "output_type": "stream",
     "text": [
      "[017/030 epoch train]: 100%|██████████| 1600/1600 [03:43<00:00,  7.17it/s, lr=[2.0955450086180886e-05], loss=0.4957, CUDA-Mem=0%, CUDA-Util=0%]\n",
      "[017/030 epoch valid]: 100%|██████████| 400/400 [00:44<00:00,  8.94it/s, loss=2.6856, CUDA-Mem=0%, CUDA-Util=0%]\n"
     ]
    },
    {
     "name": "stdout",
     "output_type": "stream",
     "text": [
      "\n",
      "Train Loss: 0.4957\n",
      "Scale: 16 --> Train F1-Score: 0.9754 | Train Bacc: 0.9806 | Train ROC-AUC: 0.9932\n",
      "Scale: 32 --> Train F1-Score: 0.9603 | Train Bacc: 0.9597 | Train ROC-AUC: 0.9885\n",
      "Scale: 128 --> Train F1-Score: 0.9696 | Train Bacc: 0.9708 | Train ROC-AUC: 0.9904\n",
      "Aggregated Results --> Train F1-Score: 0.9742 | Train Bacc: 0.9815 | Train ROC-AUC: 0.9947\n",
      "\n",
      "Val Loss: 2.6856\n",
      "Scale: 16 --> Val F1-Score: 0.9490 | Val Bacc: 0.8702 | Val ROC-AUC: 0.9415\n",
      "Scale: 32 --> Val F1-Score: 0.9575 | Val Bacc: 0.8560 | Val ROC-AUC: 0.9366\n",
      "Scale: 128 --> Val F1-Score: 0.9619 | Val Bacc: 0.8383 | Val ROC-AUC: 0.9193\n",
      "Aggregated Results --> Val F1-Score: 0.9628 | Val Bacc: 0.8603 | Val ROC-AUC: 0.9470\n",
      "\n",
      "best AUC-ROC Score at epoch 6: 0.9576\n",
      "\n",
      "-------- Epoch 18/30 --------\n"
     ]
    },
    {
     "name": "stderr",
     "output_type": "stream",
     "text": [
      "[018/030 epoch train]: 100%|██████████| 1600/1600 [03:42<00:00,  7.20it/s, lr=[1.8311791536769483e-05], loss=0.5136, CUDA-Mem=0%, CUDA-Util=0%]\n",
      "[018/030 epoch valid]: 100%|██████████| 400/400 [00:44<00:00,  8.91it/s, loss=2.7850, CUDA-Mem=0%, CUDA-Util=0%]\n"
     ]
    },
    {
     "name": "stdout",
     "output_type": "stream",
     "text": [
      "\n",
      "Train Loss: 0.5136\n",
      "Scale: 16 --> Train F1-Score: 0.9763 | Train Bacc: 0.9795 | Train ROC-AUC: 0.9920\n",
      "Scale: 32 --> Train F1-Score: 0.9607 | Train Bacc: 0.9618 | Train ROC-AUC: 0.9878\n",
      "Scale: 128 --> Train F1-Score: 0.9704 | Train Bacc: 0.9678 | Train ROC-AUC: 0.9918\n",
      "Aggregated Results --> Train F1-Score: 0.9762 | Train Bacc: 0.9812 | Train ROC-AUC: 0.9954\n",
      "\n",
      "Val Loss: 2.7850\n",
      "Scale: 16 --> Val F1-Score: 0.9608 | Val Bacc: 0.8587 | Val ROC-AUC: 0.9473\n",
      "Scale: 32 --> Val F1-Score: 0.9449 | Val Bacc: 0.8882 | Val ROC-AUC: 0.9304\n",
      "Scale: 128 --> Val F1-Score: 0.9561 | Val Bacc: 0.8477 | Val ROC-AUC: 0.9290\n",
      "Aggregated Results --> Val F1-Score: 0.9590 | Val Bacc: 0.8857 | Val ROC-AUC: 0.9410\n",
      "\n",
      "best AUC-ROC Score at epoch 6: 0.9576\n",
      "\n",
      "-------- Epoch 19/30 --------\n"
     ]
    },
    {
     "name": "stderr",
     "output_type": "stream",
     "text": [
      "[019/030 epoch train]: 100%|██████████| 1600/1600 [03:44<00:00,  7.12it/s, lr=[1.5746546116502143e-05], loss=0.3961, CUDA-Mem=0%, CUDA-Util=0%]\n",
      "[019/030 epoch valid]: 100%|██████████| 400/400 [00:44<00:00,  8.91it/s, loss=3.4119, CUDA-Mem=0%, CUDA-Util=0%]\n"
     ]
    },
    {
     "name": "stdout",
     "output_type": "stream",
     "text": [
      "\n",
      "Train Loss: 0.3961\n",
      "Scale: 16 --> Train F1-Score: 0.9778 | Train Bacc: 0.9842 | Train ROC-AUC: 0.9947\n",
      "Scale: 32 --> Train F1-Score: 0.9692 | Train Bacc: 0.9740 | Train ROC-AUC: 0.9916\n",
      "Scale: 128 --> Train F1-Score: 0.9739 | Train Bacc: 0.9777 | Train ROC-AUC: 0.9940\n",
      "Aggregated Results --> Train F1-Score: 0.9787 | Train Bacc: 0.9866 | Train ROC-AUC: 0.9964\n",
      "\n",
      "Val Loss: 3.4119\n",
      "Scale: 16 --> Val F1-Score: 0.9724 | Val Bacc: 0.8466 | Val ROC-AUC: 0.9320\n",
      "Scale: 32 --> Val F1-Score: 0.9603 | Val Bacc: 0.8440 | Val ROC-AUC: 0.9367\n",
      "Scale: 128 --> Val F1-Score: 0.9694 | Val Bacc: 0.8087 | Val ROC-AUC: 0.9308\n",
      "Aggregated Results --> Val F1-Score: 0.9719 | Val Bacc: 0.8533 | Val ROC-AUC: 0.9510\n",
      "\n",
      "best AUC-ROC Score at epoch 6: 0.9576\n",
      "\n",
      "-------- Epoch 20/30 --------\n"
     ]
    },
    {
     "name": "stderr",
     "output_type": "stream",
     "text": [
      "[020/030 epoch train]: 100%|██████████| 1600/1600 [03:36<00:00,  7.38it/s, lr=[1.3289788982505247e-05], loss=0.3518, CUDA-Mem=0%, CUDA-Util=0%]\n",
      "[020/030 epoch valid]: 100%|██████████| 400/400 [00:44<00:00,  8.94it/s, loss=3.3850, CUDA-Mem=0%, CUDA-Util=0%]\n"
     ]
    },
    {
     "name": "stdout",
     "output_type": "stream",
     "text": [
      "\n",
      "Train Loss: 0.3518\n",
      "Scale: 16 --> Train F1-Score: 0.9838 | Train Bacc: 0.9903 | Train ROC-AUC: 0.9963\n",
      "Scale: 32 --> Train F1-Score: 0.9709 | Train Bacc: 0.9736 | Train ROC-AUC: 0.9915\n",
      "Scale: 128 --> Train F1-Score: 0.9770 | Train Bacc: 0.9836 | Train ROC-AUC: 0.9949\n",
      "Aggregated Results --> Train F1-Score: 0.9820 | Train Bacc: 0.9890 | Train ROC-AUC: 0.9971\n",
      "\n",
      "Val Loss: 3.3850\n",
      "Scale: 16 --> Val F1-Score: 0.9706 | Val Bacc: 0.8523 | Val ROC-AUC: 0.9278\n",
      "Scale: 32 --> Val F1-Score: 0.9327 | Val Bacc: 0.8920 | Val ROC-AUC: 0.9379\n",
      "Scale: 128 --> Val F1-Score: 0.9650 | Val Bacc: 0.8194 | Val ROC-AUC: 0.9313\n",
      "Aggregated Results --> Val F1-Score: 0.9642 | Val Bacc: 0.8686 | Val ROC-AUC: 0.9457\n",
      "\n",
      "best AUC-ROC Score at epoch 6: 0.9576\n",
      "\n",
      "-------- Epoch 21/30 --------\n"
     ]
    },
    {
     "name": "stderr",
     "output_type": "stream",
     "text": [
      "[021/030 epoch train]: 100%|██████████| 1600/1600 [03:42<00:00,  7.18it/s, lr=[1.0970323365940443e-05], loss=0.3365, CUDA-Mem=0%, CUDA-Util=0%]\n",
      "[021/030 epoch valid]: 100%|██████████| 400/400 [00:44<00:00,  8.90it/s, loss=3.8964, CUDA-Mem=0%, CUDA-Util=0%]\n"
     ]
    },
    {
     "name": "stdout",
     "output_type": "stream",
     "text": [
      "\n",
      "Train Loss: 0.3365\n",
      "Scale: 16 --> Train F1-Score: 0.9859 | Train Bacc: 0.9917 | Train ROC-AUC: 0.9968\n",
      "Scale: 32 --> Train F1-Score: 0.9718 | Train Bacc: 0.9761 | Train ROC-AUC: 0.9924\n",
      "Scale: 128 --> Train F1-Score: 0.9810 | Train Bacc: 0.9793 | Train ROC-AUC: 0.9957\n",
      "Aggregated Results --> Train F1-Score: 0.9848 | Train Bacc: 0.9909 | Train ROC-AUC: 0.9976\n",
      "\n",
      "Val Loss: 3.8964\n",
      "Scale: 16 --> Val F1-Score: 0.9738 | Val Bacc: 0.8405 | Val ROC-AUC: 0.9094\n",
      "Scale: 32 --> Val F1-Score: 0.9600 | Val Bacc: 0.8367 | Val ROC-AUC: 0.9211\n",
      "Scale: 128 --> Val F1-Score: 0.9646 | Val Bacc: 0.8191 | Val ROC-AUC: 0.9260\n",
      "Aggregated Results --> Val F1-Score: 0.9715 | Val Bacc: 0.8387 | Val ROC-AUC: 0.9377\n",
      "\n",
      "best AUC-ROC Score at epoch 6: 0.9576\n",
      "\n",
      "-------- Epoch 22/30 --------\n"
     ]
    },
    {
     "name": "stderr",
     "output_type": "stream",
     "text": [
      "[022/030 epoch train]: 100%|██████████| 1600/1600 [03:41<00:00,  7.21it/s, lr=[8.815342880454311e-06], loss=0.2731, CUDA-Mem=0%, CUDA-Util=0%]\n",
      "[022/030 epoch valid]: 100%|██████████| 400/400 [00:44<00:00,  8.91it/s, loss=4.3190, CUDA-Mem=0%, CUDA-Util=0%]\n"
     ]
    },
    {
     "name": "stdout",
     "output_type": "stream",
     "text": [
      "\n",
      "Train Loss: 0.2731\n",
      "Scale: 16 --> Train F1-Score: 0.9872 | Train Bacc: 0.9907 | Train ROC-AUC: 0.9971\n",
      "Scale: 32 --> Train F1-Score: 0.9762 | Train Bacc: 0.9812 | Train ROC-AUC: 0.9942\n",
      "Scale: 128 --> Train F1-Score: 0.9830 | Train Bacc: 0.9861 | Train ROC-AUC: 0.9965\n",
      "Aggregated Results --> Train F1-Score: 0.9866 | Train Bacc: 0.9921 | Train ROC-AUC: 0.9983\n",
      "\n",
      "Val Loss: 4.3190\n",
      "Scale: 16 --> Val F1-Score: 0.9804 | Val Bacc: 0.8381 | Val ROC-AUC: 0.8935\n",
      "Scale: 32 --> Val F1-Score: 0.9644 | Val Bacc: 0.8331 | Val ROC-AUC: 0.9250\n",
      "Scale: 128 --> Val F1-Score: 0.9726 | Val Bacc: 0.7898 | Val ROC-AUC: 0.9230\n",
      "Aggregated Results --> Val F1-Score: 0.9754 | Val Bacc: 0.8203 | Val ROC-AUC: 0.9380\n",
      "\n",
      "best AUC-ROC Score at epoch 6: 0.9576\n",
      "\n",
      "-------- Epoch 23/30 --------\n"
     ]
    },
    {
     "name": "stderr",
     "output_type": "stream",
     "text": [
      "[023/030 epoch train]: 100%|██████████| 1600/1600 [03:41<00:00,  7.22it/s, lr=[6.850112701921736e-06], loss=0.2373, CUDA-Mem=0%, CUDA-Util=0%] \n",
      "[023/030 epoch valid]: 100%|██████████| 400/400 [00:44<00:00,  8.90it/s, loss=4.5509, CUDA-Mem=0%, CUDA-Util=0%]\n"
     ]
    },
    {
     "name": "stdout",
     "output_type": "stream",
     "text": [
      "\n",
      "Train Loss: 0.2373\n",
      "Scale: 16 --> Train F1-Score: 0.9900 | Train Bacc: 0.9943 | Train ROC-AUC: 0.9976\n",
      "Scale: 32 --> Train F1-Score: 0.9790 | Train Bacc: 0.9851 | Train ROC-AUC: 0.9947\n",
      "Scale: 128 --> Train F1-Score: 0.9870 | Train Bacc: 0.9888 | Train ROC-AUC: 0.9971\n",
      "Aggregated Results --> Train F1-Score: 0.9880 | Train Bacc: 0.9930 | Train ROC-AUC: 0.9986\n",
      "\n",
      "Val Loss: 4.5509\n",
      "Scale: 16 --> Val F1-Score: 0.9800 | Val Bacc: 0.8235 | Val ROC-AUC: 0.8751\n",
      "Scale: 32 --> Val F1-Score: 0.9667 | Val Bacc: 0.8279 | Val ROC-AUC: 0.9117\n",
      "Scale: 128 --> Val F1-Score: 0.9681 | Val Bacc: 0.7935 | Val ROC-AUC: 0.9268\n",
      "Aggregated Results --> Val F1-Score: 0.9748 | Val Bacc: 0.8199 | Val ROC-AUC: 0.9348\n",
      "\n",
      "best AUC-ROC Score at epoch 6: 0.9576\n",
      "\n",
      "-------- Epoch 24/30 --------\n"
     ]
    },
    {
     "name": "stderr",
     "output_type": "stream",
     "text": [
      "[024/030 epoch train]: 100%|██████████| 1600/1600 [03:42<00:00,  7.20it/s, lr=[5.097673357358906e-06], loss=0.2224, CUDA-Mem=0%, CUDA-Util=0%] \n",
      "[024/030 epoch valid]: 100%|██████████| 400/400 [00:44<00:00,  8.90it/s, loss=4.3700, CUDA-Mem=0%, CUDA-Util=0%]\n"
     ]
    },
    {
     "name": "stdout",
     "output_type": "stream",
     "text": [
      "\n",
      "Train Loss: 0.2224\n",
      "Scale: 16 --> Train F1-Score: 0.9916 | Train Bacc: 0.9935 | Train ROC-AUC: 0.9979\n",
      "Scale: 32 --> Train F1-Score: 0.9823 | Train Bacc: 0.9892 | Train ROC-AUC: 0.9955\n",
      "Scale: 128 --> Train F1-Score: 0.9855 | Train Bacc: 0.9860 | Train ROC-AUC: 0.9972\n",
      "Aggregated Results --> Train F1-Score: 0.9895 | Train Bacc: 0.9940 | Train ROC-AUC: 0.9987\n",
      "\n",
      "Val Loss: 4.3700\n",
      "Scale: 16 --> Val F1-Score: 0.9740 | Val Bacc: 0.8406 | Val ROC-AUC: 0.8840\n",
      "Scale: 32 --> Val F1-Score: 0.9665 | Val Bacc: 0.8277 | Val ROC-AUC: 0.9072\n",
      "Scale: 128 --> Val F1-Score: 0.9662 | Val Bacc: 0.7991 | Val ROC-AUC: 0.9260\n",
      "Aggregated Results --> Val F1-Score: 0.9727 | Val Bacc: 0.8397 | Val ROC-AUC: 0.9327\n",
      "\n",
      "best AUC-ROC Score at epoch 6: 0.9576\n",
      "\n",
      "-------- Epoch 25/30 --------\n"
     ]
    },
    {
     "name": "stderr",
     "output_type": "stream",
     "text": [
      "[025/030 epoch train]:   2%|▏         | 39/1600 [00:05<03:31,  7.38it/s, lr=[5.057792776081774e-06], loss=0.2158, CUDA-Mem=0%, CUDA-Util=0%] IOPub message rate exceeded.\n",
      "The Jupyter server will temporarily stop sending output\n",
      "to the client in order to avoid crashing it.\n",
      "To change this limit, set the config variable\n",
      "`--ServerApp.iopub_msg_rate_limit`.\n",
      "\n",
      "Current values:\n",
      "ServerApp.iopub_msg_rate_limit=1000.0 (msgs/sec)\n",
      "ServerApp.rate_limit_window=3.0 (secs)\n",
      "\n"
     ]
    }
   ],
   "source": [
    "%run foundational_models/Mammo-CLIP-main/Mammo-CLIP-main/src3-Copy1/codebase/main.py \\\n",
    "  --clip_chk_pt_path \"foundational_models/Mammo-CLIP-main/Mammo-CLIP-main/b2-model-best-epoch-10.tar\" \\\n",
    "  --dataset 'ViNDr' \\\n",
    "  --label \"Suspicious_Calcification\" \\\n",
    "  --train --epochs 30 --batch-size 8 \\\n",
    "  --num-workers 4 \\\n",
    "  --eval_scheme 'kruns_train+val+test' --n_runs 1 \\\n",
    "  --lr 5.0e-5 \\\n",
    "  --weighted-BCE 'y' \\\n",
    "  --mil_type 'pyramidal_mil' \\\n",
    "  --pooling_type 'pma' \\\n",
    "  --fcl_encoder_dim 256 \\\n",
    "  --fcl_dropout 0.25 \\\n",
    "  --fpn_dim 256 \\\n",
    "  --multi_scale_model 'fpn' \\\n",
    "  --type_mil_encoder 'isab' \\\n",
    "  --trans_layer_norm True \\\n",
    "  --type_scale_aggregator 'mean_p' \\\n",
    "  --deep_supervision --scales 16 32 128 \n",
    "\n",
    "print('---------------finished running code-------------------')"
   ]
  },
  {
   "cell_type": "markdown",
   "id": "f5e2f4ef-58e9-4251-9862-7399d92f7e17",
   "metadata": {},
   "source": [
    "### concat "
   ]
  },
  {
   "cell_type": "code",
   "execution_count": 1,
   "id": "52fa1344-d215-49fd-8685-4b8621876c25",
   "metadata": {
    "scrolled": true
   },
   "outputs": [
    {
     "name": "stderr",
     "output_type": "stream",
     "text": [
      "/home/csantiago/.local/lib/python3.10/site-packages/albumentations/__init__.py:13: UserWarning: A new version of Albumentations is available: 2.0.8 (you have 1.4.18). Upgrade using: pip install -U albumentations. To disable automatic update checks, set the environment variable NO_ALBUMENTATIONS_UPDATE to 1.\n",
      "  check_for_updates()\n"
     ]
    },
    {
     "name": "stdout",
     "output_type": "stream",
     "text": [
      "\n",
      "torch.cuda.current_device(): 0\n",
      "\n",
      "Using device: cuda\n",
      "output_path: Mammo-CLIP-output/out_splits_new/MIL_experiments/ViNDr_data_frac_1.0/Suspicious_Calcification/offline_feature_extraction/multi_scale/fpn-deep_supervision/scale_aggregator_concatenation/isab-dim_256-nblocks_2-nheads_4-dropout_0.0-layer_norm-softmax/pooling_pma-dropout_0.0-layer_norm-softmax/2025-06-25\n",
      "df shape: (20000, 16)\n",
      "Index(['image_id', 'patient_id', 'laterality', 'view', 'finding_categories',\n",
      "       'finding_birads', 'breast_birads', 'breast_density', 'split', 'fold',\n",
      "       'Mass', 'Suspicious_Calcification', 'resized_xmin', 'resized_ymin',\n",
      "       'resized_xmax', 'resized_ymax'],\n",
      "      dtype='object')\n",
      "\n",
      "================== run nº: 0 ======================\n",
      "train_loader: 1600, valid_loader: 400\n",
      "Model is loaded\n",
      "PyramidalMILmodel(\n",
      "  (inst_encoder): FeaturePyramidNetwork(\n",
      "    (inner_blocks): ModuleDict(\n",
      "      (inner_block_0): Sequential(\n",
      "        (0): Conv2d(120, 256, kernel_size=(1, 1), stride=(1, 1))\n",
      "        (1): Identity()\n",
      "      )\n",
      "      (inner_block_1): Sequential(\n",
      "        (0): Conv2d(352, 256, kernel_size=(1, 1), stride=(1, 1))\n",
      "        (1): Identity()\n",
      "      )\n",
      "    )\n",
      "    (layer_blocks): ModuleDict(\n",
      "      (layer_block_0): Sequential(\n",
      "        (0): Conv2d(256, 256, kernel_size=(3, 3), stride=(1, 1), padding=(1, 1))\n",
      "        (1): Identity()\n",
      "      )\n",
      "      (layer_block_1): Sequential(\n",
      "        (0): Conv2d(256, 256, kernel_size=(3, 3), stride=(1, 1), padding=(1, 1))\n",
      "        (1): Identity()\n",
      "      )\n",
      "    )\n",
      "  )\n",
      "  (side_inst_aggregator): ModuleDict(\n",
      "    (encoders): ModuleDict(\n",
      "      (encoder_16): ModuleList(\n",
      "        (0-1): 2 x InducedSetAttentionBlock(256, d_hidden = 256, num_induced_points=38, heads=4, layer_norm=True, activation=softmax)\n",
      "      )\n",
      "      (encoder_32): ModuleList(\n",
      "        (0-1): 2 x InducedSetAttentionBlock(256, d_hidden = 256, num_induced_points=32, heads=4, layer_norm=True, activation=softmax)\n",
      "      )\n",
      "      (encoder_128): ModuleList(\n",
      "        (0-1): 2 x InducedSetAttentionBlock(256, d_hidden = 256, num_induced_points=20, heads=4, layer_norm=True, activation=softmax)\n",
      "      )\n",
      "    )\n",
      "    (aggregators): ModuleDict(\n",
      "      (aggregator_16): PoolingByMultiheadAttention(256, num_seed_points=1, heads=1, layer_norm=True, activation=softmax)\n",
      "      (aggregator_32): PoolingByMultiheadAttention(256, num_seed_points=1, heads=1, layer_norm=True, activation=softmax)\n",
      "      (aggregator_128): PoolingByMultiheadAttention(256, num_seed_points=1, heads=1, layer_norm=True, activation=softmax)\n",
      "    )\n",
      "  )\n",
      "  (side_classifiers): ModuleDict(\n",
      "    (classifier_16): head(\n",
      "      (drop): Dropout(p=0.0, inplace=True)\n",
      "      (head_classifier): Linear(in_features=256, out_features=1, bias=True)\n",
      "    )\n",
      "    (classifier_32): head(\n",
      "      (drop): Dropout(p=0.0, inplace=True)\n",
      "      (head_classifier): Linear(in_features=256, out_features=1, bias=True)\n",
      "    )\n",
      "    (classifier_128): head(\n",
      "      (drop): Dropout(p=0.0, inplace=True)\n",
      "      (head_classifier): Linear(in_features=256, out_features=1, bias=True)\n",
      "    )\n",
      "  )\n",
      "  (scale_aggregator): ConcatAggregator()\n",
      "  (classifier): head(\n",
      "    (drop): Dropout(p=0.0, inplace=True)\n",
      "    (head_classifier): Linear(in_features=768, out_features=1, bias=True)\n",
      "  )\n",
      ")\n",
      "\n",
      "Total number of parameters: 5.312772 M\n",
      "Total number of trainable parameters: 5.312772 M\n",
      "pos_wt: tensor([37.2967], device='cuda:0')\n",
      "\n",
      "-------- Epoch 1/30 --------\n"
     ]
    },
    {
     "name": "stderr",
     "output_type": "stream",
     "text": [
      "[001/030 epoch train]: 100%|██████████| 1600/1600 [03:45<00:00,  7.08it/s, lr=[5e-05], loss=4.4967, CUDA-Mem=0%, CUDA-Util=0%]                 \n",
      "[001/030 epoch valid]: 100%|██████████| 400/400 [00:44<00:00,  8.91it/s, loss=3.4227, CUDA-Mem=0%, CUDA-Util=0%]\n"
     ]
    },
    {
     "name": "stdout",
     "output_type": "stream",
     "text": [
      "\n",
      "Train Loss: 4.4967\n",
      "Scale: 16 --> Train F1-Score: 0.8547 | Train Bacc: 0.6028 | Train ROC-AUC: 0.6310\n",
      "Scale: 32 --> Train F1-Score: 0.8740 | Train Bacc: 0.6476 | Train ROC-AUC: 0.6897\n",
      "Scale: 128 --> Train F1-Score: 0.8643 | Train Bacc: 0.6324 | Train ROC-AUC: 0.6809\n",
      "Aggregated Results --> Train F1-Score: 0.8640 | Train Bacc: 0.6303 | Train ROC-AUC: 0.6798\n",
      "\n",
      "Val Loss: 3.4227\n",
      "Scale: 16 --> Val F1-Score: 0.9477 | Val Bacc: 0.7409 | Val ROC-AUC: 0.8574\n",
      "Scale: 32 --> Val F1-Score: 0.8973 | Val Bacc: 0.8188 | Val ROC-AUC: 0.8874\n",
      "Scale: 128 --> Val F1-Score: 0.9284 | Val Bacc: 0.8025 | Val ROC-AUC: 0.8795\n",
      "Aggregated Results --> Val F1-Score: 0.9166 | Val Bacc: 0.8281 | Val ROC-AUC: 0.8805\n",
      "\n",
      "Epoch 1 - Save aucroc: 0.8805 Model\n",
      "\n",
      "best AUC-ROC Score at epoch 1: 0.8805\n",
      "\n",
      "-------- Epoch 2/30 --------\n"
     ]
    },
    {
     "name": "stderr",
     "output_type": "stream",
     "text": [
      "[002/030 epoch train]: 100%|██████████| 1600/1600 [03:44<00:00,  7.12it/s, lr=[4.9853448928858984e-05], loss=3.3332, CUDA-Mem=0%, CUDA-Util=0%]\n",
      "[002/030 epoch valid]: 100%|██████████| 400/400 [00:44<00:00,  8.92it/s, loss=2.2333, CUDA-Mem=0%, CUDA-Util=0%]\n"
     ]
    },
    {
     "name": "stdout",
     "output_type": "stream",
     "text": [
      "\n",
      "Train Loss: 3.3332\n",
      "Scale: 16 --> Train F1-Score: 0.9028 | Train Bacc: 0.7896 | Train ROC-AUC: 0.8428\n",
      "Scale: 32 --> Train F1-Score: 0.9122 | Train Bacc: 0.7941 | Train ROC-AUC: 0.8528\n",
      "Scale: 128 --> Train F1-Score: 0.9165 | Train Bacc: 0.7742 | Train ROC-AUC: 0.8321\n",
      "Aggregated Results --> Train F1-Score: 0.9115 | Train Bacc: 0.7952 | Train ROC-AUC: 0.8549\n",
      "\n",
      "Val Loss: 2.2333\n",
      "Scale: 16 --> Val F1-Score: 0.9369 | Val Bacc: 0.8741 | Val ROC-AUC: 0.9488\n",
      "Scale: 32 --> Val F1-Score: 0.9262 | Val Bacc: 0.8864 | Val ROC-AUC: 0.9308\n",
      "Scale: 128 --> Val F1-Score: 0.9213 | Val Bacc: 0.8679 | Val ROC-AUC: 0.9221\n",
      "Aggregated Results --> Val F1-Score: 0.9301 | Val Bacc: 0.8826 | Val ROC-AUC: 0.9409\n",
      "\n",
      "Epoch 2 - Save aucroc: 0.9409 Model\n",
      "\n",
      "best AUC-ROC Score at epoch 2: 0.9409\n",
      "\n",
      "-------- Epoch 3/30 --------\n"
     ]
    },
    {
     "name": "stderr",
     "output_type": "stream",
     "text": [
      "[003/030 epoch train]: 100%|██████████| 1600/1600 [03:46<00:00,  7.06it/s, lr=[4.941551389275217e-05], loss=2.8550, CUDA-Mem=0%, CUDA-Util=0%] \n",
      "[003/030 epoch valid]: 100%|██████████| 400/400 [00:44<00:00,  8.90it/s, loss=2.5695, CUDA-Mem=0%, CUDA-Util=0%]\n"
     ]
    },
    {
     "name": "stdout",
     "output_type": "stream",
     "text": [
      "\n",
      "Train Loss: 2.8550\n",
      "Scale: 16 --> Train F1-Score: 0.9134 | Train Bacc: 0.8458 | Train ROC-AUC: 0.9012\n",
      "Scale: 32 --> Train F1-Score: 0.9006 | Train Bacc: 0.8276 | Train ROC-AUC: 0.8955\n",
      "Scale: 128 --> Train F1-Score: 0.9122 | Train Bacc: 0.7995 | Train ROC-AUC: 0.8603\n",
      "Aggregated Results --> Train F1-Score: 0.9103 | Train Bacc: 0.8467 | Train ROC-AUC: 0.9050\n",
      "\n",
      "Val Loss: 2.5695\n",
      "Scale: 16 --> Val F1-Score: 0.8625 | Val Bacc: 0.8838 | Val ROC-AUC: 0.9339\n",
      "Scale: 32 --> Val F1-Score: 0.8595 | Val Bacc: 0.8742 | Val ROC-AUC: 0.9506\n",
      "Scale: 128 --> Val F1-Score: 0.8811 | Val Bacc: 0.8628 | Val ROC-AUC: 0.9451\n",
      "Aggregated Results --> Val F1-Score: 0.8544 | Val Bacc: 0.8774 | Val ROC-AUC: 0.9520\n",
      "\n",
      "Epoch 3 - Save aucroc: 0.9520 Model\n",
      "\n",
      "best AUC-ROC Score at epoch 3: 0.9520\n",
      "\n",
      "-------- Epoch 4/30 --------\n"
     ]
    },
    {
     "name": "stderr",
     "output_type": "stream",
     "text": [
      "[004/030 epoch train]: 100%|██████████| 1600/1600 [03:41<00:00,  7.23it/s, lr=[4.869132927957007e-05], loss=2.4213, CUDA-Mem=0%, CUDA-Util=0%] \n",
      "[004/030 epoch valid]: 100%|██████████| 400/400 [00:44<00:00,  8.94it/s, loss=2.2432, CUDA-Mem=0%, CUDA-Util=0%]\n"
     ]
    },
    {
     "name": "stdout",
     "output_type": "stream",
     "text": [
      "\n",
      "Train Loss: 2.4213\n",
      "Scale: 16 --> Train F1-Score: 0.9307 | Train Bacc: 0.8841 | Train ROC-AUC: 0.9309\n",
      "Scale: 32 --> Train F1-Score: 0.9139 | Train Bacc: 0.8606 | Train ROC-AUC: 0.9218\n",
      "Scale: 128 --> Train F1-Score: 0.9203 | Train Bacc: 0.8336 | Train ROC-AUC: 0.8939\n",
      "Aggregated Results --> Train F1-Score: 0.9279 | Train Bacc: 0.8780 | Train ROC-AUC: 0.9360\n",
      "\n",
      "Val Loss: 2.2432\n",
      "Scale: 16 --> Val F1-Score: 0.9224 | Val Bacc: 0.8760 | Val ROC-AUC: 0.9430\n",
      "Scale: 32 --> Val F1-Score: 0.9185 | Val Bacc: 0.8941 | Val ROC-AUC: 0.9511\n",
      "Scale: 128 --> Val F1-Score: 0.9373 | Val Bacc: 0.8888 | Val ROC-AUC: 0.9471\n",
      "Aggregated Results --> Val F1-Score: 0.9180 | Val Bacc: 0.8866 | Val ROC-AUC: 0.9456\n",
      "\n",
      "best AUC-ROC Score at epoch 3: 0.9520\n",
      "\n",
      "-------- Epoch 5/30 --------\n"
     ]
    },
    {
     "name": "stderr",
     "output_type": "stream",
     "text": [
      "[005/030 epoch train]: 100%|██████████| 1600/1600 [03:45<00:00,  7.09it/s, lr=[4.768938549177392e-05], loss=2.1914, CUDA-Mem=0%, CUDA-Util=0%] \n",
      "[005/030 epoch valid]: 100%|██████████| 400/400 [00:44<00:00,  8.94it/s, loss=2.3413, CUDA-Mem=0%, CUDA-Util=0%]\n"
     ]
    },
    {
     "name": "stdout",
     "output_type": "stream",
     "text": [
      "\n",
      "Train Loss: 2.1914\n",
      "Scale: 16 --> Train F1-Score: 0.9354 | Train Bacc: 0.8936 | Train ROC-AUC: 0.9449\n",
      "Scale: 32 --> Train F1-Score: 0.9261 | Train Bacc: 0.8783 | Train ROC-AUC: 0.9331\n",
      "Scale: 128 --> Train F1-Score: 0.9190 | Train Bacc: 0.8506 | Train ROC-AUC: 0.9120\n",
      "Aggregated Results --> Train F1-Score: 0.9346 | Train Bacc: 0.8928 | Train ROC-AUC: 0.9491\n",
      "\n",
      "Val Loss: 2.3413\n",
      "Scale: 16 --> Val F1-Score: 0.9064 | Val Bacc: 0.8911 | Val ROC-AUC: 0.9551\n",
      "Scale: 32 --> Val F1-Score: 0.9033 | Val Bacc: 0.8526 | Val ROC-AUC: 0.9407\n",
      "Scale: 128 --> Val F1-Score: 0.8409 | Val Bacc: 0.8453 | Val ROC-AUC: 0.9379\n",
      "Aggregated Results --> Val F1-Score: 0.9029 | Val Bacc: 0.8952 | Val ROC-AUC: 0.9572\n",
      "\n",
      "Epoch 5 - Save aucroc: 0.9572 Model\n",
      "\n",
      "best AUC-ROC Score at epoch 5: 0.9572\n",
      "\n",
      "-------- Epoch 6/30 --------\n"
     ]
    },
    {
     "name": "stderr",
     "output_type": "stream",
     "text": [
      "[006/030 epoch train]: 100%|██████████| 1600/1600 [03:47<00:00,  7.04it/s, lr=[4.6421429404189725e-05], loss=2.0830, CUDA-Mem=0%, CUDA-Util=0%]\n",
      "[006/030 epoch valid]: 100%|██████████| 400/400 [00:44<00:00,  8.94it/s, loss=1.9384, CUDA-Mem=0%, CUDA-Util=0%]\n"
     ]
    },
    {
     "name": "stdout",
     "output_type": "stream",
     "text": [
      "\n",
      "Train Loss: 2.0830\n",
      "Scale: 16 --> Train F1-Score: 0.9322 | Train Bacc: 0.9053 | Train ROC-AUC: 0.9524\n",
      "Scale: 32 --> Train F1-Score: 0.9319 | Train Bacc: 0.8797 | Train ROC-AUC: 0.9380\n",
      "Scale: 128 --> Train F1-Score: 0.9281 | Train Bacc: 0.8692 | Train ROC-AUC: 0.9185\n",
      "Aggregated Results --> Train F1-Score: 0.9338 | Train Bacc: 0.9012 | Train ROC-AUC: 0.9533\n",
      "\n",
      "Val Loss: 1.9384\n",
      "Scale: 16 --> Val F1-Score: 0.9146 | Val Bacc: 0.8979 | Val ROC-AUC: 0.9597\n",
      "Scale: 32 --> Val F1-Score: 0.9283 | Val Bacc: 0.8882 | Val ROC-AUC: 0.9547\n",
      "Scale: 128 --> Val F1-Score: 0.9272 | Val Bacc: 0.8872 | Val ROC-AUC: 0.9552\n",
      "Aggregated Results --> Val F1-Score: 0.9114 | Val Bacc: 0.8952 | Val ROC-AUC: 0.9588\n",
      "\n",
      "Epoch 6 - Save aucroc: 0.9588 Model\n",
      "\n",
      "best AUC-ROC Score at epoch 6: 0.9588\n",
      "\n",
      "-------- Epoch 7/30 --------\n"
     ]
    },
    {
     "name": "stderr",
     "output_type": "stream",
     "text": [
      "[007/030 epoch train]: 100%|██████████| 1600/1600 [03:45<00:00,  7.09it/s, lr=[4.4902326642641095e-05], loss=1.8950, CUDA-Mem=0%, CUDA-Util=0%]\n",
      "[007/030 epoch valid]: 100%|██████████| 400/400 [00:44<00:00,  8.93it/s, loss=2.2489, CUDA-Mem=0%, CUDA-Util=0%]\n"
     ]
    },
    {
     "name": "stdout",
     "output_type": "stream",
     "text": [
      "\n",
      "Train Loss: 1.8950\n",
      "Scale: 16 --> Train F1-Score: 0.9432 | Train Bacc: 0.9182 | Train ROC-AUC: 0.9575\n",
      "Scale: 32 --> Train F1-Score: 0.9356 | Train Bacc: 0.8992 | Train ROC-AUC: 0.9473\n",
      "Scale: 128 --> Train F1-Score: 0.9220 | Train Bacc: 0.8657 | Train ROC-AUC: 0.9297\n",
      "Aggregated Results --> Train F1-Score: 0.9450 | Train Bacc: 0.9198 | Train ROC-AUC: 0.9631\n",
      "\n",
      "Val Loss: 2.2489\n",
      "Scale: 16 --> Val F1-Score: 0.9610 | Val Bacc: 0.8589 | Val ROC-AUC: 0.9437\n",
      "Scale: 32 --> Val F1-Score: 0.9591 | Val Bacc: 0.8573 | Val ROC-AUC: 0.9553\n",
      "Scale: 128 --> Val F1-Score: 0.9440 | Val Bacc: 0.8874 | Val ROC-AUC: 0.9535\n",
      "Aggregated Results --> Val F1-Score: 0.9602 | Val Bacc: 0.8725 | Val ROC-AUC: 0.9568\n",
      "\n",
      "best AUC-ROC Score at epoch 6: 0.9588\n",
      "\n",
      "-------- Epoch 8/30 --------\n"
     ]
    },
    {
     "name": "stderr",
     "output_type": "stream",
     "text": [
      "[008/030 epoch train]: 100%|██████████| 1600/1600 [03:45<00:00,  7.09it/s, lr=[4.3149887298078276e-05], loss=1.7601, CUDA-Mem=0%, CUDA-Util=0%]\n",
      "[008/030 epoch valid]: 100%|██████████| 400/400 [00:44<00:00,  8.91it/s, loss=2.2160, CUDA-Mem=0%, CUDA-Util=0%]\n"
     ]
    },
    {
     "name": "stdout",
     "output_type": "stream",
     "text": [
      "\n",
      "Train Loss: 1.7601\n",
      "Scale: 16 --> Train F1-Score: 0.9491 | Train Bacc: 0.9251 | Train ROC-AUC: 0.9685\n",
      "Scale: 32 --> Train F1-Score: 0.9403 | Train Bacc: 0.9014 | Train ROC-AUC: 0.9475\n",
      "Scale: 128 --> Train F1-Score: 0.9280 | Train Bacc: 0.8745 | Train ROC-AUC: 0.9397\n",
      "Aggregated Results --> Train F1-Score: 0.9495 | Train Bacc: 0.9273 | Train ROC-AUC: 0.9686\n",
      "\n",
      "Val Loss: 2.2160\n",
      "Scale: 16 --> Val F1-Score: 0.9362 | Val Bacc: 0.8807 | Val ROC-AUC: 0.9522\n",
      "Scale: 32 --> Val F1-Score: 0.9380 | Val Bacc: 0.8822 | Val ROC-AUC: 0.9557\n",
      "Scale: 128 --> Val F1-Score: 0.9047 | Val Bacc: 0.8824 | Val ROC-AUC: 0.9518\n",
      "Aggregated Results --> Val F1-Score: 0.9397 | Val Bacc: 0.8837 | Val ROC-AUC: 0.9539\n",
      "\n",
      "best AUC-ROC Score at epoch 6: 0.9588\n",
      "\n",
      "-------- Epoch 9/30 --------\n"
     ]
    },
    {
     "name": "stderr",
     "output_type": "stream",
     "text": [
      "[009/030 epoch train]: 100%|██████████| 1600/1600 [03:45<00:00,  7.08it/s, lr=[4.118465711954569e-05], loss=1.6558, CUDA-Mem=0%, CUDA-Util=0%] \n",
      "[009/030 epoch valid]: 100%|██████████| 400/400 [00:45<00:00,  8.88it/s, loss=2.1811, CUDA-Mem=0%, CUDA-Util=0%]\n"
     ]
    },
    {
     "name": "stdout",
     "output_type": "stream",
     "text": [
      "\n",
      "Train Loss: 1.6558\n",
      "Scale: 16 --> Train F1-Score: 0.9470 | Train Bacc: 0.9342 | Train ROC-AUC: 0.9665\n",
      "Scale: 32 --> Train F1-Score: 0.9378 | Train Bacc: 0.8956 | Train ROC-AUC: 0.9519\n",
      "Scale: 128 --> Train F1-Score: 0.9234 | Train Bacc: 0.8833 | Train ROC-AUC: 0.9469\n",
      "Aggregated Results --> Train F1-Score: 0.9491 | Train Bacc: 0.9305 | Train ROC-AUC: 0.9741\n",
      "\n",
      "Val Loss: 2.1811\n",
      "Scale: 16 --> Val F1-Score: 0.9070 | Val Bacc: 0.8772 | Val ROC-AUC: 0.9490\n",
      "Scale: 32 --> Val F1-Score: 0.9173 | Val Bacc: 0.8931 | Val ROC-AUC: 0.9504\n",
      "Scale: 128 --> Val F1-Score: 0.8764 | Val Bacc: 0.8590 | Val ROC-AUC: 0.9491\n",
      "Aggregated Results --> Val F1-Score: 0.9125 | Val Bacc: 0.8890 | Val ROC-AUC: 0.9526\n",
      "\n",
      "best AUC-ROC Score at epoch 6: 0.9588\n",
      "\n",
      "-------- Epoch 10/30 --------\n"
     ]
    },
    {
     "name": "stderr",
     "output_type": "stream",
     "text": [
      "[010/030 epoch train]: 100%|██████████| 1600/1600 [03:45<00:00,  7.09it/s, lr=[3.902967663405956e-05], loss=1.4956, CUDA-Mem=0%, CUDA-Util=0%] \n",
      "[010/030 epoch valid]: 100%|██████████| 400/400 [00:44<00:00,  8.90it/s, loss=2.4297, CUDA-Mem=0%, CUDA-Util=0%]\n"
     ]
    },
    {
     "name": "stdout",
     "output_type": "stream",
     "text": [
      "\n",
      "Train Loss: 1.4956\n",
      "Scale: 16 --> Train F1-Score: 0.9501 | Train Bacc: 0.9404 | Train ROC-AUC: 0.9731\n",
      "Scale: 32 --> Train F1-Score: 0.9433 | Train Bacc: 0.9129 | Train ROC-AUC: 0.9594\n",
      "Scale: 128 --> Train F1-Score: 0.9321 | Train Bacc: 0.8889 | Train ROC-AUC: 0.9541\n",
      "Aggregated Results --> Train F1-Score: 0.9555 | Train Bacc: 0.9467 | Train ROC-AUC: 0.9819\n",
      "\n",
      "Val Loss: 2.4297\n",
      "Scale: 16 --> Val F1-Score: 0.9574 | Val Bacc: 0.8630 | Val ROC-AUC: 0.9313\n",
      "Scale: 32 --> Val F1-Score: 0.9517 | Val Bacc: 0.8725 | Val ROC-AUC: 0.9523\n",
      "Scale: 128 --> Val F1-Score: 0.9478 | Val Bacc: 0.8763 | Val ROC-AUC: 0.9454\n",
      "Aggregated Results --> Val F1-Score: 0.9607 | Val Bacc: 0.8658 | Val ROC-AUC: 0.9449\n",
      "\n",
      "best AUC-ROC Score at epoch 6: 0.9588\n",
      "\n",
      "-------- Epoch 11/30 --------\n"
     ]
    },
    {
     "name": "stderr",
     "output_type": "stream",
     "text": [
      "[011/030 epoch train]: 100%|██████████| 1600/1600 [03:43<00:00,  7.15it/s, lr=[3.671021101749476e-05], loss=1.3960, CUDA-Mem=0%, CUDA-Util=0%] \n",
      "[011/030 epoch valid]: 100%|██████████| 400/400 [00:44<00:00,  8.91it/s, loss=2.3688, CUDA-Mem=0%, CUDA-Util=0%]\n"
     ]
    },
    {
     "name": "stdout",
     "output_type": "stream",
     "text": [
      "\n",
      "Train Loss: 1.3960\n",
      "Scale: 16 --> Train F1-Score: 0.9559 | Train Bacc: 0.9380 | Train ROC-AUC: 0.9795\n",
      "Scale: 32 --> Train F1-Score: 0.9493 | Train Bacc: 0.9199 | Train ROC-AUC: 0.9621\n",
      "Scale: 128 --> Train F1-Score: 0.9401 | Train Bacc: 0.9066 | Train ROC-AUC: 0.9579\n",
      "Aggregated Results --> Train F1-Score: 0.9621 | Train Bacc: 0.9486 | Train ROC-AUC: 0.9824\n",
      "\n",
      "Val Loss: 2.3688\n",
      "Scale: 16 --> Val F1-Score: 0.8695 | Val Bacc: 0.8534 | Val ROC-AUC: 0.9368\n",
      "Scale: 32 --> Val F1-Score: 0.9471 | Val Bacc: 0.8971 | Val ROC-AUC: 0.9610\n",
      "Scale: 128 --> Val F1-Score: 0.9187 | Val Bacc: 0.8728 | Val ROC-AUC: 0.9484\n",
      "Aggregated Results --> Val F1-Score: 0.9126 | Val Bacc: 0.8892 | Val ROC-AUC: 0.9393\n",
      "\n",
      "best AUC-ROC Score at epoch 6: 0.9588\n",
      "\n",
      "-------- Epoch 12/30 --------\n"
     ]
    },
    {
     "name": "stderr",
     "output_type": "stream",
     "text": [
      "[012/030 epoch train]: 100%|██████████| 1600/1600 [03:43<00:00,  7.16it/s, lr=[3.425345388349786e-05], loss=1.3354, CUDA-Mem=0%, CUDA-Util=0%] \n",
      "[012/030 epoch valid]: 100%|██████████| 400/400 [00:44<00:00,  8.91it/s, loss=2.2245, CUDA-Mem=0%, CUDA-Util=0%]\n"
     ]
    },
    {
     "name": "stdout",
     "output_type": "stream",
     "text": [
      "\n",
      "Train Loss: 1.3354\n",
      "Scale: 16 --> Train F1-Score: 0.9548 | Train Bacc: 0.9461 | Train ROC-AUC: 0.9794\n",
      "Scale: 32 --> Train F1-Score: 0.9466 | Train Bacc: 0.9176 | Train ROC-AUC: 0.9664\n",
      "Scale: 128 --> Train F1-Score: 0.9406 | Train Bacc: 0.9179 | Train ROC-AUC: 0.9651\n",
      "Aggregated Results --> Train F1-Score: 0.9616 | Train Bacc: 0.9535 | Train ROC-AUC: 0.9875\n",
      "\n",
      "Val Loss: 2.2245\n",
      "Scale: 16 --> Val F1-Score: 0.9206 | Val Bacc: 0.8744 | Val ROC-AUC: 0.9424\n",
      "Scale: 32 --> Val F1-Score: 0.9531 | Val Bacc: 0.8808 | Val ROC-AUC: 0.9574\n",
      "Scale: 128 --> Val F1-Score: 0.9338 | Val Bacc: 0.8858 | Val ROC-AUC: 0.9543\n",
      "Aggregated Results --> Val F1-Score: 0.9393 | Val Bacc: 0.8834 | Val ROC-AUC: 0.9455\n",
      "\n",
      "best AUC-ROC Score at epoch 6: 0.9588\n",
      "\n",
      "-------- Epoch 13/30 --------\n"
     ]
    },
    {
     "name": "stderr",
     "output_type": "stream",
     "text": [
      "[013/030 epoch train]: 100%|██████████| 1600/1600 [03:43<00:00,  7.16it/s, lr=[3.168820846323052e-05], loss=1.1445, CUDA-Mem=0%, CUDA-Util=0%] \n",
      "[013/030 epoch valid]: 100%|██████████| 400/400 [00:44<00:00,  8.92it/s, loss=2.3551, CUDA-Mem=0%, CUDA-Util=0%]\n"
     ]
    },
    {
     "name": "stdout",
     "output_type": "stream",
     "text": [
      "\n",
      "Train Loss: 1.1445\n",
      "Scale: 16 --> Train F1-Score: 0.9582 | Train Bacc: 0.9525 | Train ROC-AUC: 0.9817\n",
      "Scale: 32 --> Train F1-Score: 0.9560 | Train Bacc: 0.9308 | Train ROC-AUC: 0.9709\n",
      "Scale: 128 --> Train F1-Score: 0.9512 | Train Bacc: 0.9233 | Train ROC-AUC: 0.9757\n",
      "Aggregated Results --> Train F1-Score: 0.9683 | Train Bacc: 0.9607 | Train ROC-AUC: 0.9912\n",
      "\n",
      "Val Loss: 2.3551\n",
      "Scale: 16 --> Val F1-Score: 0.9401 | Val Bacc: 0.8912 | Val ROC-AUC: 0.9465\n",
      "Scale: 32 --> Val F1-Score: 0.9577 | Val Bacc: 0.8846 | Val ROC-AUC: 0.9607\n",
      "Scale: 128 --> Val F1-Score: 0.9449 | Val Bacc: 0.8667 | Val ROC-AUC: 0.9421\n",
      "Aggregated Results --> Val F1-Score: 0.9572 | Val Bacc: 0.8771 | Val ROC-AUC: 0.9470\n",
      "\n",
      "best AUC-ROC Score at epoch 6: 0.9588\n",
      "\n",
      "-------- Epoch 14/30 --------\n"
     ]
    },
    {
     "name": "stderr",
     "output_type": "stream",
     "text": [
      "[014/030 epoch train]: 100%|██████████| 1600/1600 [03:46<00:00,  7.07it/s, lr=[2.904454991381912e-05], loss=0.9904, CUDA-Mem=0%, CUDA-Util=0%] \n",
      "[014/030 epoch valid]: 100%|██████████| 400/400 [00:44<00:00,  8.94it/s, loss=3.0503, CUDA-Mem=0%, CUDA-Util=0%]\n"
     ]
    },
    {
     "name": "stdout",
     "output_type": "stream",
     "text": [
      "\n",
      "Train Loss: 0.9904\n",
      "Scale: 16 --> Train F1-Score: 0.9664 | Train Bacc: 0.9592 | Train ROC-AUC: 0.9866\n",
      "Scale: 32 --> Train F1-Score: 0.9537 | Train Bacc: 0.9362 | Train ROC-AUC: 0.9777\n",
      "Scale: 128 --> Train F1-Score: 0.9533 | Train Bacc: 0.9430 | Train ROC-AUC: 0.9813\n",
      "Aggregated Results --> Train F1-Score: 0.9733 | Train Bacc: 0.9700 | Train ROC-AUC: 0.9930\n",
      "\n",
      "Val Loss: 3.0503\n",
      "Scale: 16 --> Val F1-Score: 0.9691 | Val Bacc: 0.8582 | Val ROC-AUC: 0.9433\n",
      "Scale: 32 --> Val F1-Score: 0.9533 | Val Bacc: 0.8667 | Val ROC-AUC: 0.9567\n",
      "Scale: 128 --> Val F1-Score: 0.9503 | Val Bacc: 0.8642 | Val ROC-AUC: 0.9429\n",
      "Aggregated Results --> Val F1-Score: 0.9706 | Val Bacc: 0.8523 | Val ROC-AUC: 0.9550\n",
      "\n",
      "best AUC-ROC Score at epoch 6: 0.9588\n",
      "\n",
      "-------- Epoch 15/30 --------\n"
     ]
    },
    {
     "name": "stderr",
     "output_type": "stream",
     "text": [
      "[015/030 epoch train]: 100%|██████████| 1600/1600 [03:48<00:00,  7.01it/s, lr=[2.635347271463544e-05], loss=0.9079, CUDA-Mem=0%, CUDA-Util=0%] \n",
      "[015/030 epoch valid]: 100%|██████████| 400/400 [00:44<00:00,  8.90it/s, loss=2.5496, CUDA-Mem=0%, CUDA-Util=0%]\n"
     ]
    },
    {
     "name": "stdout",
     "output_type": "stream",
     "text": [
      "\n",
      "Train Loss: 0.9079\n",
      "Scale: 16 --> Train F1-Score: 0.9683 | Train Bacc: 0.9643 | Train ROC-AUC: 0.9868\n",
      "Scale: 32 --> Train F1-Score: 0.9535 | Train Bacc: 0.9378 | Train ROC-AUC: 0.9812\n",
      "Scale: 128 --> Train F1-Score: 0.9573 | Train Bacc: 0.9446 | Train ROC-AUC: 0.9828\n",
      "Aggregated Results --> Train F1-Score: 0.9741 | Train Bacc: 0.9706 | Train ROC-AUC: 0.9946\n",
      "\n",
      "Val Loss: 2.5496\n",
      "Scale: 16 --> Val F1-Score: 0.9697 | Val Bacc: 0.8587 | Val ROC-AUC: 0.9548\n",
      "Scale: 32 --> Val F1-Score: 0.9521 | Val Bacc: 0.8942 | Val ROC-AUC: 0.9580\n",
      "Scale: 128 --> Val F1-Score: 0.9357 | Val Bacc: 0.8731 | Val ROC-AUC: 0.9507\n",
      "Aggregated Results --> Val F1-Score: 0.9697 | Val Bacc: 0.8445 | Val ROC-AUC: 0.9625\n",
      "\n",
      "Epoch 15 - Save aucroc: 0.9625 Model\n",
      "\n",
      "best AUC-ROC Score at epoch 15: 0.9625\n",
      "\n",
      "-------- Epoch 16/30 --------\n"
     ]
    },
    {
     "name": "stderr",
     "output_type": "stream",
     "text": [
      "[016/030 epoch train]: 100%|██████████| 1600/1600 [03:41<00:00,  7.21it/s, lr=[2.3646527285364565e-05], loss=0.8153, CUDA-Mem=0%, CUDA-Util=0%]\n",
      "[016/030 epoch valid]: 100%|██████████| 400/400 [00:44<00:00,  8.90it/s, loss=2.8980, CUDA-Mem=0%, CUDA-Util=0%]\n"
     ]
    },
    {
     "name": "stdout",
     "output_type": "stream",
     "text": [
      "\n",
      "Train Loss: 0.8153\n",
      "Scale: 16 --> Train F1-Score: 0.9701 | Train Bacc: 0.9676 | Train ROC-AUC: 0.9868\n",
      "Scale: 32 --> Train F1-Score: 0.9591 | Train Bacc: 0.9479 | Train ROC-AUC: 0.9839\n",
      "Scale: 128 --> Train F1-Score: 0.9640 | Train Bacc: 0.9555 | Train ROC-AUC: 0.9871\n",
      "Aggregated Results --> Train F1-Score: 0.9785 | Train Bacc: 0.9756 | Train ROC-AUC: 0.9960\n",
      "\n",
      "Val Loss: 2.8980\n",
      "Scale: 16 --> Val F1-Score: 0.9590 | Val Bacc: 0.8643 | Val ROC-AUC: 0.9311\n",
      "Scale: 32 --> Val F1-Score: 0.9369 | Val Bacc: 0.8741 | Val ROC-AUC: 0.9492\n",
      "Scale: 128 --> Val F1-Score: 0.9500 | Val Bacc: 0.8710 | Val ROC-AUC: 0.9476\n",
      "Aggregated Results --> Val F1-Score: 0.9673 | Val Bacc: 0.8568 | Val ROC-AUC: 0.9545\n",
      "\n",
      "best AUC-ROC Score at epoch 15: 0.9625\n",
      "\n",
      "-------- Epoch 17/30 --------\n"
     ]
    },
    {
     "name": "stderr",
     "output_type": "stream",
     "text": [
      "[017/030 epoch train]: 100%|██████████| 1600/1600 [03:44<00:00,  7.14it/s, lr=[2.0955450086180886e-05], loss=0.7149, CUDA-Mem=0%, CUDA-Util=0%]\n",
      "[017/030 epoch valid]: 100%|██████████| 400/400 [00:44<00:00,  8.91it/s, loss=3.4990, CUDA-Mem=0%, CUDA-Util=0%]\n"
     ]
    },
    {
     "name": "stdout",
     "output_type": "stream",
     "text": [
      "\n",
      "Train Loss: 0.7149\n",
      "Scale: 16 --> Train F1-Score: 0.9748 | Train Bacc: 0.9711 | Train ROC-AUC: 0.9897\n",
      "Scale: 32 --> Train F1-Score: 0.9602 | Train Bacc: 0.9451 | Train ROC-AUC: 0.9863\n",
      "Scale: 128 --> Train F1-Score: 0.9671 | Train Bacc: 0.9633 | Train ROC-AUC: 0.9875\n",
      "Aggregated Results --> Train F1-Score: 0.9837 | Train Bacc: 0.9847 | Train ROC-AUC: 0.9969\n",
      "\n",
      "Val Loss: 3.4990\n",
      "Scale: 16 --> Val F1-Score: 0.9633 | Val Bacc: 0.8536 | Val ROC-AUC: 0.9335\n",
      "Scale: 32 --> Val F1-Score: 0.9639 | Val Bacc: 0.8541 | Val ROC-AUC: 0.9523\n",
      "Scale: 128 --> Val F1-Score: 0.9612 | Val Bacc: 0.8590 | Val ROC-AUC: 0.9447\n",
      "Aggregated Results --> Val F1-Score: 0.9709 | Val Bacc: 0.8525 | Val ROC-AUC: 0.9503\n",
      "\n",
      "best AUC-ROC Score at epoch 15: 0.9625\n",
      "\n",
      "-------- Epoch 18/30 --------\n"
     ]
    },
    {
     "name": "stderr",
     "output_type": "stream",
     "text": [
      "[018/030 epoch train]: 100%|██████████| 1600/1600 [03:44<00:00,  7.14it/s, lr=[1.8311791536769483e-05], loss=0.5876, CUDA-Mem=0%, CUDA-Util=0%]\n",
      "[018/030 epoch valid]: 100%|██████████| 400/400 [00:44<00:00,  8.93it/s, loss=3.9124, CUDA-Mem=0%, CUDA-Util=0%]\n"
     ]
    },
    {
     "name": "stdout",
     "output_type": "stream",
     "text": [
      "\n",
      "Train Loss: 0.5876\n",
      "Scale: 16 --> Train F1-Score: 0.9799 | Train Bacc: 0.9803 | Train ROC-AUC: 0.9901\n",
      "Scale: 32 --> Train F1-Score: 0.9645 | Train Bacc: 0.9541 | Train ROC-AUC: 0.9901\n",
      "Scale: 128 --> Train F1-Score: 0.9724 | Train Bacc: 0.9711 | Train ROC-AUC: 0.9907\n",
      "Aggregated Results --> Train F1-Score: 0.9859 | Train Bacc: 0.9862 | Train ROC-AUC: 0.9978\n",
      "\n",
      "Val Loss: 3.9124\n",
      "Scale: 16 --> Val F1-Score: 0.9750 | Val Bacc: 0.8343 | Val ROC-AUC: 0.8598\n",
      "Scale: 32 --> Val F1-Score: 0.9570 | Val Bacc: 0.8555 | Val ROC-AUC: 0.9393\n",
      "Scale: 128 --> Val F1-Score: 0.9654 | Val Bacc: 0.8482 | Val ROC-AUC: 0.9378\n",
      "Aggregated Results --> Val F1-Score: 0.9761 | Val Bacc: 0.8493 | Val ROC-AUC: 0.9458\n",
      "\n",
      "best AUC-ROC Score at epoch 15: 0.9625\n",
      "\n",
      "-------- Epoch 19/30 --------\n"
     ]
    },
    {
     "name": "stderr",
     "output_type": "stream",
     "text": [
      "[019/030 epoch train]: 100%|██████████| 1600/1600 [03:46<00:00,  7.08it/s, lr=[1.5746546116502143e-05], loss=0.5532, CUDA-Mem=0%, CUDA-Util=0%]\n",
      "[019/030 epoch valid]: 100%|██████████| 400/400 [00:44<00:00,  8.91it/s, loss=3.7236, CUDA-Mem=0%, CUDA-Util=0%]\n"
     ]
    },
    {
     "name": "stdout",
     "output_type": "stream",
     "text": [
      "\n",
      "Train Loss: 0.5532\n",
      "Scale: 16 --> Train F1-Score: 0.9803 | Train Bacc: 0.9806 | Train ROC-AUC: 0.9908\n",
      "Scale: 32 --> Train F1-Score: 0.9711 | Train Bacc: 0.9683 | Train ROC-AUC: 0.9922\n",
      "Scale: 128 --> Train F1-Score: 0.9744 | Train Bacc: 0.9708 | Train ROC-AUC: 0.9922\n",
      "Aggregated Results --> Train F1-Score: 0.9872 | Train Bacc: 0.9871 | Train ROC-AUC: 0.9980\n",
      "\n",
      "Val Loss: 3.7236\n",
      "Scale: 16 --> Val F1-Score: 0.9705 | Val Bacc: 0.8451 | Val ROC-AUC: 0.9266\n",
      "Scale: 32 --> Val F1-Score: 0.9492 | Val Bacc: 0.8846 | Val ROC-AUC: 0.9406\n",
      "Scale: 128 --> Val F1-Score: 0.9552 | Val Bacc: 0.8469 | Val ROC-AUC: 0.9387\n",
      "Aggregated Results --> Val F1-Score: 0.9739 | Val Bacc: 0.8335 | Val ROC-AUC: 0.9485\n",
      "\n",
      "best AUC-ROC Score at epoch 15: 0.9625\n",
      "\n",
      "-------- Epoch 20/30 --------\n"
     ]
    },
    {
     "name": "stderr",
     "output_type": "stream",
     "text": [
      "[020/030 epoch train]: 100%|██████████| 1600/1600 [03:45<00:00,  7.10it/s, lr=[1.3289788982505247e-05], loss=0.4520, CUDA-Mem=0%, CUDA-Util=0%]\n",
      "[020/030 epoch valid]: 100%|██████████| 400/400 [00:44<00:00,  8.91it/s, loss=4.2674, CUDA-Mem=0%, CUDA-Util=0%]\n"
     ]
    },
    {
     "name": "stdout",
     "output_type": "stream",
     "text": [
      "\n",
      "Train Loss: 0.4520\n",
      "Scale: 16 --> Train F1-Score: 0.9839 | Train Bacc: 0.9849 | Train ROC-AUC: 0.9910\n",
      "Scale: 32 --> Train F1-Score: 0.9712 | Train Bacc: 0.9684 | Train ROC-AUC: 0.9919\n",
      "Scale: 128 --> Train F1-Score: 0.9820 | Train Bacc: 0.9800 | Train ROC-AUC: 0.9939\n",
      "Aggregated Results --> Train F1-Score: 0.9904 | Train Bacc: 0.9946 | Train ROC-AUC: 0.9986\n",
      "\n",
      "Val Loss: 4.2674\n",
      "Scale: 16 --> Val F1-Score: 0.9733 | Val Bacc: 0.8472 | Val ROC-AUC: 0.9208\n",
      "Scale: 32 --> Val F1-Score: 0.9630 | Val Bacc: 0.8320 | Val ROC-AUC: 0.9515\n",
      "Scale: 128 --> Val F1-Score: 0.9711 | Val Bacc: 0.8242 | Val ROC-AUC: 0.9322\n",
      "Aggregated Results --> Val F1-Score: 0.9786 | Val Bacc: 0.8226 | Val ROC-AUC: 0.9483\n",
      "\n",
      "best AUC-ROC Score at epoch 15: 0.9625\n",
      "\n",
      "-------- Epoch 21/30 --------\n"
     ]
    },
    {
     "name": "stderr",
     "output_type": "stream",
     "text": [
      "[021/030 epoch train]: 100%|██████████| 1600/1600 [03:45<00:00,  7.11it/s, lr=[1.0970323365940443e-05], loss=0.4141, CUDA-Mem=0%, CUDA-Util=0%]\n",
      "[021/030 epoch valid]: 100%|██████████| 400/400 [00:44<00:00,  8.93it/s, loss=4.9389, CUDA-Mem=0%, CUDA-Util=0%]\n"
     ]
    },
    {
     "name": "stdout",
     "output_type": "stream",
     "text": [
      "\n",
      "Train Loss: 0.4141\n",
      "Scale: 16 --> Train F1-Score: 0.9854 | Train Bacc: 0.9859 | Train ROC-AUC: 0.9919\n",
      "Scale: 32 --> Train F1-Score: 0.9759 | Train Bacc: 0.9755 | Train ROC-AUC: 0.9937\n",
      "Scale: 128 --> Train F1-Score: 0.9857 | Train Bacc: 0.9825 | Train ROC-AUC: 0.9940\n",
      "Aggregated Results --> Train F1-Score: 0.9915 | Train Bacc: 0.9953 | Train ROC-AUC: 0.9989\n",
      "\n",
      "Val Loss: 4.9389\n",
      "Scale: 16 --> Val F1-Score: 0.9775 | Val Bacc: 0.8147 | Val ROC-AUC: 0.8569\n",
      "Scale: 32 --> Val F1-Score: 0.9697 | Val Bacc: 0.8160 | Val ROC-AUC: 0.9512\n",
      "Scale: 128 --> Val F1-Score: 0.9730 | Val Bacc: 0.8399 | Val ROC-AUC: 0.9206\n",
      "Aggregated Results --> Val F1-Score: 0.9795 | Val Bacc: 0.8232 | Val ROC-AUC: 0.9232\n",
      "\n",
      "best AUC-ROC Score at epoch 15: 0.9625\n",
      "\n",
      "-------- Epoch 22/30 --------\n"
     ]
    },
    {
     "name": "stderr",
     "output_type": "stream",
     "text": [
      "[022/030 epoch train]: 100%|██████████| 1600/1600 [03:43<00:00,  7.17it/s, lr=[8.815342880454311e-06], loss=0.3725, CUDA-Mem=0%, CUDA-Util=0%]\n",
      "[022/030 epoch valid]: 100%|██████████| 400/400 [00:44<00:00,  8.93it/s, loss=4.8491, CUDA-Mem=0%, CUDA-Util=0%]\n"
     ]
    },
    {
     "name": "stdout",
     "output_type": "stream",
     "text": [
      "\n",
      "Train Loss: 0.3725\n",
      "Scale: 16 --> Train F1-Score: 0.9852 | Train Bacc: 0.9858 | Train ROC-AUC: 0.9931\n",
      "Scale: 32 --> Train F1-Score: 0.9779 | Train Bacc: 0.9771 | Train ROC-AUC: 0.9947\n",
      "Scale: 128 --> Train F1-Score: 0.9852 | Train Bacc: 0.9858 | Train ROC-AUC: 0.9951\n",
      "Aggregated Results --> Train F1-Score: 0.9922 | Train Bacc: 0.9957 | Train ROC-AUC: 0.9991\n",
      "\n",
      "Val Loss: 4.8491\n",
      "Scale: 16 --> Val F1-Score: 0.9726 | Val Bacc: 0.8325 | Val ROC-AUC: 0.8698\n",
      "Scale: 32 --> Val F1-Score: 0.9634 | Val Bacc: 0.8323 | Val ROC-AUC: 0.9503\n",
      "Scale: 128 --> Val F1-Score: 0.9679 | Val Bacc: 0.8288 | Val ROC-AUC: 0.9163\n",
      "Aggregated Results --> Val F1-Score: 0.9774 | Val Bacc: 0.8218 | Val ROC-AUC: 0.9144\n",
      "\n",
      "best AUC-ROC Score at epoch 15: 0.9625\n",
      "\n",
      "-------- Epoch 23/30 --------\n"
     ]
    },
    {
     "name": "stderr",
     "output_type": "stream",
     "text": [
      "[023/030 epoch train]: 100%|██████████| 1600/1600 [03:43<00:00,  7.15it/s, lr=[6.850112701921736e-06], loss=0.3509, CUDA-Mem=0%, CUDA-Util=0%] \n",
      "[023/030 epoch valid]: 100%|██████████| 400/400 [00:44<00:00,  8.92it/s, loss=5.1789, CUDA-Mem=0%, CUDA-Util=0%]\n"
     ]
    },
    {
     "name": "stdout",
     "output_type": "stream",
     "text": [
      "\n",
      "Train Loss: 0.3509\n",
      "Scale: 16 --> Train F1-Score: 0.9875 | Train Bacc: 0.9873 | Train ROC-AUC: 0.9943\n",
      "Scale: 32 --> Train F1-Score: 0.9808 | Train Bacc: 0.9791 | Train ROC-AUC: 0.9956\n",
      "Scale: 128 --> Train F1-Score: 0.9878 | Train Bacc: 0.9857 | Train ROC-AUC: 0.9963\n",
      "Aggregated Results --> Train F1-Score: 0.9936 | Train Bacc: 0.9910 | Train ROC-AUC: 0.9992\n",
      "\n",
      "Val Loss: 5.1789\n",
      "Scale: 16 --> Val F1-Score: 0.9745 | Val Bacc: 0.8267 | Val ROC-AUC: 0.8508\n",
      "Scale: 32 --> Val F1-Score: 0.9667 | Val Bacc: 0.8066 | Val ROC-AUC: 0.9443\n",
      "Scale: 128 --> Val F1-Score: 0.9686 | Val Bacc: 0.8223 | Val ROC-AUC: 0.9133\n",
      "Aggregated Results --> Val F1-Score: 0.9780 | Val Bacc: 0.8151 | Val ROC-AUC: 0.9104\n",
      "\n",
      "best AUC-ROC Score at epoch 15: 0.9625\n",
      "\n",
      "-------- Epoch 24/30 --------\n"
     ]
    },
    {
     "name": "stderr",
     "output_type": "stream",
     "text": [
      "[024/030 epoch train]: 100%|██████████| 1600/1600 [03:45<00:00,  7.10it/s, lr=[5.097673357358906e-06], loss=0.3054, CUDA-Mem=0%, CUDA-Util=0%] \n",
      "[024/030 epoch valid]: 100%|██████████| 400/400 [00:44<00:00,  8.92it/s, loss=5.2523, CUDA-Mem=0%, CUDA-Util=0%]\n"
     ]
    },
    {
     "name": "stdout",
     "output_type": "stream",
     "text": [
      "\n",
      "Train Loss: 0.3054\n",
      "Scale: 16 --> Train F1-Score: 0.9885 | Train Bacc: 0.9879 | Train ROC-AUC: 0.9948\n",
      "Scale: 32 --> Train F1-Score: 0.9820 | Train Bacc: 0.9836 | Train ROC-AUC: 0.9962\n",
      "Scale: 128 --> Train F1-Score: 0.9890 | Train Bacc: 0.9901 | Train ROC-AUC: 0.9968\n",
      "Aggregated Results --> Train F1-Score: 0.9941 | Train Bacc: 0.9949 | Train ROC-AUC: 0.9994\n",
      "\n",
      "Val Loss: 5.2523\n",
      "Scale: 16 --> Val F1-Score: 0.9766 | Val Bacc: 0.8426 | Val ROC-AUC: 0.8400\n",
      "Scale: 32 --> Val F1-Score: 0.9682 | Val Bacc: 0.8077 | Val ROC-AUC: 0.9431\n",
      "Scale: 128 --> Val F1-Score: 0.9723 | Val Bacc: 0.8109 | Val ROC-AUC: 0.9078\n",
      "Aggregated Results --> Val F1-Score: 0.9788 | Val Bacc: 0.8227 | Val ROC-AUC: 0.9143\n",
      "\n",
      "best AUC-ROC Score at epoch 15: 0.9625\n",
      "\n",
      "-------- Epoch 25/30 --------\n"
     ]
    },
    {
     "name": "stderr",
     "output_type": "stream",
     "text": [
      "[025/030 epoch train]: 100%|██████████| 1600/1600 [03:43<00:00,  7.16it/s, lr=[3.578570595810273e-06], loss=0.2726, CUDA-Mem=0%, CUDA-Util=0%] \n",
      "[025/030 epoch valid]: 100%|██████████| 400/400 [00:44<00:00,  8.93it/s, loss=5.8394, CUDA-Mem=0%, CUDA-Util=0%]\n"
     ]
    },
    {
     "name": "stdout",
     "output_type": "stream",
     "text": [
      "\n",
      "Train Loss: 0.2726\n",
      "Scale: 16 --> Train F1-Score: 0.9903 | Train Bacc: 0.9909 | Train ROC-AUC: 0.9954\n",
      "Scale: 32 --> Train F1-Score: 0.9836 | Train Bacc: 0.9847 | Train ROC-AUC: 0.9962\n",
      "Scale: 128 --> Train F1-Score: 0.9923 | Train Bacc: 0.9921 | Train ROC-AUC: 0.9971\n",
      "Aggregated Results --> Train F1-Score: 0.9950 | Train Bacc: 0.9973 | Train ROC-AUC: 0.9994\n",
      "\n",
      "Val Loss: 5.8394\n",
      "Scale: 16 --> Val F1-Score: 0.9783 | Val Bacc: 0.8224 | Val ROC-AUC: 0.8105\n",
      "Scale: 32 --> Val F1-Score: 0.9705 | Val Bacc: 0.8024 | Val ROC-AUC: 0.9424\n",
      "Scale: 128 --> Val F1-Score: 0.9771 | Val Bacc: 0.8002 | Val ROC-AUC: 0.9002\n",
      "Aggregated Results --> Val F1-Score: 0.9809 | Val Bacc: 0.7957 | Val ROC-AUC: 0.9104\n",
      "\n",
      "best AUC-ROC Score at epoch 15: 0.9625\n",
      "\n",
      "-------- Epoch 26/30 --------\n"
     ]
    },
    {
     "name": "stderr",
     "output_type": "stream",
     "text": [
      "[026/030 epoch train]: 100%|██████████| 1600/1600 [03:45<00:00,  7.11it/s, lr=[2.310614508226077e-06], loss=0.2590, CUDA-Mem=0%, CUDA-Util=0%] \n",
      "[026/030 epoch valid]: 100%|██████████| 400/400 [00:44<00:00,  8.90it/s, loss=5.9157, CUDA-Mem=0%, CUDA-Util=0%]\n"
     ]
    },
    {
     "name": "stdout",
     "output_type": "stream",
     "text": [
      "\n",
      "Train Loss: 0.2590\n",
      "Scale: 16 --> Train F1-Score: 0.9914 | Train Bacc: 0.9916 | Train ROC-AUC: 0.9962\n",
      "Scale: 32 --> Train F1-Score: 0.9849 | Train Bacc: 0.9856 | Train ROC-AUC: 0.9967\n",
      "Scale: 128 --> Train F1-Score: 0.9931 | Train Bacc: 0.9908 | Train ROC-AUC: 0.9973\n",
      "Aggregated Results --> Train F1-Score: 0.9955 | Train Bacc: 0.9976 | Train ROC-AUC: 0.9995\n",
      "\n",
      "Val Loss: 5.9157\n",
      "Scale: 16 --> Val F1-Score: 0.9794 | Val Bacc: 0.8160 | Val ROC-AUC: 0.7871\n",
      "Scale: 32 --> Val F1-Score: 0.9713 | Val Bacc: 0.8031 | Val ROC-AUC: 0.9411\n",
      "Scale: 128 --> Val F1-Score: 0.9737 | Val Bacc: 0.8048 | Val ROC-AUC: 0.8958\n",
      "Aggregated Results --> Val F1-Score: 0.9803 | Val Bacc: 0.7882 | Val ROC-AUC: 0.9054\n",
      "\n",
      "best AUC-ROC Score at epoch 15: 0.9625\n",
      "\n",
      "-------- Epoch 27/30 --------\n"
     ]
    },
    {
     "name": "stderr",
     "output_type": "stream",
     "text": [
      "[027/030 epoch train]: 100%|██████████| 1600/1600 [03:46<00:00,  7.06it/s, lr=[1.308670720429941e-06], loss=0.2388, CUDA-Mem=0%, CUDA-Util=0%] \n",
      "[027/030 epoch valid]: 100%|██████████| 400/400 [00:45<00:00,  8.73it/s, loss=5.9709, CUDA-Mem=0%, CUDA-Util=0%]\n"
     ]
    },
    {
     "name": "stdout",
     "output_type": "stream",
     "text": [
      "\n",
      "Train Loss: 0.2388\n",
      "Scale: 16 --> Train F1-Score: 0.9928 | Train Bacc: 0.9924 | Train ROC-AUC: 0.9964\n",
      "Scale: 32 --> Train F1-Score: 0.9852 | Train Bacc: 0.9858 | Train ROC-AUC: 0.9968\n",
      "Scale: 128 --> Train F1-Score: 0.9932 | Train Bacc: 0.9926 | Train ROC-AUC: 0.9975\n",
      "Aggregated Results --> Train F1-Score: 0.9960 | Train Bacc: 0.9978 | Train ROC-AUC: 0.9995\n",
      "\n",
      "Val Loss: 5.9709\n",
      "Scale: 16 --> Val F1-Score: 0.9787 | Val Bacc: 0.8155 | Val ROC-AUC: 0.7803\n",
      "Scale: 32 --> Val F1-Score: 0.9704 | Val Bacc: 0.8095 | Val ROC-AUC: 0.9422\n",
      "Scale: 128 --> Val F1-Score: 0.9739 | Val Bacc: 0.8050 | Val ROC-AUC: 0.8945\n",
      "Aggregated Results --> Val F1-Score: 0.9808 | Val Bacc: 0.7885 | Val ROC-AUC: 0.9034\n",
      "\n",
      "best AUC-ROC Score at epoch 15: 0.9625\n",
      "\n",
      "-------- Epoch 28/30 --------\n"
     ]
    },
    {
     "name": "stderr",
     "output_type": "stream",
     "text": [
      "[028/030 epoch train]: 100%|██████████| 1600/1600 [03:42<00:00,  7.18it/s, lr=[5.84486107247834e-07], loss=0.2276, CUDA-Mem=0%, CUDA-Util=0%] \n",
      "[028/030 epoch valid]: 100%|██████████| 400/400 [00:45<00:00,  8.80it/s, loss=6.1822, CUDA-Mem=0%, CUDA-Util=0%]\n"
     ]
    },
    {
     "name": "stdout",
     "output_type": "stream",
     "text": [
      "\n",
      "Train Loss: 0.2276\n",
      "Scale: 16 --> Train F1-Score: 0.9931 | Train Bacc: 0.9926 | Train ROC-AUC: 0.9970\n",
      "Scale: 32 --> Train F1-Score: 0.9867 | Train Bacc: 0.9868 | Train ROC-AUC: 0.9970\n",
      "Scale: 128 --> Train F1-Score: 0.9935 | Train Bacc: 0.9928 | Train ROC-AUC: 0.9977\n",
      "Aggregated Results --> Train F1-Score: 0.9965 | Train Bacc: 0.9981 | Train ROC-AUC: 0.9995\n",
      "\n",
      "Val Loss: 6.1822\n",
      "Scale: 16 --> Val F1-Score: 0.9801 | Val Bacc: 0.8165 | Val ROC-AUC: 0.7768\n",
      "Scale: 32 --> Val F1-Score: 0.9709 | Val Bacc: 0.7885 | Val ROC-AUC: 0.9426\n",
      "Scale: 128 --> Val F1-Score: 0.9756 | Val Bacc: 0.8063 | Val ROC-AUC: 0.8929\n",
      "Aggregated Results --> Val F1-Score: 0.9813 | Val Bacc: 0.7888 | Val ROC-AUC: 0.8976\n",
      "\n",
      "best AUC-ROC Score at epoch 15: 0.9625\n",
      "\n",
      "-------- Epoch 29/30 --------\n"
     ]
    },
    {
     "name": "stderr",
     "output_type": "stream",
     "text": [
      "[029/030 epoch train]: 100%|██████████| 1600/1600 [03:42<00:00,  7.19it/s, lr=[1.4655107114101023e-07], loss=0.2197, CUDA-Mem=0%, CUDA-Util=0%]\n",
      "[029/030 epoch valid]: 100%|██████████| 400/400 [00:44<00:00,  8.94it/s, loss=6.2740, CUDA-Mem=0%, CUDA-Util=0%]\n"
     ]
    },
    {
     "name": "stdout",
     "output_type": "stream",
     "text": [
      "\n",
      "Train Loss: 0.2197\n",
      "Scale: 16 --> Train F1-Score: 0.9934 | Train Bacc: 0.9927 | Train ROC-AUC: 0.9974\n",
      "Scale: 32 --> Train F1-Score: 0.9870 | Train Bacc: 0.9906 | Train ROC-AUC: 0.9971\n",
      "Scale: 128 --> Train F1-Score: 0.9934 | Train Bacc: 0.9928 | Train ROC-AUC: 0.9978\n",
      "Aggregated Results --> Train F1-Score: 0.9966 | Train Bacc: 0.9982 | Train ROC-AUC: 0.9995\n",
      "\n",
      "Val Loss: 6.2740\n",
      "Scale: 16 --> Val F1-Score: 0.9801 | Val Bacc: 0.8165 | Val ROC-AUC: 0.7761\n",
      "Scale: 32 --> Val F1-Score: 0.9713 | Val Bacc: 0.7889 | Val ROC-AUC: 0.9424\n",
      "Scale: 128 --> Val F1-Score: 0.9770 | Val Bacc: 0.8072 | Val ROC-AUC: 0.8917\n",
      "Aggregated Results --> Val F1-Score: 0.9818 | Val Bacc: 0.7892 | Val ROC-AUC: 0.8963\n",
      "\n",
      "best AUC-ROC Score at epoch 15: 0.9625\n",
      "\n",
      "-------- Epoch 30/30 --------\n"
     ]
    },
    {
     "name": "stderr",
     "output_type": "stream",
     "text": [
      "[030/030 epoch train]: 100%|██████████| 1600/1600 [03:47<00:00,  7.04it/s, lr=[1.874699728327322e-37], loss=0.2164, CUDA-Mem=0%, CUDA-Util=0%] \n",
      "[030/030 epoch valid]: 100%|██████████| 400/400 [00:44<00:00,  8.91it/s, loss=6.2794, CUDA-Mem=0%, CUDA-Util=0%]\n"
     ]
    },
    {
     "name": "stdout",
     "output_type": "stream",
     "text": [
      "\n",
      "Train Loss: 0.2164\n",
      "Scale: 16 --> Train F1-Score: 0.9934 | Train Bacc: 0.9927 | Train ROC-AUC: 0.9976\n",
      "Scale: 32 --> Train F1-Score: 0.9871 | Train Bacc: 0.9906 | Train ROC-AUC: 0.9971\n",
      "Scale: 128 --> Train F1-Score: 0.9937 | Train Bacc: 0.9929 | Train ROC-AUC: 0.9979\n",
      "Aggregated Results --> Train F1-Score: 0.9967 | Train Bacc: 0.9982 | Train ROC-AUC: 0.9996\n",
      "\n",
      "Val Loss: 6.2794\n",
      "Scale: 16 --> Val F1-Score: 0.9801 | Val Bacc: 0.8165 | Val ROC-AUC: 0.7762\n",
      "Scale: 32 --> Val F1-Score: 0.9713 | Val Bacc: 0.7889 | Val ROC-AUC: 0.9423\n",
      "Scale: 128 --> Val F1-Score: 0.9770 | Val Bacc: 0.8072 | Val ROC-AUC: 0.8915\n",
      "Aggregated Results --> Val F1-Score: 0.9818 | Val Bacc: 0.7892 | Val ROC-AUC: 0.8960\n",
      "\n",
      "best AUC-ROC Score at epoch 15: 0.9625\n"
     ]
    },
    {
     "name": "stderr",
     "output_type": "stream",
     "text": [
      "100%|██████████| 500/500 [00:55<00:00,  9.00it/s, loss=0.5176, CUDA-Mem=0%, CUDA-Util=0%]\n"
     ]
    },
    {
     "name": "stdout",
     "output_type": "stream",
     "text": [
      "\n",
      "Test Loss: 0.5176\n",
      "Scale: 16 --> Test F1-Score: 0.9694 | Test Bacc: 0.8291 | Test ROC-AUC: 0.9356\n",
      "Scale: 32 --> Test F1-Score: 0.9581 | Test Bacc: 0.8754 | Test ROC-AUC: 0.9366\n",
      "Scale: 128 --> Test F1-Score: 0.9433 | Test Bacc: 0.8404 | Test ROC-AUC: 0.8822\n",
      "Aggregated Results --> Test F1-Score: 0.9722 | Test Bacc: 0.8403 | Test ROC-AUC: 0.9223\n",
      "---------------finished running code-------------------\n"
     ]
    },
    {
     "data": {
      "text/plain": [
       "<Figure size 640x480 with 0 Axes>"
      ]
     },
     "metadata": {},
     "output_type": "display_data"
    },
    {
     "data": {
      "text/plain": [
       "<Figure size 2000x800 with 0 Axes>"
      ]
     },
     "metadata": {},
     "output_type": "display_data"
    },
    {
     "data": {
      "text/plain": [
       "<Figure size 1000x800 with 0 Axes>"
      ]
     },
     "metadata": {},
     "output_type": "display_data"
    },
    {
     "data": {
      "text/plain": [
       "<Figure size 640x480 with 0 Axes>"
      ]
     },
     "metadata": {},
     "output_type": "display_data"
    },
    {
     "data": {
      "text/plain": [
       "<Figure size 640x480 with 0 Axes>"
      ]
     },
     "metadata": {},
     "output_type": "display_data"
    }
   ],
   "source": [
    "%run foundational_models/Mammo-CLIP-main/Mammo-CLIP-main/src3-Copy1/codebase/main.py \\\n",
    "  --clip_chk_pt_path \"foundational_models/Mammo-CLIP-main/Mammo-CLIP-main/b2-model-best-epoch-10.tar\" \\\n",
    "  --dataset 'ViNDr' \\\n",
    "  --label \"Suspicious_Calcification\" \\\n",
    "  --train --epochs 30 --batch-size 8 \\\n",
    "  --num-workers 4 \\\n",
    "  --eval_scheme 'kruns_train+val+test' --n_runs 1 \\\n",
    "  --lr 5.0e-5 \\\n",
    "  --weighted-BCE 'y' \\\n",
    "  --mil_type 'pyramidal_mil' \\\n",
    "  --pooling_type 'pma' \\\n",
    "  --fcl_encoder_dim 256 \\\n",
    "  --fcl_dropout 0.25 \\\n",
    "  --fpn_dim 256 \\\n",
    "  --multi_scale_model 'fpn' \\\n",
    "  --type_mil_encoder 'isab' \\\n",
    "  --trans_layer_norm True \\\n",
    "  --type_scale_aggregator 'concatenation' \\\n",
    "  --deep_supervision --scales 16 32 128 \n",
    "\n",
    "print('---------------finished running code-------------------')"
   ]
  },
  {
   "cell_type": "code",
   "execution_count": null,
   "id": "b47e3571-6382-4df8-91c5-c27b9b089e96",
   "metadata": {},
   "outputs": [],
   "source": []
  }
 ],
 "metadata": {
  "kernelspec": {
   "display_name": "Python 3 (ipykernel)",
   "language": "python",
   "name": "python3"
  },
  "language_info": {
   "codemirror_mode": {
    "name": "ipython",
    "version": 3
   },
   "file_extension": ".py",
   "mimetype": "text/x-python",
   "name": "python",
   "nbconvert_exporter": "python",
   "pygments_lexer": "ipython3",
   "version": "3.10.11"
  }
 },
 "nbformat": 4,
 "nbformat_minor": 5
}

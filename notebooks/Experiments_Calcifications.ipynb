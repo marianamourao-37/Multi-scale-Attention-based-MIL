{
 "cells": [
  {
   "cell_type": "markdown",
   "id": "8fc6f752-4863-499c-99ba-b8f5d9429b4d",
   "metadata": {},
   "source": [
    "# FPN-SetTrans --> best model "
   ]
  },
  {
   "cell_type": "markdown",
   "id": "27a582c4-016d-401c-b42b-cb49a7c5d25e",
   "metadata": {},
   "source": [
    "## Image Classification "
   ]
  },
  {
   "cell_type": "code",
   "execution_count": null,
   "id": "cedcda72-6f7f-473a-9767-2cdf884f06ad",
   "metadata": {
    "scrolled": true
   },
   "outputs": [],
   "source": [
    "%run main.py \\\n",
    "--clip_chk_pt_path \"foundational_models/Mammo-CLIP-main/b2-model-best-epoch-10.tar\" \\\n",
    "--dataset 'ViNDr' \\\n",
    "--label \"Suspicious_Calcification\" \\\n",
    "--train --epochs 30 --batch-size 8 \\\n",
    "--eval_scheme 'kruns_train+val+test' --n_runs 1 \\\n",
    "--lr 5.0e-5 \\\n",
    "--weighted-BCE 'y' \\\n",
    "--mil_type 'pyramidal_mil' \\\n",
    "--multi_scale_model 'fpn' \\\n",
    "--fpn_dim 256 \\\n",
    "--fcl_encoder_dim 256 \\\n",
    "--fcl_dropout 0.25 \\\n",
    "--type_mil_encoder 'isab' \\\n",
    "--trans_layer_norm True \\\n",
    "--pooling_type 'pma' \\\n",
    "--drop_attention_pool 0.25 \\\n",
    "--type_scale_aggregator 'gated-attention' \\\n",
    "--deep_supervision \\\n",
    "--scales 16 32 128 \n",
    "\n",
    "print('---------------finished running code-------------------')"
   ]
  },
  {
   "cell_type": "markdown",
   "id": "d31c8c15-4533-4688-bba1-00082b4df8f2",
   "metadata": {},
   "source": [
    "## Lesion Detection "
   ]
  },
  {
   "cell_type": "markdown",
   "id": "d1c7e2da-a255-46ac-8fda-4b3dccbc718b",
   "metadata": {},
   "source": [
    "### all lesions (mAP) "
   ]
  },
  {
   "cell_type": "code",
   "execution_count": null,
   "id": "84bb6451-9193-4c7d-87b6-2a90fc4a9af6",
   "metadata": {
    "scrolled": true
   },
   "outputs": [],
   "source": [
    "path = 'output/MIL_experiments/Suspicious_Calcification/offline_feature_extraction/multi_scale/fpn-deep_supervision/scale_aggregator_gated-attention/isab-dim_256-nblocks_2-nheads_4-dropout_0.0-layer_norm-softmax/pooling_pma-dropout_0.0-layer_norm-softmax/2025-06-24'\n",
    "\n",
    "%run main.py \\\n",
    "--clip_chk_pt_path \"foundational_models/Mammo-CLIP-main/b2-model-best-epoch-10.tar\" \\\n",
    "--dataset 'ViNDr' \\\n",
    "--label \"Suspicious_Calcification\" \\\n",
    "--roi_eval \\\n",
    "--roi_eval_set 'test' \\\n",
    "--resume \"$path\" \\\n",
    "--feature_extraction 'online' \\\n",
    "--patch_size 512 \\\n",
    "--overlap 0.75 \\\n",
    "--mil_type 'pyramidal_mil' \\\n",
    "--multi_scale_model 'fpn' \\\n",
    "--fpn_dim 256 \\\n",
    "--fcl_encoder_dim 256 \\\n",
    "--fcl_dropout 0.25 \\\n",
    "--type_mil_encoder 'isab' \\\n",
    "--trans_layer_norm True \\\n",
    "--pooling_type 'pma' \\\n",
    "--drop_attention_pool 0.25 \\\n",
    "--type_scale_aggregator 'gated-attention' \\\n",
    "--deep_supervision \\\n",
    "--scales 16 32 128 \n",
    "\n",
    "print('---------------finished running code-------------------')"
   ]
  },
  {
   "cell_type": "markdown",
   "id": "557cb09c-7af7-4180-8fab-d8fd517eab7d",
   "metadata": {},
   "source": [
    "### small lesions (mAP_s)"
   ]
  },
  {
   "cell_type": "code",
   "execution_count": null,
   "id": "7eb93070-0d2e-448d-bf11-7b4961e0a997",
   "metadata": {
    "scrolled": true
   },
   "outputs": [],
   "source": [
    "path = 'output/MIL_experiments/Suspicious_Calcification/offline_feature_extraction/multi_scale/fpn-deep_supervision/scale_aggregator_gated-attention/isab-dim_256-nblocks_2-nheads_4-dropout_0.0-layer_norm-softmax/pooling_pma-dropout_0.0-layer_norm-softmax/2025-06-24'\n",
    "\n",
    "%run main.py \\\n",
    "--clip_chk_pt_path \"foundational_models/Mammo-CLIP-main/b2-model-best-epoch-10.tar\" \\\n",
    "--dataset 'ViNDr' \\\n",
    "--label \"Suspicious_Calcification\" \\\n",
    "--roi_eval \\\n",
    "--roi_eval_scheme 'small_roi' \\\n",
    "--roi_eval_set 'test' \\\n",
    "--resume \"$path\" \\\n",
    "--feature_extraction 'online' \\\n",
    "--patch_size 512 \\\n",
    "--overlap 0.75 \\\n",
    "--mil_type 'pyramidal_mil' \\\n",
    "--multi_scale_model 'fpn' \\\n",
    "--fpn_dim 256 \\\n",
    "--fcl_encoder_dim 256 \\\n",
    "--fcl_dropout 0.25 \\\n",
    "--type_mil_encoder 'isab' \\\n",
    "--trans_layer_norm True \\\n",
    "--pooling_type 'pma' \\\n",
    "--drop_attention_pool 0.25 \\\n",
    "--type_scale_aggregator 'gated-attention' \\\n",
    "--deep_supervision \\\n",
    "--scales 16 32 128 \n",
    "\n",
    "print('---------------finished running code-------------------')"
   ]
  },
  {
   "cell_type": "markdown",
   "id": "7ca4683f-a5c0-4594-aadc-8b79d66c623b",
   "metadata": {},
   "source": [
    "### medium lesions (mAP_m)"
   ]
  },
  {
   "cell_type": "code",
   "execution_count": null,
   "id": "c72bb3e5-7bcd-4faa-87dc-3bd7c59b29af",
   "metadata": {
    "scrolled": true
   },
   "outputs": [],
   "source": [
    "path = 'output/MIL_experiments/Suspicious_Calcification/offline_feature_extraction/multi_scale/fpn-deep_supervision/scale_aggregator_gated-attention/isab-dim_256-nblocks_2-nheads_4-dropout_0.0-layer_norm-softmax/pooling_pma-dropout_0.0-layer_norm-softmax/2025-06-24'\n",
    "\n",
    "%run main.py \\\n",
    "--clip_chk_pt_path \"foundational_models/Mammo-CLIP-main/b2-model-best-epoch-10.tar\" \\\n",
    "--dataset 'ViNDr' \\\n",
    "--label \"Suspicious_Calcification\" \\\n",
    "--roi_eval \\\n",
    "--roi_eval_scheme 'medium_roi' \\\n",
    "--roi_eval_set 'test' \\\n",
    "--resume \"$path\" \\\n",
    "--feature_extraction 'online' \\\n",
    "--patch_size 512 \\\n",
    "--overlap 0.75 \\\n",
    "--mil_type 'pyramidal_mil' \\\n",
    "--multi_scale_model 'fpn' \\\n",
    "--fpn_dim 256 \\\n",
    "--fcl_encoder_dim 256 \\\n",
    "--fcl_dropout 0.25 \\\n",
    "--type_mil_encoder 'isab' \\\n",
    "--trans_layer_norm True \\\n",
    "--pooling_type 'pma' \\\n",
    "--drop_attention_pool 0.25 \\\n",
    "--type_scale_aggregator 'gated-attention' \\\n",
    "--deep_supervision \\\n",
    "--scales 16 32 128 \n",
    "\n",
    "print('---------------finished running code-------------------')"
   ]
  },
  {
   "cell_type": "markdown",
   "id": "0375059f-19eb-484a-be9e-d7366af086bc",
   "metadata": {},
   "source": [
    "### large lesions (mAP_l)"
   ]
  },
  {
   "cell_type": "code",
   "execution_count": null,
   "id": "d62838fa-4110-43ce-bcd1-703801feb71a",
   "metadata": {
    "scrolled": true
   },
   "outputs": [],
   "source": [
    "path = 'output/MIL_experiments/Suspicious_Calcification/offline_feature_extraction/multi_scale/fpn-deep_supervision/scale_aggregator_gated-attention/isab-dim_256-nblocks_2-nheads_4-dropout_0.0-layer_norm-softmax/pooling_pma-dropout_0.0-layer_norm-softmax/2025-06-24'\n",
    "\n",
    "%run main.py \\\n",
    "--clip_chk_pt_path \"foundational_models/Mammo-CLIP-main/b2-model-best-epoch-10.tar\" \\\n",
    "--dataset 'ViNDr' \\\n",
    "--label \"Suspicious_Calcification\" \\\n",
    "--roi_eval \\\n",
    "--roi_eval_scheme 'large_roi' \\\n",
    "--roi_eval_set 'test' \\\n",
    "--resume \"$path\" \\\n",
    "--feature_extraction 'online' \\\n",
    "--patch_size 512 \\\n",
    "--overlap 0.75 \\\n",
    "--mil_type 'pyramidal_mil' \\\n",
    "--multi_scale_model 'fpn' \\\n",
    "--fpn_dim 256 \\\n",
    "--fcl_encoder_dim 256 \\\n",
    "--fcl_dropout 0.25 \\\n",
    "--type_mil_encoder 'isab' \\\n",
    "--trans_layer_norm True \\\n",
    "--pooling_type 'pma' \\\n",
    "--drop_attention_pool 0.25 \\\n",
    "--type_scale_aggregator 'gated-attention' \\\n",
    "--deep_supervision \\\n",
    "--scales 16 32 128  \n",
    "\n",
    "print('---------------finished running code-------------------')"
   ]
  },
  {
   "cell_type": "markdown",
   "id": "9a677dd0-31c4-4ac9-b4fb-a22ccef7f25d",
   "metadata": {},
   "source": [
    "# FPN-AbMIL"
   ]
  },
  {
   "cell_type": "code",
   "execution_count": null,
   "id": "1e6e8410-f08a-4fe7-ba10-3679c5cb651c",
   "metadata": {
    "scrolled": true
   },
   "outputs": [],
   "source": [
    "%run main.py \\\n",
    "--clip_chk_pt_path \"foundational_models/Mammo-CLIP-main/b2-model-best-epoch-10.tar\" \\\n",
    "--dataset 'ViNDr' \\\n",
    "--label \"Suspicious_Calcification\" \\\n",
    "--train --epochs 30 --batch-size 8 \\\n",
    "--eval_scheme 'kruns_train+val+test' --n_runs 1 \\\n",
    "--lr 5.0e-5 \\\n",
    "--weighted-BCE 'y' \\\n",
    "--mil_type 'pyramidal_mil' \\\n",
    "--multi_scale_model 'fpn' \\\n",
    "--fpn_dim 256 \\\n",
    "--fcl_encoder_dim 256 \\\n",
    "--fcl_dropout 0.25 \\\n",
    "--pooling_type 'gated-attention' \\\n",
    "--drop_attention_pool 0.25 \\\n",
    "--type_scale_aggregator 'gated-attention' \\\n",
    "--deep_supervision \\ \n",
    "--scales 16 32 128 \n",
    "\n",
    "print('---------------finished running code-------------------')"
   ]
  },
  {
   "cell_type": "markdown",
   "id": "a496503a-01b3-463c-9548-0a38a66af6d8",
   "metadata": {},
   "source": [
    "# Ablation Studies "
   ]
  },
  {
   "cell_type": "markdown",
   "id": "8da5dcba-a163-4084-9496-f15c00b01e17",
   "metadata": {},
   "source": [
    "## Effect of Different Multi-scale Instance Encoders "
   ]
  },
  {
   "cell_type": "markdown",
   "id": "cfa4139f-ab88-449d-8edb-8e97bc98c5b4",
   "metadata": {},
   "source": [
    "### Based on Multi-scale Patches (MSP)"
   ]
  },
  {
   "cell_type": "code",
   "execution_count": null,
   "id": "91b8c3cf-3e04-4989-8d71-f39d798946c6",
   "metadata": {
    "scrolled": true
   },
   "outputs": [],
   "source": [
    "%run main.py \\\n",
    "--clip_chk_pt_path \"foundational_models/Mammo-CLIP-main/b2-model-best-epoch-10.tar\" \\\n",
    "--dataset 'ViNDr' \\\n",
    "--label \"Suspicious_Calcification\" \\\n",
    "--train --epochs 30 --batch-size 8 \\\n",
    "--eval_scheme 'kruns_train+val+test' --n_runs 1 \\\n",
    "--lr 5.0e-5 \\\n",
    "--weighted-BCE 'y' \\\n",
    "--mil_type 'pyramidal_mil' \\\n",
    "--multi_scale_model 'msp' \\\n",
    "--fcl_encoder_dim 256 \\\n",
    "--fcl_dropout 0.25 \\\n",
    "--type_mil_encoder 'isab' \\\n",
    "--trans_layer_norm True \\\n",
    "--pooling_type 'pma' \\\n",
    "--drop_attention_pool 0.25 \\\n",
    "--type_scale_aggregator 'gated-attention' \\\n",
    "--deep_supervision \\\n",
    "--scales 128 256 384 \n",
    "\n",
    "print('---------------finished running code-------------------')"
   ]
  },
  {
   "cell_type": "markdown",
   "id": "934cadfb-e8be-46ad-b23b-9478ee663dd4",
   "metadata": {},
   "source": [
    "## Effect of Different Multi-scale Aggregators"
   ]
  },
  {
   "cell_type": "markdown",
   "id": "51a759d0-d6ca-4566-944f-bb9895aa47f4",
   "metadata": {},
   "source": [
    "### w/o "
   ]
  },
  {
   "cell_type": "code",
   "execution_count": null,
   "id": "bb760b84-898e-4371-9b44-c0c7e5eabb41",
   "metadata": {
    "scrolled": true
   },
   "outputs": [],
   "source": [
    "%run main.py \\\n",
    "--clip_chk_pt_path \"foundational_models/Mammo-CLIP-main/b2-model-best-epoch-10.tar\" \\\n",
    "--dataset 'ViNDr' \\\n",
    "--label \"Suspicious_Calcification\" \\\n",
    "--train --epochs 30 --batch-size 8 \\\n",
    "--eval_scheme 'kruns_train+val+test' --n_runs 1 \\\n",
    "--lr 5.0e-5 \\\n",
    "--weighted-BCE 'y' \\\n",
    "--mil_type 'pyramidal_mil' \\\n",
    "--multi_scale_model 'fpn' \\\n",
    "--fpn_dim 256 \\\n",
    "--fcl_encoder_dim 256 \\\n",
    "--fcl_dropout 0.25 \\\n",
    "--type_mil_encoder 'isab' \\\n",
    "--trans_layer_norm True \\\n",
    "--pooling_type 'pma' \\\n",
    "--type_scale_aggregator 'mean_p' \\\n",
    "--deep_supervision \\\n",
    "--scales 16 32 128 \n",
    "\n",
    "print('---------------finished running code-------------------')"
   ]
  },
  {
   "cell_type": "markdown",
   "id": "f5e2f4ef-58e9-4251-9862-7399d92f7e17",
   "metadata": {},
   "source": [
    "### concat "
   ]
  },
  {
   "cell_type": "code",
   "execution_count": null,
   "id": "52fa1344-d215-49fd-8685-4b8621876c25",
   "metadata": {
    "scrolled": true
   },
   "outputs": [],
   "source": [
    "%run main.py \\\n",
    "--clip_chk_pt_path \"foundational_models/Mammo-CLIP-main/b2-model-best-epoch-10.tar\" \\\n",
    "--dataset 'ViNDr' \\\n",
    "--label \"Suspicious_Calcification\" \\\n",
    "--train --epochs 30 --batch-size 8 \\\n",
    "--eval_scheme 'kruns_train+val+test' --n_runs 1 \\\n",
    "--lr 5.0e-5 \\\n",
    "--weighted-BCE 'y' \\\n",
    "--mil_type 'pyramidal_mil' \\\n",
    "--multi_scale_model 'fpn' \\\n",
    "--fpn_dim 256 \\\n",
    "--fcl_encoder_dim 256 \\\n",
    "--fcl_dropout 0.25 \\\n",
    "--type_mil_encoder 'isab' \\\n",
    "--trans_layer_norm True \\\n",
    "--pooling_type 'pma' \\\n",
    "--type_scale_aggregator 'concatenation' \\\n",
    "--deep_supervision \\ \n",
    "--scales 16 32 128 \n",
    "\n",
    "print('---------------finished running code-------------------')"
   ]
  },
  {
   "cell_type": "code",
   "execution_count": null,
   "id": "b47e3571-6382-4df8-91c5-c27b9b089e96",
   "metadata": {},
   "outputs": [],
   "source": []
  }
 ],
 "metadata": {
  "kernelspec": {
   "display_name": "Python 3 (ipykernel)",
   "language": "python",
   "name": "python3"
  },
  "language_info": {
   "codemirror_mode": {
    "name": "ipython",
    "version": 3
   },
   "file_extension": ".py",
   "mimetype": "text/x-python",
   "name": "python",
   "nbconvert_exporter": "python",
   "pygments_lexer": "ipython3",
   "version": "3.10.11"
  }
 },
 "nbformat": 4,
 "nbformat_minor": 5
}

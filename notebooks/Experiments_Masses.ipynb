{
 "cells": [
  {
   "cell_type": "markdown",
   "id": "30526d08-5129-4e81-b5da-f880d11616eb",
   "metadata": {},
   "source": [
    "# FPN-AbMIL --> best model "
   ]
  },
  {
   "cell_type": "markdown",
   "id": "48a56722-8a0a-4122-a40b-1062e763c0a1",
   "metadata": {},
   "source": [
    "## Image Classification "
   ]
  },
  {
   "cell_type": "code",
   "execution_count": 1,
   "id": "5f9312ad-f3ce-4c72-a599-a38997c3ad47",
   "metadata": {
    "scrolled": true
   },
   "outputs": [
    {
     "name": "stderr",
     "output_type": "stream",
     "text": [
      "/home/csantiago/.local/lib/python3.10/site-packages/albumentations/__init__.py:13: UserWarning: A new version of Albumentations is available: 2.0.8 (you have 1.4.18). Upgrade using: pip install -U albumentations. To disable automatic update checks, set the environment variable NO_ALBUMENTATIONS_UPDATE to 1.\n",
      "  check_for_updates()\n"
     ]
    },
    {
     "name": "stdout",
     "output_type": "stream",
     "text": [
      "\n",
      "torch.cuda.current_device(): 0\n",
      "\n",
      "Using device: cuda\n",
      "output_path: Mammo-CLIP-output/out_splits_new/MIL_experiments/ViNDr_data_frac_1.0/Mass/offline_feature_extraction/multi_scale/fpn-deep_supervision/scale_aggregator_gated-attention/encoder_mlp-dim_256-dropout_0.25/pooling_gated-attention-dropout_0.25-softmax/2025-06-26\n",
      "df shape: (20000, 16)\n",
      "Index(['image_id', 'patient_id', 'laterality', 'view', 'finding_categories',\n",
      "       'finding_birads', 'breast_birads', 'breast_density', 'split', 'fold',\n",
      "       'Mass', 'Suspicious_Calcification', 'resized_xmin', 'resized_ymin',\n",
      "       'resized_xmax', 'resized_ymax'],\n",
      "      dtype='object')\n",
      "\n",
      "================== run nº: 0 ======================\n",
      "train_loader: 1598, valid_loader: 402\n",
      "Model is loaded\n",
      "PyramidalMILmodel(\n",
      "  (inst_encoder): FeaturePyramidNetwork(\n",
      "    (inner_blocks): ModuleDict(\n",
      "      (inner_block_0): Sequential(\n",
      "        (0): Conv2d(120, 256, kernel_size=(1, 1), stride=(1, 1))\n",
      "        (1): Identity()\n",
      "      )\n",
      "      (inner_block_1): Sequential(\n",
      "        (0): Conv2d(352, 256, kernel_size=(1, 1), stride=(1, 1))\n",
      "        (1): Identity()\n",
      "      )\n",
      "    )\n",
      "    (layer_blocks): ModuleDict(\n",
      "      (layer_block_0): Sequential(\n",
      "        (0): Conv2d(256, 256, kernel_size=(3, 3), stride=(1, 1), padding=(1, 1))\n",
      "        (1): Identity()\n",
      "      )\n",
      "      (layer_block_1): Sequential(\n",
      "        (0): Conv2d(256, 256, kernel_size=(3, 3), stride=(1, 1), padding=(1, 1))\n",
      "        (1): Identity()\n",
      "      )\n",
      "    )\n",
      "  )\n",
      "  (side_inst_aggregator): ModuleDict(\n",
      "    (encoders): ModuleDict(\n",
      "      (encoder_16): ModuleList(\n",
      "        (0): Sequential(\n",
      "          (0): Linear(in_features=256, out_features=256, bias=True)\n",
      "          (1): ReLU()\n",
      "          (2): Dropout(p=0.25, inplace=False)\n",
      "        )\n",
      "      )\n",
      "      (encoder_32): ModuleList(\n",
      "        (0): Sequential(\n",
      "          (0): Linear(in_features=256, out_features=256, bias=True)\n",
      "          (1): ReLU()\n",
      "          (2): Dropout(p=0.25, inplace=False)\n",
      "        )\n",
      "      )\n",
      "      (encoder_128): ModuleList(\n",
      "        (0): Sequential(\n",
      "          (0): Linear(in_features=256, out_features=256, bias=True)\n",
      "          (1): ReLU()\n",
      "          (2): Dropout(p=0.25, inplace=False)\n",
      "        )\n",
      "      )\n",
      "    )\n",
      "    (aggregators): ModuleDict(\n",
      "      (aggregator_16): Gated_Attn_Net(\n",
      "        (attention_V): Sequential(\n",
      "          (0): Linear(in_features=256, out_features=128, bias=True)\n",
      "          (1): Tanh()\n",
      "          (2): Dropout(p=0.25, inplace=False)\n",
      "        )\n",
      "        (attention_U): Sequential(\n",
      "          (0): Linear(in_features=256, out_features=128, bias=True)\n",
      "          (1): Sigmoid()\n",
      "          (2): Dropout(p=0.25, inplace=False)\n",
      "        )\n",
      "        (attention_weights): Linear(in_features=128, out_features=1, bias=True)\n",
      "      )\n",
      "      (aggregator_32): Gated_Attn_Net(\n",
      "        (attention_V): Sequential(\n",
      "          (0): Linear(in_features=256, out_features=128, bias=True)\n",
      "          (1): Tanh()\n",
      "          (2): Dropout(p=0.25, inplace=False)\n",
      "        )\n",
      "        (attention_U): Sequential(\n",
      "          (0): Linear(in_features=256, out_features=128, bias=True)\n",
      "          (1): Sigmoid()\n",
      "          (2): Dropout(p=0.25, inplace=False)\n",
      "        )\n",
      "        (attention_weights): Linear(in_features=128, out_features=1, bias=True)\n",
      "      )\n",
      "      (aggregator_128): Gated_Attn_Net(\n",
      "        (attention_V): Sequential(\n",
      "          (0): Linear(in_features=256, out_features=128, bias=True)\n",
      "          (1): Tanh()\n",
      "          (2): Dropout(p=0.25, inplace=False)\n",
      "        )\n",
      "        (attention_U): Sequential(\n",
      "          (0): Linear(in_features=256, out_features=128, bias=True)\n",
      "          (1): Sigmoid()\n",
      "          (2): Dropout(p=0.25, inplace=False)\n",
      "        )\n",
      "        (attention_weights): Linear(in_features=128, out_features=1, bias=True)\n",
      "      )\n",
      "    )\n",
      "  )\n",
      "  (side_classifiers): ModuleDict(\n",
      "    (classifier_16): head(\n",
      "      (drop): Dropout(p=0.0, inplace=True)\n",
      "      (head_classifier): Linear(in_features=256, out_features=1, bias=True)\n",
      "    )\n",
      "    (classifier_32): head(\n",
      "      (drop): Dropout(p=0.0, inplace=True)\n",
      "      (head_classifier): Linear(in_features=256, out_features=1, bias=True)\n",
      "    )\n",
      "    (classifier_128): head(\n",
      "      (drop): Dropout(p=0.0, inplace=True)\n",
      "      (head_classifier): Linear(in_features=256, out_features=1, bias=True)\n",
      "    )\n",
      "  )\n",
      "  (scale_aggregator): Gated_Attn_Net(\n",
      "    (attention_V): Sequential(\n",
      "      (0): Linear(in_features=256, out_features=128, bias=True)\n",
      "      (1): Tanh()\n",
      "      (2): Dropout(p=0.25, inplace=False)\n",
      "    )\n",
      "    (attention_U): Sequential(\n",
      "      (0): Linear(in_features=256, out_features=128, bias=True)\n",
      "      (1): Sigmoid()\n",
      "      (2): Dropout(p=0.25, inplace=False)\n",
      "    )\n",
      "    (attention_weights): Linear(in_features=128, out_features=1, bias=True)\n",
      "  )\n",
      "  (classifier): head(\n",
      "    (drop): Dropout(p=0.0, inplace=True)\n",
      "    (head_classifier): Linear(in_features=256, out_features=1, bias=True)\n",
      "  )\n",
      ")\n",
      "\n",
      "Total number of parameters: 1.763592 M\n",
      "Total number of trainable parameters: 1.763592 M\n",
      "pos_wt: tensor([15.5733], device='cuda:0')\n",
      "\n",
      "-------- Epoch 1/30 --------\n"
     ]
    },
    {
     "name": "stderr",
     "output_type": "stream",
     "text": [
      "[001/030 epoch train]: 100%|██████████| 1598/1598 [02:50<00:00,  9.39it/s, lr=[5e-05], loss=4.8508, CUDA-Mem=0%, CUDA-Util=0%]                 \n",
      "[001/030 epoch valid]: 100%|██████████| 402/402 [00:44<00:00,  9.01it/s, loss=4.8599, CUDA-Mem=0%, CUDA-Util=0%]"
     ]
    },
    {
     "name": "stdout",
     "output_type": "stream",
     "text": [
      "\n",
      "Train Loss: 4.8508\n",
      "Scale: 16 --> Train F1-Score: 0.7841 | Train Bacc: 0.5840 | Train ROC-AUC: 0.6236\n",
      "Scale: 32 --> Train F1-Score: 0.7996 | Train Bacc: 0.5784 | Train ROC-AUC: 0.6265\n",
      "Scale: 128 --> Train F1-Score: 0.7377 | Train Bacc: 0.5736 | Train ROC-AUC: 0.6081\n",
      "Aggregated Results --> Train F1-Score: 0.7771 | Train Bacc: 0.5696 | Train ROC-AUC: 0.6133\n",
      "\n",
      "Val Loss: 4.8599\n",
      "Scale: 16 --> Val F1-Score: 0.8955 | Val Bacc: 0.5957 | Val ROC-AUC: 0.7073\n",
      "Scale: 32 --> Val F1-Score: 0.8860 | Val Bacc: 0.5901 | Val ROC-AUC: 0.6954\n",
      "Scale: 128 --> Val F1-Score: 0.8994 | Val Bacc: 0.5670 | Val ROC-AUC: 0.6761\n",
      "Aggregated Results --> Val F1-Score: 0.8926 | Val Bacc: 0.5957 | Val ROC-AUC: 0.7088\n",
      "\n",
      "Epoch 1 - Save aucroc: 0.7088 Model\n",
      "\n",
      "best AUC-ROC Score at epoch 1: 0.7088\n",
      "\n",
      "-------- Epoch 2/30 --------\n"
     ]
    },
    {
     "name": "stderr",
     "output_type": "stream",
     "text": [
      "\n",
      "[002/030 epoch train]: 100%|██████████| 1598/1598 [02:56<00:00,  9.07it/s, lr=[4.9853448928858984e-05], loss=4.3164, CUDA-Mem=0%, CUDA-Util=0%]\n",
      "[002/030 epoch valid]: 100%|██████████| 402/402 [00:44<00:00,  8.97it/s, loss=4.2857, CUDA-Mem=0%, CUDA-Util=0%]"
     ]
    },
    {
     "name": "stdout",
     "output_type": "stream",
     "text": [
      "\n",
      "Train Loss: 4.3164\n",
      "Scale: 16 --> Train F1-Score: 0.8219 | Train Bacc: 0.6882 | Train ROC-AUC: 0.7482\n",
      "Scale: 32 --> Train F1-Score: 0.8294 | Train Bacc: 0.6928 | Train ROC-AUC: 0.7471\n",
      "Scale: 128 --> Train F1-Score: 0.8169 | Train Bacc: 0.6628 | Train ROC-AUC: 0.7240\n",
      "Aggregated Results --> Train F1-Score: 0.8266 | Train Bacc: 0.6997 | Train ROC-AUC: 0.7538\n",
      "\n",
      "Val Loss: 4.2857\n",
      "Scale: 16 --> Val F1-Score: 0.7757 | Val Bacc: 0.6900 | Val ROC-AUC: 0.7567\n",
      "Scale: 32 --> Val F1-Score: 0.7946 | Val Bacc: 0.6987 | Val ROC-AUC: 0.7554\n",
      "Scale: 128 --> Val F1-Score: 0.7734 | Val Bacc: 0.6726 | Val ROC-AUC: 0.7290\n",
      "Aggregated Results --> Val F1-Score: 0.7490 | Val Bacc: 0.6840 | Val ROC-AUC: 0.7607\n",
      "\n",
      "Epoch 2 - Save aucroc: 0.7607 Model\n",
      "\n",
      "best AUC-ROC Score at epoch 2: 0.7607\n",
      "\n",
      "-------- Epoch 3/30 --------\n"
     ]
    },
    {
     "name": "stderr",
     "output_type": "stream",
     "text": [
      "\n",
      "[003/030 epoch train]: 100%|██████████| 1598/1598 [02:56<00:00,  9.07it/s, lr=[4.941551389275217e-05], loss=4.0470, CUDA-Mem=0%, CUDA-Util=0%] \n",
      "[003/030 epoch valid]: 100%|██████████| 402/402 [00:44<00:00,  8.99it/s, loss=4.2586, CUDA-Mem=0%, CUDA-Util=0%]"
     ]
    },
    {
     "name": "stdout",
     "output_type": "stream",
     "text": [
      "\n",
      "Train Loss: 4.0470\n",
      "Scale: 16 --> Train F1-Score: 0.8391 | Train Bacc: 0.7173 | Train ROC-AUC: 0.7886\n",
      "Scale: 32 --> Train F1-Score: 0.8387 | Train Bacc: 0.7157 | Train ROC-AUC: 0.7849\n",
      "Scale: 128 --> Train F1-Score: 0.8353 | Train Bacc: 0.6942 | Train ROC-AUC: 0.7639\n",
      "Aggregated Results --> Train F1-Score: 0.8348 | Train Bacc: 0.7243 | Train ROC-AUC: 0.7914\n",
      "\n",
      "Val Loss: 4.2586\n",
      "Scale: 16 --> Val F1-Score: 0.7831 | Val Bacc: 0.7085 | Val ROC-AUC: 0.7615\n",
      "Scale: 32 --> Val F1-Score: 0.7685 | Val Bacc: 0.6847 | Val ROC-AUC: 0.7529\n",
      "Scale: 128 --> Val F1-Score: 0.7795 | Val Bacc: 0.6744 | Val ROC-AUC: 0.7387\n",
      "Aggregated Results --> Val F1-Score: 0.7723 | Val Bacc: 0.7033 | Val ROC-AUC: 0.7655\n",
      "\n",
      "Epoch 3 - Save aucroc: 0.7655 Model\n",
      "\n",
      "best AUC-ROC Score at epoch 3: 0.7655\n",
      "\n",
      "-------- Epoch 4/30 --------\n"
     ]
    },
    {
     "name": "stderr",
     "output_type": "stream",
     "text": [
      "\n",
      "[004/030 epoch train]: 100%|██████████| 1598/1598 [02:56<00:00,  9.05it/s, lr=[4.869132927957007e-05], loss=3.9162, CUDA-Mem=0%, CUDA-Util=0%] \n",
      "[004/030 epoch valid]: 100%|██████████| 402/402 [00:44<00:00,  9.00it/s, loss=4.2888, CUDA-Mem=0%, CUDA-Util=0%]\n"
     ]
    },
    {
     "name": "stdout",
     "output_type": "stream",
     "text": [
      "\n",
      "Train Loss: 3.9162\n",
      "Scale: 16 --> Train F1-Score: 0.8400 | Train Bacc: 0.7323 | Train ROC-AUC: 0.8095\n",
      "Scale: 32 --> Train F1-Score: 0.8414 | Train Bacc: 0.7224 | Train ROC-AUC: 0.8018\n",
      "Scale: 128 --> Train F1-Score: 0.8414 | Train Bacc: 0.7036 | Train ROC-AUC: 0.7786\n",
      "Aggregated Results --> Train F1-Score: 0.8389 | Train Bacc: 0.7334 | Train ROC-AUC: 0.8105\n",
      "\n",
      "Val Loss: 4.2888\n",
      "Scale: 16 --> Val F1-Score: 0.8328 | Val Bacc: 0.6787 | Val ROC-AUC: 0.7420\n",
      "Scale: 32 --> Val F1-Score: 0.8725 | Val Bacc: 0.6903 | Val ROC-AUC: 0.7423\n",
      "Scale: 128 --> Val F1-Score: 0.8381 | Val Bacc: 0.6597 | Val ROC-AUC: 0.7229\n",
      "Aggregated Results --> Val F1-Score: 0.8543 | Val Bacc: 0.7115 | Val ROC-AUC: 0.7516\n",
      "\n",
      "best AUC-ROC Score at epoch 3: 0.7655\n",
      "\n",
      "-------- Epoch 5/30 --------\n"
     ]
    },
    {
     "name": "stderr",
     "output_type": "stream",
     "text": [
      "[005/030 epoch train]: 100%|██████████| 1598/1598 [02:56<00:00,  9.05it/s, lr=[4.768938549177392e-05], loss=3.7467, CUDA-Mem=0%, CUDA-Util=0%] \n",
      "[005/030 epoch valid]: 100%|██████████| 402/402 [00:44<00:00,  8.98it/s, loss=4.4393, CUDA-Mem=0%, CUDA-Util=0%]"
     ]
    },
    {
     "name": "stdout",
     "output_type": "stream",
     "text": [
      "\n",
      "Train Loss: 3.7467\n",
      "Scale: 16 --> Train F1-Score: 0.8473 | Train Bacc: 0.7439 | Train ROC-AUC: 0.8293\n",
      "Scale: 32 --> Train F1-Score: 0.8444 | Train Bacc: 0.7280 | Train ROC-AUC: 0.8166\n",
      "Scale: 128 --> Train F1-Score: 0.8467 | Train Bacc: 0.7279 | Train ROC-AUC: 0.8070\n",
      "Aggregated Results --> Train F1-Score: 0.8462 | Train Bacc: 0.7463 | Train ROC-AUC: 0.8308\n",
      "\n",
      "Val Loss: 4.4393\n",
      "Scale: 16 --> Val F1-Score: 0.7372 | Val Bacc: 0.6732 | Val ROC-AUC: 0.7570\n",
      "Scale: 32 --> Val F1-Score: 0.7471 | Val Bacc: 0.6536 | Val ROC-AUC: 0.7534\n",
      "Scale: 128 --> Val F1-Score: 0.7788 | Val Bacc: 0.6634 | Val ROC-AUC: 0.7173\n",
      "Aggregated Results --> Val F1-Score: 0.7461 | Val Bacc: 0.6661 | Val ROC-AUC: 0.7590\n",
      "\n",
      "best AUC-ROC Score at epoch 3: 0.7655\n",
      "\n",
      "-------- Epoch 6/30 --------\n"
     ]
    },
    {
     "name": "stderr",
     "output_type": "stream",
     "text": [
      "\n",
      "[006/030 epoch train]: 100%|██████████| 1598/1598 [02:56<00:00,  9.04it/s, lr=[4.6421429404189725e-05], loss=3.5861, CUDA-Mem=0%, CUDA-Util=0%]\n",
      "[006/030 epoch valid]: 100%|██████████| 402/402 [00:45<00:00,  8.93it/s, loss=4.4531, CUDA-Mem=0%, CUDA-Util=0%]"
     ]
    },
    {
     "name": "stdout",
     "output_type": "stream",
     "text": [
      "\n",
      "Train Loss: 3.5861\n",
      "Scale: 16 --> Train F1-Score: 0.8532 | Train Bacc: 0.7719 | Train ROC-AUC: 0.8487\n",
      "Scale: 32 --> Train F1-Score: 0.8499 | Train Bacc: 0.7583 | Train ROC-AUC: 0.8361\n",
      "Scale: 128 --> Train F1-Score: 0.8467 | Train Bacc: 0.7344 | Train ROC-AUC: 0.8231\n",
      "Aggregated Results --> Train F1-Score: 0.8518 | Train Bacc: 0.7669 | Train ROC-AUC: 0.8485\n",
      "\n",
      "Val Loss: 4.4531\n",
      "Scale: 16 --> Val F1-Score: 0.7168 | Val Bacc: 0.6831 | Val ROC-AUC: 0.7567\n",
      "Scale: 32 --> Val F1-Score: 0.7383 | Val Bacc: 0.6845 | Val ROC-AUC: 0.7574\n",
      "Scale: 128 --> Val F1-Score: 0.7380 | Val Bacc: 0.6605 | Val ROC-AUC: 0.7181\n",
      "Aggregated Results --> Val F1-Score: 0.7291 | Val Bacc: 0.6914 | Val ROC-AUC: 0.7581\n",
      "\n",
      "best AUC-ROC Score at epoch 3: 0.7655\n",
      "\n",
      "-------- Epoch 7/30 --------\n"
     ]
    },
    {
     "name": "stderr",
     "output_type": "stream",
     "text": [
      "\n",
      "[007/030 epoch train]: 100%|██████████| 1598/1598 [02:56<00:00,  9.06it/s, lr=[4.4902326642641095e-05], loss=3.3896, CUDA-Mem=0%, CUDA-Util=0%]\n",
      "[007/030 epoch valid]: 100%|██████████| 402/402 [00:44<00:00,  8.98it/s, loss=4.6031, CUDA-Mem=0%, CUDA-Util=0%]"
     ]
    },
    {
     "name": "stdout",
     "output_type": "stream",
     "text": [
      "\n",
      "Train Loss: 3.3896\n",
      "Scale: 16 --> Train F1-Score: 0.8537 | Train Bacc: 0.7801 | Train ROC-AUC: 0.8667\n",
      "Scale: 32 --> Train F1-Score: 0.8494 | Train Bacc: 0.7683 | Train ROC-AUC: 0.8473\n",
      "Scale: 128 --> Train F1-Score: 0.8514 | Train Bacc: 0.7620 | Train ROC-AUC: 0.8504\n",
      "Aggregated Results --> Train F1-Score: 0.8582 | Train Bacc: 0.7849 | Train ROC-AUC: 0.8705\n",
      "\n",
      "Val Loss: 4.6031\n",
      "Scale: 16 --> Val F1-Score: 0.8770 | Val Bacc: 0.6786 | Val ROC-AUC: 0.7517\n",
      "Scale: 32 --> Val F1-Score: 0.8695 | Val Bacc: 0.6801 | Val ROC-AUC: 0.7460\n",
      "Scale: 128 --> Val F1-Score: 0.8375 | Val Bacc: 0.6360 | Val ROC-AUC: 0.7057\n",
      "Aggregated Results --> Val F1-Score: 0.8668 | Val Bacc: 0.6959 | Val ROC-AUC: 0.7533\n",
      "\n",
      "best AUC-ROC Score at epoch 3: 0.7655\n",
      "\n",
      "-------- Epoch 8/30 --------\n"
     ]
    },
    {
     "name": "stderr",
     "output_type": "stream",
     "text": [
      "\n",
      "[008/030 epoch train]: 100%|██████████| 1598/1598 [02:57<00:00,  9.03it/s, lr=[4.3149887298078276e-05], loss=3.1402, CUDA-Mem=0%, CUDA-Util=0%]\n",
      "[008/030 epoch valid]: 100%|██████████| 402/402 [00:44<00:00,  8.97it/s, loss=4.7288, CUDA-Mem=0%, CUDA-Util=0%]"
     ]
    },
    {
     "name": "stdout",
     "output_type": "stream",
     "text": [
      "\n",
      "Train Loss: 3.1402\n",
      "Scale: 16 --> Train F1-Score: 0.8628 | Train Bacc: 0.8041 | Train ROC-AUC: 0.8863\n",
      "Scale: 32 --> Train F1-Score: 0.8543 | Train Bacc: 0.7780 | Train ROC-AUC: 0.8678\n",
      "Scale: 128 --> Train F1-Score: 0.8653 | Train Bacc: 0.7938 | Train ROC-AUC: 0.8752\n",
      "Aggregated Results --> Train F1-Score: 0.8722 | Train Bacc: 0.8102 | Train ROC-AUC: 0.8967\n",
      "\n",
      "Val Loss: 4.7288\n",
      "Scale: 16 --> Val F1-Score: 0.8127 | Val Bacc: 0.6682 | Val ROC-AUC: 0.7233\n",
      "Scale: 32 --> Val F1-Score: 0.8582 | Val Bacc: 0.6786 | Val ROC-AUC: 0.7420\n",
      "Scale: 128 --> Val F1-Score: 0.8328 | Val Bacc: 0.6400 | Val ROC-AUC: 0.6936\n",
      "Aggregated Results --> Val F1-Score: 0.8401 | Val Bacc: 0.6690 | Val ROC-AUC: 0.7248\n",
      "\n",
      "best AUC-ROC Score at epoch 3: 0.7655\n",
      "\n",
      "-------- Epoch 9/30 --------\n"
     ]
    },
    {
     "name": "stderr",
     "output_type": "stream",
     "text": [
      "\n",
      "[009/030 epoch train]: 100%|██████████| 1598/1598 [02:56<00:00,  9.04it/s, lr=[4.118465711954569e-05], loss=2.8872, CUDA-Mem=0%, CUDA-Util=0%] \n",
      "[009/030 epoch valid]: 100%|██████████| 402/402 [00:44<00:00,  8.94it/s, loss=5.6263, CUDA-Mem=0%, CUDA-Util=0%]"
     ]
    },
    {
     "name": "stdout",
     "output_type": "stream",
     "text": [
      "\n",
      "Train Loss: 2.8872\n",
      "Scale: 16 --> Train F1-Score: 0.8696 | Train Bacc: 0.8224 | Train ROC-AUC: 0.9060\n",
      "Scale: 32 --> Train F1-Score: 0.8603 | Train Bacc: 0.7976 | Train ROC-AUC: 0.8794\n",
      "Scale: 128 --> Train F1-Score: 0.8742 | Train Bacc: 0.8177 | Train ROC-AUC: 0.8972\n",
      "Aggregated Results --> Train F1-Score: 0.8862 | Train Bacc: 0.8433 | Train ROC-AUC: 0.9233\n",
      "\n",
      "Val Loss: 5.6263\n",
      "Scale: 16 --> Val F1-Score: 0.8566 | Val Bacc: 0.6618 | Val ROC-AUC: 0.7345\n",
      "Scale: 32 --> Val F1-Score: 0.8836 | Val Bacc: 0.6511 | Val ROC-AUC: 0.7327\n",
      "Scale: 128 --> Val F1-Score: 0.8640 | Val Bacc: 0.6270 | Val ROC-AUC: 0.6748\n",
      "Aggregated Results --> Val F1-Score: 0.8814 | Val Bacc: 0.6619 | Val ROC-AUC: 0.7118\n",
      "\n",
      "best AUC-ROC Score at epoch 3: 0.7655\n",
      "\n",
      "-------- Epoch 10/30 --------\n"
     ]
    },
    {
     "name": "stderr",
     "output_type": "stream",
     "text": [
      "\n",
      "[010/030 epoch train]: 100%|██████████| 1598/1598 [02:56<00:00,  9.04it/s, lr=[3.902967663405956e-05], loss=2.6160, CUDA-Mem=0%, CUDA-Util=0%] \n",
      "[010/030 epoch valid]: 100%|██████████| 402/402 [00:45<00:00,  8.93it/s, loss=5.5459, CUDA-Mem=0%, CUDA-Util=0%]"
     ]
    },
    {
     "name": "stdout",
     "output_type": "stream",
     "text": [
      "\n",
      "Train Loss: 2.6160\n",
      "Scale: 16 --> Train F1-Score: 0.8817 | Train Bacc: 0.8436 | Train ROC-AUC: 0.9259\n",
      "Scale: 32 --> Train F1-Score: 0.8687 | Train Bacc: 0.8120 | Train ROC-AUC: 0.8935\n",
      "Scale: 128 --> Train F1-Score: 0.8807 | Train Bacc: 0.8319 | Train ROC-AUC: 0.9142\n",
      "Aggregated Results --> Train F1-Score: 0.9008 | Train Bacc: 0.8735 | Train ROC-AUC: 0.9439\n",
      "\n",
      "Val Loss: 5.5459\n",
      "Scale: 16 --> Val F1-Score: 0.8569 | Val Bacc: 0.6673 | Val ROC-AUC: 0.7376\n",
      "Scale: 32 --> Val F1-Score: 0.8289 | Val Bacc: 0.6705 | Val ROC-AUC: 0.7340\n",
      "Scale: 128 --> Val F1-Score: 0.8276 | Val Bacc: 0.6409 | Val ROC-AUC: 0.6842\n",
      "Aggregated Results --> Val F1-Score: 0.8603 | Val Bacc: 0.6418 | Val ROC-AUC: 0.7138\n",
      "\n",
      "best AUC-ROC Score at epoch 3: 0.7655\n",
      "\n",
      "-------- Epoch 11/30 --------\n"
     ]
    },
    {
     "name": "stderr",
     "output_type": "stream",
     "text": [
      "\n",
      "[011/030 epoch train]: 100%|██████████| 1598/1598 [02:56<00:00,  9.03it/s, lr=[3.671021101749476e-05], loss=2.3267, CUDA-Mem=0%, CUDA-Util=0%] \n",
      "[011/030 epoch valid]: 100%|██████████| 402/402 [00:44<00:00,  8.96it/s, loss=6.0203, CUDA-Mem=0%, CUDA-Util=0%]"
     ]
    },
    {
     "name": "stdout",
     "output_type": "stream",
     "text": [
      "\n",
      "Train Loss: 2.3267\n",
      "Scale: 16 --> Train F1-Score: 0.8902 | Train Bacc: 0.8684 | Train ROC-AUC: 0.9391\n",
      "Scale: 32 --> Train F1-Score: 0.8775 | Train Bacc: 0.8313 | Train ROC-AUC: 0.9117\n",
      "Scale: 128 --> Train F1-Score: 0.8893 | Train Bacc: 0.8522 | Train ROC-AUC: 0.9307\n",
      "Aggregated Results --> Train F1-Score: 0.9133 | Train Bacc: 0.8987 | Train ROC-AUC: 0.9615\n",
      "\n",
      "Val Loss: 6.0203\n",
      "Scale: 16 --> Val F1-Score: 0.8667 | Val Bacc: 0.6599 | Val ROC-AUC: 0.7301\n",
      "Scale: 32 --> Val F1-Score: 0.8635 | Val Bacc: 0.6778 | Val ROC-AUC: 0.7264\n",
      "Scale: 128 --> Val F1-Score: 0.8446 | Val Bacc: 0.6418 | Val ROC-AUC: 0.6852\n",
      "Aggregated Results --> Val F1-Score: 0.8715 | Val Bacc: 0.6435 | Val ROC-AUC: 0.7235\n",
      "\n",
      "best AUC-ROC Score at epoch 3: 0.7655\n",
      "\n",
      "-------- Epoch 12/30 --------\n"
     ]
    },
    {
     "name": "stderr",
     "output_type": "stream",
     "text": [
      "\n",
      "[012/030 epoch train]: 100%|██████████| 1598/1598 [02:57<00:00,  9.03it/s, lr=[3.425345388349786e-05], loss=2.0533, CUDA-Mem=0%, CUDA-Util=0%] \n",
      "[012/030 epoch valid]: 100%|██████████| 402/402 [00:44<00:00,  8.94it/s, loss=7.4172, CUDA-Mem=0%, CUDA-Util=0%]"
     ]
    },
    {
     "name": "stdout",
     "output_type": "stream",
     "text": [
      "\n",
      "Train Loss: 2.0533\n",
      "Scale: 16 --> Train F1-Score: 0.9009 | Train Bacc: 0.8858 | Train ROC-AUC: 0.9544\n",
      "Scale: 32 --> Train F1-Score: 0.8776 | Train Bacc: 0.8384 | Train ROC-AUC: 0.9197\n",
      "Scale: 128 --> Train F1-Score: 0.9001 | Train Bacc: 0.8697 | Train ROC-AUC: 0.9456\n",
      "Aggregated Results --> Train F1-Score: 0.9283 | Train Bacc: 0.9281 | Train ROC-AUC: 0.9747\n",
      "\n",
      "Val Loss: 7.4172\n",
      "Scale: 16 --> Val F1-Score: 0.8696 | Val Bacc: 0.6597 | Val ROC-AUC: 0.7233\n",
      "Scale: 32 --> Val F1-Score: 0.8632 | Val Bacc: 0.6801 | Val ROC-AUC: 0.7315\n",
      "Scale: 128 --> Val F1-Score: 0.8520 | Val Bacc: 0.6402 | Val ROC-AUC: 0.6776\n",
      "Aggregated Results --> Val F1-Score: 0.8862 | Val Bacc: 0.6456 | Val ROC-AUC: 0.7067\n",
      "\n",
      "best AUC-ROC Score at epoch 3: 0.7655\n",
      "\n",
      "-------- Epoch 13/30 --------\n"
     ]
    },
    {
     "name": "stderr",
     "output_type": "stream",
     "text": [
      "\n",
      "[013/030 epoch train]: 100%|█████████▉| 1593/1598 [02:56<00:00,  9.02it/s, lr=[3.169147442563204e-05], loss=1.8688, CUDA-Mem=0%, CUDA-Util=0%] IOPub message rate exceeded.\n",
      "The Jupyter server will temporarily stop sending output\n",
      "to the client in order to avoid crashing it.\n",
      "To change this limit, set the config variable\n",
      "`--ServerApp.iopub_msg_rate_limit`.\n",
      "\n",
      "Current values:\n",
      "ServerApp.iopub_msg_rate_limit=1000.0 (msgs/sec)\n",
      "ServerApp.rate_limit_window=3.0 (secs)\n",
      "\n",
      "[014/030 epoch train]: 100%|██████████| 1598/1598 [02:57<00:00,  9.03it/s, lr=[2.904454991381912e-05], loss=1.6225, CUDA-Mem=0%, CUDA-Util=0%] \n",
      "[014/030 epoch valid]: 100%|██████████| 402/402 [00:44<00:00,  8.94it/s, loss=8.5725, CUDA-Mem=0%, CUDA-Util=0%]\n"
     ]
    },
    {
     "name": "stdout",
     "output_type": "stream",
     "text": [
      "\n",
      "Train Loss: 1.6225\n",
      "Scale: 16 --> Train F1-Score: 0.9185 | Train Bacc: 0.9181 | Train ROC-AUC: 0.9703\n",
      "Scale: 32 --> Train F1-Score: 0.8921 | Train Bacc: 0.8699 | Train ROC-AUC: 0.9398\n",
      "Scale: 128 --> Train F1-Score: 0.9193 | Train Bacc: 0.9065 | Train ROC-AUC: 0.9661\n",
      "Aggregated Results --> Train F1-Score: 0.9492 | Train Bacc: 0.9545 | Train ROC-AUC: 0.9892\n",
      "\n",
      "Val Loss: 8.5725\n",
      "Scale: 16 --> Val F1-Score: 0.8775 | Val Bacc: 0.6333 | Val ROC-AUC: 0.7222\n",
      "Scale: 32 --> Val F1-Score: 0.8694 | Val Bacc: 0.6673 | Val ROC-AUC: 0.7198\n",
      "Scale: 128 --> Val F1-Score: 0.8716 | Val Bacc: 0.6233 | Val ROC-AUC: 0.6811\n",
      "Aggregated Results --> Val F1-Score: 0.9040 | Val Bacc: 0.6228 | Val ROC-AUC: 0.7017\n",
      "\n",
      "best AUC-ROC Score at epoch 3: 0.7655\n",
      "\n",
      "-------- Epoch 15/30 --------\n"
     ]
    },
    {
     "name": "stderr",
     "output_type": "stream",
     "text": [
      "[015/030 epoch train]: 100%|██████████| 1598/1598 [02:57<00:00,  9.02it/s, lr=[2.635347271463544e-05], loss=1.4575, CUDA-Mem=0%, CUDA-Util=0%] \n",
      "[015/030 epoch valid]: 100%|██████████| 402/402 [00:44<00:00,  8.95it/s, loss=9.7419, CUDA-Mem=0%, CUDA-Util=0%] "
     ]
    },
    {
     "name": "stdout",
     "output_type": "stream",
     "text": [
      "\n",
      "Train Loss: 1.4575\n",
      "Scale: 16 --> Train F1-Score: 0.9289 | Train Bacc: 0.9331 | Train ROC-AUC: 0.9769\n",
      "Scale: 32 --> Train F1-Score: 0.8952 | Train Bacc: 0.8762 | Train ROC-AUC: 0.9477\n",
      "Scale: 128 --> Train F1-Score: 0.9227 | Train Bacc: 0.9155 | Train ROC-AUC: 0.9693\n",
      "Aggregated Results --> Train F1-Score: 0.9589 | Train Bacc: 0.9645 | Train ROC-AUC: 0.9919\n",
      "\n",
      "Val Loss: 9.7419\n",
      "Scale: 16 --> Val F1-Score: 0.8678 | Val Bacc: 0.6379 | Val ROC-AUC: 0.7078\n",
      "Scale: 32 --> Val F1-Score: 0.8639 | Val Bacc: 0.6704 | Val ROC-AUC: 0.7196\n",
      "Scale: 128 --> Val F1-Score: 0.8742 | Val Bacc: 0.6203 | Val ROC-AUC: 0.6641\n",
      "Aggregated Results --> Val F1-Score: 0.9014 | Val Bacc: 0.6256 | Val ROC-AUC: 0.6814\n",
      "\n",
      "best AUC-ROC Score at epoch 3: 0.7655\n",
      "\n",
      "-------- Epoch 16/30 --------\n"
     ]
    },
    {
     "name": "stderr",
     "output_type": "stream",
     "text": [
      "\n",
      "[016/030 epoch train]: 100%|██████████| 1598/1598 [02:57<00:00,  9.01it/s, lr=[2.3646527285364565e-05], loss=1.3032, CUDA-Mem=0%, CUDA-Util=0%]\n",
      "[016/030 epoch valid]: 100%|██████████| 402/402 [00:45<00:00,  8.92it/s, loss=10.7587, CUDA-Mem=0%, CUDA-Util=0%]"
     ]
    },
    {
     "name": "stdout",
     "output_type": "stream",
     "text": [
      "\n",
      "Train Loss: 1.3032\n",
      "Scale: 16 --> Train F1-Score: 0.9354 | Train Bacc: 0.9425 | Train ROC-AUC: 0.9821\n",
      "Scale: 32 --> Train F1-Score: 0.9064 | Train Bacc: 0.8927 | Train ROC-AUC: 0.9546\n",
      "Scale: 128 --> Train F1-Score: 0.9305 | Train Bacc: 0.9247 | Train ROC-AUC: 0.9762\n",
      "Aggregated Results --> Train F1-Score: 0.9646 | Train Bacc: 0.9702 | Train ROC-AUC: 0.9941\n",
      "\n",
      "Val Loss: 10.7587\n",
      "Scale: 16 --> Val F1-Score: 0.8800 | Val Bacc: 0.6455 | Val ROC-AUC: 0.7267\n",
      "Scale: 32 --> Val F1-Score: 0.8577 | Val Bacc: 0.6730 | Val ROC-AUC: 0.7250\n",
      "Scale: 128 --> Val F1-Score: 0.8866 | Val Bacc: 0.6182 | Val ROC-AUC: 0.6757\n",
      "Aggregated Results --> Val F1-Score: 0.9040 | Val Bacc: 0.6253 | Val ROC-AUC: 0.6928\n",
      "\n",
      "best AUC-ROC Score at epoch 3: 0.7655\n",
      "\n",
      "-------- Epoch 17/30 --------\n"
     ]
    },
    {
     "name": "stderr",
     "output_type": "stream",
     "text": [
      "\n",
      "[017/030 epoch train]:  71%|███████   | 1136/1598 [02:06<00:52,  8.80it/s, lr=[2.1728303925429887e-05], loss=1.2040, CUDA-Mem=0%, CUDA-Util=0%]IOPub message rate exceeded.\n",
      "The Jupyter server will temporarily stop sending output\n",
      "to the client in order to avoid crashing it.\n",
      "To change this limit, set the config variable\n",
      "`--ServerApp.iopub_msg_rate_limit`.\n",
      "\n",
      "Current values:\n",
      "ServerApp.iopub_msg_rate_limit=1000.0 (msgs/sec)\n",
      "ServerApp.rate_limit_window=3.0 (secs)\n",
      "\n",
      "[018/030 epoch train]: 100%|██████████| 1598/1598 [02:57<00:00,  9.01it/s, lr=[1.8311791536769483e-05], loss=1.0626, CUDA-Mem=0%, CUDA-Util=0%]\n",
      "[018/030 epoch valid]: 100%|██████████| 402/402 [00:44<00:00,  8.94it/s, loss=13.8819, CUDA-Mem=0%, CUDA-Util=0%]\n"
     ]
    },
    {
     "name": "stdout",
     "output_type": "stream",
     "text": [
      "\n",
      "Train Loss: 1.0626\n",
      "Scale: 16 --> Train F1-Score: 0.9515 | Train Bacc: 0.9600 | Train ROC-AUC: 0.9892\n",
      "Scale: 32 --> Train F1-Score: 0.9123 | Train Bacc: 0.9056 | Train ROC-AUC: 0.9648\n",
      "Scale: 128 --> Train F1-Score: 0.9396 | Train Bacc: 0.9411 | Train ROC-AUC: 0.9814\n",
      "Aggregated Results --> Train F1-Score: 0.9759 | Train Bacc: 0.9841 | Train ROC-AUC: 0.9969\n",
      "\n",
      "Val Loss: 13.8819\n",
      "Scale: 16 --> Val F1-Score: 0.9089 | Val Bacc: 0.6095 | Val ROC-AUC: 0.7239\n",
      "Scale: 32 --> Val F1-Score: 0.8964 | Val Bacc: 0.6340 | Val ROC-AUC: 0.7284\n",
      "Scale: 128 --> Val F1-Score: 0.8942 | Val Bacc: 0.6021 | Val ROC-AUC: 0.6804\n",
      "Aggregated Results --> Val F1-Score: 0.9228 | Val Bacc: 0.5964 | Val ROC-AUC: 0.7046\n",
      "\n",
      "best AUC-ROC Score at epoch 3: 0.7655\n",
      "\n",
      "-------- Epoch 19/30 --------\n"
     ]
    },
    {
     "name": "stderr",
     "output_type": "stream",
     "text": [
      "[019/030 epoch train]: 100%|██████████| 1598/1598 [02:57<00:00,  9.01it/s, lr=[1.5746546116502143e-05], loss=0.9802, CUDA-Mem=0%, CUDA-Util=0%]\n",
      "[019/030 epoch valid]: 100%|██████████| 402/402 [00:44<00:00,  8.94it/s, loss=13.3502, CUDA-Mem=0%, CUDA-Util=0%]"
     ]
    },
    {
     "name": "stdout",
     "output_type": "stream",
     "text": [
      "\n",
      "Train Loss: 0.9802\n",
      "Scale: 16 --> Train F1-Score: 0.9536 | Train Bacc: 0.9588 | Train ROC-AUC: 0.9901\n",
      "Scale: 32 --> Train F1-Score: 0.9159 | Train Bacc: 0.9117 | Train ROC-AUC: 0.9683\n",
      "Scale: 128 --> Train F1-Score: 0.9448 | Train Bacc: 0.9442 | Train ROC-AUC: 0.9855\n",
      "Aggregated Results --> Train F1-Score: 0.9786 | Train Bacc: 0.9844 | Train ROC-AUC: 0.9976\n",
      "\n",
      "Val Loss: 13.3502\n",
      "Scale: 16 --> Val F1-Score: 0.9027 | Val Bacc: 0.6317 | Val ROC-AUC: 0.7275\n",
      "Scale: 32 --> Val F1-Score: 0.8721 | Val Bacc: 0.6542 | Val ROC-AUC: 0.7195\n",
      "Scale: 128 --> Val F1-Score: 0.8865 | Val Bacc: 0.6131 | Val ROC-AUC: 0.6719\n",
      "Aggregated Results --> Val F1-Score: 0.9200 | Val Bacc: 0.6211 | Val ROC-AUC: 0.6983\n",
      "\n",
      "best AUC-ROC Score at epoch 3: 0.7655\n",
      "\n",
      "-------- Epoch 20/30 --------\n"
     ]
    },
    {
     "name": "stderr",
     "output_type": "stream",
     "text": [
      "\n",
      "[020/030 epoch train]: 100%|██████████| 1598/1598 [02:57<00:00,  9.01it/s, lr=[1.3289788982505247e-05], loss=0.8779, CUDA-Mem=0%, CUDA-Util=0%]\n",
      "[020/030 epoch valid]: 100%|██████████| 402/402 [00:45<00:00,  8.91it/s, loss=14.0561, CUDA-Mem=0%, CUDA-Util=0%]"
     ]
    },
    {
     "name": "stdout",
     "output_type": "stream",
     "text": [
      "\n",
      "Train Loss: 0.8779\n",
      "Scale: 16 --> Train F1-Score: 0.9593 | Train Bacc: 0.9686 | Train ROC-AUC: 0.9927\n",
      "Scale: 32 --> Train F1-Score: 0.9217 | Train Bacc: 0.9284 | Train ROC-AUC: 0.9721\n",
      "Scale: 128 --> Train F1-Score: 0.9508 | Train Bacc: 0.9568 | Train ROC-AUC: 0.9880\n",
      "Aggregated Results --> Train F1-Score: 0.9815 | Train Bacc: 0.9868 | Train ROC-AUC: 0.9980\n",
      "\n",
      "Val Loss: 14.0561\n",
      "Scale: 16 --> Val F1-Score: 0.9022 | Val Bacc: 0.6363 | Val ROC-AUC: 0.7282\n",
      "Scale: 32 --> Val F1-Score: 0.8914 | Val Bacc: 0.6601 | Val ROC-AUC: 0.7214\n",
      "Scale: 128 --> Val F1-Score: 0.8886 | Val Bacc: 0.6098 | Val ROC-AUC: 0.6698\n",
      "Aggregated Results --> Val F1-Score: 0.9179 | Val Bacc: 0.6169 | Val ROC-AUC: 0.7047\n",
      "\n",
      "best AUC-ROC Score at epoch 3: 0.7655\n",
      "\n",
      "-------- Epoch 21/30 --------\n"
     ]
    },
    {
     "name": "stderr",
     "output_type": "stream",
     "text": [
      "\n",
      "[021/030 epoch train]:   9%|▉         | 146/1598 [00:16<02:49,  8.56it/s, lr=[1.3067282824263772e-05], loss=0.6121, CUDA-Mem=0%, CUDA-Util=0%]IOPub message rate exceeded.\n",
      "The Jupyter server will temporarily stop sending output\n",
      "to the client in order to avoid crashing it.\n",
      "To change this limit, set the config variable\n",
      "`--ServerApp.iopub_msg_rate_limit`.\n",
      "\n",
      "Current values:\n",
      "ServerApp.iopub_msg_rate_limit=1000.0 (msgs/sec)\n",
      "ServerApp.rate_limit_window=3.0 (secs)\n",
      "\n"
     ]
    }
   ],
   "source": [
    "%run foundational_models/Mammo-CLIP-main/Mammo-CLIP-main/src3-Copy1/codebase/main.py \\\n",
    "  --clip_chk_pt_path \"foundational_models/Mammo-CLIP-main/Mammo-CLIP-main/b2-model-best-epoch-10.tar\" \\\n",
    "  --dataset 'ViNDr' \\\n",
    "  --label \"Mass\" \\\n",
    "  --train --epochs 30 --batch-size 8 \\\n",
    "  --num-workers 4 \\\n",
    "  --eval_scheme 'kruns_train+val+test' --n_runs 1 \\\n",
    "  --lr 5.0e-5 \\\n",
    "  --weighted-BCE 'y' \\\n",
    "  --mil_type 'pyramidal_mil' \\\n",
    "  --pooling_type 'gated-attention' \\\n",
    "  --fcl_encoder_dim 256 \\\n",
    "  --fcl_dropout 0.25 \\\n",
    "  --drop_attention_pool 0.25 \\\n",
    "  --fpn_dim 256 \\\n",
    "  --multi_scale_model 'fpn' \\\n",
    "  --type_scale_aggregator 'gated-attention' \\\n",
    "  --deep_supervision --scales 16 32 128 \n",
    "\n",
    "print('---------------finished running code-------------------')"
   ]
  },
  {
   "cell_type": "markdown",
   "id": "0186f67b-2a36-4bfb-bdcf-a2adcbc33ab0",
   "metadata": {},
   "source": [
    "## Lesion Detection"
   ]
  },
  {
   "cell_type": "markdown",
   "id": "d7eb275b-e8ba-45c0-a5d9-93e1d0937d2d",
   "metadata": {},
   "source": [
    "### all lesions (mAP)"
   ]
  },
  {
   "cell_type": "code",
   "execution_count": 1,
   "id": "9b06a39f-dadf-407a-bb99-460db55d8d96",
   "metadata": {
    "scrolled": true
   },
   "outputs": [
    {
     "name": "stderr",
     "output_type": "stream",
     "text": [
      "/home/csantiago/.local/lib/python3.10/site-packages/albumentations/__init__.py:13: UserWarning: A new version of Albumentations is available: 2.0.8 (you have 1.4.18). Upgrade using: pip install -U albumentations. To disable automatic update checks, set the environment variable NO_ALBUMENTATIONS_UPDATE to 1.\n",
      "  check_for_updates()\n"
     ]
    },
    {
     "name": "stdout",
     "output_type": "stream",
     "text": [
      "\n",
      "torch.cuda.current_device(): 0\n",
      "\n",
      "Using device: cuda\n",
      "\n",
      "Running roi eval for model run nº0....\n",
      "{'source': 'cnn', 'name': 'tf_efficientnetv2-detect', 'pretrained': True, 'model_type': 'cnn'}\n",
      "_IncompatibleKeys(missing_keys=[], unexpected_keys=['_conv_head.weight', '_bn1.weight', '_bn1.bias', '_bn1.running_mean', '_bn1.running_var', '_bn1.num_batches_tracked'])\n",
      "Loaded pretrained weights for efficientnet-b2\n"
     ]
    },
    {
     "name": "stderr",
     "output_type": "stream",
     "text": [
      "100%|██████████| 219/219 [05:59<00:00,  1.64s/it]\n"
     ]
    },
    {
     "name": "stdout",
     "output_type": "stream",
     "text": [
      "Total number of annotations: 237.0\n",
      "         16        32       128  aggregated\n",
      "0  0.219185  0.285538  0.094802    0.281948\n",
      "---------------finished running code-------------------\n"
     ]
    }
   ],
   "source": [
    "path = 'Mammo-CLIP-output/out_splits_new/MIL_experiments/ViNDr_data_frac_1.0/Mass/offline_feature_extraction/multi_scale/fpn-deep_supervision/scale_aggregator_gated-attention/encoder_mlp-dim_256-dropout_0.25/pooling_gated-attention-dropout_0.25-softmax/2025-06-26'\n",
    "\n",
    "%run foundational_models/Mammo-CLIP-main/Mammo-CLIP-main/src3-Copy1/codebase/main.py \\\n",
    "--clip_chk_pt_path \"foundational_models/Mammo-CLIP-main/Mammo-CLIP-main/b2-model-best-epoch-10.tar\" \\\n",
    "--dataset 'ViNDr' \\\n",
    "--label \"Mass\" \\\n",
    "--patch_size 512 --overlap 0.75 --feature_extraction 'online' \\\n",
    "--mil_type 'pyramidal_mil' \\\n",
    "--pooling_type 'gated-attention' \\\n",
    "--fcl_encoder_dim 256 \\\n",
    "--fcl_dropout 0.25 \\\n",
    "--drop_attention_pool 0.25 \\\n",
    "--fpn_dim 256 --multi_scale_model 'fpn' \\\n",
    "--roi_eval --roi_eval_set 'test' \\\n",
    "--resume \"$path\" \\\n",
    "--type_scale_aggregator 'gated-attention' --deep_supervision --scales 16 32 128 \n",
    "\n",
    "print('---------------finished running code-------------------')"
   ]
  },
  {
   "cell_type": "markdown",
   "id": "d911cf78-bcfc-4c14-ba25-acbfb370b6f7",
   "metadata": {},
   "source": [
    "### small lesion (mAP_s)"
   ]
  },
  {
   "cell_type": "code",
   "execution_count": 2,
   "id": "1508469b-7ae7-4ec0-8393-8a26df028747",
   "metadata": {
    "scrolled": true
   },
   "outputs": [
    {
     "name": "stdout",
     "output_type": "stream",
     "text": [
      "\n",
      "torch.cuda.current_device(): 0\n",
      "\n",
      "Using device: cuda\n",
      "\n",
      "Running roi eval for model run nº0....\n",
      "{'source': 'cnn', 'name': 'tf_efficientnetv2-detect', 'pretrained': True, 'model_type': 'cnn'}\n",
      "_IncompatibleKeys(missing_keys=[], unexpected_keys=['_conv_head.weight', '_bn1.weight', '_bn1.bias', '_bn1.running_mean', '_bn1.running_var', '_bn1.num_batches_tracked'])\n",
      "Loaded pretrained weights for efficientnet-b2\n"
     ]
    },
    {
     "name": "stderr",
     "output_type": "stream",
     "text": [
      "100%|██████████| 219/219 [01:58<00:00,  1.85it/s]\n"
     ]
    },
    {
     "name": "stdout",
     "output_type": "stream",
     "text": [
      "Total number of annotations: 76.0\n",
      "         16        32       128  aggregated\n",
      "0  0.103326  0.082259  0.000888    0.047162\n",
      "---------------finished running code-------------------\n"
     ]
    }
   ],
   "source": [
    "path = 'Mammo-CLIP-output/out_splits_new/MIL_experiments/ViNDr_data_frac_1.0/Mass/offline_feature_extraction/multi_scale/fpn-deep_supervision/scale_aggregator_gated-attention/encoder_mlp-dim_256-dropout_0.25/pooling_gated-attention-dropout_0.25-softmax/2025-06-26'\n",
    "\n",
    "%run foundational_models/Mammo-CLIP-main/Mammo-CLIP-main/src3-Copy1/codebase/main.py \\\n",
    "--clip_chk_pt_path \"foundational_models/Mammo-CLIP-main/Mammo-CLIP-main/b2-model-best-epoch-10.tar\" \\\n",
    "--dataset 'ViNDr' \\\n",
    "--label \"Mass\" \\\n",
    "--patch_size 512 --overlap 0.75 --feature_extraction 'online' \\\n",
    "--mil_type 'pyramidal_mil' \\\n",
    "--pooling_type 'gated-attention' \\\n",
    "--fcl_encoder_dim 256 \\\n",
    "--fcl_dropout 0.25 \\\n",
    "--drop_attention_pool 0.25 \\\n",
    "--fpn_dim 256 --multi_scale_model 'fpn' \\\n",
    "--roi_eval --roi_eval_set 'test' --roi_eval_scheme 'small_roi' \\\n",
    "--resume \"$path\" \\\n",
    "--type_scale_aggregator 'gated-attention' --deep_supervision --scales 16 32 128 \n",
    "\n",
    "print('---------------finished running code-------------------')"
   ]
  },
  {
   "cell_type": "markdown",
   "id": "ba55774a-ba8a-425f-8217-eb3eb7346a55",
   "metadata": {},
   "source": [
    "### medium lesions (mAP_m)"
   ]
  },
  {
   "cell_type": "code",
   "execution_count": 3,
   "id": "9a3888d5-6a49-4fca-a7d5-9639dd4a5ddc",
   "metadata": {
    "scrolled": true
   },
   "outputs": [
    {
     "name": "stdout",
     "output_type": "stream",
     "text": [
      "\n",
      "torch.cuda.current_device(): 0\n",
      "\n",
      "Using device: cuda\n",
      "\n",
      "Running roi eval for model run nº0....\n",
      "{'source': 'cnn', 'name': 'tf_efficientnetv2-detect', 'pretrained': True, 'model_type': 'cnn'}\n",
      "_IncompatibleKeys(missing_keys=[], unexpected_keys=['_conv_head.weight', '_bn1.weight', '_bn1.bias', '_bn1.running_mean', '_bn1.running_var', '_bn1.num_batches_tracked'])\n",
      "Loaded pretrained weights for efficientnet-b2\n"
     ]
    },
    {
     "name": "stderr",
     "output_type": "stream",
     "text": [
      "100%|██████████| 219/219 [02:46<00:00,  1.31it/s]\n"
     ]
    },
    {
     "name": "stdout",
     "output_type": "stream",
     "text": [
      "Total number of annotations: 106.0\n",
      "         16        32       128  aggregated\n",
      "0  0.343133  0.385047  0.076987    0.320665\n",
      "---------------finished running code-------------------\n"
     ]
    }
   ],
   "source": [
    "path = 'Mammo-CLIP-output/out_splits_new/MIL_experiments/ViNDr_data_frac_1.0/Mass/offline_feature_extraction/multi_scale/fpn-deep_supervision/scale_aggregator_gated-attention/encoder_mlp-dim_256-dropout_0.25/pooling_gated-attention-dropout_0.25-softmax/2025-06-26'\n",
    "\n",
    "%run foundational_models/Mammo-CLIP-main/Mammo-CLIP-main/src3-Copy1/codebase/main.py \\\n",
    "--clip_chk_pt_path \"foundational_models/Mammo-CLIP-main/Mammo-CLIP-main/b2-model-best-epoch-10.tar\" \\\n",
    "--dataset 'ViNDr' \\\n",
    "--label \"Mass\" \\\n",
    "--patch_size 512 --overlap 0.75 --feature_extraction 'online' \\\n",
    "--mil_type 'pyramidal_mil' \\\n",
    "--pooling_type 'gated-attention' \\\n",
    "--fcl_encoder_dim 256 \\\n",
    "--fcl_dropout 0.25 \\\n",
    "--drop_attention_pool 0.25 \\\n",
    "--fpn_dim 256 --multi_scale_model 'fpn' \\\n",
    "--roi_eval --roi_eval_set 'test' --roi_eval_scheme 'medium_roi' \\\n",
    "--resume \"$path\" \\\n",
    "--type_scale_aggregator 'gated-attention' --deep_supervision --scales 16 32 128 \n",
    "\n",
    "print('---------------finished running code-------------------')"
   ]
  },
  {
   "cell_type": "markdown",
   "id": "2048f296-b917-417a-b72e-cfd1ac8de95d",
   "metadata": {},
   "source": [
    "### large lesions (mAP_l)"
   ]
  },
  {
   "cell_type": "code",
   "execution_count": 4,
   "id": "334f834f-00ac-4151-8870-a328bef50a4d",
   "metadata": {
    "scrolled": true
   },
   "outputs": [
    {
     "name": "stdout",
     "output_type": "stream",
     "text": [
      "\n",
      "torch.cuda.current_device(): 0\n",
      "\n",
      "Using device: cuda\n",
      "\n",
      "Running roi eval for model run nº0....\n",
      "{'source': 'cnn', 'name': 'tf_efficientnetv2-detect', 'pretrained': True, 'model_type': 'cnn'}\n",
      "_IncompatibleKeys(missing_keys=[], unexpected_keys=['_conv_head.weight', '_bn1.weight', '_bn1.bias', '_bn1.running_mean', '_bn1.running_var', '_bn1.num_batches_tracked'])\n",
      "Loaded pretrained weights for efficientnet-b2\n"
     ]
    },
    {
     "name": "stderr",
     "output_type": "stream",
     "text": [
      "100%|██████████| 219/219 [01:35<00:00,  2.29it/s]\n"
     ]
    },
    {
     "name": "stdout",
     "output_type": "stream",
     "text": [
      "Total number of annotations: 55.0\n",
      "         16        32       128  aggregated\n",
      "0  0.213217  0.491251  0.501964    0.662014\n",
      "---------------finished running code-------------------\n"
     ]
    }
   ],
   "source": [
    "path = 'Mammo-CLIP-output/out_splits_new/MIL_experiments/ViNDr_data_frac_1.0/Mass/offline_feature_extraction/multi_scale/fpn-deep_supervision/scale_aggregator_gated-attention/encoder_mlp-dim_256-dropout_0.25/pooling_gated-attention-dropout_0.25-softmax/2025-06-26'\n",
    "\n",
    "%run foundational_models/Mammo-CLIP-main/Mammo-CLIP-main/src3-Copy1/codebase/main.py \\\n",
    "--clip_chk_pt_path \"foundational_models/Mammo-CLIP-main/Mammo-CLIP-main/b2-model-best-epoch-10.tar\" \\\n",
    "--dataset 'ViNDr' \\\n",
    "--label \"Mass\" \\\n",
    "--patch_size 512 --overlap 0.75 --feature_extraction 'online' \\\n",
    "--mil_type 'pyramidal_mil' \\\n",
    "--pooling_type 'gated-attention' \\\n",
    "--fcl_encoder_dim 256 \\\n",
    "--fcl_dropout 0.25 \\\n",
    "--drop_attention_pool 0.25 \\\n",
    "--fpn_dim 256 --multi_scale_model 'fpn' \\\n",
    "--roi_eval --roi_eval_set 'test' --roi_eval_scheme 'large_roi' \\\n",
    "--resume \"$path\" \\\n",
    "--type_scale_aggregator 'gated-attention' --deep_supervision --scales 16 32 128 \n",
    "\n",
    "print('---------------finished running code-------------------')"
   ]
  },
  {
   "cell_type": "markdown",
   "id": "a2b583c4-852a-4495-8d18-ed44bc1690f8",
   "metadata": {},
   "source": [
    "# FPN-SetTrans"
   ]
  },
  {
   "cell_type": "code",
   "execution_count": 1,
   "id": "d7bdd230-79f7-41e3-a2e2-8aebb8ed4f33",
   "metadata": {
    "scrolled": true
   },
   "outputs": [
    {
     "name": "stderr",
     "output_type": "stream",
     "text": [
      "/home/csantiago/.local/lib/python3.10/site-packages/albumentations/__init__.py:13: UserWarning: A new version of Albumentations is available: 2.0.8 (you have 1.4.18). Upgrade using: pip install -U albumentations. To disable automatic update checks, set the environment variable NO_ALBUMENTATIONS_UPDATE to 1.\n",
      "  check_for_updates()\n"
     ]
    },
    {
     "name": "stdout",
     "output_type": "stream",
     "text": [
      "\n",
      "torch.cuda.current_device(): 0\n",
      "\n",
      "Using device: cuda\n",
      "output_path: Mammo-CLIP-output/out_splits_new/MIL_experiments/ViNDr_data_frac_1.0/Mass/offline_feature_extraction/multi_scale/fpn-deep_supervision/scale_aggregator_gated-attention/isab-dim_256-nblocks_2-nheads_4-dropout_0.0-layer_norm-softmax/pooling_pma-dropout_0.0-layer_norm-softmax/2025-06-26\n",
      "df shape: (20000, 16)\n",
      "Index(['image_id', 'patient_id', 'laterality', 'view', 'finding_categories',\n",
      "       'finding_birads', 'breast_birads', 'breast_density', 'split', 'fold',\n",
      "       'Mass', 'Suspicious_Calcification', 'resized_xmin', 'resized_ymin',\n",
      "       'resized_xmax', 'resized_ymax'],\n",
      "      dtype='object')\n",
      "\n",
      "================== run nº: 0 ======================\n",
      "train_loader: 1598, valid_loader: 402\n",
      "Model is loaded\n",
      "PyramidalMILmodel(\n",
      "  (inst_encoder): FeaturePyramidNetwork(\n",
      "    (inner_blocks): ModuleDict(\n",
      "      (inner_block_0): Sequential(\n",
      "        (0): Conv2d(120, 256, kernel_size=(1, 1), stride=(1, 1))\n",
      "        (1): Identity()\n",
      "      )\n",
      "      (inner_block_1): Sequential(\n",
      "        (0): Conv2d(352, 256, kernel_size=(1, 1), stride=(1, 1))\n",
      "        (1): Identity()\n",
      "      )\n",
      "    )\n",
      "    (layer_blocks): ModuleDict(\n",
      "      (layer_block_0): Sequential(\n",
      "        (0): Conv2d(256, 256, kernel_size=(3, 3), stride=(1, 1), padding=(1, 1))\n",
      "        (1): Identity()\n",
      "      )\n",
      "      (layer_block_1): Sequential(\n",
      "        (0): Conv2d(256, 256, kernel_size=(3, 3), stride=(1, 1), padding=(1, 1))\n",
      "        (1): Identity()\n",
      "      )\n",
      "    )\n",
      "  )\n",
      "  (side_inst_aggregator): ModuleDict(\n",
      "    (encoders): ModuleDict(\n",
      "      (encoder_16): ModuleList(\n",
      "        (0-1): 2 x InducedSetAttentionBlock(256, d_hidden = 256, num_induced_points=38, heads=4, layer_norm=True, activation=softmax)\n",
      "      )\n",
      "      (encoder_32): ModuleList(\n",
      "        (0-1): 2 x InducedSetAttentionBlock(256, d_hidden = 256, num_induced_points=32, heads=4, layer_norm=True, activation=softmax)\n",
      "      )\n",
      "      (encoder_128): ModuleList(\n",
      "        (0-1): 2 x InducedSetAttentionBlock(256, d_hidden = 256, num_induced_points=20, heads=4, layer_norm=True, activation=softmax)\n",
      "      )\n",
      "    )\n",
      "    (aggregators): ModuleDict(\n",
      "      (aggregator_16): PoolingByMultiheadAttention(256, num_seed_points=1, heads=1, layer_norm=True, activation=softmax)\n",
      "      (aggregator_32): PoolingByMultiheadAttention(256, num_seed_points=1, heads=1, layer_norm=True, activation=softmax)\n",
      "      (aggregator_128): PoolingByMultiheadAttention(256, num_seed_points=1, heads=1, layer_norm=True, activation=softmax)\n",
      "    )\n",
      "  )\n",
      "  (side_classifiers): ModuleDict(\n",
      "    (classifier_16): head(\n",
      "      (drop): Dropout(p=0.0, inplace=True)\n",
      "      (head_classifier): Linear(in_features=256, out_features=1, bias=True)\n",
      "    )\n",
      "    (classifier_32): head(\n",
      "      (drop): Dropout(p=0.0, inplace=True)\n",
      "      (head_classifier): Linear(in_features=256, out_features=1, bias=True)\n",
      "    )\n",
      "    (classifier_128): head(\n",
      "      (drop): Dropout(p=0.0, inplace=True)\n",
      "      (head_classifier): Linear(in_features=256, out_features=1, bias=True)\n",
      "    )\n",
      "  )\n",
      "  (scale_aggregator): Gated_Attn_Net(\n",
      "    (attention_V): Sequential(\n",
      "      (0): Linear(in_features=256, out_features=128, bias=True)\n",
      "      (1): Tanh()\n",
      "      (2): Dropout(p=0.25, inplace=False)\n",
      "    )\n",
      "    (attention_U): Sequential(\n",
      "      (0): Linear(in_features=256, out_features=128, bias=True)\n",
      "      (1): Sigmoid()\n",
      "      (2): Dropout(p=0.25, inplace=False)\n",
      "    )\n",
      "    (attention_weights): Linear(in_features=128, out_features=1, bias=True)\n",
      "  )\n",
      "  (classifier): head(\n",
      "    (drop): Dropout(p=0.0, inplace=True)\n",
      "    (head_classifier): Linear(in_features=256, out_features=1, bias=True)\n",
      "  )\n",
      ")\n",
      "\n",
      "Total number of parameters: 5.378181 M\n",
      "Total number of trainable parameters: 5.378181 M\n",
      "pos_wt: tensor([15.5733], device='cuda:0')\n",
      "\n",
      "-------- Epoch 1/30 --------\n"
     ]
    },
    {
     "name": "stderr",
     "output_type": "stream",
     "text": [
      "[001/030 epoch train]: 100%|██████████| 1598/1598 [03:44<00:00,  7.10it/s, lr=[5e-05], loss=4.9718, CUDA-Mem=0%, CUDA-Util=0%]                 \n",
      "[001/030 epoch valid]: 100%|██████████| 402/402 [00:45<00:00,  8.91it/s, loss=4.8995, CUDA-Mem=0%, CUDA-Util=0%]\n"
     ]
    },
    {
     "name": "stdout",
     "output_type": "stream",
     "text": [
      "\n",
      "Train Loss: 4.9718\n",
      "Scale: 16 --> Train F1-Score: 0.7440 | Train Bacc: 0.5405 | Train ROC-AUC: 0.5672\n",
      "Scale: 32 --> Train F1-Score: 0.7468 | Train Bacc: 0.5419 | Train ROC-AUC: 0.5776\n",
      "Scale: 128 --> Train F1-Score: 0.7431 | Train Bacc: 0.5432 | Train ROC-AUC: 0.5758\n",
      "Aggregated Results --> Train F1-Score: 0.7608 | Train Bacc: 0.5561 | Train ROC-AUC: 0.5870\n",
      "\n",
      "Val Loss: 4.8995\n",
      "Scale: 16 --> Val F1-Score: 0.9043 | Val Bacc: 0.5350 | Val ROC-AUC: 0.6200\n",
      "Scale: 32 --> Val F1-Score: 0.9052 | Val Bacc: 0.5239 | Val ROC-AUC: 0.6426\n",
      "Scale: 128 --> Val F1-Score: 0.9049 | Val Bacc: 0.5236 | Val ROC-AUC: 0.6359\n",
      "Aggregated Results --> Val F1-Score: 0.8514 | Val Bacc: 0.5833 | Val ROC-AUC: 0.6452\n",
      "\n",
      "Epoch 1 - Save aucroc: 0.6452 Model\n",
      "\n",
      "best AUC-ROC Score at epoch 1: 0.6452\n",
      "\n",
      "-------- Epoch 2/30 --------\n"
     ]
    },
    {
     "name": "stderr",
     "output_type": "stream",
     "text": [
      "[002/030 epoch train]: 100%|██████████| 1598/1598 [03:48<00:00,  7.00it/s, lr=[4.9853448928858984e-05], loss=4.8516, CUDA-Mem=0%, CUDA-Util=0%]\n",
      "[002/030 epoch valid]: 100%|██████████| 402/402 [00:45<00:00,  8.89it/s, loss=4.8197, CUDA-Mem=0%, CUDA-Util=0%]\n"
     ]
    },
    {
     "name": "stdout",
     "output_type": "stream",
     "text": [
      "\n",
      "Train Loss: 4.8516\n",
      "Scale: 16 --> Train F1-Score: 0.7813 | Train Bacc: 0.5617 | Train ROC-AUC: 0.5978\n",
      "Scale: 32 --> Train F1-Score: 0.7851 | Train Bacc: 0.5789 | Train ROC-AUC: 0.6234\n",
      "Scale: 128 --> Train F1-Score: 0.7828 | Train Bacc: 0.5687 | Train ROC-AUC: 0.6162\n",
      "Aggregated Results --> Train F1-Score: 0.7928 | Train Bacc: 0.5881 | Train ROC-AUC: 0.6367\n",
      "\n",
      "Val Loss: 4.8197\n",
      "Scale: 16 --> Val F1-Score: 0.2116 | Val Bacc: 0.5443 | Val ROC-AUC: 0.6466\n",
      "Scale: 32 --> Val F1-Score: 0.6179 | Val Bacc: 0.6298 | Val ROC-AUC: 0.7046\n",
      "Scale: 128 --> Val F1-Score: 0.3728 | Val Bacc: 0.5816 | Val ROC-AUC: 0.6885\n",
      "Aggregated Results --> Val F1-Score: 0.6849 | Val Bacc: 0.6410 | Val ROC-AUC: 0.6987\n",
      "\n",
      "Epoch 2 - Save aucroc: 0.6987 Model\n",
      "\n",
      "best AUC-ROC Score at epoch 2: 0.6987\n",
      "\n",
      "-------- Epoch 3/30 --------\n"
     ]
    },
    {
     "name": "stderr",
     "output_type": "stream",
     "text": [
      "[003/030 epoch train]: 100%|██████████| 1598/1598 [03:47<00:00,  7.03it/s, lr=[4.941551389275217e-05], loss=4.5119, CUDA-Mem=0%, CUDA-Util=0%] \n",
      "[003/030 epoch valid]: 100%|██████████| 402/402 [00:45<00:00,  8.92it/s, loss=4.4108, CUDA-Mem=0%, CUDA-Util=0%]\n"
     ]
    },
    {
     "name": "stdout",
     "output_type": "stream",
     "text": [
      "\n",
      "Train Loss: 4.5119\n",
      "Scale: 16 --> Train F1-Score: 0.7869 | Train Bacc: 0.6222 | Train ROC-AUC: 0.6810\n",
      "Scale: 32 --> Train F1-Score: 0.8318 | Train Bacc: 0.6694 | Train ROC-AUC: 0.7204\n",
      "Scale: 128 --> Train F1-Score: 0.8109 | Train Bacc: 0.6464 | Train ROC-AUC: 0.7010\n",
      "Aggregated Results --> Train F1-Score: 0.8372 | Train Bacc: 0.6724 | Train ROC-AUC: 0.7228\n",
      "\n",
      "Val Loss: 4.4108\n",
      "Scale: 16 --> Val F1-Score: 0.8740 | Val Bacc: 0.6711 | Val ROC-AUC: 0.7410\n",
      "Scale: 32 --> Val F1-Score: 0.8224 | Val Bacc: 0.6731 | Val ROC-AUC: 0.7353\n",
      "Scale: 128 --> Val F1-Score: 0.8631 | Val Bacc: 0.6467 | Val ROC-AUC: 0.7076\n",
      "Aggregated Results --> Val F1-Score: 0.8371 | Val Bacc: 0.6692 | Val ROC-AUC: 0.7344\n",
      "\n",
      "Epoch 3 - Save aucroc: 0.7344 Model\n",
      "\n",
      "best AUC-ROC Score at epoch 3: 0.7344\n",
      "\n",
      "-------- Epoch 4/30 --------\n"
     ]
    },
    {
     "name": "stderr",
     "output_type": "stream",
     "text": [
      "[004/030 epoch train]: 100%|██████████| 1598/1598 [03:47<00:00,  7.03it/s, lr=[4.869132927957007e-05], loss=4.3445, CUDA-Mem=0%, CUDA-Util=0%] \n",
      "[004/030 epoch valid]: 100%|██████████| 402/402 [00:45<00:00,  8.93it/s, loss=4.3617, CUDA-Mem=0%, CUDA-Util=0%]\n"
     ]
    },
    {
     "name": "stdout",
     "output_type": "stream",
     "text": [
      "\n",
      "Train Loss: 4.3445\n",
      "Scale: 16 --> Train F1-Score: 0.8196 | Train Bacc: 0.6916 | Train ROC-AUC: 0.7370\n",
      "Scale: 32 --> Train F1-Score: 0.8304 | Train Bacc: 0.6858 | Train ROC-AUC: 0.7495\n",
      "Scale: 128 --> Train F1-Score: 0.8271 | Train Bacc: 0.6631 | Train ROC-AUC: 0.7237\n",
      "Aggregated Results --> Train F1-Score: 0.8308 | Train Bacc: 0.6894 | Train ROC-AUC: 0.7532\n",
      "\n",
      "Val Loss: 4.3617\n",
      "Scale: 16 --> Val F1-Score: 0.7939 | Val Bacc: 0.6956 | Val ROC-AUC: 0.7483\n",
      "Scale: 32 --> Val F1-Score: 0.8228 | Val Bacc: 0.7020 | Val ROC-AUC: 0.7454\n",
      "Scale: 128 --> Val F1-Score: 0.8384 | Val Bacc: 0.6677 | Val ROC-AUC: 0.7197\n",
      "Aggregated Results --> Val F1-Score: 0.8127 | Val Bacc: 0.7047 | Val ROC-AUC: 0.7480\n",
      "\n",
      "Epoch 4 - Save aucroc: 0.7480 Model\n",
      "\n",
      "best AUC-ROC Score at epoch 4: 0.7480\n",
      "\n",
      "-------- Epoch 5/30 --------\n"
     ]
    },
    {
     "name": "stderr",
     "output_type": "stream",
     "text": [
      "[005/030 epoch train]: 100%|██████████| 1598/1598 [03:47<00:00,  7.03it/s, lr=[4.768938549177392e-05], loss=4.2221, CUDA-Mem=0%, CUDA-Util=0%] \n",
      "[005/030 epoch valid]: 100%|██████████| 402/402 [00:45<00:00,  8.92it/s, loss=4.4796, CUDA-Mem=0%, CUDA-Util=0%]"
     ]
    },
    {
     "name": "stdout",
     "output_type": "stream",
     "text": [
      "\n",
      "Train Loss: 4.2221\n",
      "Scale: 16 --> Train F1-Score: 0.8234 | Train Bacc: 0.6985 | Train ROC-AUC: 0.7623\n",
      "Scale: 32 --> Train F1-Score: 0.8239 | Train Bacc: 0.6989 | Train ROC-AUC: 0.7612\n",
      "Scale: 128 --> Train F1-Score: 0.8342 | Train Bacc: 0.6895 | Train ROC-AUC: 0.7418\n",
      "Aggregated Results --> Train F1-Score: 0.8316 | Train Bacc: 0.7094 | Train ROC-AUC: 0.7707\n",
      "\n",
      "Val Loss: 4.4796\n",
      "Scale: 16 --> Val F1-Score: 0.8910 | Val Bacc: 0.6724 | Val ROC-AUC: 0.7576\n",
      "Scale: 32 --> Val F1-Score: 0.8856 | Val Bacc: 0.6653 | Val ROC-AUC: 0.7154\n",
      "Scale: 128 --> Val F1-Score: 0.9006 | Val Bacc: 0.6125 | Val ROC-AUC: 0.7264\n",
      "Aggregated Results --> Val F1-Score: 0.8922 | Val Bacc: 0.6557 | Val ROC-AUC: 0.7376\n",
      "\n",
      "best AUC-ROC Score at epoch 4: 0.7480\n",
      "\n",
      "-------- Epoch 6/30 --------\n"
     ]
    },
    {
     "name": "stderr",
     "output_type": "stream",
     "text": [
      "\n",
      "[006/030 epoch train]: 100%|██████████| 1598/1598 [03:47<00:00,  7.01it/s, lr=[4.6421429404189725e-05], loss=4.1210, CUDA-Mem=0%, CUDA-Util=0%]\n",
      "[006/030 epoch valid]: 100%|██████████| 402/402 [00:45<00:00,  8.92it/s, loss=4.2856, CUDA-Mem=0%, CUDA-Util=0%]\n"
     ]
    },
    {
     "name": "stdout",
     "output_type": "stream",
     "text": [
      "\n",
      "Train Loss: 4.1210\n",
      "Scale: 16 --> Train F1-Score: 0.8341 | Train Bacc: 0.7095 | Train ROC-AUC: 0.7735\n",
      "Scale: 32 --> Train F1-Score: 0.8428 | Train Bacc: 0.7035 | Train ROC-AUC: 0.7764\n",
      "Scale: 128 --> Train F1-Score: 0.8443 | Train Bacc: 0.6943 | Train ROC-AUC: 0.7545\n",
      "Aggregated Results --> Train F1-Score: 0.8462 | Train Bacc: 0.7133 | Train ROC-AUC: 0.7843\n",
      "\n",
      "Val Loss: 4.2856\n",
      "Scale: 16 --> Val F1-Score: 0.8413 | Val Bacc: 0.7011 | Val ROC-AUC: 0.7649\n",
      "Scale: 32 --> Val F1-Score: 0.8137 | Val Bacc: 0.6976 | Val ROC-AUC: 0.7551\n",
      "Scale: 128 --> Val F1-Score: 0.8520 | Val Bacc: 0.6607 | Val ROC-AUC: 0.7295\n",
      "Aggregated Results --> Val F1-Score: 0.8355 | Val Bacc: 0.7042 | Val ROC-AUC: 0.7609\n",
      "\n",
      "Epoch 6 - Save aucroc: 0.7609 Model\n",
      "\n",
      "best AUC-ROC Score at epoch 6: 0.7609\n",
      "\n",
      "-------- Epoch 7/30 --------\n"
     ]
    },
    {
     "name": "stderr",
     "output_type": "stream",
     "text": [
      "[007/030 epoch train]: 100%|██████████| 1598/1598 [03:46<00:00,  7.04it/s, lr=[4.4902326642641095e-05], loss=4.0173, CUDA-Mem=0%, CUDA-Util=0%]\n",
      "[007/030 epoch valid]: 100%|██████████| 402/402 [00:45<00:00,  8.90it/s, loss=4.4990, CUDA-Mem=0%, CUDA-Util=0%]\n"
     ]
    },
    {
     "name": "stdout",
     "output_type": "stream",
     "text": [
      "\n",
      "Train Loss: 4.0173\n",
      "Scale: 16 --> Train F1-Score: 0.8363 | Train Bacc: 0.7249 | Train ROC-AUC: 0.7876\n",
      "Scale: 32 --> Train F1-Score: 0.8452 | Train Bacc: 0.7248 | Train ROC-AUC: 0.7897\n",
      "Scale: 128 --> Train F1-Score: 0.8407 | Train Bacc: 0.7017 | Train ROC-AUC: 0.7705\n",
      "Aggregated Results --> Train F1-Score: 0.8447 | Train Bacc: 0.7263 | Train ROC-AUC: 0.8005\n",
      "\n",
      "Val Loss: 4.4990\n",
      "Scale: 16 --> Val F1-Score: 0.8867 | Val Bacc: 0.6790 | Val ROC-AUC: 0.7650\n",
      "Scale: 32 --> Val F1-Score: 0.8816 | Val Bacc: 0.6824 | Val ROC-AUC: 0.7189\n",
      "Scale: 128 --> Val F1-Score: 0.8779 | Val Bacc: 0.6412 | Val ROC-AUC: 0.7248\n",
      "Aggregated Results --> Val F1-Score: 0.8819 | Val Bacc: 0.6801 | Val ROC-AUC: 0.7623\n",
      "\n",
      "Epoch 7 - Save aucroc: 0.7623 Model\n",
      "\n",
      "best AUC-ROC Score at epoch 7: 0.7623\n",
      "\n",
      "-------- Epoch 8/30 --------\n"
     ]
    },
    {
     "name": "stderr",
     "output_type": "stream",
     "text": [
      "[008/030 epoch train]: 100%|██████████| 1598/1598 [03:47<00:00,  7.02it/s, lr=[4.3149887298078276e-05], loss=3.9300, CUDA-Mem=0%, CUDA-Util=0%]\n",
      "[008/030 epoch valid]: 100%|██████████| 402/402 [00:45<00:00,  8.90it/s, loss=4.2991, CUDA-Mem=0%, CUDA-Util=0%]"
     ]
    },
    {
     "name": "stdout",
     "output_type": "stream",
     "text": [
      "\n",
      "Train Loss: 3.9300\n",
      "Scale: 16 --> Train F1-Score: 0.8356 | Train Bacc: 0.7288 | Train ROC-AUC: 0.7985\n",
      "Scale: 32 --> Train F1-Score: 0.8347 | Train Bacc: 0.7229 | Train ROC-AUC: 0.8006\n",
      "Scale: 128 --> Train F1-Score: 0.8335 | Train Bacc: 0.7116 | Train ROC-AUC: 0.7873\n",
      "Aggregated Results --> Train F1-Score: 0.8390 | Train Bacc: 0.7334 | Train ROC-AUC: 0.8129\n",
      "\n",
      "Val Loss: 4.2991\n",
      "Scale: 16 --> Val F1-Score: 0.8751 | Val Bacc: 0.6924 | Val ROC-AUC: 0.7644\n",
      "Scale: 32 --> Val F1-Score: 0.8533 | Val Bacc: 0.7106 | Val ROC-AUC: 0.7564\n",
      "Scale: 128 --> Val F1-Score: 0.8762 | Val Bacc: 0.6525 | Val ROC-AUC: 0.7214\n",
      "Aggregated Results --> Val F1-Score: 0.8677 | Val Bacc: 0.6914 | Val ROC-AUC: 0.7611\n",
      "\n",
      "best AUC-ROC Score at epoch 7: 0.7623\n",
      "\n",
      "-------- Epoch 9/30 --------\n"
     ]
    },
    {
     "name": "stderr",
     "output_type": "stream",
     "text": [
      "\n",
      "[009/030 epoch train]: 100%|██████████| 1598/1598 [03:48<00:00,  7.01it/s, lr=[4.118465711954569e-05], loss=3.8424, CUDA-Mem=0%, CUDA-Util=0%] \n",
      "[009/030 epoch valid]: 100%|██████████| 402/402 [00:44<00:00,  8.95it/s, loss=4.2862, CUDA-Mem=0%, CUDA-Util=0%]"
     ]
    },
    {
     "name": "stdout",
     "output_type": "stream",
     "text": [
      "\n",
      "Train Loss: 3.8424\n",
      "Scale: 16 --> Train F1-Score: 0.8306 | Train Bacc: 0.7360 | Train ROC-AUC: 0.8094\n",
      "Scale: 32 --> Train F1-Score: 0.8311 | Train Bacc: 0.7331 | Train ROC-AUC: 0.8105\n",
      "Scale: 128 --> Train F1-Score: 0.8330 | Train Bacc: 0.7190 | Train ROC-AUC: 0.7967\n",
      "Aggregated Results --> Train F1-Score: 0.8364 | Train Bacc: 0.7529 | Train ROC-AUC: 0.8245\n",
      "\n",
      "Val Loss: 4.2862\n",
      "Scale: 16 --> Val F1-Score: 0.8257 | Val Bacc: 0.7121 | Val ROC-AUC: 0.7631\n",
      "Scale: 32 --> Val F1-Score: 0.8332 | Val Bacc: 0.6920 | Val ROC-AUC: 0.7429\n",
      "Scale: 128 --> Val F1-Score: 0.8408 | Val Bacc: 0.6567 | Val ROC-AUC: 0.7244\n",
      "Aggregated Results --> Val F1-Score: 0.8257 | Val Bacc: 0.6965 | Val ROC-AUC: 0.7540\n",
      "\n",
      "best AUC-ROC Score at epoch 7: 0.7623\n",
      "\n",
      "-------- Epoch 10/30 --------\n"
     ]
    },
    {
     "name": "stderr",
     "output_type": "stream",
     "text": [
      "\n",
      "[010/030 epoch train]: 100%|██████████| 1598/1598 [03:50<00:00,  6.94it/s, lr=[3.902967663405956e-05], loss=3.7587, CUDA-Mem=0%, CUDA-Util=0%] \n",
      "[010/030 epoch valid]: 100%|██████████| 402/402 [00:44<00:00,  8.94it/s, loss=4.6137, CUDA-Mem=0%, CUDA-Util=0%]\n"
     ]
    },
    {
     "name": "stdout",
     "output_type": "stream",
     "text": [
      "\n",
      "Train Loss: 3.7587\n",
      "Scale: 16 --> Train F1-Score: 0.8314 | Train Bacc: 0.7489 | Train ROC-AUC: 0.8183\n",
      "Scale: 32 --> Train F1-Score: 0.8399 | Train Bacc: 0.7465 | Train ROC-AUC: 0.8166\n",
      "Scale: 128 --> Train F1-Score: 0.8397 | Train Bacc: 0.7353 | Train ROC-AUC: 0.8074\n",
      "Aggregated Results --> Train F1-Score: 0.8429 | Train Bacc: 0.7599 | Train ROC-AUC: 0.8340\n",
      "\n",
      "Val Loss: 4.6137\n",
      "Scale: 16 --> Val F1-Score: 0.8993 | Val Bacc: 0.6489 | Val ROC-AUC: 0.7568\n",
      "Scale: 32 --> Val F1-Score: 0.8988 | Val Bacc: 0.6662 | Val ROC-AUC: 0.7460\n",
      "Scale: 128 --> Val F1-Score: 0.8967 | Val Bacc: 0.6292 | Val ROC-AUC: 0.7218\n",
      "Aggregated Results --> Val F1-Score: 0.8987 | Val Bacc: 0.6636 | Val ROC-AUC: 0.7519\n",
      "\n",
      "best AUC-ROC Score at epoch 7: 0.7623\n",
      "\n",
      "-------- Epoch 11/30 --------\n"
     ]
    },
    {
     "name": "stderr",
     "output_type": "stream",
     "text": [
      "[011/030 epoch train]: 100%|██████████| 1598/1598 [03:49<00:00,  6.96it/s, lr=[3.671021101749476e-05], loss=3.6473, CUDA-Mem=0%, CUDA-Util=0%] \n",
      "[011/030 epoch valid]: 100%|██████████| 402/402 [00:45<00:00,  8.91it/s, loss=4.4923, CUDA-Mem=0%, CUDA-Util=0%]\n"
     ]
    },
    {
     "name": "stdout",
     "output_type": "stream",
     "text": [
      "\n",
      "Train Loss: 3.6473\n",
      "Scale: 16 --> Train F1-Score: 0.8394 | Train Bacc: 0.7585 | Train ROC-AUC: 0.8293\n",
      "Scale: 32 --> Train F1-Score: 0.8492 | Train Bacc: 0.7499 | Train ROC-AUC: 0.8294\n",
      "Scale: 128 --> Train F1-Score: 0.8438 | Train Bacc: 0.7353 | Train ROC-AUC: 0.8171\n",
      "Aggregated Results --> Train F1-Score: 0.8493 | Train Bacc: 0.7753 | Train ROC-AUC: 0.8504\n",
      "\n",
      "Val Loss: 4.4923\n",
      "Scale: 16 --> Val F1-Score: 0.8434 | Val Bacc: 0.6924 | Val ROC-AUC: 0.7548\n",
      "Scale: 32 --> Val F1-Score: 0.8175 | Val Bacc: 0.6771 | Val ROC-AUC: 0.7409\n",
      "Scale: 128 --> Val F1-Score: 0.8551 | Val Bacc: 0.6503 | Val ROC-AUC: 0.7145\n",
      "Aggregated Results --> Val F1-Score: 0.8451 | Val Bacc: 0.6886 | Val ROC-AUC: 0.7461\n",
      "\n",
      "best AUC-ROC Score at epoch 7: 0.7623\n",
      "\n",
      "-------- Epoch 12/30 --------\n"
     ]
    },
    {
     "name": "stderr",
     "output_type": "stream",
     "text": [
      "[012/030 epoch train]: 100%|██████████| 1598/1598 [03:49<00:00,  6.96it/s, lr=[3.425345388349786e-05], loss=3.5221, CUDA-Mem=0%, CUDA-Util=0%] \n",
      "[012/030 epoch valid]: 100%|██████████| 402/402 [00:44<00:00,  8.94it/s, loss=4.5993, CUDA-Mem=0%, CUDA-Util=0%]"
     ]
    },
    {
     "name": "stdout",
     "output_type": "stream",
     "text": [
      "\n",
      "Train Loss: 3.5221\n",
      "Scale: 16 --> Train F1-Score: 0.8403 | Train Bacc: 0.7708 | Train ROC-AUC: 0.8431\n",
      "Scale: 32 --> Train F1-Score: 0.8439 | Train Bacc: 0.7535 | Train ROC-AUC: 0.8358\n",
      "Scale: 128 --> Train F1-Score: 0.8475 | Train Bacc: 0.7512 | Train ROC-AUC: 0.8332\n",
      "Aggregated Results --> Train F1-Score: 0.8523 | Train Bacc: 0.7848 | Train ROC-AUC: 0.8644\n",
      "\n",
      "Val Loss: 4.5993\n",
      "Scale: 16 --> Val F1-Score: 0.8654 | Val Bacc: 0.6819 | Val ROC-AUC: 0.7507\n",
      "Scale: 32 --> Val F1-Score: 0.8478 | Val Bacc: 0.6727 | Val ROC-AUC: 0.7364\n",
      "Scale: 128 --> Val F1-Score: 0.8547 | Val Bacc: 0.6500 | Val ROC-AUC: 0.7138\n",
      "Aggregated Results --> Val F1-Score: 0.8727 | Val Bacc: 0.6776 | Val ROC-AUC: 0.7471\n",
      "\n",
      "best AUC-ROC Score at epoch 7: 0.7623\n",
      "\n",
      "-------- Epoch 13/30 --------\n"
     ]
    },
    {
     "name": "stderr",
     "output_type": "stream",
     "text": [
      "\n",
      "[013/030 epoch train]: 100%|██████████| 1598/1598 [03:44<00:00,  7.11it/s, lr=[3.168820846323052e-05], loss=3.3898, CUDA-Mem=0%, CUDA-Util=0%] \n",
      "[013/030 epoch valid]: 100%|██████████| 402/402 [00:46<00:00,  8.69it/s, loss=4.9532, CUDA-Mem=0%, CUDA-Util=0%]"
     ]
    },
    {
     "name": "stdout",
     "output_type": "stream",
     "text": [
      "\n",
      "Train Loss: 3.3898\n",
      "Scale: 16 --> Train F1-Score: 0.8442 | Train Bacc: 0.7752 | Train ROC-AUC: 0.8539\n",
      "Scale: 32 --> Train F1-Score: 0.8489 | Train Bacc: 0.7626 | Train ROC-AUC: 0.8443\n",
      "Scale: 128 --> Train F1-Score: 0.8484 | Train Bacc: 0.7597 | Train ROC-AUC: 0.8508\n",
      "Aggregated Results --> Train F1-Score: 0.8635 | Train Bacc: 0.8041 | Train ROC-AUC: 0.8817\n",
      "\n",
      "Val Loss: 4.9532\n",
      "Scale: 16 --> Val F1-Score: 0.8797 | Val Bacc: 0.6579 | Val ROC-AUC: 0.7389\n",
      "Scale: 32 --> Val F1-Score: 0.8690 | Val Bacc: 0.6670 | Val ROC-AUC: 0.7127\n",
      "Scale: 128 --> Val F1-Score: 0.8927 | Val Bacc: 0.6233 | Val ROC-AUC: 0.7026\n",
      "Aggregated Results --> Val F1-Score: 0.8962 | Val Bacc: 0.6641 | Val ROC-AUC: 0.7205\n",
      "\n",
      "best AUC-ROC Score at epoch 7: 0.7623\n",
      "\n",
      "-------- Epoch 14/30 --------\n"
     ]
    },
    {
     "name": "stderr",
     "output_type": "stream",
     "text": [
      "\n",
      "[014/030 epoch train]: 100%|██████████| 1598/1598 [03:43<00:00,  7.16it/s, lr=[2.904454991381912e-05], loss=3.2320, CUDA-Mem=0%, CUDA-Util=0%] \n",
      "[014/030 epoch valid]: 100%|██████████| 402/402 [00:45<00:00,  8.90it/s, loss=5.1113, CUDA-Mem=0%, CUDA-Util=0%]\n"
     ]
    },
    {
     "name": "stdout",
     "output_type": "stream",
     "text": [
      "\n",
      "Train Loss: 3.2320\n",
      "Scale: 16 --> Train F1-Score: 0.8496 | Train Bacc: 0.7892 | Train ROC-AUC: 0.8648\n",
      "Scale: 32 --> Train F1-Score: 0.8476 | Train Bacc: 0.7669 | Train ROC-AUC: 0.8542\n",
      "Scale: 128 --> Train F1-Score: 0.8507 | Train Bacc: 0.7848 | Train ROC-AUC: 0.8690\n",
      "Aggregated Results --> Train F1-Score: 0.8745 | Train Bacc: 0.8218 | Train ROC-AUC: 0.9003\n",
      "\n",
      "Val Loss: 5.1113\n",
      "Scale: 16 --> Val F1-Score: 0.8301 | Val Bacc: 0.6792 | Val ROC-AUC: 0.7479\n",
      "Scale: 32 --> Val F1-Score: 0.8213 | Val Bacc: 0.6567 | Val ROC-AUC: 0.7253\n",
      "Scale: 128 --> Val F1-Score: 0.8247 | Val Bacc: 0.6206 | Val ROC-AUC: 0.6800\n",
      "Aggregated Results --> Val F1-Score: 0.8536 | Val Bacc: 0.6415 | Val ROC-AUC: 0.7163\n",
      "\n",
      "best AUC-ROC Score at epoch 7: 0.7623\n",
      "\n",
      "-------- Epoch 15/30 --------\n"
     ]
    },
    {
     "name": "stderr",
     "output_type": "stream",
     "text": [
      "[015/030 epoch train]: 100%|██████████| 1598/1598 [03:41<00:00,  7.20it/s, lr=[2.635347271463544e-05], loss=3.0320, CUDA-Mem=0%, CUDA-Util=0%] \n",
      "[015/030 epoch valid]: 100%|██████████| 402/402 [00:45<00:00,  8.90it/s, loss=5.1852, CUDA-Mem=0%, CUDA-Util=0%]\n"
     ]
    },
    {
     "name": "stdout",
     "output_type": "stream",
     "text": [
      "\n",
      "Train Loss: 3.0320\n",
      "Scale: 16 --> Train F1-Score: 0.8433 | Train Bacc: 0.8011 | Train ROC-AUC: 0.8738\n",
      "Scale: 32 --> Train F1-Score: 0.8486 | Train Bacc: 0.7806 | Train ROC-AUC: 0.8672\n",
      "Scale: 128 --> Train F1-Score: 0.8590 | Train Bacc: 0.8050 | Train ROC-AUC: 0.8891\n",
      "Aggregated Results --> Train F1-Score: 0.8830 | Train Bacc: 0.8491 | Train ROC-AUC: 0.9210\n",
      "\n",
      "Val Loss: 5.1852\n",
      "Scale: 16 --> Val F1-Score: 0.8631 | Val Bacc: 0.6467 | Val ROC-AUC: 0.7455\n",
      "Scale: 32 --> Val F1-Score: 0.8294 | Val Bacc: 0.6631 | Val ROC-AUC: 0.7223\n",
      "Scale: 128 --> Val F1-Score: 0.8287 | Val Bacc: 0.6340 | Val ROC-AUC: 0.6963\n",
      "Aggregated Results --> Val F1-Score: 0.8797 | Val Bacc: 0.6783 | Val ROC-AUC: 0.7220\n",
      "\n",
      "best AUC-ROC Score at epoch 7: 0.7623\n",
      "\n",
      "-------- Epoch 16/30 --------\n"
     ]
    },
    {
     "name": "stderr",
     "output_type": "stream",
     "text": [
      "[016/030 epoch train]: 100%|██████████| 1598/1598 [03:46<00:00,  7.05it/s, lr=[2.3646527285364565e-05], loss=2.7848, CUDA-Mem=0%, CUDA-Util=0%]\n",
      "[016/030 epoch valid]: 100%|██████████| 402/402 [00:45<00:00,  8.90it/s, loss=5.4637, CUDA-Mem=0%, CUDA-Util=0%]"
     ]
    },
    {
     "name": "stdout",
     "output_type": "stream",
     "text": [
      "\n",
      "Train Loss: 2.7848\n",
      "Scale: 16 --> Train F1-Score: 0.8623 | Train Bacc: 0.8225 | Train ROC-AUC: 0.8879\n",
      "Scale: 32 --> Train F1-Score: 0.8506 | Train Bacc: 0.7900 | Train ROC-AUC: 0.8796\n",
      "Scale: 128 --> Train F1-Score: 0.8657 | Train Bacc: 0.8342 | Train ROC-AUC: 0.9148\n",
      "Aggregated Results --> Train F1-Score: 0.8971 | Train Bacc: 0.8635 | Train ROC-AUC: 0.9394\n",
      "\n",
      "Val Loss: 5.4637\n",
      "Scale: 16 --> Val F1-Score: 0.8793 | Val Bacc: 0.6348 | Val ROC-AUC: 0.7457\n",
      "Scale: 32 --> Val F1-Score: 0.8763 | Val Bacc: 0.6602 | Val ROC-AUC: 0.7195\n",
      "Scale: 128 --> Val F1-Score: 0.7936 | Val Bacc: 0.6195 | Val ROC-AUC: 0.6697\n",
      "Aggregated Results --> Val F1-Score: 0.8664 | Val Bacc: 0.6571 | Val ROC-AUC: 0.7010\n",
      "\n",
      "best AUC-ROC Score at epoch 7: 0.7623\n",
      "\n",
      "-------- Epoch 17/30 --------\n"
     ]
    },
    {
     "name": "stderr",
     "output_type": "stream",
     "text": [
      "\n",
      "[017/030 epoch train]: 100%|██████████| 1598/1598 [03:44<00:00,  7.12it/s, lr=[2.0955450086180886e-05], loss=2.5511, CUDA-Mem=0%, CUDA-Util=0%]\n",
      "[017/030 epoch valid]: 100%|██████████| 402/402 [00:45<00:00,  8.88it/s, loss=5.9410, CUDA-Mem=0%, CUDA-Util=0%]\n"
     ]
    },
    {
     "name": "stdout",
     "output_type": "stream",
     "text": [
      "\n",
      "Train Loss: 2.5511\n",
      "Scale: 16 --> Train F1-Score: 0.8625 | Train Bacc: 0.8298 | Train ROC-AUC: 0.9001\n",
      "Scale: 32 --> Train F1-Score: 0.8588 | Train Bacc: 0.8029 | Train ROC-AUC: 0.8920\n",
      "Scale: 128 --> Train F1-Score: 0.8787 | Train Bacc: 0.8490 | Train ROC-AUC: 0.9314\n",
      "Aggregated Results --> Train F1-Score: 0.9119 | Train Bacc: 0.8944 | Train ROC-AUC: 0.9561\n",
      "\n",
      "Val Loss: 5.9410\n",
      "Scale: 16 --> Val F1-Score: 0.8616 | Val Bacc: 0.6352 | Val ROC-AUC: 0.7367\n",
      "Scale: 32 --> Val F1-Score: 0.8460 | Val Bacc: 0.6557 | Val ROC-AUC: 0.6989\n",
      "Scale: 128 --> Val F1-Score: 0.8474 | Val Bacc: 0.6030 | Val ROC-AUC: 0.6608\n",
      "Aggregated Results --> Val F1-Score: 0.8838 | Val Bacc: 0.6335 | Val ROC-AUC: 0.6868\n",
      "\n",
      "best AUC-ROC Score at epoch 7: 0.7623\n",
      "\n",
      "-------- Epoch 18/30 --------\n"
     ]
    },
    {
     "name": "stderr",
     "output_type": "stream",
     "text": [
      "[018/030 epoch train]: 100%|██████████| 1598/1598 [03:48<00:00,  6.98it/s, lr=[1.8311791536769483e-05], loss=2.3399, CUDA-Mem=0%, CUDA-Util=0%]\n",
      "[018/030 epoch valid]: 100%|██████████| 402/402 [00:45<00:00,  8.89it/s, loss=5.9872, CUDA-Mem=0%, CUDA-Util=0%]\n"
     ]
    },
    {
     "name": "stdout",
     "output_type": "stream",
     "text": [
      "\n",
      "Train Loss: 2.3399\n",
      "Scale: 16 --> Train F1-Score: 0.8776 | Train Bacc: 0.8527 | Train ROC-AUC: 0.9119\n",
      "Scale: 32 --> Train F1-Score: 0.8618 | Train Bacc: 0.8156 | Train ROC-AUC: 0.9026\n",
      "Scale: 128 --> Train F1-Score: 0.8963 | Train Bacc: 0.8816 | Train ROC-AUC: 0.9457\n",
      "Aggregated Results --> Train F1-Score: 0.9238 | Train Bacc: 0.9118 | Train ROC-AUC: 0.9672\n",
      "\n",
      "Val Loss: 5.9872\n",
      "Scale: 16 --> Val F1-Score: 0.7842 | Val Bacc: 0.6857 | Val ROC-AUC: 0.7461\n",
      "Scale: 32 --> Val F1-Score: 0.8000 | Val Bacc: 0.6636 | Val ROC-AUC: 0.6983\n",
      "Scale: 128 --> Val F1-Score: 0.7780 | Val Bacc: 0.6261 | Val ROC-AUC: 0.6813\n",
      "Aggregated Results --> Val F1-Score: 0.8179 | Val Bacc: 0.6618 | Val ROC-AUC: 0.7242\n",
      "\n",
      "best AUC-ROC Score at epoch 7: 0.7623\n",
      "\n",
      "-------- Epoch 19/30 --------\n"
     ]
    },
    {
     "name": "stderr",
     "output_type": "stream",
     "text": [
      "[019/030 epoch train]: 100%|██████████| 1598/1598 [03:46<00:00,  7.05it/s, lr=[1.5746546116502143e-05], loss=2.1664, CUDA-Mem=0%, CUDA-Util=0%]\n",
      "[019/030 epoch valid]: 100%|██████████| 402/402 [00:45<00:00,  8.87it/s, loss=7.3855, CUDA-Mem=0%, CUDA-Util=0%]"
     ]
    },
    {
     "name": "stdout",
     "output_type": "stream",
     "text": [
      "\n",
      "Train Loss: 2.1664\n",
      "Scale: 16 --> Train F1-Score: 0.8816 | Train Bacc: 0.8584 | Train ROC-AUC: 0.9168\n",
      "Scale: 32 --> Train F1-Score: 0.8670 | Train Bacc: 0.8236 | Train ROC-AUC: 0.9103\n",
      "Scale: 128 --> Train F1-Score: 0.9035 | Train Bacc: 0.8962 | Train ROC-AUC: 0.9562\n",
      "Aggregated Results --> Train F1-Score: 0.9323 | Train Bacc: 0.9273 | Train ROC-AUC: 0.9751\n",
      "\n",
      "Val Loss: 7.3855\n",
      "Scale: 16 --> Val F1-Score: 0.8672 | Val Bacc: 0.6323 | Val ROC-AUC: 0.7201\n",
      "Scale: 32 --> Val F1-Score: 0.8278 | Val Bacc: 0.6644 | Val ROC-AUC: 0.6936\n",
      "Scale: 128 --> Val F1-Score: 0.8615 | Val Bacc: 0.6275 | Val ROC-AUC: 0.6619\n",
      "Aggregated Results --> Val F1-Score: 0.9043 | Val Bacc: 0.6406 | Val ROC-AUC: 0.6616\n",
      "\n",
      "best AUC-ROC Score at epoch 7: 0.7623\n",
      "\n",
      "-------- Epoch 20/30 --------\n"
     ]
    },
    {
     "name": "stderr",
     "output_type": "stream",
     "text": [
      "\n",
      "[020/030 epoch train]: 100%|██████████| 1598/1598 [03:47<00:00,  7.02it/s, lr=[1.3289788982505247e-05], loss=1.9702, CUDA-Mem=0%, CUDA-Util=0%]\n",
      "[020/030 epoch valid]: 100%|██████████| 402/402 [00:45<00:00,  8.88it/s, loss=8.0715, CUDA-Mem=0%, CUDA-Util=0%] "
     ]
    },
    {
     "name": "stdout",
     "output_type": "stream",
     "text": [
      "\n",
      "Train Loss: 1.9702\n",
      "Scale: 16 --> Train F1-Score: 0.8939 | Train Bacc: 0.8713 | Train ROC-AUC: 0.9241\n",
      "Scale: 32 --> Train F1-Score: 0.8752 | Train Bacc: 0.8392 | Train ROC-AUC: 0.9227\n",
      "Scale: 128 --> Train F1-Score: 0.9152 | Train Bacc: 0.9150 | Train ROC-AUC: 0.9658\n",
      "Aggregated Results --> Train F1-Score: 0.9405 | Train Bacc: 0.9353 | Train ROC-AUC: 0.9813\n",
      "\n",
      "Val Loss: 8.0715\n",
      "Scale: 16 --> Val F1-Score: 0.8698 | Val Bacc: 0.6293 | Val ROC-AUC: 0.7221\n",
      "Scale: 32 --> Val F1-Score: 0.8526 | Val Bacc: 0.6612 | Val ROC-AUC: 0.6950\n",
      "Scale: 128 --> Val F1-Score: 0.8827 | Val Bacc: 0.6149 | Val ROC-AUC: 0.6634\n",
      "Aggregated Results --> Val F1-Score: 0.9066 | Val Bacc: 0.6375 | Val ROC-AUC: 0.6650\n",
      "\n",
      "best AUC-ROC Score at epoch 7: 0.7623\n",
      "\n",
      "-------- Epoch 21/30 --------\n"
     ]
    },
    {
     "name": "stderr",
     "output_type": "stream",
     "text": [
      "\n",
      "[021/030 epoch train]: 100%|██████████| 1598/1598 [03:45<00:00,  7.10it/s, lr=[1.0970323365940443e-05], loss=1.7970, CUDA-Mem=0%, CUDA-Util=0%]\n",
      "[021/030 epoch valid]: 100%|██████████| 402/402 [00:45<00:00,  8.87it/s, loss=8.0347, CUDA-Mem=0%, CUDA-Util=0%] \n"
     ]
    },
    {
     "name": "stdout",
     "output_type": "stream",
     "text": [
      "\n",
      "Train Loss: 1.7970\n",
      "Scale: 16 --> Train F1-Score: 0.9043 | Train Bacc: 0.8852 | Train ROC-AUC: 0.9333\n",
      "Scale: 32 --> Train F1-Score: 0.8732 | Train Bacc: 0.8453 | Train ROC-AUC: 0.9285\n",
      "Scale: 128 --> Train F1-Score: 0.9258 | Train Bacc: 0.9282 | Train ROC-AUC: 0.9731\n",
      "Aggregated Results --> Train F1-Score: 0.9507 | Train Bacc: 0.9522 | Train ROC-AUC: 0.9861\n",
      "\n",
      "Val Loss: 8.0347\n",
      "Scale: 16 --> Val F1-Score: 0.8675 | Val Bacc: 0.6453 | Val ROC-AUC: 0.7200\n",
      "Scale: 32 --> Val F1-Score: 0.8299 | Val Bacc: 0.6376 | Val ROC-AUC: 0.6881\n",
      "Scale: 128 --> Val F1-Score: 0.8618 | Val Bacc: 0.6252 | Val ROC-AUC: 0.6600\n",
      "Aggregated Results --> Val F1-Score: 0.8857 | Val Bacc: 0.6300 | Val ROC-AUC: 0.6642\n",
      "\n",
      "best AUC-ROC Score at epoch 7: 0.7623\n",
      "\n",
      "-------- Epoch 22/30 --------\n"
     ]
    },
    {
     "name": "stderr",
     "output_type": "stream",
     "text": [
      "[022/030 epoch train]: 100%|██████████| 1598/1598 [03:46<00:00,  7.06it/s, lr=[8.815342880454311e-06], loss=1.6413, CUDA-Mem=0%, CUDA-Util=0%]\n",
      "[022/030 epoch valid]: 100%|██████████| 402/402 [00:45<00:00,  8.91it/s, loss=8.7136, CUDA-Mem=0%, CUDA-Util=0%] "
     ]
    },
    {
     "name": "stdout",
     "output_type": "stream",
     "text": [
      "\n",
      "Train Loss: 1.6413\n",
      "Scale: 16 --> Train F1-Score: 0.9098 | Train Bacc: 0.8947 | Train ROC-AUC: 0.9382\n",
      "Scale: 32 --> Train F1-Score: 0.8789 | Train Bacc: 0.8608 | Train ROC-AUC: 0.9374\n",
      "Scale: 128 --> Train F1-Score: 0.9354 | Train Bacc: 0.9406 | Train ROC-AUC: 0.9778\n",
      "Aggregated Results --> Train F1-Score: 0.9570 | Train Bacc: 0.9625 | Train ROC-AUC: 0.9899\n",
      "\n",
      "Val Loss: 8.7136\n",
      "Scale: 16 --> Val F1-Score: 0.8683 | Val Bacc: 0.6408 | Val ROC-AUC: 0.7129\n",
      "Scale: 32 --> Val F1-Score: 0.8523 | Val Bacc: 0.6507 | Val ROC-AUC: 0.7065\n",
      "Scale: 128 --> Val F1-Score: 0.8856 | Val Bacc: 0.6123 | Val ROC-AUC: 0.6610\n",
      "Aggregated Results --> Val F1-Score: 0.9044 | Val Bacc: 0.6057 | Val ROC-AUC: 0.6596\n",
      "\n",
      "best AUC-ROC Score at epoch 7: 0.7623\n",
      "\n",
      "-------- Epoch 23/30 --------\n"
     ]
    },
    {
     "name": "stderr",
     "output_type": "stream",
     "text": [
      "\n",
      "[023/030 epoch train]: 100%|██████████| 1598/1598 [03:48<00:00,  6.99it/s, lr=[6.850112701921736e-06], loss=1.4919, CUDA-Mem=0%, CUDA-Util=0%] \n",
      "[023/030 epoch valid]: 100%|██████████| 402/402 [00:45<00:00,  8.91it/s, loss=9.0946, CUDA-Mem=0%, CUDA-Util=0%] "
     ]
    },
    {
     "name": "stdout",
     "output_type": "stream",
     "text": [
      "\n",
      "Train Loss: 1.4919\n",
      "Scale: 16 --> Train F1-Score: 0.9158 | Train Bacc: 0.9064 | Train ROC-AUC: 0.9445\n",
      "Scale: 32 --> Train F1-Score: 0.8895 | Train Bacc: 0.8698 | Train ROC-AUC: 0.9468\n",
      "Scale: 128 --> Train F1-Score: 0.9442 | Train Bacc: 0.9495 | Train ROC-AUC: 0.9817\n",
      "Aggregated Results --> Train F1-Score: 0.9633 | Train Bacc: 0.9674 | Train ROC-AUC: 0.9918\n",
      "\n",
      "Val Loss: 9.0946\n",
      "Scale: 16 --> Val F1-Score: 0.8966 | Val Bacc: 0.6266 | Val ROC-AUC: 0.7078\n",
      "Scale: 32 --> Val F1-Score: 0.8617 | Val Bacc: 0.6507 | Val ROC-AUC: 0.6887\n",
      "Scale: 128 --> Val F1-Score: 0.8836 | Val Bacc: 0.6207 | Val ROC-AUC: 0.6522\n",
      "Aggregated Results --> Val F1-Score: 0.9085 | Val Bacc: 0.6117 | Val ROC-AUC: 0.6373\n",
      "\n",
      "best AUC-ROC Score at epoch 7: 0.7623\n",
      "\n",
      "-------- Epoch 24/30 --------\n"
     ]
    },
    {
     "name": "stderr",
     "output_type": "stream",
     "text": [
      "\n",
      "[024/030 epoch train]: 100%|██████████| 1598/1598 [03:48<00:00,  7.00it/s, lr=[5.097673357358906e-06], loss=1.3625, CUDA-Mem=0%, CUDA-Util=0%] \n",
      "[024/030 epoch valid]: 100%|██████████| 402/402 [00:45<00:00,  8.92it/s, loss=9.7790, CUDA-Mem=0%, CUDA-Util=0%] \n"
     ]
    },
    {
     "name": "stdout",
     "output_type": "stream",
     "text": [
      "\n",
      "Train Loss: 1.3625\n",
      "Scale: 16 --> Train F1-Score: 0.9247 | Train Bacc: 0.9158 | Train ROC-AUC: 0.9494\n",
      "Scale: 32 --> Train F1-Score: 0.8956 | Train Bacc: 0.8804 | Train ROC-AUC: 0.9529\n",
      "Scale: 128 --> Train F1-Score: 0.9517 | Train Bacc: 0.9608 | Train ROC-AUC: 0.9848\n",
      "Aggregated Results --> Train F1-Score: 0.9678 | Train Bacc: 0.9749 | Train ROC-AUC: 0.9938\n",
      "\n",
      "Val Loss: 9.7790\n",
      "Scale: 16 --> Val F1-Score: 0.8935 | Val Bacc: 0.6315 | Val ROC-AUC: 0.7019\n",
      "Scale: 32 --> Val F1-Score: 0.8740 | Val Bacc: 0.6405 | Val ROC-AUC: 0.7007\n",
      "Scale: 128 --> Val F1-Score: 0.9036 | Val Bacc: 0.6076 | Val ROC-AUC: 0.6573\n",
      "Aggregated Results --> Val F1-Score: 0.9183 | Val Bacc: 0.6050 | Val ROC-AUC: 0.6389\n",
      "\n",
      "best AUC-ROC Score at epoch 7: 0.7623\n",
      "\n",
      "-------- Epoch 25/30 --------\n"
     ]
    },
    {
     "name": "stderr",
     "output_type": "stream",
     "text": [
      "[025/030 epoch train]: 100%|██████████| 1598/1598 [03:45<00:00,  7.07it/s, lr=[3.578570595810273e-06], loss=1.2612, CUDA-Mem=0%, CUDA-Util=0%] \n",
      "[025/030 epoch valid]: 100%|██████████| 402/402 [00:46<00:00,  8.67it/s, loss=10.1805, CUDA-Mem=0%, CUDA-Util=0%]\n"
     ]
    },
    {
     "name": "stdout",
     "output_type": "stream",
     "text": [
      "\n",
      "Train Loss: 1.2612\n",
      "Scale: 16 --> Train F1-Score: 0.9287 | Train Bacc: 0.9214 | Train ROC-AUC: 0.9529\n",
      "Scale: 32 --> Train F1-Score: 0.9004 | Train Bacc: 0.8951 | Train ROC-AUC: 0.9581\n",
      "Scale: 128 --> Train F1-Score: 0.9581 | Train Bacc: 0.9678 | Train ROC-AUC: 0.9870\n",
      "Aggregated Results --> Train F1-Score: 0.9722 | Train Bacc: 0.9797 | Train ROC-AUC: 0.9948\n",
      "\n",
      "Val Loss: 10.1805\n",
      "Scale: 16 --> Val F1-Score: 0.8998 | Val Bacc: 0.6268 | Val ROC-AUC: 0.6976\n",
      "Scale: 32 --> Val F1-Score: 0.8756 | Val Bacc: 0.6418 | Val ROC-AUC: 0.7029\n",
      "Scale: 128 --> Val F1-Score: 0.9042 | Val Bacc: 0.6031 | Val ROC-AUC: 0.6513\n",
      "Aggregated Results --> Val F1-Score: 0.9201 | Val Bacc: 0.6015 | Val ROC-AUC: 0.6332\n",
      "\n",
      "best AUC-ROC Score at epoch 7: 0.7623\n",
      "\n",
      "-------- Epoch 26/30 --------\n"
     ]
    },
    {
     "name": "stderr",
     "output_type": "stream",
     "text": [
      "[026/030 epoch train]: 100%|██████████| 1598/1598 [03:44<00:00,  7.13it/s, lr=[2.310614508226077e-06], loss=1.1904, CUDA-Mem=0%, CUDA-Util=0%] \n",
      "[026/030 epoch valid]: 100%|██████████| 402/402 [00:45<00:00,  8.77it/s, loss=10.3555, CUDA-Mem=0%, CUDA-Util=0%]"
     ]
    },
    {
     "name": "stdout",
     "output_type": "stream",
     "text": [
      "\n",
      "Train Loss: 1.1904\n",
      "Scale: 16 --> Train F1-Score: 0.9345 | Train Bacc: 0.9269 | Train ROC-AUC: 0.9556\n",
      "Scale: 32 --> Train F1-Score: 0.9050 | Train Bacc: 0.9019 | Train ROC-AUC: 0.9616\n",
      "Scale: 128 --> Train F1-Score: 0.9620 | Train Bacc: 0.9724 | Train ROC-AUC: 0.9883\n",
      "Aggregated Results --> Train F1-Score: 0.9753 | Train Bacc: 0.9817 | Train ROC-AUC: 0.9952\n",
      "\n",
      "Val Loss: 10.3555\n",
      "Scale: 16 --> Val F1-Score: 0.8985 | Val Bacc: 0.6282 | Val ROC-AUC: 0.6939\n",
      "Scale: 32 --> Val F1-Score: 0.8765 | Val Bacc: 0.6298 | Val ROC-AUC: 0.6977\n",
      "Scale: 128 --> Val F1-Score: 0.9054 | Val Bacc: 0.6041 | Val ROC-AUC: 0.6537\n",
      "Aggregated Results --> Val F1-Score: 0.9204 | Val Bacc: 0.5969 | Val ROC-AUC: 0.6301\n",
      "\n",
      "best AUC-ROC Score at epoch 7: 0.7623\n",
      "\n",
      "-------- Epoch 27/30 --------\n"
     ]
    },
    {
     "name": "stderr",
     "output_type": "stream",
     "text": [
      "\n",
      "[027/030 epoch train]: 100%|██████████| 1598/1598 [03:45<00:00,  7.09it/s, lr=[1.308670720429941e-06], loss=1.1345, CUDA-Mem=0%, CUDA-Util=0%] \n",
      "[027/030 epoch valid]: 100%|██████████| 402/402 [00:45<00:00,  8.91it/s, loss=10.6397, CUDA-Mem=0%, CUDA-Util=0%]\n"
     ]
    },
    {
     "name": "stdout",
     "output_type": "stream",
     "text": [
      "\n",
      "Train Loss: 1.1345\n",
      "Scale: 16 --> Train F1-Score: 0.9371 | Train Bacc: 0.9308 | Train ROC-AUC: 0.9577\n",
      "Scale: 32 --> Train F1-Score: 0.9074 | Train Bacc: 0.9071 | Train ROC-AUC: 0.9650\n",
      "Scale: 128 --> Train F1-Score: 0.9651 | Train Bacc: 0.9745 | Train ROC-AUC: 0.9891\n",
      "Aggregated Results --> Train F1-Score: 0.9776 | Train Bacc: 0.9832 | Train ROC-AUC: 0.9956\n",
      "\n",
      "Val Loss: 10.6397\n",
      "Scale: 16 --> Val F1-Score: 0.8994 | Val Bacc: 0.6240 | Val ROC-AUC: 0.6848\n",
      "Scale: 32 --> Val F1-Score: 0.8840 | Val Bacc: 0.6261 | Val ROC-AUC: 0.6964\n",
      "Scale: 128 --> Val F1-Score: 0.9091 | Val Bacc: 0.6023 | Val ROC-AUC: 0.6565\n",
      "Aggregated Results --> Val F1-Score: 0.9208 | Val Bacc: 0.5948 | Val ROC-AUC: 0.6336\n",
      "\n",
      "best AUC-ROC Score at epoch 7: 0.7623\n",
      "\n",
      "-------- Epoch 28/30 --------\n"
     ]
    },
    {
     "name": "stderr",
     "output_type": "stream",
     "text": [
      "[028/030 epoch train]: 100%|██████████| 1598/1598 [03:40<00:00,  7.23it/s, lr=[5.84486107247834e-07], loss=1.0931, CUDA-Mem=0%, CUDA-Util=0%] \n",
      "[028/030 epoch valid]: 100%|██████████| 402/402 [00:45<00:00,  8.89it/s, loss=10.7127, CUDA-Mem=0%, CUDA-Util=0%]"
     ]
    },
    {
     "name": "stdout",
     "output_type": "stream",
     "text": [
      "\n",
      "Train Loss: 1.0931\n",
      "Scale: 16 --> Train F1-Score: 0.9399 | Train Bacc: 0.9342 | Train ROC-AUC: 0.9590\n",
      "Scale: 32 --> Train F1-Score: 0.9142 | Train Bacc: 0.9103 | Train ROC-AUC: 0.9669\n",
      "Scale: 128 --> Train F1-Score: 0.9673 | Train Bacc: 0.9765 | Train ROC-AUC: 0.9897\n",
      "Aggregated Results --> Train F1-Score: 0.9793 | Train Bacc: 0.9855 | Train ROC-AUC: 0.9963\n",
      "\n",
      "Val Loss: 10.7127\n",
      "Scale: 16 --> Val F1-Score: 0.9012 | Val Bacc: 0.6255 | Val ROC-AUC: 0.6830\n",
      "Scale: 32 --> Val F1-Score: 0.8755 | Val Bacc: 0.6341 | Val ROC-AUC: 0.6960\n",
      "Scale: 128 --> Val F1-Score: 0.9099 | Val Bacc: 0.5980 | Val ROC-AUC: 0.6563\n",
      "Aggregated Results --> Val F1-Score: 0.9224 | Val Bacc: 0.5961 | Val ROC-AUC: 0.6315\n",
      "\n",
      "best AUC-ROC Score at epoch 7: 0.7623\n",
      "\n",
      "-------- Epoch 29/30 --------\n"
     ]
    },
    {
     "name": "stderr",
     "output_type": "stream",
     "text": [
      "\n",
      "[029/030 epoch train]: 100%|██████████| 1598/1598 [03:48<00:00,  6.99it/s, lr=[1.4655107114101023e-07], loss=1.0695, CUDA-Mem=0%, CUDA-Util=0%]\n",
      "[029/030 epoch valid]: 100%|██████████| 402/402 [00:45<00:00,  8.90it/s, loss=10.7693, CUDA-Mem=0%, CUDA-Util=0%]\n"
     ]
    },
    {
     "name": "stdout",
     "output_type": "stream",
     "text": [
      "\n",
      "Train Loss: 1.0695\n",
      "Scale: 16 --> Train F1-Score: 0.9410 | Train Bacc: 0.9350 | Train ROC-AUC: 0.9599\n",
      "Scale: 32 --> Train F1-Score: 0.9141 | Train Bacc: 0.9141 | Train ROC-AUC: 0.9683\n",
      "Scale: 128 --> Train F1-Score: 0.9684 | Train Bacc: 0.9779 | Train ROC-AUC: 0.9900\n",
      "Aggregated Results --> Train F1-Score: 0.9796 | Train Bacc: 0.9857 | Train ROC-AUC: 0.9965\n",
      "\n",
      "Val Loss: 10.7693\n",
      "Scale: 16 --> Val F1-Score: 0.9014 | Val Bacc: 0.6256 | Val ROC-AUC: 0.6825\n",
      "Scale: 32 --> Val F1-Score: 0.8789 | Val Bacc: 0.6294 | Val ROC-AUC: 0.6959\n",
      "Scale: 128 --> Val F1-Score: 0.9109 | Val Bacc: 0.6038 | Val ROC-AUC: 0.6564\n",
      "Aggregated Results --> Val F1-Score: 0.9219 | Val Bacc: 0.5933 | Val ROC-AUC: 0.6312\n",
      "\n",
      "best AUC-ROC Score at epoch 7: 0.7623\n",
      "\n",
      "-------- Epoch 30/30 --------\n"
     ]
    },
    {
     "name": "stderr",
     "output_type": "stream",
     "text": [
      "[030/030 epoch train]: 100%|██████████| 1598/1598 [03:49<00:00,  6.95it/s, lr=[1.874699728327322e-37], loss=1.0605, CUDA-Mem=0%, CUDA-Util=0%] \n",
      "[030/030 epoch valid]: 100%|██████████| 402/402 [00:45<00:00,  8.89it/s, loss=10.7800, CUDA-Mem=0%, CUDA-Util=0%]\n"
     ]
    },
    {
     "name": "stdout",
     "output_type": "stream",
     "text": [
      "\n",
      "Train Loss: 1.0605\n",
      "Scale: 16 --> Train F1-Score: 0.9417 | Train Bacc: 0.9361 | Train ROC-AUC: 0.9603\n",
      "Scale: 32 --> Train F1-Score: 0.9148 | Train Bacc: 0.9153 | Train ROC-AUC: 0.9688\n",
      "Scale: 128 --> Train F1-Score: 0.9691 | Train Bacc: 0.9784 | Train ROC-AUC: 0.9903\n",
      "Aggregated Results --> Train F1-Score: 0.9799 | Train Bacc: 0.9859 | Train ROC-AUC: 0.9964\n",
      "\n",
      "Val Loss: 10.7800\n",
      "Scale: 16 --> Val F1-Score: 0.9014 | Val Bacc: 0.6256 | Val ROC-AUC: 0.6824\n",
      "Scale: 32 --> Val F1-Score: 0.8795 | Val Bacc: 0.6299 | Val ROC-AUC: 0.6959\n",
      "Scale: 128 --> Val F1-Score: 0.9107 | Val Bacc: 0.6036 | Val ROC-AUC: 0.6565\n",
      "Aggregated Results --> Val F1-Score: 0.9221 | Val Bacc: 0.5935 | Val ROC-AUC: 0.6311\n",
      "\n",
      "best AUC-ROC Score at epoch 7: 0.7623\n"
     ]
    },
    {
     "name": "stderr",
     "output_type": "stream",
     "text": [
      "100%|██████████| 500/500 [00:55<00:00,  8.96it/s, loss=1.5203, CUDA-Mem=0%, CUDA-Util=0%]\n"
     ]
    },
    {
     "name": "stdout",
     "output_type": "stream",
     "text": [
      "\n",
      "Test Loss: 1.5203\n",
      "Scale: 16 --> Test F1-Score: 0.8960 | Test Bacc: 0.7048 | Test ROC-AUC: 0.7768\n",
      "Scale: 32 --> Test F1-Score: 0.8909 | Test Bacc: 0.6986 | Test ROC-AUC: 0.7469\n",
      "Scale: 128 --> Test F1-Score: 0.8901 | Test Bacc: 0.6729 | Test ROC-AUC: 0.7577\n",
      "Aggregated Results --> Test F1-Score: 0.8890 | Test Bacc: 0.6887 | Test ROC-AUC: 0.7766\n",
      "---------------finished running code-------------------\n"
     ]
    },
    {
     "data": {
      "text/plain": [
       "<Figure size 640x480 with 0 Axes>"
      ]
     },
     "metadata": {},
     "output_type": "display_data"
    },
    {
     "data": {
      "text/plain": [
       "<Figure size 2000x800 with 0 Axes>"
      ]
     },
     "metadata": {},
     "output_type": "display_data"
    },
    {
     "data": {
      "text/plain": [
       "<Figure size 1000x800 with 0 Axes>"
      ]
     },
     "metadata": {},
     "output_type": "display_data"
    },
    {
     "data": {
      "text/plain": [
       "<Figure size 640x480 with 0 Axes>"
      ]
     },
     "metadata": {},
     "output_type": "display_data"
    },
    {
     "data": {
      "text/plain": [
       "<Figure size 640x480 with 0 Axes>"
      ]
     },
     "metadata": {},
     "output_type": "display_data"
    }
   ],
   "source": [
    "%run foundational_models/Mammo-CLIP-main/Mammo-CLIP-main/src3-Copy1/codebase/main.py \\\n",
    "  --clip_chk_pt_path \"foundational_models/Mammo-CLIP-main/Mammo-CLIP-main/b2-model-best-epoch-10.tar\" \\\n",
    "  --dataset 'ViNDr' \\\n",
    "  --label \"Mass\" \\\n",
    "  --train --epochs 30 --batch-size 8 \\\n",
    "  --num-workers 4 \\\n",
    "  --eval_scheme 'kruns_train+val+test' --n_runs 1 \\\n",
    "  --lr 5.0e-5 \\\n",
    "  --weighted-BCE 'y' \\\n",
    "  --mil_type 'pyramidal_mil' \\\n",
    "  --pooling_type 'pma' \\\n",
    "  --fcl_encoder_dim 256 \\\n",
    "  --fcl_dropout 0.25 \\\n",
    "  --drop_attention_pool 0.25 \\\n",
    "  --fpn_dim 256 \\\n",
    "  --multi_scale_model 'fpn' \\\n",
    "  --type_mil_encoder 'isab' \\\n",
    "  --trans_layer_norm True \\\n",
    "  --type_scale_aggregator 'gated-attention' \\\n",
    "  --deep_supervision --scales 16 32 128 \n",
    "\n",
    "print('---------------finished running code-------------------')"
   ]
  },
  {
   "cell_type": "markdown",
   "id": "e83c3a39-f26d-4a5a-84a5-ddef5228fdb1",
   "metadata": {},
   "source": [
    "# Ablation Studies"
   ]
  },
  {
   "cell_type": "markdown",
   "id": "80132f7a-aba2-473c-b4d5-5f7912636332",
   "metadata": {},
   "source": [
    "## Effect of Different Multi-scale Instance Encoders "
   ]
  },
  {
   "cell_type": "markdown",
   "id": "f844cbda-79e8-4bce-aae5-c9136617ba34",
   "metadata": {},
   "source": [
    "### Based on Multi-scale Patches (MSP)"
   ]
  },
  {
   "cell_type": "code",
   "execution_count": 1,
   "id": "9b4114a7-25a9-48a4-a03f-4abb175c5bcd",
   "metadata": {
    "scrolled": true
   },
   "outputs": [
    {
     "name": "stderr",
     "output_type": "stream",
     "text": [
      "/home/csantiago/.local/lib/python3.10/site-packages/albumentations/__init__.py:13: UserWarning: A new version of Albumentations is available: 2.0.8 (you have 1.4.18). Upgrade using: pip install -U albumentations. To disable automatic update checks, set the environment variable NO_ALBUMENTATIONS_UPDATE to 1.\n",
      "  check_for_updates()\n"
     ]
    },
    {
     "name": "stdout",
     "output_type": "stream",
     "text": [
      "\n",
      "torch.cuda.current_device(): 0\n",
      "\n",
      "Using device: cuda\n",
      "output_path: Mammo-CLIP-output/out_splits_new/MIL_experiments/ViNDr_data_frac_1.0/Mass/offline_feature_extraction/multi_scale/MSP-deep_supervision/scale_aggregator_gated-attention/encoder_mlp-dim_256-dropout_0.25/pooling_gated-attention-dropout_0.25-softmax/2025-06-27\n",
      "df shape: (20000, 16)\n",
      "Index(['image_id', 'patient_id', 'laterality', 'view', 'finding_categories',\n",
      "       'finding_birads', 'breast_birads', 'breast_density', 'split', 'fold',\n",
      "       'Mass', 'Suspicious_Calcification', 'resized_xmin', 'resized_ymin',\n",
      "       'resized_xmax', 'resized_ymax'],\n",
      "      dtype='object')\n",
      "\n",
      "================== run nº: 0 ======================\n",
      "train_loader: 1598, valid_loader: 402\n",
      "Model is loaded\n",
      "PyramidalMILmodel(\n",
      "  (side_inst_aggregator): ModuleDict(\n",
      "    (encoders): ModuleDict(\n",
      "      (encoder_128): ModuleList(\n",
      "        (0): Sequential(\n",
      "          (0): Linear(in_features=352, out_features=256, bias=True)\n",
      "          (1): ReLU()\n",
      "          (2): Dropout(p=0.25, inplace=False)\n",
      "        )\n",
      "      )\n",
      "      (encoder_256): ModuleList(\n",
      "        (0): Sequential(\n",
      "          (0): Linear(in_features=352, out_features=256, bias=True)\n",
      "          (1): ReLU()\n",
      "          (2): Dropout(p=0.25, inplace=False)\n",
      "        )\n",
      "      )\n",
      "      (encoder_384): ModuleList(\n",
      "        (0): Sequential(\n",
      "          (0): Linear(in_features=352, out_features=256, bias=True)\n",
      "          (1): ReLU()\n",
      "          (2): Dropout(p=0.25, inplace=False)\n",
      "        )\n",
      "      )\n",
      "    )\n",
      "    (aggregators): ModuleDict(\n",
      "      (aggregator_128): Gated_Attn_Net(\n",
      "        (attention_V): Sequential(\n",
      "          (0): Linear(in_features=256, out_features=128, bias=True)\n",
      "          (1): Tanh()\n",
      "          (2): Dropout(p=0.25, inplace=False)\n",
      "        )\n",
      "        (attention_U): Sequential(\n",
      "          (0): Linear(in_features=256, out_features=128, bias=True)\n",
      "          (1): Sigmoid()\n",
      "          (2): Dropout(p=0.25, inplace=False)\n",
      "        )\n",
      "        (attention_weights): Linear(in_features=128, out_features=1, bias=True)\n",
      "      )\n",
      "      (aggregator_256): Gated_Attn_Net(\n",
      "        (attention_V): Sequential(\n",
      "          (0): Linear(in_features=256, out_features=128, bias=True)\n",
      "          (1): Tanh()\n",
      "          (2): Dropout(p=0.25, inplace=False)\n",
      "        )\n",
      "        (attention_U): Sequential(\n",
      "          (0): Linear(in_features=256, out_features=128, bias=True)\n",
      "          (1): Sigmoid()\n",
      "          (2): Dropout(p=0.25, inplace=False)\n",
      "        )\n",
      "        (attention_weights): Linear(in_features=128, out_features=1, bias=True)\n",
      "      )\n",
      "      (aggregator_384): Gated_Attn_Net(\n",
      "        (attention_V): Sequential(\n",
      "          (0): Linear(in_features=256, out_features=128, bias=True)\n",
      "          (1): Tanh()\n",
      "          (2): Dropout(p=0.25, inplace=False)\n",
      "        )\n",
      "        (attention_U): Sequential(\n",
      "          (0): Linear(in_features=256, out_features=128, bias=True)\n",
      "          (1): Sigmoid()\n",
      "          (2): Dropout(p=0.25, inplace=False)\n",
      "        )\n",
      "        (attention_weights): Linear(in_features=128, out_features=1, bias=True)\n",
      "      )\n",
      "    )\n",
      "  )\n",
      "  (side_classifiers): ModuleDict(\n",
      "    (classifier_128): head(\n",
      "      (drop): Dropout(p=0.0, inplace=True)\n",
      "      (head_classifier): Linear(in_features=256, out_features=1, bias=True)\n",
      "    )\n",
      "    (classifier_256): head(\n",
      "      (drop): Dropout(p=0.0, inplace=True)\n",
      "      (head_classifier): Linear(in_features=256, out_features=1, bias=True)\n",
      "    )\n",
      "    (classifier_384): head(\n",
      "      (drop): Dropout(p=0.0, inplace=True)\n",
      "      (head_classifier): Linear(in_features=256, out_features=1, bias=True)\n",
      "    )\n",
      "  )\n",
      "  (scale_aggregator): Gated_Attn_Net(\n",
      "    (attention_V): Sequential(\n",
      "      (0): Linear(in_features=256, out_features=128, bias=True)\n",
      "      (1): Tanh()\n",
      "      (2): Dropout(p=0.25, inplace=False)\n",
      "    )\n",
      "    (attention_U): Sequential(\n",
      "      (0): Linear(in_features=256, out_features=128, bias=True)\n",
      "      (1): Sigmoid()\n",
      "      (2): Dropout(p=0.25, inplace=False)\n",
      "    )\n",
      "    (attention_weights): Linear(in_features=128, out_features=1, bias=True)\n",
      "  )\n",
      "  (classifier): head(\n",
      "    (drop): Dropout(p=0.0, inplace=True)\n",
      "    (head_classifier): Linear(in_features=256, out_features=1, bias=True)\n",
      "  )\n",
      ")\n",
      "\n",
      "Total number of parameters: 535.816 K\n",
      "Total number of trainable parameters: 535.816 K\n",
      "pos_wt: tensor([15.5733], device='cuda:0')\n",
      "\n",
      "-------- Epoch 1/30 --------\n"
     ]
    },
    {
     "name": "stderr",
     "output_type": "stream",
     "text": [
      "[001/030 epoch train]: 100%|██████████| 1598/1598 [01:00<00:00, 26.60it/s, lr=[5e-05], loss=4.9506, CUDA-Mem=0%, CUDA-Util=0%]                 \n",
      "[001/030 epoch valid]: 100%|██████████| 402/402 [00:10<00:00, 36.84it/s, loss=4.9276, CUDA-Mem=0%, CUDA-Util=0%]\n"
     ]
    },
    {
     "name": "stdout",
     "output_type": "stream",
     "text": [
      "\n",
      "Train Loss: 4.9506\n",
      "Scale: 128 --> Train F1-Score: 0.8114 | Train Bacc: 0.5495 | Train ROC-AUC: 0.5651\n",
      "Scale: 256 --> Train F1-Score: 0.8381 | Train Bacc: 0.5521 | Train ROC-AUC: 0.5669\n",
      "Scale: 384 --> Train F1-Score: 0.7980 | Train Bacc: 0.5531 | Train ROC-AUC: 0.5764\n",
      "Aggregated Results --> Train F1-Score: 0.8608 | Train Bacc: 0.5190 | Train ROC-AUC: 0.5271\n",
      "\n",
      "Val Loss: 4.9276\n",
      "Scale: 128 --> Val F1-Score: 0.9032 | Val Bacc: 0.5197 | Val ROC-AUC: 0.6099\n",
      "Scale: 256 --> Val F1-Score: 0.8976 | Val Bacc: 0.5313 | Val ROC-AUC: 0.6138\n",
      "Scale: 384 --> Val F1-Score: 0.9004 | Val Bacc: 0.5363 | Val ROC-AUC: 0.6249\n",
      "Aggregated Results --> Val F1-Score: 0.9081 | Val Bacc: 0.5243 | Val ROC-AUC: 0.5846\n",
      "\n",
      "Epoch 1 - Save aucroc: 0.5846 Model\n",
      "\n",
      "best AUC-ROC Score at epoch 1: 0.5846\n",
      "\n",
      "-------- Epoch 2/30 --------\n"
     ]
    },
    {
     "name": "stderr",
     "output_type": "stream",
     "text": [
      "[002/030 epoch train]: 100%|██████████| 1598/1598 [00:46<00:00, 34.38it/s, lr=[4.9853448928858984e-05], loss=4.7742, CUDA-Mem=0%, CUDA-Util=0%]\n",
      "[002/030 epoch valid]: 100%|██████████| 402/402 [00:03<00:00, 104.69it/s, loss=4.7687, CUDA-Mem=0%, CUDA-Util=0%]\n"
     ]
    },
    {
     "name": "stdout",
     "output_type": "stream",
     "text": [
      "\n",
      "Train Loss: 4.7742\n",
      "Scale: 128 --> Train F1-Score: 0.8138 | Train Bacc: 0.5851 | Train ROC-AUC: 0.6205\n",
      "Scale: 256 --> Train F1-Score: 0.7884 | Train Bacc: 0.5952 | Train ROC-AUC: 0.6452\n",
      "Scale: 384 --> Train F1-Score: 0.7895 | Train Bacc: 0.6039 | Train ROC-AUC: 0.6566\n",
      "Aggregated Results --> Train F1-Score: 0.8261 | Train Bacc: 0.5782 | Train ROC-AUC: 0.6266\n",
      "\n",
      "Val Loss: 4.7687\n",
      "Scale: 128 --> Val F1-Score: 0.7699 | Val Bacc: 0.5860 | Val ROC-AUC: 0.6282\n",
      "Scale: 256 --> Val F1-Score: 0.7349 | Val Bacc: 0.5949 | Val ROC-AUC: 0.6519\n",
      "Scale: 384 --> Val F1-Score: 0.7426 | Val Bacc: 0.6004 | Val ROC-AUC: 0.6693\n",
      "Aggregated Results --> Val F1-Score: 0.7749 | Val Bacc: 0.5819 | Val ROC-AUC: 0.6427\n",
      "\n",
      "Epoch 2 - Save aucroc: 0.6427 Model\n",
      "\n",
      "best AUC-ROC Score at epoch 2: 0.6427\n",
      "\n",
      "-------- Epoch 3/30 --------\n"
     ]
    },
    {
     "name": "stderr",
     "output_type": "stream",
     "text": [
      "[003/030 epoch train]: 100%|██████████| 1598/1598 [00:55<00:00, 28.69it/s, lr=[4.941551389275217e-05], loss=4.5506, CUDA-Mem=0%, CUDA-Util=0%] \n",
      "[003/030 epoch valid]: 100%|██████████| 402/402 [00:03<00:00, 107.01it/s, loss=4.5720, CUDA-Mem=0%, CUDA-Util=0%]\n"
     ]
    },
    {
     "name": "stdout",
     "output_type": "stream",
     "text": [
      "\n",
      "Train Loss: 4.5506\n",
      "Scale: 128 --> Train F1-Score: 0.7834 | Train Bacc: 0.6169 | Train ROC-AUC: 0.6699\n",
      "Scale: 256 --> Train F1-Score: 0.7956 | Train Bacc: 0.6431 | Train ROC-AUC: 0.7148\n",
      "Scale: 384 --> Train F1-Score: 0.7959 | Train Bacc: 0.6453 | Train ROC-AUC: 0.7103\n",
      "Aggregated Results --> Train F1-Score: 0.7921 | Train Bacc: 0.6490 | Train ROC-AUC: 0.7053\n",
      "\n",
      "Val Loss: 4.5720\n",
      "Scale: 128 --> Val F1-Score: 0.7807 | Val Bacc: 0.5967 | Val ROC-AUC: 0.6446\n",
      "Scale: 256 --> Val F1-Score: 0.7740 | Val Bacc: 0.6257 | Val ROC-AUC: 0.6972\n",
      "Scale: 384 --> Val F1-Score: 0.7420 | Val Bacc: 0.6395 | Val ROC-AUC: 0.7105\n",
      "Aggregated Results --> Val F1-Score: 0.7776 | Val Bacc: 0.6468 | Val ROC-AUC: 0.7063\n",
      "\n",
      "Epoch 3 - Save aucroc: 0.7063 Model\n",
      "\n",
      "best AUC-ROC Score at epoch 3: 0.7063\n",
      "\n",
      "-------- Epoch 4/30 --------\n"
     ]
    },
    {
     "name": "stderr",
     "output_type": "stream",
     "text": [
      "[004/030 epoch train]: 100%|██████████| 1598/1598 [00:51<00:00, 31.03it/s, lr=[4.869132927957007e-05], loss=4.3710, CUDA-Mem=0%, CUDA-Util=0%] \n",
      "[004/030 epoch valid]: 100%|██████████| 402/402 [00:03<00:00, 101.94it/s, loss=4.6658, CUDA-Mem=0%, CUDA-Util=0%]\n"
     ]
    },
    {
     "name": "stdout",
     "output_type": "stream",
     "text": [
      "\n",
      "Train Loss: 4.3710\n",
      "Scale: 128 --> Train F1-Score: 0.7852 | Train Bacc: 0.6365 | Train ROC-AUC: 0.7015\n",
      "Scale: 256 --> Train F1-Score: 0.8108 | Train Bacc: 0.6763 | Train ROC-AUC: 0.7455\n",
      "Scale: 384 --> Train F1-Score: 0.8037 | Train Bacc: 0.6761 | Train ROC-AUC: 0.7389\n",
      "Aggregated Results --> Train F1-Score: 0.8001 | Train Bacc: 0.6871 | Train ROC-AUC: 0.7488\n",
      "\n",
      "Val Loss: 4.6658\n",
      "Scale: 128 --> Val F1-Score: 0.8828 | Val Bacc: 0.5748 | Val ROC-AUC: 0.6547\n",
      "Scale: 256 --> Val F1-Score: 0.8839 | Val Bacc: 0.6235 | Val ROC-AUC: 0.7127\n",
      "Scale: 384 --> Val F1-Score: 0.8781 | Val Bacc: 0.6338 | Val ROC-AUC: 0.7231\n",
      "Aggregated Results --> Val F1-Score: 0.8802 | Val Bacc: 0.6381 | Val ROC-AUC: 0.7237\n",
      "\n",
      "Epoch 4 - Save aucroc: 0.7237 Model\n",
      "\n",
      "best AUC-ROC Score at epoch 4: 0.7237\n",
      "\n",
      "-------- Epoch 5/30 --------\n"
     ]
    },
    {
     "name": "stderr",
     "output_type": "stream",
     "text": [
      "[005/030 epoch train]: 100%|██████████| 1598/1598 [00:54<00:00, 29.53it/s, lr=[4.768938549177392e-05], loss=4.3055, CUDA-Mem=0%, CUDA-Util=0%] \n",
      "[005/030 epoch valid]: 100%|██████████| 402/402 [00:03<00:00, 102.27it/s, loss=4.6143, CUDA-Mem=0%, CUDA-Util=0%]\n"
     ]
    },
    {
     "name": "stdout",
     "output_type": "stream",
     "text": [
      "\n",
      "Train Loss: 4.3055\n",
      "Scale: 128 --> Train F1-Score: 0.7905 | Train Bacc: 0.6510 | Train ROC-AUC: 0.7132\n",
      "Scale: 256 --> Train F1-Score: 0.8214 | Train Bacc: 0.6898 | Train ROC-AUC: 0.7553\n",
      "Scale: 384 --> Train F1-Score: 0.8193 | Train Bacc: 0.6829 | Train ROC-AUC: 0.7511\n",
      "Aggregated Results --> Train F1-Score: 0.8071 | Train Bacc: 0.6858 | Train ROC-AUC: 0.7597\n",
      "\n",
      "Val Loss: 4.6143\n",
      "Scale: 128 --> Val F1-Score: 0.8737 | Val Bacc: 0.5845 | Val ROC-AUC: 0.6577\n",
      "Scale: 256 --> Val F1-Score: 0.8692 | Val Bacc: 0.6339 | Val ROC-AUC: 0.7183\n",
      "Scale: 384 --> Val F1-Score: 0.8649 | Val Bacc: 0.6482 | Val ROC-AUC: 0.7220\n",
      "Aggregated Results --> Val F1-Score: 0.8692 | Val Bacc: 0.6492 | Val ROC-AUC: 0.7293\n",
      "\n",
      "Epoch 5 - Save aucroc: 0.7293 Model\n",
      "\n",
      "best AUC-ROC Score at epoch 5: 0.7293\n",
      "\n",
      "-------- Epoch 6/30 --------\n"
     ]
    },
    {
     "name": "stderr",
     "output_type": "stream",
     "text": [
      "[006/030 epoch train]: 100%|██████████| 1598/1598 [00:56<00:00, 28.46it/s, lr=[4.6421429404189725e-05], loss=4.2113, CUDA-Mem=0%, CUDA-Util=0%]\n",
      "[006/030 epoch valid]: 100%|██████████| 402/402 [00:03<00:00, 106.04it/s, loss=4.5246, CUDA-Mem=0%, CUDA-Util=0%]\n"
     ]
    },
    {
     "name": "stdout",
     "output_type": "stream",
     "text": [
      "\n",
      "Train Loss: 4.2113\n",
      "Scale: 128 --> Train F1-Score: 0.7989 | Train Bacc: 0.6659 | Train ROC-AUC: 0.7242\n",
      "Scale: 256 --> Train F1-Score: 0.8280 | Train Bacc: 0.7034 | Train ROC-AUC: 0.7719\n",
      "Scale: 384 --> Train F1-Score: 0.8201 | Train Bacc: 0.6887 | Train ROC-AUC: 0.7657\n",
      "Aggregated Results --> Train F1-Score: 0.8160 | Train Bacc: 0.7064 | Train ROC-AUC: 0.7808\n",
      "\n",
      "Val Loss: 4.5246\n",
      "Scale: 128 --> Val F1-Score: 0.8245 | Val Bacc: 0.5971 | Val ROC-AUC: 0.6540\n",
      "Scale: 256 --> Val F1-Score: 0.8478 | Val Bacc: 0.6572 | Val ROC-AUC: 0.7211\n",
      "Scale: 384 --> Val F1-Score: 0.8548 | Val Bacc: 0.6553 | Val ROC-AUC: 0.7256\n",
      "Aggregated Results --> Val F1-Score: 0.8410 | Val Bacc: 0.6646 | Val ROC-AUC: 0.7383\n",
      "\n",
      "Epoch 6 - Save aucroc: 0.7383 Model\n",
      "\n",
      "best AUC-ROC Score at epoch 6: 0.7383\n",
      "\n",
      "-------- Epoch 7/30 --------\n"
     ]
    },
    {
     "name": "stderr",
     "output_type": "stream",
     "text": [
      "[007/030 epoch train]: 100%|██████████| 1598/1598 [00:55<00:00, 28.70it/s, lr=[4.4902326642641095e-05], loss=4.1689, CUDA-Mem=0%, CUDA-Util=0%]\n",
      "[007/030 epoch valid]: 100%|██████████| 402/402 [00:03<00:00, 103.32it/s, loss=4.4718, CUDA-Mem=0%, CUDA-Util=0%]\n"
     ]
    },
    {
     "name": "stdout",
     "output_type": "stream",
     "text": [
      "\n",
      "Train Loss: 4.1689\n",
      "Scale: 128 --> Train F1-Score: 0.8009 | Train Bacc: 0.6661 | Train ROC-AUC: 0.7353\n",
      "Scale: 256 --> Train F1-Score: 0.8272 | Train Bacc: 0.6969 | Train ROC-AUC: 0.7730\n",
      "Scale: 384 --> Train F1-Score: 0.8244 | Train Bacc: 0.6947 | Train ROC-AUC: 0.7741\n",
      "Aggregated Results --> Train F1-Score: 0.8203 | Train Bacc: 0.7058 | Train ROC-AUC: 0.7857\n",
      "\n",
      "Val Loss: 4.4718\n",
      "Scale: 128 --> Val F1-Score: 0.7770 | Val Bacc: 0.6017 | Val ROC-AUC: 0.6577\n",
      "Scale: 256 --> Val F1-Score: 0.8106 | Val Bacc: 0.6665 | Val ROC-AUC: 0.7272\n",
      "Scale: 384 --> Val F1-Score: 0.7680 | Val Bacc: 0.6660 | Val ROC-AUC: 0.7311\n",
      "Aggregated Results --> Val F1-Score: 0.7641 | Val Bacc: 0.6895 | Val ROC-AUC: 0.7416\n",
      "\n",
      "Epoch 7 - Save aucroc: 0.7416 Model\n",
      "\n",
      "best AUC-ROC Score at epoch 7: 0.7416\n",
      "\n",
      "-------- Epoch 8/30 --------\n"
     ]
    },
    {
     "name": "stderr",
     "output_type": "stream",
     "text": [
      "[008/030 epoch train]: 100%|██████████| 1598/1598 [00:53<00:00, 30.13it/s, lr=[4.3149887298078276e-05], loss=4.0953, CUDA-Mem=0%, CUDA-Util=0%]\n",
      "[008/030 epoch valid]: 100%|██████████| 402/402 [00:03<00:00, 101.69it/s, loss=4.5419, CUDA-Mem=0%, CUDA-Util=0%]\n"
     ]
    },
    {
     "name": "stdout",
     "output_type": "stream",
     "text": [
      "\n",
      "Train Loss: 4.0953\n",
      "Scale: 128 --> Train F1-Score: 0.8053 | Train Bacc: 0.6858 | Train ROC-AUC: 0.7473\n",
      "Scale: 256 --> Train F1-Score: 0.8315 | Train Bacc: 0.7178 | Train ROC-AUC: 0.7859\n",
      "Scale: 384 --> Train F1-Score: 0.8273 | Train Bacc: 0.7003 | Train ROC-AUC: 0.7800\n",
      "Aggregated Results --> Train F1-Score: 0.8240 | Train Bacc: 0.7224 | Train ROC-AUC: 0.7979\n",
      "\n",
      "Val Loss: 4.5419\n",
      "Scale: 128 --> Val F1-Score: 0.8481 | Val Bacc: 0.5831 | Val ROC-AUC: 0.6582\n",
      "Scale: 256 --> Val F1-Score: 0.8627 | Val Bacc: 0.6566 | Val ROC-AUC: 0.7261\n",
      "Scale: 384 --> Val F1-Score: 0.8630 | Val Bacc: 0.6594 | Val ROC-AUC: 0.7324\n",
      "Aggregated Results --> Val F1-Score: 0.8703 | Val Bacc: 0.6757 | Val ROC-AUC: 0.7425\n",
      "\n",
      "Epoch 8 - Save aucroc: 0.7425 Model\n",
      "\n",
      "best AUC-ROC Score at epoch 8: 0.7425\n",
      "\n",
      "-------- Epoch 9/30 --------\n"
     ]
    },
    {
     "name": "stderr",
     "output_type": "stream",
     "text": [
      "[009/030 epoch train]: 100%|██████████| 1598/1598 [00:53<00:00, 29.83it/s, lr=[4.118465711954569e-05], loss=4.0697, CUDA-Mem=0%, CUDA-Util=0%] \n",
      "[009/030 epoch valid]: 100%|██████████| 402/402 [00:03<00:00, 106.04it/s, loss=4.4972, CUDA-Mem=0%, CUDA-Util=0%]\n"
     ]
    },
    {
     "name": "stdout",
     "output_type": "stream",
     "text": [
      "\n",
      "Train Loss: 4.0697\n",
      "Scale: 128 --> Train F1-Score: 0.8038 | Train Bacc: 0.6788 | Train ROC-AUC: 0.7495\n",
      "Scale: 256 --> Train F1-Score: 0.8291 | Train Bacc: 0.7147 | Train ROC-AUC: 0.7869\n",
      "Scale: 384 --> Train F1-Score: 0.8298 | Train Bacc: 0.7048 | Train ROC-AUC: 0.7857\n",
      "Aggregated Results --> Train F1-Score: 0.8215 | Train Bacc: 0.7263 | Train ROC-AUC: 0.8063\n",
      "\n",
      "Val Loss: 4.4972\n",
      "Scale: 128 --> Val F1-Score: 0.7768 | Val Bacc: 0.6016 | Val ROC-AUC: 0.6583\n",
      "Scale: 256 --> Val F1-Score: 0.8420 | Val Bacc: 0.6758 | Val ROC-AUC: 0.7270\n",
      "Scale: 384 --> Val F1-Score: 0.8169 | Val Bacc: 0.6636 | Val ROC-AUC: 0.7278\n",
      "Aggregated Results --> Val F1-Score: 0.8291 | Val Bacc: 0.6887 | Val ROC-AUC: 0.7466\n",
      "\n",
      "Epoch 9 - Save aucroc: 0.7466 Model\n",
      "\n",
      "best AUC-ROC Score at epoch 9: 0.7466\n",
      "\n",
      "-------- Epoch 10/30 --------\n"
     ]
    },
    {
     "name": "stderr",
     "output_type": "stream",
     "text": [
      "[010/030 epoch train]: 100%|██████████| 1598/1598 [00:54<00:00, 29.23it/s, lr=[3.902967663405956e-05], loss=3.9978, CUDA-Mem=0%, CUDA-Util=0%] \n",
      "[010/030 epoch valid]: 100%|██████████| 402/402 [00:03<00:00, 101.87it/s, loss=4.5078, CUDA-Mem=0%, CUDA-Util=0%]\n"
     ]
    },
    {
     "name": "stdout",
     "output_type": "stream",
     "text": [
      "\n",
      "Train Loss: 3.9978\n",
      "Scale: 128 --> Train F1-Score: 0.8025 | Train Bacc: 0.6817 | Train ROC-AUC: 0.7566\n",
      "Scale: 256 --> Train F1-Score: 0.8339 | Train Bacc: 0.7256 | Train ROC-AUC: 0.7975\n",
      "Scale: 384 --> Train F1-Score: 0.8356 | Train Bacc: 0.7211 | Train ROC-AUC: 0.7950\n",
      "Aggregated Results --> Train F1-Score: 0.8233 | Train Bacc: 0.7368 | Train ROC-AUC: 0.8167\n",
      "\n",
      "Val Loss: 4.5078\n",
      "Scale: 128 --> Val F1-Score: 0.8442 | Val Bacc: 0.6055 | Val ROC-AUC: 0.6619\n",
      "Scale: 256 --> Val F1-Score: 0.8453 | Val Bacc: 0.6630 | Val ROC-AUC: 0.7256\n",
      "Scale: 384 --> Val F1-Score: 0.8619 | Val Bacc: 0.6688 | Val ROC-AUC: 0.7334\n",
      "Aggregated Results --> Val F1-Score: 0.8322 | Val Bacc: 0.6835 | Val ROC-AUC: 0.7489\n",
      "\n",
      "Epoch 10 - Save aucroc: 0.7489 Model\n",
      "\n",
      "best AUC-ROC Score at epoch 10: 0.7489\n",
      "\n",
      "-------- Epoch 11/30 --------\n"
     ]
    },
    {
     "name": "stderr",
     "output_type": "stream",
     "text": [
      "[011/030 epoch train]: 100%|██████████| 1598/1598 [00:54<00:00, 29.28it/s, lr=[3.671021101749476e-05], loss=3.9557, CUDA-Mem=0%, CUDA-Util=0%] \n",
      "[011/030 epoch valid]: 100%|██████████| 402/402 [00:03<00:00, 102.56it/s, loss=4.4982, CUDA-Mem=0%, CUDA-Util=0%]\n"
     ]
    },
    {
     "name": "stdout",
     "output_type": "stream",
     "text": [
      "\n",
      "Train Loss: 3.9557\n",
      "Scale: 128 --> Train F1-Score: 0.8068 | Train Bacc: 0.6837 | Train ROC-AUC: 0.7606\n",
      "Scale: 256 --> Train F1-Score: 0.8350 | Train Bacc: 0.7212 | Train ROC-AUC: 0.8030\n",
      "Scale: 384 --> Train F1-Score: 0.8379 | Train Bacc: 0.7177 | Train ROC-AUC: 0.8023\n",
      "Aggregated Results --> Train F1-Score: 0.8276 | Train Bacc: 0.7467 | Train ROC-AUC: 0.8246\n",
      "\n",
      "Val Loss: 4.4982\n",
      "Scale: 128 --> Val F1-Score: 0.6678 | Val Bacc: 0.6276 | Val ROC-AUC: 0.6638\n",
      "Scale: 256 --> Val F1-Score: 0.7404 | Val Bacc: 0.6648 | Val ROC-AUC: 0.7304\n",
      "Scale: 384 --> Val F1-Score: 0.7442 | Val Bacc: 0.6622 | Val ROC-AUC: 0.7349\n",
      "Aggregated Results --> Val F1-Score: 0.7002 | Val Bacc: 0.6802 | Val ROC-AUC: 0.7488\n",
      "\n",
      "best AUC-ROC Score at epoch 10: 0.7489\n",
      "\n",
      "-------- Epoch 12/30 --------\n"
     ]
    },
    {
     "name": "stderr",
     "output_type": "stream",
     "text": [
      "[012/030 epoch train]: 100%|██████████| 1598/1598 [00:56<00:00, 28.14it/s, lr=[3.425345388349786e-05], loss=3.9024, CUDA-Mem=0%, CUDA-Util=0%] \n",
      "[012/030 epoch valid]: 100%|██████████| 402/402 [00:04<00:00, 98.90it/s, loss=4.5874, CUDA-Mem=0%, CUDA-Util=0%] \n"
     ]
    },
    {
     "name": "stdout",
     "output_type": "stream",
     "text": [
      "\n",
      "Train Loss: 3.9024\n",
      "Scale: 128 --> Train F1-Score: 0.8043 | Train Bacc: 0.6975 | Train ROC-AUC: 0.7717\n",
      "Scale: 256 --> Train F1-Score: 0.8355 | Train Bacc: 0.7313 | Train ROC-AUC: 0.8099\n",
      "Scale: 384 --> Train F1-Score: 0.8293 | Train Bacc: 0.7207 | Train ROC-AUC: 0.8029\n",
      "Aggregated Results --> Train F1-Score: 0.8249 | Train Bacc: 0.7446 | Train ROC-AUC: 0.8309\n",
      "\n",
      "Val Loss: 4.5874\n",
      "Scale: 128 --> Val F1-Score: 0.8171 | Val Bacc: 0.6118 | Val ROC-AUC: 0.6665\n",
      "Scale: 256 --> Val F1-Score: 0.8616 | Val Bacc: 0.6737 | Val ROC-AUC: 0.7239\n",
      "Scale: 384 --> Val F1-Score: 0.8537 | Val Bacc: 0.6774 | Val ROC-AUC: 0.7279\n",
      "Aggregated Results --> Val F1-Score: 0.8583 | Val Bacc: 0.6890 | Val ROC-AUC: 0.7422\n",
      "\n",
      "best AUC-ROC Score at epoch 10: 0.7489\n",
      "\n",
      "-------- Epoch 13/30 --------\n"
     ]
    },
    {
     "name": "stderr",
     "output_type": "stream",
     "text": [
      "[013/030 epoch train]: 100%|██████████| 1598/1598 [00:54<00:00, 29.45it/s, lr=[3.168820846323052e-05], loss=3.8258, CUDA-Mem=0%, CUDA-Util=0%] \n",
      "[013/030 epoch valid]: 100%|██████████| 402/402 [00:03<00:00, 102.86it/s, loss=4.6141, CUDA-Mem=0%, CUDA-Util=0%]\n"
     ]
    },
    {
     "name": "stdout",
     "output_type": "stream",
     "text": [
      "\n",
      "Train Loss: 3.8258\n",
      "Scale: 128 --> Train F1-Score: 0.8118 | Train Bacc: 0.7045 | Train ROC-AUC: 0.7788\n",
      "Scale: 256 --> Train F1-Score: 0.8440 | Train Bacc: 0.7341 | Train ROC-AUC: 0.8144\n",
      "Scale: 384 --> Train F1-Score: 0.8423 | Train Bacc: 0.7315 | Train ROC-AUC: 0.8181\n",
      "Aggregated Results --> Train F1-Score: 0.8418 | Train Bacc: 0.7578 | Train ROC-AUC: 0.8440\n",
      "\n",
      "Val Loss: 4.6141\n",
      "Scale: 128 --> Val F1-Score: 0.6766 | Val Bacc: 0.6144 | Val ROC-AUC: 0.6573\n",
      "Scale: 256 --> Val F1-Score: 0.7106 | Val Bacc: 0.6631 | Val ROC-AUC: 0.7301\n",
      "Scale: 384 --> Val F1-Score: 0.7335 | Val Bacc: 0.6600 | Val ROC-AUC: 0.7323\n",
      "Aggregated Results --> Val F1-Score: 0.6216 | Val Bacc: 0.6480 | Val ROC-AUC: 0.7464\n",
      "\n",
      "best AUC-ROC Score at epoch 10: 0.7489\n",
      "\n",
      "-------- Epoch 14/30 --------\n"
     ]
    },
    {
     "name": "stderr",
     "output_type": "stream",
     "text": [
      "[014/030 epoch train]: 100%|██████████| 1598/1598 [00:53<00:00, 29.68it/s, lr=[2.904454991381912e-05], loss=3.7917, CUDA-Mem=0%, CUDA-Util=0%] \n",
      "[014/030 epoch valid]: 100%|██████████| 402/402 [00:03<00:00, 101.89it/s, loss=4.4771, CUDA-Mem=0%, CUDA-Util=0%]\n"
     ]
    },
    {
     "name": "stdout",
     "output_type": "stream",
     "text": [
      "\n",
      "Train Loss: 3.7917\n",
      "Scale: 128 --> Train F1-Score: 0.8096 | Train Bacc: 0.7061 | Train ROC-AUC: 0.7765\n",
      "Scale: 256 --> Train F1-Score: 0.8385 | Train Bacc: 0.7376 | Train ROC-AUC: 0.8192\n",
      "Scale: 384 --> Train F1-Score: 0.8428 | Train Bacc: 0.7416 | Train ROC-AUC: 0.8222\n",
      "Aggregated Results --> Train F1-Score: 0.8331 | Train Bacc: 0.7646 | Train ROC-AUC: 0.8513\n",
      "\n",
      "Val Loss: 4.4771\n",
      "Scale: 128 --> Val F1-Score: 0.7026 | Val Bacc: 0.6260 | Val ROC-AUC: 0.6706\n",
      "Scale: 256 --> Val F1-Score: 0.7861 | Val Bacc: 0.6767 | Val ROC-AUC: 0.7281\n",
      "Scale: 384 --> Val F1-Score: 0.8029 | Val Bacc: 0.6632 | Val ROC-AUC: 0.7326\n",
      "Aggregated Results --> Val F1-Score: 0.7893 | Val Bacc: 0.6895 | Val ROC-AUC: 0.7451\n",
      "\n",
      "best AUC-ROC Score at epoch 10: 0.7489\n",
      "\n",
      "-------- Epoch 15/30 --------\n"
     ]
    },
    {
     "name": "stderr",
     "output_type": "stream",
     "text": [
      "[015/030 epoch train]: 100%|██████████| 1598/1598 [00:54<00:00, 29.40it/s, lr=[2.635347271463544e-05], loss=3.7019, CUDA-Mem=0%, CUDA-Util=0%] \n",
      "[015/030 epoch valid]: 100%|██████████| 402/402 [00:03<00:00, 103.43it/s, loss=4.6460, CUDA-Mem=0%, CUDA-Util=0%]\n"
     ]
    },
    {
     "name": "stdout",
     "output_type": "stream",
     "text": [
      "\n",
      "Train Loss: 3.7019\n",
      "Scale: 128 --> Train F1-Score: 0.8132 | Train Bacc: 0.7121 | Train ROC-AUC: 0.7854\n",
      "Scale: 256 --> Train F1-Score: 0.8413 | Train Bacc: 0.7483 | Train ROC-AUC: 0.8314\n",
      "Scale: 384 --> Train F1-Score: 0.8447 | Train Bacc: 0.7457 | Train ROC-AUC: 0.8342\n",
      "Aggregated Results --> Train F1-Score: 0.8415 | Train Bacc: 0.7796 | Train ROC-AUC: 0.8615\n",
      "\n",
      "Val Loss: 4.6460\n",
      "Scale: 128 --> Val F1-Score: 0.8121 | Val Bacc: 0.6079 | Val ROC-AUC: 0.6650\n",
      "Scale: 256 --> Val F1-Score: 0.8468 | Val Bacc: 0.6668 | Val ROC-AUC: 0.7253\n",
      "Scale: 384 --> Val F1-Score: 0.8625 | Val Bacc: 0.6564 | Val ROC-AUC: 0.7268\n",
      "Aggregated Results --> Val F1-Score: 0.8434 | Val Bacc: 0.6847 | Val ROC-AUC: 0.7424\n",
      "\n",
      "best AUC-ROC Score at epoch 10: 0.7489\n",
      "\n",
      "-------- Epoch 16/30 --------\n"
     ]
    },
    {
     "name": "stderr",
     "output_type": "stream",
     "text": [
      "[016/030 epoch train]: 100%|██████████| 1598/1598 [00:52<00:00, 30.46it/s, lr=[2.3646527285364565e-05], loss=3.6675, CUDA-Mem=0%, CUDA-Util=0%]\n",
      "[016/030 epoch valid]: 100%|██████████| 402/402 [00:04<00:00, 90.72it/s, loss=4.6196, CUDA-Mem=0%, CUDA-Util=0%] \n"
     ]
    },
    {
     "name": "stdout",
     "output_type": "stream",
     "text": [
      "\n",
      "Train Loss: 3.6675\n",
      "Scale: 128 --> Train F1-Score: 0.8136 | Train Bacc: 0.7176 | Train ROC-AUC: 0.7926\n",
      "Scale: 256 --> Train F1-Score: 0.8457 | Train Bacc: 0.7446 | Train ROC-AUC: 0.8326\n",
      "Scale: 384 --> Train F1-Score: 0.8480 | Train Bacc: 0.7464 | Train ROC-AUC: 0.8315\n",
      "Aggregated Results --> Train F1-Score: 0.8452 | Train Bacc: 0.7864 | Train ROC-AUC: 0.8683\n",
      "\n",
      "Val Loss: 4.6196\n",
      "Scale: 128 --> Val F1-Score: 0.7978 | Val Bacc: 0.6019 | Val ROC-AUC: 0.6588\n",
      "Scale: 256 --> Val F1-Score: 0.8397 | Val Bacc: 0.6713 | Val ROC-AUC: 0.7258\n",
      "Scale: 384 --> Val F1-Score: 0.8459 | Val Bacc: 0.6608 | Val ROC-AUC: 0.7259\n",
      "Aggregated Results --> Val F1-Score: 0.8446 | Val Bacc: 0.6727 | Val ROC-AUC: 0.7367\n",
      "\n",
      "best AUC-ROC Score at epoch 10: 0.7489\n",
      "\n",
      "-------- Epoch 17/30 --------\n"
     ]
    },
    {
     "name": "stderr",
     "output_type": "stream",
     "text": [
      "[017/030 epoch train]: 100%|██████████| 1598/1598 [00:56<00:00, 28.11it/s, lr=[2.0955450086180886e-05], loss=3.6192, CUDA-Mem=0%, CUDA-Util=0%]\n",
      "[017/030 epoch valid]: 100%|██████████| 402/402 [00:03<00:00, 103.58it/s, loss=4.6291, CUDA-Mem=0%, CUDA-Util=0%]\n"
     ]
    },
    {
     "name": "stdout",
     "output_type": "stream",
     "text": [
      "\n",
      "Train Loss: 3.6192\n",
      "Scale: 128 --> Train F1-Score: 0.8177 | Train Bacc: 0.7266 | Train ROC-AUC: 0.7990\n",
      "Scale: 256 --> Train F1-Score: 0.8471 | Train Bacc: 0.7619 | Train ROC-AUC: 0.8376\n",
      "Scale: 384 --> Train F1-Score: 0.8482 | Train Bacc: 0.7492 | Train ROC-AUC: 0.8374\n",
      "Aggregated Results --> Train F1-Score: 0.8491 | Train Bacc: 0.7985 | Train ROC-AUC: 0.8755\n",
      "\n",
      "Val Loss: 4.6291\n",
      "Scale: 128 --> Val F1-Score: 0.8071 | Val Bacc: 0.6092 | Val ROC-AUC: 0.6648\n",
      "Scale: 256 --> Val F1-Score: 0.8487 | Val Bacc: 0.6682 | Val ROC-AUC: 0.7274\n",
      "Scale: 384 --> Val F1-Score: 0.8313 | Val Bacc: 0.6569 | Val ROC-AUC: 0.7268\n",
      "Aggregated Results --> Val F1-Score: 0.8403 | Val Bacc: 0.6796 | Val ROC-AUC: 0.7403\n",
      "\n",
      "best AUC-ROC Score at epoch 10: 0.7489\n",
      "\n",
      "-------- Epoch 18/30 --------\n"
     ]
    },
    {
     "name": "stderr",
     "output_type": "stream",
     "text": [
      "[018/030 epoch train]: 100%|██████████| 1598/1598 [00:44<00:00, 35.91it/s, lr=[1.8311791536769483e-05], loss=3.5601, CUDA-Mem=0%, CUDA-Util=0%]\n",
      "[018/030 epoch valid]: 100%|██████████| 402/402 [00:03<00:00, 108.07it/s, loss=4.5972, CUDA-Mem=0%, CUDA-Util=0%]\n"
     ]
    },
    {
     "name": "stdout",
     "output_type": "stream",
     "text": [
      "\n",
      "Train Loss: 3.5601\n",
      "Scale: 128 --> Train F1-Score: 0.8228 | Train Bacc: 0.7253 | Train ROC-AUC: 0.8051\n",
      "Scale: 256 --> Train F1-Score: 0.8524 | Train Bacc: 0.7589 | Train ROC-AUC: 0.8428\n",
      "Scale: 384 --> Train F1-Score: 0.8535 | Train Bacc: 0.7598 | Train ROC-AUC: 0.8455\n",
      "Aggregated Results --> Train F1-Score: 0.8527 | Train Bacc: 0.7987 | Train ROC-AUC: 0.8806\n",
      "\n",
      "Val Loss: 4.5972\n",
      "Scale: 128 --> Val F1-Score: 0.7731 | Val Bacc: 0.6146 | Val ROC-AUC: 0.6629\n",
      "Scale: 256 --> Val F1-Score: 0.8210 | Val Bacc: 0.6746 | Val ROC-AUC: 0.7276\n",
      "Scale: 384 --> Val F1-Score: 0.8214 | Val Bacc: 0.6646 | Val ROC-AUC: 0.7260\n",
      "Aggregated Results --> Val F1-Score: 0.8164 | Val Bacc: 0.6945 | Val ROC-AUC: 0.7399\n",
      "\n",
      "best AUC-ROC Score at epoch 10: 0.7489\n",
      "\n",
      "-------- Epoch 19/30 --------\n"
     ]
    },
    {
     "name": "stderr",
     "output_type": "stream",
     "text": [
      "[019/030 epoch train]: 100%|██████████| 1598/1598 [00:50<00:00, 31.50it/s, lr=[1.5746546116502143e-05], loss=3.5332, CUDA-Mem=0%, CUDA-Util=0%]\n",
      "[019/030 epoch valid]: 100%|██████████| 402/402 [00:04<00:00, 99.50it/s, loss=4.8616, CUDA-Mem=0%, CUDA-Util=0%] \n"
     ]
    },
    {
     "name": "stdout",
     "output_type": "stream",
     "text": [
      "\n",
      "Train Loss: 3.5332\n",
      "Scale: 128 --> Train F1-Score: 0.8172 | Train Bacc: 0.7282 | Train ROC-AUC: 0.8086\n",
      "Scale: 256 --> Train F1-Score: 0.8495 | Train Bacc: 0.7670 | Train ROC-AUC: 0.8449\n",
      "Scale: 384 --> Train F1-Score: 0.8472 | Train Bacc: 0.7574 | Train ROC-AUC: 0.8433\n",
      "Aggregated Results --> Train F1-Score: 0.8534 | Train Bacc: 0.8006 | Train ROC-AUC: 0.8863\n",
      "\n",
      "Val Loss: 4.8616\n",
      "Scale: 128 --> Val F1-Score: 0.8483 | Val Bacc: 0.6012 | Val ROC-AUC: 0.6630\n",
      "Scale: 256 --> Val F1-Score: 0.8654 | Val Bacc: 0.6614 | Val ROC-AUC: 0.7274\n",
      "Scale: 384 --> Val F1-Score: 0.8728 | Val Bacc: 0.6650 | Val ROC-AUC: 0.7238\n",
      "Aggregated Results --> Val F1-Score: 0.8726 | Val Bacc: 0.6699 | Val ROC-AUC: 0.7382\n",
      "\n",
      "best AUC-ROC Score at epoch 10: 0.7489\n",
      "\n",
      "-------- Epoch 20/30 --------\n"
     ]
    },
    {
     "name": "stderr",
     "output_type": "stream",
     "text": [
      "[020/030 epoch train]: 100%|██████████| 1598/1598 [00:53<00:00, 29.68it/s, lr=[1.3289788982505247e-05], loss=3.4972, CUDA-Mem=0%, CUDA-Util=0%]\n",
      "[020/030 epoch valid]: 100%|██████████| 402/402 [00:03<00:00, 101.07it/s, loss=4.7408, CUDA-Mem=0%, CUDA-Util=0%]\n"
     ]
    },
    {
     "name": "stdout",
     "output_type": "stream",
     "text": [
      "\n",
      "Train Loss: 3.4972\n",
      "Scale: 128 --> Train F1-Score: 0.8243 | Train Bacc: 0.7330 | Train ROC-AUC: 0.8153\n",
      "Scale: 256 --> Train F1-Score: 0.8543 | Train Bacc: 0.7715 | Train ROC-AUC: 0.8475\n",
      "Scale: 384 --> Train F1-Score: 0.8524 | Train Bacc: 0.7641 | Train ROC-AUC: 0.8452\n",
      "Aggregated Results --> Train F1-Score: 0.8586 | Train Bacc: 0.8092 | Train ROC-AUC: 0.8899\n",
      "\n",
      "Val Loss: 4.7408\n",
      "Scale: 128 --> Val F1-Score: 0.8137 | Val Bacc: 0.6092 | Val ROC-AUC: 0.6620\n",
      "Scale: 256 --> Val F1-Score: 0.8439 | Val Bacc: 0.6695 | Val ROC-AUC: 0.7256\n",
      "Scale: 384 --> Val F1-Score: 0.8425 | Val Bacc: 0.6503 | Val ROC-AUC: 0.7229\n",
      "Aggregated Results --> Val F1-Score: 0.8423 | Val Bacc: 0.6786 | Val ROC-AUC: 0.7380\n",
      "\n",
      "best AUC-ROC Score at epoch 10: 0.7489\n",
      "\n",
      "-------- Epoch 21/30 --------\n"
     ]
    },
    {
     "name": "stderr",
     "output_type": "stream",
     "text": [
      "[021/030 epoch train]: 100%|██████████| 1598/1598 [00:54<00:00, 29.51it/s, lr=[1.0970323365940443e-05], loss=3.4519, CUDA-Mem=0%, CUDA-Util=0%]\n",
      "[021/030 epoch valid]: 100%|██████████| 402/402 [00:03<00:00, 106.18it/s, loss=4.6461, CUDA-Mem=0%, CUDA-Util=0%]\n"
     ]
    },
    {
     "name": "stdout",
     "output_type": "stream",
     "text": [
      "\n",
      "Train Loss: 3.4519\n",
      "Scale: 128 --> Train F1-Score: 0.8247 | Train Bacc: 0.7320 | Train ROC-AUC: 0.8144\n",
      "Scale: 256 --> Train F1-Score: 0.8594 | Train Bacc: 0.7768 | Train ROC-AUC: 0.8514\n",
      "Scale: 384 --> Train F1-Score: 0.8553 | Train Bacc: 0.7645 | Train ROC-AUC: 0.8544\n",
      "Aggregated Results --> Train F1-Score: 0.8585 | Train Bacc: 0.8124 | Train ROC-AUC: 0.8943\n",
      "\n",
      "Val Loss: 4.6461\n",
      "Scale: 128 --> Val F1-Score: 0.7664 | Val Bacc: 0.6175 | Val ROC-AUC: 0.6628\n",
      "Scale: 256 --> Val F1-Score: 0.8102 | Val Bacc: 0.6715 | Val ROC-AUC: 0.7257\n",
      "Scale: 384 --> Val F1-Score: 0.8048 | Val Bacc: 0.6568 | Val ROC-AUC: 0.7217\n",
      "Aggregated Results --> Val F1-Score: 0.7950 | Val Bacc: 0.6859 | Val ROC-AUC: 0.7390\n",
      "\n",
      "best AUC-ROC Score at epoch 10: 0.7489\n",
      "\n",
      "-------- Epoch 22/30 --------\n"
     ]
    },
    {
     "name": "stderr",
     "output_type": "stream",
     "text": [
      "[022/030 epoch train]: 100%|██████████| 1598/1598 [00:50<00:00, 31.90it/s, lr=[8.815342880454311e-06], loss=3.4309, CUDA-Mem=0%, CUDA-Util=0%]\n",
      "[022/030 epoch valid]: 100%|██████████| 402/402 [00:03<00:00, 101.39it/s, loss=4.7903, CUDA-Mem=0%, CUDA-Util=0%]\n"
     ]
    },
    {
     "name": "stdout",
     "output_type": "stream",
     "text": [
      "\n",
      "Train Loss: 3.4309\n",
      "Scale: 128 --> Train F1-Score: 0.8234 | Train Bacc: 0.7454 | Train ROC-AUC: 0.8185\n",
      "Scale: 256 --> Train F1-Score: 0.8515 | Train Bacc: 0.7719 | Train ROC-AUC: 0.8550\n",
      "Scale: 384 --> Train F1-Score: 0.8524 | Train Bacc: 0.7706 | Train ROC-AUC: 0.8514\n",
      "Aggregated Results --> Train F1-Score: 0.8621 | Train Bacc: 0.8217 | Train ROC-AUC: 0.8993\n",
      "\n",
      "Val Loss: 4.7903\n",
      "Scale: 128 --> Val F1-Score: 0.8126 | Val Bacc: 0.6057 | Val ROC-AUC: 0.6603\n",
      "Scale: 256 --> Val F1-Score: 0.8413 | Val Bacc: 0.6597 | Val ROC-AUC: 0.7243\n",
      "Scale: 384 --> Val F1-Score: 0.8469 | Val Bacc: 0.6462 | Val ROC-AUC: 0.7207\n",
      "Aggregated Results --> Val F1-Score: 0.8386 | Val Bacc: 0.6756 | Val ROC-AUC: 0.7364\n",
      "\n",
      "best AUC-ROC Score at epoch 10: 0.7489\n",
      "\n",
      "-------- Epoch 23/30 --------\n"
     ]
    },
    {
     "name": "stderr",
     "output_type": "stream",
     "text": [
      "[023/030 epoch train]: 100%|██████████| 1598/1598 [00:53<00:00, 29.94it/s, lr=[6.850112701921736e-06], loss=3.4021, CUDA-Mem=0%, CUDA-Util=0%] \n",
      "[023/030 epoch valid]: 100%|██████████| 402/402 [00:04<00:00, 99.77it/s, loss=4.7712, CUDA-Mem=0%, CUDA-Util=0%] \n"
     ]
    },
    {
     "name": "stdout",
     "output_type": "stream",
     "text": [
      "\n",
      "Train Loss: 3.4021\n",
      "Scale: 128 --> Train F1-Score: 0.8284 | Train Bacc: 0.7381 | Train ROC-AUC: 0.8193\n",
      "Scale: 256 --> Train F1-Score: 0.8560 | Train Bacc: 0.7754 | Train ROC-AUC: 0.8567\n",
      "Scale: 384 --> Train F1-Score: 0.8560 | Train Bacc: 0.7676 | Train ROC-AUC: 0.8561\n",
      "Aggregated Results --> Train F1-Score: 0.8612 | Train Bacc: 0.8262 | Train ROC-AUC: 0.9001\n",
      "\n",
      "Val Loss: 4.7712\n",
      "Scale: 128 --> Val F1-Score: 0.7952 | Val Bacc: 0.6103 | Val ROC-AUC: 0.6600\n",
      "Scale: 256 --> Val F1-Score: 0.8380 | Val Bacc: 0.6648 | Val ROC-AUC: 0.7252\n",
      "Scale: 384 --> Val F1-Score: 0.8371 | Val Bacc: 0.6615 | Val ROC-AUC: 0.7213\n",
      "Aggregated Results --> Val F1-Score: 0.8387 | Val Bacc: 0.6782 | Val ROC-AUC: 0.7383\n",
      "\n",
      "best AUC-ROC Score at epoch 10: 0.7489\n",
      "\n",
      "-------- Epoch 24/30 --------\n"
     ]
    },
    {
     "name": "stderr",
     "output_type": "stream",
     "text": [
      "[024/030 epoch train]: 100%|██████████| 1598/1598 [00:55<00:00, 28.72it/s, lr=[5.097673357358906e-06], loss=3.3962, CUDA-Mem=0%, CUDA-Util=0%] \n",
      "[024/030 epoch valid]: 100%|██████████| 402/402 [00:03<00:00, 106.03it/s, loss=4.8421, CUDA-Mem=0%, CUDA-Util=0%]\n"
     ]
    },
    {
     "name": "stdout",
     "output_type": "stream",
     "text": [
      "\n",
      "Train Loss: 3.3962\n",
      "Scale: 128 --> Train F1-Score: 0.8248 | Train Bacc: 0.7308 | Train ROC-AUC: 0.8219\n",
      "Scale: 256 --> Train F1-Score: 0.8561 | Train Bacc: 0.7722 | Train ROC-AUC: 0.8544\n",
      "Scale: 384 --> Train F1-Score: 0.8530 | Train Bacc: 0.7705 | Train ROC-AUC: 0.8564\n",
      "Aggregated Results --> Train F1-Score: 0.8622 | Train Bacc: 0.8225 | Train ROC-AUC: 0.9017\n",
      "\n",
      "Val Loss: 4.8421\n",
      "Scale: 128 --> Val F1-Score: 0.8078 | Val Bacc: 0.6097 | Val ROC-AUC: 0.6592\n",
      "Scale: 256 --> Val F1-Score: 0.8451 | Val Bacc: 0.6602 | Val ROC-AUC: 0.7248\n",
      "Scale: 384 --> Val F1-Score: 0.8514 | Val Bacc: 0.6448 | Val ROC-AUC: 0.7203\n",
      "Aggregated Results --> Val F1-Score: 0.8535 | Val Bacc: 0.6645 | Val ROC-AUC: 0.7375\n",
      "\n",
      "best AUC-ROC Score at epoch 10: 0.7489\n",
      "\n",
      "-------- Epoch 25/30 --------\n"
     ]
    },
    {
     "name": "stderr",
     "output_type": "stream",
     "text": [
      "[025/030 epoch train]: 100%|██████████| 1598/1598 [00:54<00:00, 29.52it/s, lr=[3.578570595810273e-06], loss=3.3618, CUDA-Mem=0%, CUDA-Util=0%] \n",
      "[025/030 epoch valid]: 100%|██████████| 402/402 [00:03<00:00, 102.41it/s, loss=4.8369, CUDA-Mem=0%, CUDA-Util=0%]\n"
     ]
    },
    {
     "name": "stdout",
     "output_type": "stream",
     "text": [
      "\n",
      "Train Loss: 3.3618\n",
      "Scale: 128 --> Train F1-Score: 0.8259 | Train Bacc: 0.7382 | Train ROC-AUC: 0.8247\n",
      "Scale: 256 --> Train F1-Score: 0.8579 | Train Bacc: 0.7731 | Train ROC-AUC: 0.8603\n",
      "Scale: 384 --> Train F1-Score: 0.8543 | Train Bacc: 0.7708 | Train ROC-AUC: 0.8590\n",
      "Aggregated Results --> Train F1-Score: 0.8628 | Train Bacc: 0.8261 | Train ROC-AUC: 0.9046\n",
      "\n",
      "Val Loss: 4.8369\n",
      "Scale: 128 --> Val F1-Score: 0.8075 | Val Bacc: 0.6069 | Val ROC-AUC: 0.6589\n",
      "Scale: 256 --> Val F1-Score: 0.8463 | Val Bacc: 0.6612 | Val ROC-AUC: 0.7250\n",
      "Scale: 384 --> Val F1-Score: 0.8493 | Val Bacc: 0.6456 | Val ROC-AUC: 0.7200\n",
      "Aggregated Results --> Val F1-Score: 0.8452 | Val Bacc: 0.6654 | Val ROC-AUC: 0.7369\n",
      "\n",
      "best AUC-ROC Score at epoch 10: 0.7489\n",
      "\n",
      "-------- Epoch 26/30 --------\n"
     ]
    },
    {
     "name": "stderr",
     "output_type": "stream",
     "text": [
      "[026/030 epoch train]: 100%|██████████| 1598/1598 [00:56<00:00, 28.44it/s, lr=[2.310614508226077e-06], loss=3.3325, CUDA-Mem=0%, CUDA-Util=0%] \n",
      "[026/030 epoch valid]: 100%|██████████| 402/402 [00:03<00:00, 101.91it/s, loss=4.8354, CUDA-Mem=0%, CUDA-Util=0%]\n"
     ]
    },
    {
     "name": "stdout",
     "output_type": "stream",
     "text": [
      "\n",
      "Train Loss: 3.3325\n",
      "Scale: 128 --> Train F1-Score: 0.8309 | Train Bacc: 0.7433 | Train ROC-AUC: 0.8246\n",
      "Scale: 256 --> Train F1-Score: 0.8580 | Train Bacc: 0.7706 | Train ROC-AUC: 0.8583\n",
      "Scale: 384 --> Train F1-Score: 0.8634 | Train Bacc: 0.7780 | Train ROC-AUC: 0.8662\n",
      "Aggregated Results --> Train F1-Score: 0.8675 | Train Bacc: 0.8311 | Train ROC-AUC: 0.9104\n",
      "\n",
      "Val Loss: 4.8354\n",
      "Scale: 128 --> Val F1-Score: 0.8067 | Val Bacc: 0.6089 | Val ROC-AUC: 0.6597\n",
      "Scale: 256 --> Val F1-Score: 0.8391 | Val Bacc: 0.6605 | Val ROC-AUC: 0.7245\n",
      "Scale: 384 --> Val F1-Score: 0.8457 | Val Bacc: 0.6452 | Val ROC-AUC: 0.7195\n",
      "Aggregated Results --> Val F1-Score: 0.8451 | Val Bacc: 0.6628 | Val ROC-AUC: 0.7363\n",
      "\n",
      "best AUC-ROC Score at epoch 10: 0.7489\n",
      "\n",
      "-------- Epoch 27/30 --------\n"
     ]
    },
    {
     "name": "stderr",
     "output_type": "stream",
     "text": [
      "[027/030 epoch train]: 100%|██████████| 1598/1598 [00:55<00:00, 28.64it/s, lr=[1.308670720429941e-06], loss=3.3403, CUDA-Mem=0%, CUDA-Util=0%] \n",
      "[027/030 epoch valid]: 100%|██████████| 402/402 [00:03<00:00, 104.55it/s, loss=4.8503, CUDA-Mem=0%, CUDA-Util=0%]\n"
     ]
    },
    {
     "name": "stdout",
     "output_type": "stream",
     "text": [
      "\n",
      "Train Loss: 3.3403\n",
      "Scale: 128 --> Train F1-Score: 0.8271 | Train Bacc: 0.7424 | Train ROC-AUC: 0.8279\n",
      "Scale: 256 --> Train F1-Score: 0.8589 | Train Bacc: 0.7784 | Train ROC-AUC: 0.8614\n",
      "Scale: 384 --> Train F1-Score: 0.8559 | Train Bacc: 0.7682 | Train ROC-AUC: 0.8565\n",
      "Aggregated Results --> Train F1-Score: 0.8658 | Train Bacc: 0.8291 | Train ROC-AUC: 0.9098\n",
      "\n",
      "Val Loss: 4.8503\n",
      "Scale: 128 --> Val F1-Score: 0.8044 | Val Bacc: 0.6070 | Val ROC-AUC: 0.6605\n",
      "Scale: 256 --> Val F1-Score: 0.8451 | Val Bacc: 0.6628 | Val ROC-AUC: 0.7242\n",
      "Scale: 384 --> Val F1-Score: 0.8466 | Val Bacc: 0.6408 | Val ROC-AUC: 0.7194\n",
      "Aggregated Results --> Val F1-Score: 0.8504 | Val Bacc: 0.6671 | Val ROC-AUC: 0.7360\n",
      "\n",
      "best AUC-ROC Score at epoch 10: 0.7489\n",
      "\n",
      "-------- Epoch 28/30 --------\n"
     ]
    },
    {
     "name": "stderr",
     "output_type": "stream",
     "text": [
      "[028/030 epoch train]: 100%|██████████| 1598/1598 [00:58<00:00, 27.54it/s, lr=[5.84486107247834e-07], loss=3.3359, CUDA-Mem=0%, CUDA-Util=0%] \n",
      "[028/030 epoch valid]: 100%|██████████| 402/402 [00:03<00:00, 105.68it/s, loss=4.8635, CUDA-Mem=0%, CUDA-Util=0%]\n"
     ]
    },
    {
     "name": "stdout",
     "output_type": "stream",
     "text": [
      "\n",
      "Train Loss: 3.3359\n",
      "Scale: 128 --> Train F1-Score: 0.8284 | Train Bacc: 0.7557 | Train ROC-AUC: 0.8288\n",
      "Scale: 256 --> Train F1-Score: 0.8566 | Train Bacc: 0.7850 | Train ROC-AUC: 0.8666\n",
      "Scale: 384 --> Train F1-Score: 0.8544 | Train Bacc: 0.7703 | Train ROC-AUC: 0.8573\n",
      "Aggregated Results --> Train F1-Score: 0.8650 | Train Bacc: 0.8259 | Train ROC-AUC: 0.9073\n",
      "\n",
      "Val Loss: 4.8635\n",
      "Scale: 128 --> Val F1-Score: 0.8079 | Val Bacc: 0.6072 | Val ROC-AUC: 0.6604\n",
      "Scale: 256 --> Val F1-Score: 0.8487 | Val Bacc: 0.6605 | Val ROC-AUC: 0.7241\n",
      "Scale: 384 --> Val F1-Score: 0.8468 | Val Bacc: 0.6410 | Val ROC-AUC: 0.7193\n",
      "Aggregated Results --> Val F1-Score: 0.8543 | Val Bacc: 0.6702 | Val ROC-AUC: 0.7357\n",
      "\n",
      "best AUC-ROC Score at epoch 10: 0.7489\n",
      "\n",
      "-------- Epoch 29/30 --------\n"
     ]
    },
    {
     "name": "stderr",
     "output_type": "stream",
     "text": [
      "[029/030 epoch train]: 100%|██████████| 1598/1598 [00:56<00:00, 28.16it/s, lr=[1.4655107114101023e-07], loss=3.3177, CUDA-Mem=0%, CUDA-Util=0%]\n",
      "[029/030 epoch valid]: 100%|██████████| 402/402 [00:03<00:00, 102.02it/s, loss=4.8647, CUDA-Mem=0%, CUDA-Util=0%]\n"
     ]
    },
    {
     "name": "stdout",
     "output_type": "stream",
     "text": [
      "\n",
      "Train Loss: 3.3177\n",
      "Scale: 128 --> Train F1-Score: 0.8275 | Train Bacc: 0.7485 | Train ROC-AUC: 0.8303\n",
      "Scale: 256 --> Train F1-Score: 0.8607 | Train Bacc: 0.7830 | Train ROC-AUC: 0.8644\n",
      "Scale: 384 --> Train F1-Score: 0.8560 | Train Bacc: 0.7741 | Train ROC-AUC: 0.8601\n",
      "Aggregated Results --> Train F1-Score: 0.8686 | Train Bacc: 0.8295 | Train ROC-AUC: 0.9107\n",
      "\n",
      "Val Loss: 4.8647\n",
      "Scale: 128 --> Val F1-Score: 0.8083 | Val Bacc: 0.6075 | Val ROC-AUC: 0.6602\n",
      "Scale: 256 --> Val F1-Score: 0.8491 | Val Bacc: 0.6608 | Val ROC-AUC: 0.7241\n",
      "Scale: 384 --> Val F1-Score: 0.8470 | Val Bacc: 0.6411 | Val ROC-AUC: 0.7192\n",
      "Aggregated Results --> Val F1-Score: 0.8536 | Val Bacc: 0.6671 | Val ROC-AUC: 0.7356\n",
      "\n",
      "best AUC-ROC Score at epoch 10: 0.7489\n",
      "\n",
      "-------- Epoch 30/30 --------\n"
     ]
    },
    {
     "name": "stderr",
     "output_type": "stream",
     "text": [
      "[030/030 epoch train]: 100%|██████████| 1598/1598 [00:54<00:00, 29.26it/s, lr=[1.874699728327322e-37], loss=3.3295, CUDA-Mem=0%, CUDA-Util=0%] \n",
      "[030/030 epoch valid]: 100%|██████████| 402/402 [00:03<00:00, 102.65it/s, loss=4.8644, CUDA-Mem=0%, CUDA-Util=0%]\n"
     ]
    },
    {
     "name": "stdout",
     "output_type": "stream",
     "text": [
      "\n",
      "Train Loss: 3.3295\n",
      "Scale: 128 --> Train F1-Score: 0.8272 | Train Bacc: 0.7451 | Train ROC-AUC: 0.8287\n",
      "Scale: 256 --> Train F1-Score: 0.8608 | Train Bacc: 0.7805 | Train ROC-AUC: 0.8637\n",
      "Scale: 384 --> Train F1-Score: 0.8562 | Train Bacc: 0.7684 | Train ROC-AUC: 0.8592\n",
      "Aggregated Results --> Train F1-Score: 0.8694 | Train Bacc: 0.8301 | Train ROC-AUC: 0.9096\n",
      "\n",
      "Val Loss: 4.8644\n",
      "Scale: 128 --> Val F1-Score: 0.8083 | Val Bacc: 0.6075 | Val ROC-AUC: 0.6602\n",
      "Scale: 256 --> Val F1-Score: 0.8491 | Val Bacc: 0.6608 | Val ROC-AUC: 0.7241\n",
      "Scale: 384 --> Val F1-Score: 0.8470 | Val Bacc: 0.6411 | Val ROC-AUC: 0.7192\n",
      "Aggregated Results --> Val F1-Score: 0.8534 | Val Bacc: 0.6669 | Val ROC-AUC: 0.7357\n",
      "\n",
      "best AUC-ROC Score at epoch 10: 0.7489\n"
     ]
    },
    {
     "name": "stderr",
     "output_type": "stream",
     "text": [
      "100%|██████████| 500/500 [00:13<00:00, 37.40it/s, loss=1.8987, CUDA-Mem=0%, CUDA-Util=0%]\n"
     ]
    },
    {
     "name": "stdout",
     "output_type": "stream",
     "text": [
      "\n",
      "Test Loss: 1.8987\n",
      "Scale: 128 --> Test F1-Score: 0.8504 | Test Bacc: 0.6338 | Test ROC-AUC: 0.6916\n",
      "Scale: 256 --> Test F1-Score: 0.8567 | Test Bacc: 0.6789 | Test ROC-AUC: 0.7539\n",
      "Scale: 384 --> Test F1-Score: 0.8697 | Test Bacc: 0.6874 | Test ROC-AUC: 0.7523\n",
      "Aggregated Results --> Test F1-Score: 0.8396 | Test Bacc: 0.7010 | Test ROC-AUC: 0.7707\n",
      "---------------finished running code-------------------\n"
     ]
    },
    {
     "data": {
      "text/plain": [
       "<Figure size 640x480 with 0 Axes>"
      ]
     },
     "metadata": {},
     "output_type": "display_data"
    },
    {
     "data": {
      "text/plain": [
       "<Figure size 2000x800 with 0 Axes>"
      ]
     },
     "metadata": {},
     "output_type": "display_data"
    },
    {
     "data": {
      "text/plain": [
       "<Figure size 1000x800 with 0 Axes>"
      ]
     },
     "metadata": {},
     "output_type": "display_data"
    },
    {
     "data": {
      "text/plain": [
       "<Figure size 640x480 with 0 Axes>"
      ]
     },
     "metadata": {},
     "output_type": "display_data"
    },
    {
     "data": {
      "text/plain": [
       "<Figure size 640x480 with 0 Axes>"
      ]
     },
     "metadata": {},
     "output_type": "display_data"
    }
   ],
   "source": [
    "%run foundational_models/Mammo-CLIP-main/Mammo-CLIP-main/src3-Copy1/codebase/main.py \\\n",
    "  --clip_chk_pt_path \"foundational_models/Mammo-CLIP-main/Mammo-CLIP-main/b2-model-best-epoch-10.tar\" \\\n",
    "  --dataset 'ViNDr' \\\n",
    "  --label \"Mass\" \\\n",
    "  --train --epochs 30 --batch-size 8 \\\n",
    "  --num-workers 4 \\\n",
    "  --running-interactive 'n' \\\n",
    "  --eval_scheme 'kruns_train+val+test' --n_runs 1 \\\n",
    "  --lr 5.0e-5 \\\n",
    "  --weighted-BCE 'y' \\\n",
    "  --balanced-dataloader 'n' \\\n",
    "  --mil_type 'pyramidal_mil' \\\n",
    "  --pooling_type 'gated-attention' \\\n",
    "  --fcl_encoder_dim 256 \\\n",
    "  --fcl_dropout 0.25 \\\n",
    "  --drop_attention_pool 0.25 \\\n",
    "  --multi_scale_model 'msp' \\\n",
    "  --type_scale_aggregator 'gated-attention' \\\n",
    "  --deep_supervision --scales 128 256 384 \n",
    "\n",
    "print('---------------finished running code-------------------')"
   ]
  },
  {
   "cell_type": "markdown",
   "id": "5837f42f-a998-4f55-93f8-d9658dc1ebcd",
   "metadata": {},
   "source": [
    "## Effect of Different Multi-scale Aggregators "
   ]
  },
  {
   "cell_type": "markdown",
   "id": "3ac9cca6-9862-40ca-9117-ba83fff35077",
   "metadata": {},
   "source": [
    "### w/o"
   ]
  },
  {
   "cell_type": "code",
   "execution_count": 1,
   "id": "75181120-d71d-465e-a3cc-c261e1f2718d",
   "metadata": {
    "scrolled": true
   },
   "outputs": [
    {
     "name": "stderr",
     "output_type": "stream",
     "text": [
      "/home/csantiago/.local/lib/python3.10/site-packages/albumentations/__init__.py:13: UserWarning: A new version of Albumentations is available: 2.0.8 (you have 1.4.18). Upgrade using: pip install -U albumentations. To disable automatic update checks, set the environment variable NO_ALBUMENTATIONS_UPDATE to 1.\n",
      "  check_for_updates()\n"
     ]
    },
    {
     "name": "stdout",
     "output_type": "stream",
     "text": [
      "\n",
      "torch.cuda.current_device(): 0\n",
      "\n",
      "Using device: cuda\n",
      "output_path: Mammo-CLIP-output/out_splits_new/MIL_experiments/ViNDr_data_frac_1.0/Mass/offline_feature_extraction/multi_scale/fpn-deep_supervision/scale_aggregator_mean_p/encoder_mlp-dim_256-dropout_0.25/pooling_gated-attention-dropout_0.25-softmax/2025-06-26\n",
      "df shape: (20000, 16)\n",
      "Index(['image_id', 'patient_id', 'laterality', 'view', 'finding_categories',\n",
      "       'finding_birads', 'breast_birads', 'breast_density', 'split', 'fold',\n",
      "       'Mass', 'Suspicious_Calcification', 'resized_xmin', 'resized_ymin',\n",
      "       'resized_xmax', 'resized_ymax'],\n",
      "      dtype='object')\n",
      "\n",
      "================== run nº: 0 ======================\n",
      "train_loader: 1598, valid_loader: 402\n",
      "Model is loaded\n",
      "PyramidalMILmodel(\n",
      "  (inst_encoder): FeaturePyramidNetwork(\n",
      "    (inner_blocks): ModuleDict(\n",
      "      (inner_block_0): Sequential(\n",
      "        (0): Conv2d(120, 256, kernel_size=(1, 1), stride=(1, 1))\n",
      "        (1): Identity()\n",
      "      )\n",
      "      (inner_block_1): Sequential(\n",
      "        (0): Conv2d(352, 256, kernel_size=(1, 1), stride=(1, 1))\n",
      "        (1): Identity()\n",
      "      )\n",
      "    )\n",
      "    (layer_blocks): ModuleDict(\n",
      "      (layer_block_0): Sequential(\n",
      "        (0): Conv2d(256, 256, kernel_size=(3, 3), stride=(1, 1), padding=(1, 1))\n",
      "        (1): Identity()\n",
      "      )\n",
      "      (layer_block_1): Sequential(\n",
      "        (0): Conv2d(256, 256, kernel_size=(3, 3), stride=(1, 1), padding=(1, 1))\n",
      "        (1): Identity()\n",
      "      )\n",
      "    )\n",
      "  )\n",
      "  (side_inst_aggregator): ModuleDict(\n",
      "    (encoders): ModuleDict(\n",
      "      (encoder_16): ModuleList(\n",
      "        (0): Sequential(\n",
      "          (0): Linear(in_features=256, out_features=256, bias=True)\n",
      "          (1): ReLU()\n",
      "          (2): Dropout(p=0.25, inplace=False)\n",
      "        )\n",
      "      )\n",
      "      (encoder_32): ModuleList(\n",
      "        (0): Sequential(\n",
      "          (0): Linear(in_features=256, out_features=256, bias=True)\n",
      "          (1): ReLU()\n",
      "          (2): Dropout(p=0.25, inplace=False)\n",
      "        )\n",
      "      )\n",
      "      (encoder_128): ModuleList(\n",
      "        (0): Sequential(\n",
      "          (0): Linear(in_features=256, out_features=256, bias=True)\n",
      "          (1): ReLU()\n",
      "          (2): Dropout(p=0.25, inplace=False)\n",
      "        )\n",
      "      )\n",
      "    )\n",
      "    (aggregators): ModuleDict(\n",
      "      (aggregator_16): Gated_Attn_Net(\n",
      "        (attention_V): Sequential(\n",
      "          (0): Linear(in_features=256, out_features=128, bias=True)\n",
      "          (1): Tanh()\n",
      "          (2): Dropout(p=0.25, inplace=False)\n",
      "        )\n",
      "        (attention_U): Sequential(\n",
      "          (0): Linear(in_features=256, out_features=128, bias=True)\n",
      "          (1): Sigmoid()\n",
      "          (2): Dropout(p=0.25, inplace=False)\n",
      "        )\n",
      "        (attention_weights): Linear(in_features=128, out_features=1, bias=True)\n",
      "      )\n",
      "      (aggregator_32): Gated_Attn_Net(\n",
      "        (attention_V): Sequential(\n",
      "          (0): Linear(in_features=256, out_features=128, bias=True)\n",
      "          (1): Tanh()\n",
      "          (2): Dropout(p=0.25, inplace=False)\n",
      "        )\n",
      "        (attention_U): Sequential(\n",
      "          (0): Linear(in_features=256, out_features=128, bias=True)\n",
      "          (1): Sigmoid()\n",
      "          (2): Dropout(p=0.25, inplace=False)\n",
      "        )\n",
      "        (attention_weights): Linear(in_features=128, out_features=1, bias=True)\n",
      "      )\n",
      "      (aggregator_128): Gated_Attn_Net(\n",
      "        (attention_V): Sequential(\n",
      "          (0): Linear(in_features=256, out_features=128, bias=True)\n",
      "          (1): Tanh()\n",
      "          (2): Dropout(p=0.25, inplace=False)\n",
      "        )\n",
      "        (attention_U): Sequential(\n",
      "          (0): Linear(in_features=256, out_features=128, bias=True)\n",
      "          (1): Sigmoid()\n",
      "          (2): Dropout(p=0.25, inplace=False)\n",
      "        )\n",
      "        (attention_weights): Linear(in_features=128, out_features=1, bias=True)\n",
      "      )\n",
      "    )\n",
      "  )\n",
      "  (side_classifiers): ModuleDict(\n",
      "    (classifier_16): head(\n",
      "      (drop): Dropout(p=0.0, inplace=True)\n",
      "      (head_classifier): Linear(in_features=256, out_features=1, bias=True)\n",
      "    )\n",
      "    (classifier_32): head(\n",
      "      (drop): Dropout(p=0.0, inplace=True)\n",
      "      (head_classifier): Linear(in_features=256, out_features=1, bias=True)\n",
      "    )\n",
      "    (classifier_128): head(\n",
      "      (drop): Dropout(p=0.0, inplace=True)\n",
      "      (head_classifier): Linear(in_features=256, out_features=1, bias=True)\n",
      "    )\n",
      "  )\n",
      ")\n",
      "\n",
      "Total number of parameters: 1.697414 M\n",
      "Total number of trainable parameters: 1.697414 M\n",
      "pos_wt: tensor([15.5733], device='cuda:0')\n",
      "\n",
      "-------- Epoch 1/30 --------\n"
     ]
    },
    {
     "name": "stderr",
     "output_type": "stream",
     "text": [
      "[001/030 epoch train]: 100%|██████████| 1598/1598 [02:50<00:00,  9.38it/s, lr=[5e-05], loss=3.6301, CUDA-Mem=0%, CUDA-Util=0%]                 \n",
      "[001/030 epoch valid]: 100%|██████████| 402/402 [00:44<00:00,  8.94it/s, loss=3.4102, CUDA-Mem=0%, CUDA-Util=0%]"
     ]
    },
    {
     "name": "stdout",
     "output_type": "stream",
     "text": [
      "\n",
      "Train Loss: 3.6301\n",
      "Scale: 16 --> Train F1-Score: 0.7897 | Train Bacc: 0.5903 | Train ROC-AUC: 0.6204\n",
      "Scale: 32 --> Train F1-Score: 0.8133 | Train Bacc: 0.5873 | Train ROC-AUC: 0.6213\n",
      "Scale: 128 --> Train F1-Score: 0.7819 | Train Bacc: 0.5758 | Train ROC-AUC: 0.6029\n",
      "Aggregated Results --> Train F1-Score: 0.8040 | Train Bacc: 0.5910 | Train ROC-AUC: 0.6190\n",
      "\n",
      "Val Loss: 3.4102\n",
      "Scale: 16 --> Val F1-Score: 0.8331 | Val Bacc: 0.6764 | Val ROC-AUC: 0.7356\n",
      "Scale: 32 --> Val F1-Score: 0.7723 | Val Bacc: 0.6665 | Val ROC-AUC: 0.7205\n",
      "Scale: 128 --> Val F1-Score: 0.7187 | Val Bacc: 0.6340 | Val ROC-AUC: 0.6984\n",
      "Aggregated Results --> Val F1-Score: 0.7959 | Val Bacc: 0.6683 | Val ROC-AUC: 0.7267\n",
      "\n",
      "Epoch 1 - Save aucroc: 0.7267 Model\n",
      "\n",
      "best AUC-ROC Score at epoch 1: 0.7267\n",
      "\n",
      "-------- Epoch 2/30 --------\n"
     ]
    },
    {
     "name": "stderr",
     "output_type": "stream",
     "text": [
      "\n",
      "[002/030 epoch train]: 100%|██████████| 1598/1598 [02:57<00:00,  9.01it/s, lr=[4.9853448928858984e-05], loss=3.2377, CUDA-Mem=0%, CUDA-Util=0%]\n",
      "[002/030 epoch valid]: 100%|██████████| 402/402 [00:45<00:00,  8.92it/s, loss=3.3966, CUDA-Mem=0%, CUDA-Util=0%]"
     ]
    },
    {
     "name": "stdout",
     "output_type": "stream",
     "text": [
      "\n",
      "Train Loss: 3.2377\n",
      "Scale: 16 --> Train F1-Score: 0.8391 | Train Bacc: 0.6907 | Train ROC-AUC: 0.7461\n",
      "Scale: 32 --> Train F1-Score: 0.8458 | Train Bacc: 0.6903 | Train ROC-AUC: 0.7465\n",
      "Scale: 128 --> Train F1-Score: 0.8332 | Train Bacc: 0.6718 | Train ROC-AUC: 0.7226\n",
      "Aggregated Results --> Train F1-Score: 0.8426 | Train Bacc: 0.6877 | Train ROC-AUC: 0.7470\n",
      "\n",
      "Val Loss: 3.3966\n",
      "Scale: 16 --> Val F1-Score: 0.6647 | Val Bacc: 0.6550 | Val ROC-AUC: 0.7482\n",
      "Scale: 32 --> Val F1-Score: 0.7437 | Val Bacc: 0.6697 | Val ROC-AUC: 0.7489\n",
      "Scale: 128 --> Val F1-Score: 0.6861 | Val Bacc: 0.6338 | Val ROC-AUC: 0.7221\n",
      "Aggregated Results --> Val F1-Score: 0.6979 | Val Bacc: 0.6521 | Val ROC-AUC: 0.7468\n",
      "\n",
      "Epoch 2 - Save aucroc: 0.7468 Model\n",
      "\n",
      "best AUC-ROC Score at epoch 2: 0.7468\n",
      "\n",
      "-------- Epoch 3/30 --------\n"
     ]
    },
    {
     "name": "stderr",
     "output_type": "stream",
     "text": [
      "\n",
      "[003/030 epoch train]: 100%|██████████| 1598/1598 [02:57<00:00,  9.03it/s, lr=[4.941551389275217e-05], loss=3.0710, CUDA-Mem=0%, CUDA-Util=0%] \n",
      "[003/030 epoch valid]: 100%|██████████| 402/402 [00:45<00:00,  8.92it/s, loss=3.3027, CUDA-Mem=0%, CUDA-Util=0%]"
     ]
    },
    {
     "name": "stdout",
     "output_type": "stream",
     "text": [
      "\n",
      "Train Loss: 3.0710\n",
      "Scale: 16 --> Train F1-Score: 0.8442 | Train Bacc: 0.7201 | Train ROC-AUC: 0.7853\n",
      "Scale: 32 --> Train F1-Score: 0.8437 | Train Bacc: 0.7042 | Train ROC-AUC: 0.7807\n",
      "Scale: 128 --> Train F1-Score: 0.8415 | Train Bacc: 0.6920 | Train ROC-AUC: 0.7587\n",
      "Aggregated Results --> Train F1-Score: 0.8466 | Train Bacc: 0.7058 | Train ROC-AUC: 0.7843\n",
      "\n",
      "Val Loss: 3.3027\n",
      "Scale: 16 --> Val F1-Score: 0.8760 | Val Bacc: 0.6524 | Val ROC-AUC: 0.7308\n",
      "Scale: 32 --> Val F1-Score: 0.8807 | Val Bacc: 0.6791 | Val ROC-AUC: 0.7418\n",
      "Scale: 128 --> Val F1-Score: 0.8752 | Val Bacc: 0.6415 | Val ROC-AUC: 0.7232\n",
      "Aggregated Results --> Val F1-Score: 0.8824 | Val Bacc: 0.6627 | Val ROC-AUC: 0.7385\n",
      "\n",
      "best AUC-ROC Score at epoch 2: 0.7468\n",
      "\n",
      "-------- Epoch 4/30 --------\n"
     ]
    },
    {
     "name": "stderr",
     "output_type": "stream",
     "text": [
      "\n",
      "[004/030 epoch train]: 100%|██████████| 1598/1598 [02:57<00:00,  9.01it/s, lr=[4.869132927957007e-05], loss=2.9287, CUDA-Mem=0%, CUDA-Util=0%] \n",
      "[004/030 epoch valid]: 100%|██████████| 402/402 [00:45<00:00,  8.93it/s, loss=3.2126, CUDA-Mem=0%, CUDA-Util=0%]"
     ]
    },
    {
     "name": "stdout",
     "output_type": "stream",
     "text": [
      "\n",
      "Train Loss: 2.9287\n",
      "Scale: 16 --> Train F1-Score: 0.8431 | Train Bacc: 0.7367 | Train ROC-AUC: 0.8107\n",
      "Scale: 32 --> Train F1-Score: 0.8462 | Train Bacc: 0.7288 | Train ROC-AUC: 0.8047\n",
      "Scale: 128 --> Train F1-Score: 0.8463 | Train Bacc: 0.7153 | Train ROC-AUC: 0.7868\n",
      "Aggregated Results --> Train F1-Score: 0.8495 | Train Bacc: 0.7333 | Train ROC-AUC: 0.8112\n",
      "\n",
      "Val Loss: 3.2126\n",
      "Scale: 16 --> Val F1-Score: 0.8589 | Val Bacc: 0.6972 | Val ROC-AUC: 0.7660\n",
      "Scale: 32 --> Val F1-Score: 0.8758 | Val Bacc: 0.6827 | Val ROC-AUC: 0.7600\n",
      "Scale: 128 --> Val F1-Score: 0.8472 | Val Bacc: 0.6490 | Val ROC-AUC: 0.7165\n",
      "Aggregated Results --> Val F1-Score: 0.8696 | Val Bacc: 0.6905 | Val ROC-AUC: 0.7574\n",
      "\n",
      "Epoch 4 - Save aucroc: 0.7574 Model\n",
      "\n",
      "best AUC-ROC Score at epoch 4: 0.7574\n",
      "\n",
      "-------- Epoch 5/30 --------\n"
     ]
    },
    {
     "name": "stderr",
     "output_type": "stream",
     "text": [
      "\n",
      "[005/030 epoch train]: 100%|██████████| 1598/1598 [02:57<00:00,  9.00it/s, lr=[4.768938549177392e-05], loss=2.8377, CUDA-Mem=0%, CUDA-Util=0%] \n",
      "[005/030 epoch valid]: 100%|██████████| 402/402 [00:44<00:00,  8.95it/s, loss=3.2251, CUDA-Mem=0%, CUDA-Util=0%]"
     ]
    },
    {
     "name": "stdout",
     "output_type": "stream",
     "text": [
      "\n",
      "Train Loss: 2.8377\n",
      "Scale: 16 --> Train F1-Score: 0.8476 | Train Bacc: 0.7526 | Train ROC-AUC: 0.8282\n",
      "Scale: 32 --> Train F1-Score: 0.8454 | Train Bacc: 0.7424 | Train ROC-AUC: 0.8196\n",
      "Scale: 128 --> Train F1-Score: 0.8496 | Train Bacc: 0.7270 | Train ROC-AUC: 0.8047\n",
      "Aggregated Results --> Train F1-Score: 0.8564 | Train Bacc: 0.7479 | Train ROC-AUC: 0.8303\n",
      "\n",
      "Val Loss: 3.2251\n",
      "Scale: 16 --> Val F1-Score: 0.8035 | Val Bacc: 0.6976 | Val ROC-AUC: 0.7528\n",
      "Scale: 32 --> Val F1-Score: 0.8229 | Val Bacc: 0.6943 | Val ROC-AUC: 0.7596\n",
      "Scale: 128 --> Val F1-Score: 0.8234 | Val Bacc: 0.6583 | Val ROC-AUC: 0.7246\n",
      "Aggregated Results --> Val F1-Score: 0.8301 | Val Bacc: 0.7025 | Val ROC-AUC: 0.7567\n",
      "\n",
      "best AUC-ROC Score at epoch 4: 0.7574\n",
      "\n",
      "-------- Epoch 6/30 --------\n"
     ]
    },
    {
     "name": "stderr",
     "output_type": "stream",
     "text": [
      "\n",
      "[006/030 epoch train]: 100%|██████████| 1598/1598 [02:57<00:00,  9.01it/s, lr=[4.6421429404189725e-05], loss=2.6856, CUDA-Mem=0%, CUDA-Util=0%]\n",
      "[006/030 epoch valid]: 100%|██████████| 402/402 [00:45<00:00,  8.88it/s, loss=3.2392, CUDA-Mem=0%, CUDA-Util=0%]"
     ]
    },
    {
     "name": "stdout",
     "output_type": "stream",
     "text": [
      "\n",
      "Train Loss: 2.6856\n",
      "Scale: 16 --> Train F1-Score: 0.8539 | Train Bacc: 0.7634 | Train ROC-AUC: 0.8498\n",
      "Scale: 32 --> Train F1-Score: 0.8529 | Train Bacc: 0.7619 | Train ROC-AUC: 0.8379\n",
      "Scale: 128 --> Train F1-Score: 0.8550 | Train Bacc: 0.7500 | Train ROC-AUC: 0.8326\n",
      "Aggregated Results --> Train F1-Score: 0.8633 | Train Bacc: 0.7702 | Train ROC-AUC: 0.8569\n",
      "\n",
      "Val Loss: 3.2392\n",
      "Scale: 16 --> Val F1-Score: 0.7842 | Val Bacc: 0.6752 | Val ROC-AUC: 0.7439\n",
      "Scale: 32 --> Val F1-Score: 0.8101 | Val Bacc: 0.6974 | Val ROC-AUC: 0.7569\n",
      "Scale: 128 --> Val F1-Score: 0.7747 | Val Bacc: 0.6315 | Val ROC-AUC: 0.7120\n",
      "Aggregated Results --> Val F1-Score: 0.8079 | Val Bacc: 0.6879 | Val ROC-AUC: 0.7498\n",
      "\n",
      "best AUC-ROC Score at epoch 4: 0.7574\n",
      "\n",
      "-------- Epoch 7/30 --------\n"
     ]
    },
    {
     "name": "stderr",
     "output_type": "stream",
     "text": [
      "\n",
      "[007/030 epoch train]: 100%|██████████| 1598/1598 [02:57<00:00,  9.01it/s, lr=[4.4902326642641095e-05], loss=2.5069, CUDA-Mem=0%, CUDA-Util=0%]\n",
      "[007/030 epoch valid]: 100%|██████████| 402/402 [00:44<00:00,  8.94it/s, loss=3.3685, CUDA-Mem=0%, CUDA-Util=0%]\n"
     ]
    },
    {
     "name": "stdout",
     "output_type": "stream",
     "text": [
      "\n",
      "Train Loss: 2.5069\n",
      "Scale: 16 --> Train F1-Score: 0.8621 | Train Bacc: 0.7932 | Train ROC-AUC: 0.8762\n",
      "Scale: 32 --> Train F1-Score: 0.8535 | Train Bacc: 0.7754 | Train ROC-AUC: 0.8564\n",
      "Scale: 128 --> Train F1-Score: 0.8602 | Train Bacc: 0.7723 | Train ROC-AUC: 0.8601\n",
      "Aggregated Results --> Train F1-Score: 0.8727 | Train Bacc: 0.7906 | Train ROC-AUC: 0.8848\n",
      "\n",
      "Val Loss: 3.3685\n",
      "Scale: 16 --> Val F1-Score: 0.7737 | Val Bacc: 0.6937 | Val ROC-AUC: 0.7565\n",
      "Scale: 32 --> Val F1-Score: 0.8079 | Val Bacc: 0.6853 | Val ROC-AUC: 0.7525\n",
      "Scale: 128 --> Val F1-Score: 0.7986 | Val Bacc: 0.6573 | Val ROC-AUC: 0.7063\n",
      "Aggregated Results --> Val F1-Score: 0.8124 | Val Bacc: 0.7096 | Val ROC-AUC: 0.7553\n",
      "\n",
      "best AUC-ROC Score at epoch 4: 0.7574\n",
      "\n",
      "-------- Epoch 8/30 --------\n"
     ]
    },
    {
     "name": "stderr",
     "output_type": "stream",
     "text": [
      "[008/030 epoch train]: 100%|██████████| 1598/1598 [02:57<00:00,  9.01it/s, lr=[4.3149887298078276e-05], loss=2.3354, CUDA-Mem=0%, CUDA-Util=0%]\n",
      "[008/030 epoch valid]: 100%|██████████| 402/402 [00:44<00:00,  8.96it/s, loss=4.0424, CUDA-Mem=0%, CUDA-Util=0%]"
     ]
    },
    {
     "name": "stdout",
     "output_type": "stream",
     "text": [
      "\n",
      "Train Loss: 2.3354\n",
      "Scale: 16 --> Train F1-Score: 0.8715 | Train Bacc: 0.8078 | Train ROC-AUC: 0.8984\n",
      "Scale: 32 --> Train F1-Score: 0.8631 | Train Bacc: 0.7934 | Train ROC-AUC: 0.8742\n",
      "Scale: 128 --> Train F1-Score: 0.8723 | Train Bacc: 0.7981 | Train ROC-AUC: 0.8803\n",
      "Aggregated Results --> Train F1-Score: 0.8861 | Train Bacc: 0.8206 | Train ROC-AUC: 0.9092\n",
      "\n",
      "Val Loss: 4.0424\n",
      "Scale: 16 --> Val F1-Score: 0.8817 | Val Bacc: 0.6469 | Val ROC-AUC: 0.7210\n",
      "Scale: 32 --> Val F1-Score: 0.8885 | Val Bacc: 0.6754 | Val ROC-AUC: 0.7362\n",
      "Scale: 128 --> Val F1-Score: 0.8895 | Val Bacc: 0.6231 | Val ROC-AUC: 0.6969\n",
      "Aggregated Results --> Val F1-Score: 0.9054 | Val Bacc: 0.6641 | Val ROC-AUC: 0.7341\n",
      "\n",
      "best AUC-ROC Score at epoch 4: 0.7574\n",
      "\n",
      "-------- Epoch 9/30 --------\n"
     ]
    },
    {
     "name": "stderr",
     "output_type": "stream",
     "text": [
      "\n",
      "[009/030 epoch train]: 100%|██████████| 1598/1598 [02:57<00:00,  9.00it/s, lr=[4.118465711954569e-05], loss=2.1738, CUDA-Mem=0%, CUDA-Util=0%] \n",
      "[009/030 epoch valid]: 100%|██████████| 402/402 [00:44<00:00,  8.97it/s, loss=3.5199, CUDA-Mem=0%, CUDA-Util=0%]\n"
     ]
    },
    {
     "name": "stdout",
     "output_type": "stream",
     "text": [
      "\n",
      "Train Loss: 2.1738\n",
      "Scale: 16 --> Train F1-Score: 0.8805 | Train Bacc: 0.8336 | Train ROC-AUC: 0.9129\n",
      "Scale: 32 --> Train F1-Score: 0.8697 | Train Bacc: 0.8050 | Train ROC-AUC: 0.8874\n",
      "Scale: 128 --> Train F1-Score: 0.8818 | Train Bacc: 0.8191 | Train ROC-AUC: 0.9026\n",
      "Aggregated Results --> Train F1-Score: 0.8974 | Train Bacc: 0.8534 | Train ROC-AUC: 0.9282\n",
      "\n",
      "Val Loss: 3.5199\n",
      "Scale: 16 --> Val F1-Score: 0.7964 | Val Bacc: 0.6713 | Val ROC-AUC: 0.7253\n",
      "Scale: 32 --> Val F1-Score: 0.8614 | Val Bacc: 0.6735 | Val ROC-AUC: 0.7286\n",
      "Scale: 128 --> Val F1-Score: 0.8314 | Val Bacc: 0.6285 | Val ROC-AUC: 0.6918\n",
      "Aggregated Results --> Val F1-Score: 0.8607 | Val Bacc: 0.6806 | Val ROC-AUC: 0.7347\n",
      "\n",
      "best AUC-ROC Score at epoch 4: 0.7574\n",
      "\n",
      "-------- Epoch 10/30 --------\n"
     ]
    },
    {
     "name": "stderr",
     "output_type": "stream",
     "text": [
      "[010/030 epoch train]: 100%|██████████| 1598/1598 [02:57<00:00,  9.00it/s, lr=[3.902967663405956e-05], loss=1.9913, CUDA-Mem=0%, CUDA-Util=0%] \n",
      "[010/030 epoch valid]: 100%|██████████| 402/402 [00:44<00:00,  8.93it/s, loss=3.7038, CUDA-Mem=0%, CUDA-Util=0%]\n"
     ]
    },
    {
     "name": "stdout",
     "output_type": "stream",
     "text": [
      "\n",
      "Train Loss: 1.9913\n",
      "Scale: 16 --> Train F1-Score: 0.8871 | Train Bacc: 0.8498 | Train ROC-AUC: 0.9309\n",
      "Scale: 32 --> Train F1-Score: 0.8709 | Train Bacc: 0.8105 | Train ROC-AUC: 0.9023\n",
      "Scale: 128 --> Train F1-Score: 0.8889 | Train Bacc: 0.8416 | Train ROC-AUC: 0.9209\n",
      "Aggregated Results --> Train F1-Score: 0.9068 | Train Bacc: 0.8749 | Train ROC-AUC: 0.9458\n",
      "\n",
      "Val Loss: 3.7038\n",
      "Scale: 16 --> Val F1-Score: 0.8196 | Val Bacc: 0.6787 | Val ROC-AUC: 0.7402\n",
      "Scale: 32 --> Val F1-Score: 0.8166 | Val Bacc: 0.6894 | Val ROC-AUC: 0.7495\n",
      "Scale: 128 --> Val F1-Score: 0.8358 | Val Bacc: 0.6475 | Val ROC-AUC: 0.7029\n",
      "Aggregated Results --> Val F1-Score: 0.8498 | Val Bacc: 0.6975 | Val ROC-AUC: 0.7501\n",
      "\n",
      "best AUC-ROC Score at epoch 4: 0.7574\n",
      "\n",
      "-------- Epoch 11/30 --------\n"
     ]
    },
    {
     "name": "stderr",
     "output_type": "stream",
     "text": [
      "[011/030 epoch train]: 100%|██████████| 1598/1598 [02:57<00:00,  9.00it/s, lr=[3.671021101749476e-05], loss=1.7920, CUDA-Mem=0%, CUDA-Util=0%] \n",
      "[012/030 epoch train]: 100%|██████████| 1598/1598 [02:57<00:00,  9.00it/s, lr=[3.425345388349786e-05], loss=1.6174, CUDA-Mem=0%, CUDA-Util=0%] \n",
      "[012/030 epoch valid]: 100%|██████████| 402/402 [00:45<00:00,  8.92it/s, loss=4.4244, CUDA-Mem=0%, CUDA-Util=0%]\n"
     ]
    },
    {
     "name": "stdout",
     "output_type": "stream",
     "text": [
      "\n",
      "Train Loss: 1.6174\n",
      "Scale: 16 --> Train F1-Score: 0.9115 | Train Bacc: 0.9031 | Train ROC-AUC: 0.9601\n",
      "Scale: 32 --> Train F1-Score: 0.8872 | Train Bacc: 0.8532 | Train ROC-AUC: 0.9301\n",
      "Scale: 128 --> Train F1-Score: 0.9083 | Train Bacc: 0.8780 | Train ROC-AUC: 0.9480\n",
      "Aggregated Results --> Train F1-Score: 0.9285 | Train Bacc: 0.9199 | Train ROC-AUC: 0.9716\n",
      "\n",
      "Val Loss: 4.4244\n",
      "Scale: 16 --> Val F1-Score: 0.8791 | Val Bacc: 0.6422 | Val ROC-AUC: 0.7240\n",
      "Scale: 32 --> Val F1-Score: 0.8367 | Val Bacc: 0.6948 | Val ROC-AUC: 0.7459\n",
      "Scale: 128 --> Val F1-Score: 0.8433 | Val Bacc: 0.6304 | Val ROC-AUC: 0.6774\n",
      "Aggregated Results --> Val F1-Score: 0.8829 | Val Bacc: 0.6759 | Val ROC-AUC: 0.7319\n",
      "\n",
      "best AUC-ROC Score at epoch 4: 0.7574\n",
      "\n",
      "-------- Epoch 13/30 --------\n"
     ]
    },
    {
     "name": "stderr",
     "output_type": "stream",
     "text": [
      "[013/030 epoch train]:  60%|█████▉    | 955/1598 [01:46<01:12,  8.88it/s, lr=[3.272993786702694e-05], loss=1.4553, CUDA-Mem=0%, CUDA-Util=0%] IOPub message rate exceeded.\n",
      "The Jupyter server will temporarily stop sending output\n",
      "to the client in order to avoid crashing it.\n",
      "To change this limit, set the config variable\n",
      "`--ServerApp.iopub_msg_rate_limit`.\n",
      "\n",
      "Current values:\n",
      "ServerApp.iopub_msg_rate_limit=1000.0 (msgs/sec)\n",
      "ServerApp.rate_limit_window=3.0 (secs)\n",
      "\n",
      "[020/030 epoch train]: 100%|██████████| 1598/1598 [02:57<00:00,  9.00it/s, lr=[1.3289788982505247e-05], loss=0.7097, CUDA-Mem=0%, CUDA-Util=0%]\n",
      "[020/030 epoch valid]: 100%|██████████| 402/402 [00:45<00:00,  8.91it/s, loss=8.9321, CUDA-Mem=0%, CUDA-Util=0%] "
     ]
    },
    {
     "name": "stdout",
     "output_type": "stream",
     "text": [
      "\n",
      "Train Loss: 0.7097\n",
      "Scale: 16 --> Train F1-Score: 0.9633 | Train Bacc: 0.9713 | Train ROC-AUC: 0.9934\n",
      "Scale: 32 --> Train F1-Score: 0.9381 | Train Bacc: 0.9412 | Train ROC-AUC: 0.9805\n",
      "Scale: 128 --> Train F1-Score: 0.9551 | Train Bacc: 0.9599 | Train ROC-AUC: 0.9898\n",
      "Aggregated Results --> Train F1-Score: 0.9728 | Train Bacc: 0.9841 | Train ROC-AUC: 0.9973\n",
      "\n",
      "Val Loss: 8.9321\n",
      "Scale: 16 --> Val F1-Score: 0.9089 | Val Bacc: 0.6120 | Val ROC-AUC: 0.7267\n",
      "Scale: 32 --> Val F1-Score: 0.8959 | Val Bacc: 0.6461 | Val ROC-AUC: 0.7339\n",
      "Scale: 128 --> Val F1-Score: 0.8999 | Val Bacc: 0.6044 | Val ROC-AUC: 0.6790\n",
      "Aggregated Results --> Val F1-Score: 0.9210 | Val Bacc: 0.6391 | Val ROC-AUC: 0.7325\n",
      "\n",
      "best AUC-ROC Score at epoch 4: 0.7574\n",
      "\n",
      "-------- Epoch 21/30 --------\n"
     ]
    },
    {
     "name": "stderr",
     "output_type": "stream",
     "text": [
      "\n",
      "[021/030 epoch train]: 100%|██████████| 1598/1598 [02:57<00:00,  9.00it/s, lr=[1.0970323365940443e-05], loss=0.6320, CUDA-Mem=0%, CUDA-Util=0%]\n",
      "[021/030 epoch valid]: 100%|██████████| 402/402 [00:45<00:00,  8.93it/s, loss=9.4266, CUDA-Mem=0%, CUDA-Util=0%] "
     ]
    },
    {
     "name": "stdout",
     "output_type": "stream",
     "text": [
      "\n",
      "Train Loss: 0.6320\n",
      "Scale: 16 --> Train F1-Score: 0.9679 | Train Bacc: 0.9757 | Train ROC-AUC: 0.9951\n",
      "Scale: 32 --> Train F1-Score: 0.9436 | Train Bacc: 0.9517 | Train ROC-AUC: 0.9844\n",
      "Scale: 128 --> Train F1-Score: 0.9579 | Train Bacc: 0.9650 | Train ROC-AUC: 0.9917\n",
      "Aggregated Results --> Train F1-Score: 0.9763 | Train Bacc: 0.9856 | Train ROC-AUC: 0.9982\n",
      "\n",
      "Val Loss: 9.4266\n",
      "Scale: 16 --> Val F1-Score: 0.9063 | Val Bacc: 0.6074 | Val ROC-AUC: 0.7286\n",
      "Scale: 32 --> Val F1-Score: 0.8939 | Val Bacc: 0.6445 | Val ROC-AUC: 0.7378\n",
      "Scale: 128 --> Val F1-Score: 0.9033 | Val Bacc: 0.5974 | Val ROC-AUC: 0.6841\n",
      "Aggregated Results --> Val F1-Score: 0.9179 | Val Bacc: 0.6219 | Val ROC-AUC: 0.7337\n",
      "\n",
      "best AUC-ROC Score at epoch 4: 0.7574\n",
      "\n",
      "-------- Epoch 22/30 --------\n"
     ]
    },
    {
     "name": "stderr",
     "output_type": "stream",
     "text": [
      "\n",
      "[022/030 epoch train]: 100%|██████████| 1598/1598 [02:57<00:00,  9.02it/s, lr=[8.815342880454311e-06], loss=0.5730, CUDA-Mem=0%, CUDA-Util=0%]\n",
      "[022/030 epoch valid]: 100%|██████████| 402/402 [00:44<00:00,  8.94it/s, loss=9.3556, CUDA-Mem=0%, CUDA-Util=0%] "
     ]
    },
    {
     "name": "stdout",
     "output_type": "stream",
     "text": [
      "\n",
      "Train Loss: 0.5730\n",
      "Scale: 16 --> Train F1-Score: 0.9716 | Train Bacc: 0.9807 | Train ROC-AUC: 0.9957\n",
      "Scale: 32 --> Train F1-Score: 0.9459 | Train Bacc: 0.9553 | Train ROC-AUC: 0.9858\n",
      "Scale: 128 --> Train F1-Score: 0.9623 | Train Bacc: 0.9694 | Train ROC-AUC: 0.9933\n",
      "Aggregated Results --> Train F1-Score: 0.9782 | Train Bacc: 0.9874 | Train ROC-AUC: 0.9984\n",
      "\n",
      "Val Loss: 9.3556\n",
      "Scale: 16 --> Val F1-Score: 0.9089 | Val Bacc: 0.6145 | Val ROC-AUC: 0.7295\n",
      "Scale: 32 --> Val F1-Score: 0.8808 | Val Bacc: 0.6437 | Val ROC-AUC: 0.7360\n",
      "Scale: 128 --> Val F1-Score: 0.8952 | Val Bacc: 0.6154 | Val ROC-AUC: 0.6842\n",
      "Aggregated Results --> Val F1-Score: 0.9159 | Val Bacc: 0.6426 | Val ROC-AUC: 0.7335\n",
      "\n",
      "best AUC-ROC Score at epoch 4: 0.7574\n",
      "\n",
      "-------- Epoch 23/30 --------\n"
     ]
    },
    {
     "name": "stderr",
     "output_type": "stream",
     "text": [
      "\n",
      "[023/030 epoch train]: 100%|██████████| 1598/1598 [02:57<00:00,  8.99it/s, lr=[6.850112701921736e-06], loss=0.5360, CUDA-Mem=0%, CUDA-Util=0%] \n",
      "[023/030 epoch valid]: 100%|██████████| 402/402 [00:45<00:00,  8.91it/s, loss=10.1753, CUDA-Mem=0%, CUDA-Util=0%]"
     ]
    },
    {
     "name": "stdout",
     "output_type": "stream",
     "text": [
      "\n",
      "Train Loss: 0.5360\n",
      "Scale: 16 --> Train F1-Score: 0.9731 | Train Bacc: 0.9829 | Train ROC-AUC: 0.9964\n",
      "Scale: 32 --> Train F1-Score: 0.9497 | Train Bacc: 0.9613 | Train ROC-AUC: 0.9875\n",
      "Scale: 128 --> Train F1-Score: 0.9640 | Train Bacc: 0.9705 | Train ROC-AUC: 0.9941\n",
      "Aggregated Results --> Train F1-Score: 0.9795 | Train Bacc: 0.9882 | Train ROC-AUC: 0.9988\n",
      "\n",
      "Val Loss: 10.1753\n",
      "Scale: 16 --> Val F1-Score: 0.9119 | Val Bacc: 0.6071 | Val ROC-AUC: 0.7225\n",
      "Scale: 32 --> Val F1-Score: 0.8881 | Val Bacc: 0.6447 | Val ROC-AUC: 0.7344\n",
      "Scale: 128 --> Val F1-Score: 0.9034 | Val Bacc: 0.5975 | Val ROC-AUC: 0.6822\n",
      "Aggregated Results --> Val F1-Score: 0.9183 | Val Bacc: 0.6197 | Val ROC-AUC: 0.7290\n",
      "\n",
      "best AUC-ROC Score at epoch 4: 0.7574\n",
      "\n",
      "-------- Epoch 24/30 --------\n"
     ]
    },
    {
     "name": "stderr",
     "output_type": "stream",
     "text": [
      "\n",
      "[024/030 epoch train]: 100%|██████████| 1598/1598 [02:57<00:00,  9.00it/s, lr=[5.097673357358906e-06], loss=0.4870, CUDA-Mem=0%, CUDA-Util=0%] \n",
      "[024/030 epoch valid]: 100%|██████████| 402/402 [00:45<00:00,  8.90it/s, loss=11.0447, CUDA-Mem=0%, CUDA-Util=0%]"
     ]
    },
    {
     "name": "stdout",
     "output_type": "stream",
     "text": [
      "\n",
      "Train Loss: 0.4870\n",
      "Scale: 16 --> Train F1-Score: 0.9772 | Train Bacc: 0.9868 | Train ROC-AUC: 0.9971\n",
      "Scale: 32 --> Train F1-Score: 0.9520 | Train Bacc: 0.9635 | Train ROC-AUC: 0.9887\n",
      "Scale: 128 --> Train F1-Score: 0.9681 | Train Bacc: 0.9771 | Train ROC-AUC: 0.9952\n",
      "Aggregated Results --> Train F1-Score: 0.9819 | Train Bacc: 0.9897 | Train ROC-AUC: 0.9992\n",
      "\n",
      "Val Loss: 11.0447\n",
      "Scale: 16 --> Val F1-Score: 0.9140 | Val Bacc: 0.5990 | Val ROC-AUC: 0.7252\n",
      "Scale: 32 --> Val F1-Score: 0.8967 | Val Bacc: 0.6292 | Val ROC-AUC: 0.7330\n",
      "Scale: 128 --> Val F1-Score: 0.9077 | Val Bacc: 0.5987 | Val ROC-AUC: 0.6865\n",
      "Aggregated Results --> Val F1-Score: 0.9224 | Val Bacc: 0.6156 | Val ROC-AUC: 0.7280\n",
      "\n",
      "best AUC-ROC Score at epoch 4: 0.7574\n",
      "\n",
      "-------- Epoch 25/30 --------\n"
     ]
    },
    {
     "name": "stderr",
     "output_type": "stream",
     "text": [
      "\n",
      "[025/030 epoch train]: 100%|██████████| 1598/1598 [02:57<00:00,  8.98it/s, lr=[3.578570595810273e-06], loss=0.4856, CUDA-Mem=0%, CUDA-Util=0%] \n",
      "[025/030 epoch valid]: 100%|██████████| 402/402 [00:45<00:00,  8.90it/s, loss=10.3504, CUDA-Mem=0%, CUDA-Util=0%]"
     ]
    },
    {
     "name": "stdout",
     "output_type": "stream",
     "text": [
      "\n",
      "Train Loss: 0.4856\n",
      "Scale: 16 --> Train F1-Score: 0.9784 | Train Bacc: 0.9876 | Train ROC-AUC: 0.9974\n",
      "Scale: 32 --> Train F1-Score: 0.9554 | Train Bacc: 0.9659 | Train ROC-AUC: 0.9897\n",
      "Scale: 128 --> Train F1-Score: 0.9685 | Train Bacc: 0.9754 | Train ROC-AUC: 0.9942\n",
      "Aggregated Results --> Train F1-Score: 0.9836 | Train Bacc: 0.9907 | Train ROC-AUC: 0.9991\n",
      "\n",
      "Val Loss: 10.3504\n",
      "Scale: 16 --> Val F1-Score: 0.9081 | Val Bacc: 0.6039 | Val ROC-AUC: 0.7264\n",
      "Scale: 32 --> Val F1-Score: 0.8939 | Val Bacc: 0.6394 | Val ROC-AUC: 0.7340\n",
      "Scale: 128 --> Val F1-Score: 0.8992 | Val Bacc: 0.6113 | Val ROC-AUC: 0.6865\n",
      "Aggregated Results --> Val F1-Score: 0.9187 | Val Bacc: 0.6324 | Val ROC-AUC: 0.7290\n",
      "\n",
      "best AUC-ROC Score at epoch 4: 0.7574\n",
      "\n",
      "-------- Epoch 26/30 --------\n"
     ]
    },
    {
     "name": "stderr",
     "output_type": "stream",
     "text": [
      "\n",
      "[026/030 epoch train]: 100%|██████████| 1598/1598 [02:57<00:00,  9.00it/s, lr=[2.310614508226077e-06], loss=0.4539, CUDA-Mem=0%, CUDA-Util=0%] \n",
      "[026/030 epoch valid]: 100%|██████████| 402/402 [00:44<00:00,  8.93it/s, loss=10.9722, CUDA-Mem=0%, CUDA-Util=0%]\n"
     ]
    },
    {
     "name": "stdout",
     "output_type": "stream",
     "text": [
      "\n",
      "Train Loss: 0.4539\n",
      "Scale: 16 --> Train F1-Score: 0.9786 | Train Bacc: 0.9851 | Train ROC-AUC: 0.9977\n",
      "Scale: 32 --> Train F1-Score: 0.9559 | Train Bacc: 0.9662 | Train ROC-AUC: 0.9901\n",
      "Scale: 128 --> Train F1-Score: 0.9696 | Train Bacc: 0.9781 | Train ROC-AUC: 0.9960\n",
      "Aggregated Results --> Train F1-Score: 0.9839 | Train Bacc: 0.9909 | Train ROC-AUC: 0.9993\n",
      "\n",
      "Val Loss: 10.9722\n",
      "Scale: 16 --> Val F1-Score: 0.9121 | Val Bacc: 0.5999 | Val ROC-AUC: 0.7279\n",
      "Scale: 32 --> Val F1-Score: 0.8979 | Val Bacc: 0.6278 | Val ROC-AUC: 0.7352\n",
      "Scale: 128 --> Val F1-Score: 0.9050 | Val Bacc: 0.5989 | Val ROC-AUC: 0.6816\n",
      "Aggregated Results --> Val F1-Score: 0.9202 | Val Bacc: 0.6163 | Val ROC-AUC: 0.7283\n",
      "\n",
      "best AUC-ROC Score at epoch 4: 0.7574\n",
      "\n",
      "-------- Epoch 27/30 --------\n"
     ]
    },
    {
     "name": "stderr",
     "output_type": "stream",
     "text": [
      "[027/030 epoch train]: 100%|██████████| 1598/1598 [02:57<00:00,  8.98it/s, lr=[1.308670720429941e-06], loss=0.4393, CUDA-Mem=0%, CUDA-Util=0%] \n",
      "[027/030 epoch valid]: 100%|██████████| 402/402 [00:44<00:00,  8.95it/s, loss=11.1635, CUDA-Mem=0%, CUDA-Util=0%]"
     ]
    },
    {
     "name": "stdout",
     "output_type": "stream",
     "text": [
      "\n",
      "Train Loss: 0.4393\n",
      "Scale: 16 --> Train F1-Score: 0.9810 | Train Bacc: 0.9872 | Train ROC-AUC: 0.9979\n",
      "Scale: 32 --> Train F1-Score: 0.9573 | Train Bacc: 0.9698 | Train ROC-AUC: 0.9909\n",
      "Scale: 128 --> Train F1-Score: 0.9707 | Train Bacc: 0.9775 | Train ROC-AUC: 0.9957\n",
      "Aggregated Results --> Train F1-Score: 0.9846 | Train Bacc: 0.9913 | Train ROC-AUC: 0.9994\n",
      "\n",
      "Val Loss: 11.1635\n",
      "Scale: 16 --> Val F1-Score: 0.9129 | Val Bacc: 0.6030 | Val ROC-AUC: 0.7265\n",
      "Scale: 32 --> Val F1-Score: 0.9012 | Val Bacc: 0.6255 | Val ROC-AUC: 0.7336\n",
      "Scale: 128 --> Val F1-Score: 0.9044 | Val Bacc: 0.5984 | Val ROC-AUC: 0.6829\n",
      "Aggregated Results --> Val F1-Score: 0.9218 | Val Bacc: 0.6176 | Val ROC-AUC: 0.7260\n",
      "\n",
      "best AUC-ROC Score at epoch 4: 0.7574\n",
      "\n",
      "-------- Epoch 28/30 --------\n"
     ]
    },
    {
     "name": "stderr",
     "output_type": "stream",
     "text": [
      "\n",
      "[028/030 epoch train]: 100%|██████████| 1598/1598 [02:57<00:00,  9.00it/s, lr=[5.84486107247834e-07], loss=0.4221, CUDA-Mem=0%, CUDA-Util=0%] \n",
      "[028/030 epoch valid]: 100%|██████████| 402/402 [00:45<00:00,  8.92it/s, loss=11.3617, CUDA-Mem=0%, CUDA-Util=0%]"
     ]
    },
    {
     "name": "stdout",
     "output_type": "stream",
     "text": [
      "\n",
      "Train Loss: 0.4221\n",
      "Scale: 16 --> Train F1-Score: 0.9816 | Train Bacc: 0.9889 | Train ROC-AUC: 0.9981\n",
      "Scale: 32 --> Train F1-Score: 0.9591 | Train Bacc: 0.9684 | Train ROC-AUC: 0.9915\n",
      "Scale: 128 --> Train F1-Score: 0.9705 | Train Bacc: 0.9806 | Train ROC-AUC: 0.9962\n",
      "Aggregated Results --> Train F1-Score: 0.9849 | Train Bacc: 0.9915 | Train ROC-AUC: 0.9994\n",
      "\n",
      "Val Loss: 11.3617\n",
      "Scale: 16 --> Val F1-Score: 0.9138 | Val Bacc: 0.5989 | Val ROC-AUC: 0.7254\n",
      "Scale: 32 --> Val F1-Score: 0.9001 | Val Bacc: 0.6195 | Val ROC-AUC: 0.7333\n",
      "Scale: 128 --> Val F1-Score: 0.9052 | Val Bacc: 0.5990 | Val ROC-AUC: 0.6837\n",
      "Aggregated Results --> Val F1-Score: 0.9225 | Val Bacc: 0.6181 | Val ROC-AUC: 0.7262\n",
      "\n",
      "best AUC-ROC Score at epoch 4: 0.7574\n",
      "\n",
      "-------- Epoch 29/30 --------\n"
     ]
    },
    {
     "name": "stderr",
     "output_type": "stream",
     "text": [
      "\n",
      "[029/030 epoch train]: 100%|██████████| 1598/1598 [02:57<00:00,  9.00it/s, lr=[1.4655107114101023e-07], loss=0.4081, CUDA-Mem=0%, CUDA-Util=0%]\n",
      "[029/030 epoch valid]: 100%|██████████| 402/402 [00:45<00:00,  8.91it/s, loss=11.3610, CUDA-Mem=0%, CUDA-Util=0%]\n"
     ]
    },
    {
     "name": "stdout",
     "output_type": "stream",
     "text": [
      "\n",
      "Train Loss: 0.4081\n",
      "Scale: 16 --> Train F1-Score: 0.9822 | Train Bacc: 0.9879 | Train ROC-AUC: 0.9980\n",
      "Scale: 32 --> Train F1-Score: 0.9602 | Train Bacc: 0.9725 | Train ROC-AUC: 0.9924\n",
      "Scale: 128 --> Train F1-Score: 0.9719 | Train Bacc: 0.9795 | Train ROC-AUC: 0.9963\n",
      "Aggregated Results --> Train F1-Score: 0.9843 | Train Bacc: 0.9911 | Train ROC-AUC: 0.9994\n",
      "\n",
      "Val Loss: 11.3610\n",
      "Scale: 16 --> Val F1-Score: 0.9131 | Val Bacc: 0.6007 | Val ROC-AUC: 0.7244\n",
      "Scale: 32 --> Val F1-Score: 0.9005 | Val Bacc: 0.6199 | Val ROC-AUC: 0.7333\n",
      "Scale: 128 --> Val F1-Score: 0.9060 | Val Bacc: 0.5997 | Val ROC-AUC: 0.6832\n",
      "Aggregated Results --> Val F1-Score: 0.9222 | Val Bacc: 0.6179 | Val ROC-AUC: 0.7263\n",
      "\n",
      "best AUC-ROC Score at epoch 4: 0.7574\n",
      "\n",
      "-------- Epoch 30/30 --------\n"
     ]
    },
    {
     "name": "stderr",
     "output_type": "stream",
     "text": [
      "[030/030 epoch train]: 100%|██████████| 1598/1598 [02:57<00:00,  8.99it/s, lr=[1.874699728327322e-37], loss=0.4044, CUDA-Mem=0%, CUDA-Util=0%] \n",
      "[030/030 epoch valid]: 100%|██████████| 402/402 [00:45<00:00,  8.91it/s, loss=11.3930, CUDA-Mem=0%, CUDA-Util=0%]\n"
     ]
    },
    {
     "name": "stdout",
     "output_type": "stream",
     "text": [
      "\n",
      "Train Loss: 0.4044\n",
      "Scale: 16 --> Train F1-Score: 0.9830 | Train Bacc: 0.9904 | Train ROC-AUC: 0.9983\n",
      "Scale: 32 --> Train F1-Score: 0.9593 | Train Bacc: 0.9737 | Train ROC-AUC: 0.9920\n",
      "Scale: 128 --> Train F1-Score: 0.9719 | Train Bacc: 0.9809 | Train ROC-AUC: 0.9962\n",
      "Aggregated Results --> Train F1-Score: 0.9859 | Train Bacc: 0.9921 | Train ROC-AUC: 0.9995\n",
      "\n",
      "Val Loss: 11.3930\n",
      "Scale: 16 --> Val F1-Score: 0.9131 | Val Bacc: 0.6007 | Val ROC-AUC: 0.7242\n",
      "Scale: 32 --> Val F1-Score: 0.9005 | Val Bacc: 0.6199 | Val ROC-AUC: 0.7332\n",
      "Scale: 128 --> Val F1-Score: 0.9060 | Val Bacc: 0.5972 | Val ROC-AUC: 0.6830\n",
      "Aggregated Results --> Val F1-Score: 0.9222 | Val Bacc: 0.6179 | Val ROC-AUC: 0.7262\n",
      "\n",
      "best AUC-ROC Score at epoch 4: 0.7574\n"
     ]
    },
    {
     "name": "stderr",
     "output_type": "stream",
     "text": [
      "100%|██████████| 500/500 [00:55<00:00,  8.97it/s, loss=1.4041, CUDA-Mem=0%, CUDA-Util=0%]\n"
     ]
    },
    {
     "name": "stdout",
     "output_type": "stream",
     "text": [
      "\n",
      "Test Loss: 1.4041\n",
      "Scale: 16 --> Test F1-Score: 0.8630 | Test Bacc: 0.7009 | Test ROC-AUC: 0.7822\n",
      "Scale: 32 --> Test F1-Score: 0.8829 | Test Bacc: 0.7150 | Test ROC-AUC: 0.7825\n",
      "Scale: 128 --> Test F1-Score: 0.8610 | Test Bacc: 0.6761 | Test ROC-AUC: 0.7567\n",
      "Aggregated Results --> Test F1-Score: 0.8775 | Test Bacc: 0.7106 | Test ROC-AUC: 0.7875\n",
      "---------------finished running code-------------------\n"
     ]
    },
    {
     "data": {
      "text/plain": [
       "<Figure size 640x480 with 0 Axes>"
      ]
     },
     "metadata": {},
     "output_type": "display_data"
    },
    {
     "data": {
      "text/plain": [
       "<Figure size 2000x800 with 0 Axes>"
      ]
     },
     "metadata": {},
     "output_type": "display_data"
    },
    {
     "data": {
      "text/plain": [
       "<Figure size 1000x800 with 0 Axes>"
      ]
     },
     "metadata": {},
     "output_type": "display_data"
    },
    {
     "data": {
      "text/plain": [
       "<Figure size 640x480 with 0 Axes>"
      ]
     },
     "metadata": {},
     "output_type": "display_data"
    },
    {
     "data": {
      "text/plain": [
       "<Figure size 640x480 with 0 Axes>"
      ]
     },
     "metadata": {},
     "output_type": "display_data"
    }
   ],
   "source": [
    "%run foundational_models/Mammo-CLIP-main/Mammo-CLIP-main/src3-Copy1/codebase/main.py \\\n",
    "  --clip_chk_pt_path \"foundational_models/Mammo-CLIP-main/Mammo-CLIP-main/b2-model-best-epoch-10.tar\" \\\n",
    "  --dataset 'ViNDr' \\\n",
    "  --label \"Mass\" \\\n",
    "  --train --epochs 30 --batch-size 8 \\\n",
    "  --num-workers 4 \\\n",
    "  --eval_scheme 'kruns_train+val+test' --n_runs 1 \\\n",
    "  --lr 5.0e-5 \\\n",
    "  --weighted-BCE 'y' \\\n",
    "  --mil_type 'pyramidal_mil' \\\n",
    "  --pooling_type 'gated-attention' --drop_attention_pool 0.25 \\\n",
    "  --fcl_encoder_dim 256 \\\n",
    "  --fcl_dropout 0.25 \\\n",
    "  --fpn_dim 256 \\\n",
    "  --multi_scale_model 'fpn' \\\n",
    "  --type_scale_aggregator 'mean_p' \\\n",
    "  --deep_supervision --scales 16 32 128 \n",
    "\n",
    "print('---------------finished running code-------------------')"
   ]
  },
  {
   "cell_type": "markdown",
   "id": "6724bbd8-23bb-4f5a-b3c4-d659f36274f6",
   "metadata": {},
   "source": [
    "### Concat "
   ]
  },
  {
   "cell_type": "code",
   "execution_count": 1,
   "id": "29ed2e4f-d026-4f4f-9fbe-15d9b1597212",
   "metadata": {
    "scrolled": true
   },
   "outputs": [
    {
     "name": "stderr",
     "output_type": "stream",
     "text": [
      "/home/csantiago/.local/lib/python3.10/site-packages/albumentations/__init__.py:13: UserWarning: A new version of Albumentations is available: 2.0.8 (you have 1.4.18). Upgrade using: pip install -U albumentations. To disable automatic update checks, set the environment variable NO_ALBUMENTATIONS_UPDATE to 1.\n",
      "  check_for_updates()\n",
      "[nltk_data] Downloading package punkt to /home/csantiago/nltk_data...\n",
      "[nltk_data]   Package punkt is already up-to-date!\n"
     ]
    },
    {
     "name": "stdout",
     "output_type": "stream",
     "text": [
      "\n",
      "torch.cuda.current_device(): 0\n",
      "\n",
      "Using device: cuda\n",
      "output_path: Mammo-CLIP-output/out_splits_new/MIL_experiments/ViNDr_data_frac_1.0/Mass/offline_feature_extraction/multi_scale/fpn-deep_supervision/scale_aggregator_concatenation/encoder_mlp-dim_256-dropout_0.25/pooling_gated-attention-dropout_0.25-softmax/2025-06-27\n",
      "df shape: (20000, 16)\n",
      "Index(['image_id', 'patient_id', 'laterality', 'view', 'finding_categories',\n",
      "       'finding_birads', 'breast_birads', 'breast_density', 'split', 'fold',\n",
      "       'Mass', 'Suspicious_Calcification', 'resized_xmin', 'resized_ymin',\n",
      "       'resized_xmax', 'resized_ymax'],\n",
      "      dtype='object')\n",
      "\n",
      "================== run nº: 0 ======================\n",
      "train_loader: 1598, valid_loader: 402\n",
      "Model is loaded\n",
      "PyramidalMILmodel(\n",
      "  (inst_encoder): FeaturePyramidNetwork(\n",
      "    (inner_blocks): ModuleDict(\n",
      "      (inner_block_0): Sequential(\n",
      "        (0): Conv2d(120, 256, kernel_size=(1, 1), stride=(1, 1))\n",
      "        (1): Identity()\n",
      "      )\n",
      "      (inner_block_1): Sequential(\n",
      "        (0): Conv2d(352, 256, kernel_size=(1, 1), stride=(1, 1))\n",
      "        (1): Identity()\n",
      "      )\n",
      "    )\n",
      "    (layer_blocks): ModuleDict(\n",
      "      (layer_block_0): Sequential(\n",
      "        (0): Conv2d(256, 256, kernel_size=(3, 3), stride=(1, 1), padding=(1, 1))\n",
      "        (1): Identity()\n",
      "      )\n",
      "      (layer_block_1): Sequential(\n",
      "        (0): Conv2d(256, 256, kernel_size=(3, 3), stride=(1, 1), padding=(1, 1))\n",
      "        (1): Identity()\n",
      "      )\n",
      "    )\n",
      "  )\n",
      "  (side_inst_aggregator): ModuleDict(\n",
      "    (encoders): ModuleDict(\n",
      "      (encoder_16): ModuleList(\n",
      "        (0): Sequential(\n",
      "          (0): Linear(in_features=256, out_features=256, bias=True)\n",
      "          (1): ReLU()\n",
      "          (2): Dropout(p=0.25, inplace=False)\n",
      "        )\n",
      "      )\n",
      "      (encoder_32): ModuleList(\n",
      "        (0): Sequential(\n",
      "          (0): Linear(in_features=256, out_features=256, bias=True)\n",
      "          (1): ReLU()\n",
      "          (2): Dropout(p=0.25, inplace=False)\n",
      "        )\n",
      "      )\n",
      "      (encoder_128): ModuleList(\n",
      "        (0): Sequential(\n",
      "          (0): Linear(in_features=256, out_features=256, bias=True)\n",
      "          (1): ReLU()\n",
      "          (2): Dropout(p=0.25, inplace=False)\n",
      "        )\n",
      "      )\n",
      "    )\n",
      "    (aggregators): ModuleDict(\n",
      "      (aggregator_16): Gated_Attn_Net(\n",
      "        (attention_V): Sequential(\n",
      "          (0): Linear(in_features=256, out_features=128, bias=True)\n",
      "          (1): Tanh()\n",
      "          (2): Dropout(p=0.25, inplace=False)\n",
      "        )\n",
      "        (attention_U): Sequential(\n",
      "          (0): Linear(in_features=256, out_features=128, bias=True)\n",
      "          (1): Sigmoid()\n",
      "          (2): Dropout(p=0.25, inplace=False)\n",
      "        )\n",
      "        (attention_weights): Linear(in_features=128, out_features=1, bias=True)\n",
      "      )\n",
      "      (aggregator_32): Gated_Attn_Net(\n",
      "        (attention_V): Sequential(\n",
      "          (0): Linear(in_features=256, out_features=128, bias=True)\n",
      "          (1): Tanh()\n",
      "          (2): Dropout(p=0.25, inplace=False)\n",
      "        )\n",
      "        (attention_U): Sequential(\n",
      "          (0): Linear(in_features=256, out_features=128, bias=True)\n",
      "          (1): Sigmoid()\n",
      "          (2): Dropout(p=0.25, inplace=False)\n",
      "        )\n",
      "        (attention_weights): Linear(in_features=128, out_features=1, bias=True)\n",
      "      )\n",
      "      (aggregator_128): Gated_Attn_Net(\n",
      "        (attention_V): Sequential(\n",
      "          (0): Linear(in_features=256, out_features=128, bias=True)\n",
      "          (1): Tanh()\n",
      "          (2): Dropout(p=0.25, inplace=False)\n",
      "        )\n",
      "        (attention_U): Sequential(\n",
      "          (0): Linear(in_features=256, out_features=128, bias=True)\n",
      "          (1): Sigmoid()\n",
      "          (2): Dropout(p=0.25, inplace=False)\n",
      "        )\n",
      "        (attention_weights): Linear(in_features=128, out_features=1, bias=True)\n",
      "      )\n",
      "    )\n",
      "  )\n",
      "  (side_classifiers): ModuleDict(\n",
      "    (classifier_16): head(\n",
      "      (drop): Dropout(p=0.0, inplace=True)\n",
      "      (head_classifier): Linear(in_features=256, out_features=1, bias=True)\n",
      "    )\n",
      "    (classifier_32): head(\n",
      "      (drop): Dropout(p=0.0, inplace=True)\n",
      "      (head_classifier): Linear(in_features=256, out_features=1, bias=True)\n",
      "    )\n",
      "    (classifier_128): head(\n",
      "      (drop): Dropout(p=0.0, inplace=True)\n",
      "      (head_classifier): Linear(in_features=256, out_features=1, bias=True)\n",
      "    )\n",
      "  )\n",
      "  (scale_aggregator): ConcatAggregator()\n",
      "  (classifier): head(\n",
      "    (drop): Dropout(p=0.0, inplace=True)\n",
      "    (head_classifier): Linear(in_features=768, out_features=1, bias=True)\n",
      "  )\n",
      ")\n",
      "\n",
      "Total number of parameters: 1.698183 M\n",
      "Total number of trainable parameters: 1.698183 M\n",
      "pos_wt: tensor([15.5733], device='cuda:0')\n",
      "\n",
      "-------- Epoch 1/30 --------\n"
     ]
    },
    {
     "name": "stderr",
     "output_type": "stream",
     "text": [
      "[001/030 epoch train]: 100%|██████████| 1598/1598 [02:51<00:00,  9.31it/s, lr=[5e-05], loss=4.8860, CUDA-Mem=0%, CUDA-Util=0%]                 \n",
      "[001/030 epoch valid]: 100%|██████████| 402/402 [00:45<00:00,  8.93it/s, loss=4.9869, CUDA-Mem=0%, CUDA-Util=0%]"
     ]
    },
    {
     "name": "stdout",
     "output_type": "stream",
     "text": [
      "\n",
      "Train Loss: 4.8860\n",
      "Scale: 16 --> Train F1-Score: 0.7902 | Train Bacc: 0.5679 | Train ROC-AUC: 0.5992\n",
      "Scale: 32 --> Train F1-Score: 0.8110 | Train Bacc: 0.5627 | Train ROC-AUC: 0.6038\n",
      "Scale: 128 --> Train F1-Score: 0.7534 | Train Bacc: 0.5697 | Train ROC-AUC: 0.6006\n",
      "Aggregated Results --> Train F1-Score: 0.7517 | Train Bacc: 0.5724 | Train ROC-AUC: 0.6082\n",
      "\n",
      "Val Loss: 4.9869\n",
      "Scale: 16 --> Val F1-Score: 0.9119 | Val Bacc: 0.5826 | Val ROC-AUC: 0.7210\n",
      "Scale: 32 --> Val F1-Score: 0.9111 | Val Bacc: 0.5770 | Val ROC-AUC: 0.6967\n",
      "Scale: 128 --> Val F1-Score: 0.9124 | Val Bacc: 0.5565 | Val ROC-AUC: 0.6828\n",
      "Aggregated Results --> Val F1-Score: 0.9117 | Val Bacc: 0.5703 | Val ROC-AUC: 0.7158\n",
      "\n",
      "Epoch 1 - Save aucroc: 0.7158 Model\n",
      "\n",
      "best AUC-ROC Score at epoch 1: 0.7158\n",
      "\n",
      "-------- Epoch 2/30 --------\n"
     ]
    },
    {
     "name": "stderr",
     "output_type": "stream",
     "text": [
      "\n",
      "[002/030 epoch train]: 100%|██████████| 1598/1598 [03:07<00:00,  8.53it/s, lr=[4.9853448928858984e-05], loss=4.3407, CUDA-Mem=46%, CUDA-Util=97%]\n",
      "[002/030 epoch valid]: 100%|██████████| 402/402 [00:44<00:00,  8.96it/s, loss=4.4091, CUDA-Mem=47%, CUDA-Util=97%]\n"
     ]
    },
    {
     "name": "stdout",
     "output_type": "stream",
     "text": [
      "\n",
      "Train Loss: 4.3407\n",
      "Scale: 16 --> Train F1-Score: 0.8249 | Train Bacc: 0.6821 | Train ROC-AUC: 0.7447\n",
      "Scale: 32 --> Train F1-Score: 0.8298 | Train Bacc: 0.6808 | Train ROC-AUC: 0.7441\n",
      "Scale: 128 --> Train F1-Score: 0.8246 | Train Bacc: 0.6624 | Train ROC-AUC: 0.7204\n",
      "Aggregated Results --> Train F1-Score: 0.8240 | Train Bacc: 0.6814 | Train ROC-AUC: 0.7456\n",
      "\n",
      "Val Loss: 4.4091\n",
      "Scale: 16 --> Val F1-Score: 0.8882 | Val Bacc: 0.6726 | Val ROC-AUC: 0.7508\n",
      "Scale: 32 --> Val F1-Score: 0.8624 | Val Bacc: 0.6794 | Val ROC-AUC: 0.7436\n",
      "Scale: 128 --> Val F1-Score: 0.8622 | Val Bacc: 0.6587 | Val ROC-AUC: 0.7178\n",
      "Aggregated Results --> Val F1-Score: 0.8849 | Val Bacc: 0.6826 | Val ROC-AUC: 0.7526\n",
      "\n",
      "Epoch 2 - Save aucroc: 0.7526 Model\n",
      "\n",
      "best AUC-ROC Score at epoch 2: 0.7526\n",
      "\n",
      "-------- Epoch 3/30 --------\n"
     ]
    },
    {
     "name": "stderr",
     "output_type": "stream",
     "text": [
      "[003/030 epoch train]: 100%|██████████| 1598/1598 [02:58<00:00,  8.97it/s, lr=[4.941551389275217e-05], loss=4.0622, CUDA-Mem=0%, CUDA-Util=0%]  \n",
      "[003/030 epoch valid]: 100%|██████████| 402/402 [00:44<00:00,  8.93it/s, loss=4.2521, CUDA-Mem=0%, CUDA-Util=0%]\n"
     ]
    },
    {
     "name": "stdout",
     "output_type": "stream",
     "text": [
      "\n",
      "Train Loss: 4.0622\n",
      "Scale: 16 --> Train F1-Score: 0.8386 | Train Bacc: 0.7267 | Train ROC-AUC: 0.7889\n",
      "Scale: 32 --> Train F1-Score: 0.8465 | Train Bacc: 0.7161 | Train ROC-AUC: 0.7804\n",
      "Scale: 128 --> Train F1-Score: 0.8420 | Train Bacc: 0.7009 | Train ROC-AUC: 0.7605\n",
      "Aggregated Results --> Train F1-Score: 0.8373 | Train Bacc: 0.7224 | Train ROC-AUC: 0.7898\n",
      "\n",
      "Val Loss: 4.2521\n",
      "Scale: 16 --> Val F1-Score: 0.8368 | Val Bacc: 0.6845 | Val ROC-AUC: 0.7575\n",
      "Scale: 32 --> Val F1-Score: 0.8450 | Val Bacc: 0.6730 | Val ROC-AUC: 0.7536\n",
      "Scale: 128 --> Val F1-Score: 0.8483 | Val Bacc: 0.6679 | Val ROC-AUC: 0.7304\n",
      "Aggregated Results --> Val F1-Score: 0.8273 | Val Bacc: 0.6848 | Val ROC-AUC: 0.7617\n",
      "\n",
      "Epoch 3 - Save aucroc: 0.7617 Model\n",
      "\n",
      "best AUC-ROC Score at epoch 3: 0.7617\n",
      "\n",
      "-------- Epoch 4/30 --------\n"
     ]
    },
    {
     "name": "stderr",
     "output_type": "stream",
     "text": [
      "[004/030 epoch train]: 100%|██████████| 1598/1598 [02:57<00:00,  9.02it/s, lr=[4.869132927957007e-05], loss=3.8973, CUDA-Mem=0%, CUDA-Util=0%] \n",
      "[004/030 epoch valid]: 100%|██████████| 402/402 [00:44<00:00,  8.95it/s, loss=4.2970, CUDA-Mem=0%, CUDA-Util=0%]"
     ]
    },
    {
     "name": "stdout",
     "output_type": "stream",
     "text": [
      "\n",
      "Train Loss: 3.8973\n",
      "Scale: 16 --> Train F1-Score: 0.8419 | Train Bacc: 0.7331 | Train ROC-AUC: 0.8082\n",
      "Scale: 32 --> Train F1-Score: 0.8431 | Train Bacc: 0.7224 | Train ROC-AUC: 0.7993\n",
      "Scale: 128 --> Train F1-Score: 0.8448 | Train Bacc: 0.7212 | Train ROC-AUC: 0.7908\n",
      "Aggregated Results --> Train F1-Score: 0.8431 | Train Bacc: 0.7328 | Train ROC-AUC: 0.8114\n",
      "\n",
      "Val Loss: 4.2970\n",
      "Scale: 16 --> Val F1-Score: 0.8066 | Val Bacc: 0.7051 | Val ROC-AUC: 0.7588\n",
      "Scale: 32 --> Val F1-Score: 0.8374 | Val Bacc: 0.6980 | Val ROC-AUC: 0.7485\n",
      "Scale: 128 --> Val F1-Score: 0.8385 | Val Bacc: 0.6626 | Val ROC-AUC: 0.7227\n",
      "Aggregated Results --> Val F1-Score: 0.8216 | Val Bacc: 0.7063 | Val ROC-AUC: 0.7599\n",
      "\n",
      "best AUC-ROC Score at epoch 3: 0.7617\n",
      "\n",
      "-------- Epoch 5/30 --------\n"
     ]
    },
    {
     "name": "stderr",
     "output_type": "stream",
     "text": [
      "\n",
      "[005/030 epoch train]: 100%|██████████| 1598/1598 [02:57<00:00,  9.02it/s, lr=[4.768938549177392e-05], loss=3.7475, CUDA-Mem=0%, CUDA-Util=0%] \n",
      "[005/030 epoch valid]: 100%|██████████| 402/402 [00:45<00:00,  8.91it/s, loss=4.4529, CUDA-Mem=0%, CUDA-Util=0%]"
     ]
    },
    {
     "name": "stdout",
     "output_type": "stream",
     "text": [
      "\n",
      "Train Loss: 3.7475\n",
      "Scale: 16 --> Train F1-Score: 0.8478 | Train Bacc: 0.7599 | Train ROC-AUC: 0.8284\n",
      "Scale: 32 --> Train F1-Score: 0.8449 | Train Bacc: 0.7401 | Train ROC-AUC: 0.8131\n",
      "Scale: 128 --> Train F1-Score: 0.8426 | Train Bacc: 0.7214 | Train ROC-AUC: 0.8037\n",
      "Aggregated Results --> Train F1-Score: 0.8487 | Train Bacc: 0.7612 | Train ROC-AUC: 0.8360\n",
      "\n",
      "Val Loss: 4.4529\n",
      "Scale: 16 --> Val F1-Score: 0.8892 | Val Bacc: 0.6785 | Val ROC-AUC: 0.7525\n",
      "Scale: 32 --> Val F1-Score: 0.8881 | Val Bacc: 0.6852 | Val ROC-AUC: 0.7531\n",
      "Scale: 128 --> Val F1-Score: 0.8796 | Val Bacc: 0.6502 | Val ROC-AUC: 0.7276\n",
      "Aggregated Results --> Val F1-Score: 0.8903 | Val Bacc: 0.6769 | Val ROC-AUC: 0.7513\n",
      "\n",
      "best AUC-ROC Score at epoch 3: 0.7617\n",
      "\n",
      "-------- Epoch 6/30 --------\n"
     ]
    },
    {
     "name": "stderr",
     "output_type": "stream",
     "text": [
      "\n",
      "[006/030 epoch train]: 100%|██████████| 1598/1598 [02:57<00:00,  9.00it/s, lr=[4.6421429404189725e-05], loss=3.5531, CUDA-Mem=0%, CUDA-Util=0%]\n",
      "[006/030 epoch valid]: 100%|██████████| 402/402 [00:45<00:00,  8.92it/s, loss=4.5016, CUDA-Mem=0%, CUDA-Util=0%]"
     ]
    },
    {
     "name": "stdout",
     "output_type": "stream",
     "text": [
      "\n",
      "Train Loss: 3.5531\n",
      "Scale: 16 --> Train F1-Score: 0.8542 | Train Bacc: 0.7649 | Train ROC-AUC: 0.8503\n",
      "Scale: 32 --> Train F1-Score: 0.8506 | Train Bacc: 0.7479 | Train ROC-AUC: 0.8295\n",
      "Scale: 128 --> Train F1-Score: 0.8536 | Train Bacc: 0.7534 | Train ROC-AUC: 0.8279\n",
      "Aggregated Results --> Train F1-Score: 0.8634 | Train Bacc: 0.7819 | Train ROC-AUC: 0.8627\n",
      "\n",
      "Val Loss: 4.5016\n",
      "Scale: 16 --> Val F1-Score: 0.8042 | Val Bacc: 0.6772 | Val ROC-AUC: 0.7439\n",
      "Scale: 32 --> Val F1-Score: 0.8525 | Val Bacc: 0.6791 | Val ROC-AUC: 0.7448\n",
      "Scale: 128 --> Val F1-Score: 0.8567 | Val Bacc: 0.6287 | Val ROC-AUC: 0.7135\n",
      "Aggregated Results --> Val F1-Score: 0.8191 | Val Bacc: 0.6887 | Val ROC-AUC: 0.7430\n",
      "\n",
      "best AUC-ROC Score at epoch 3: 0.7617\n",
      "\n",
      "-------- Epoch 7/30 --------\n"
     ]
    },
    {
     "name": "stderr",
     "output_type": "stream",
     "text": [
      "\n",
      "[007/030 epoch train]: 100%|██████████| 1598/1598 [02:57<00:00,  9.01it/s, lr=[4.4902326642641095e-05], loss=3.3062, CUDA-Mem=0%, CUDA-Util=0%]\n",
      "[007/030 epoch valid]: 100%|██████████| 402/402 [00:45<00:00,  8.91it/s, loss=4.4245, CUDA-Mem=0%, CUDA-Util=0%]"
     ]
    },
    {
     "name": "stdout",
     "output_type": "stream",
     "text": [
      "\n",
      "Train Loss: 3.3062\n",
      "Scale: 16 --> Train F1-Score: 0.8590 | Train Bacc: 0.7875 | Train ROC-AUC: 0.8697\n",
      "Scale: 32 --> Train F1-Score: 0.8507 | Train Bacc: 0.7635 | Train ROC-AUC: 0.8476\n",
      "Scale: 128 --> Train F1-Score: 0.8632 | Train Bacc: 0.7779 | Train ROC-AUC: 0.8576\n",
      "Aggregated Results --> Train F1-Score: 0.8731 | Train Bacc: 0.8155 | Train ROC-AUC: 0.8907\n",
      "\n",
      "Val Loss: 4.4245\n",
      "Scale: 16 --> Val F1-Score: 0.8262 | Val Bacc: 0.6943 | Val ROC-AUC: 0.7584\n",
      "Scale: 32 --> Val F1-Score: 0.7858 | Val Bacc: 0.6921 | Val ROC-AUC: 0.7507\n",
      "Scale: 128 --> Val F1-Score: 0.7841 | Val Bacc: 0.6621 | Val ROC-AUC: 0.7156\n",
      "Aggregated Results --> Val F1-Score: 0.7797 | Val Bacc: 0.6824 | Val ROC-AUC: 0.7505\n",
      "\n",
      "best AUC-ROC Score at epoch 3: 0.7617\n",
      "\n",
      "-------- Epoch 8/30 --------\n"
     ]
    },
    {
     "name": "stderr",
     "output_type": "stream",
     "text": [
      "\n",
      "[008/030 epoch train]: 100%|██████████| 1598/1598 [02:57<00:00,  9.01it/s, lr=[4.3149887298078276e-05], loss=3.0651, CUDA-Mem=0%, CUDA-Util=0%]\n",
      "[008/030 epoch valid]: 100%|██████████| 402/402 [00:45<00:00,  8.92it/s, loss=5.0888, CUDA-Mem=0%, CUDA-Util=0%]"
     ]
    },
    {
     "name": "stdout",
     "output_type": "stream",
     "text": [
      "\n",
      "Train Loss: 3.0651\n",
      "Scale: 16 --> Train F1-Score: 0.8677 | Train Bacc: 0.8093 | Train ROC-AUC: 0.8889\n",
      "Scale: 32 --> Train F1-Score: 0.8605 | Train Bacc: 0.7829 | Train ROC-AUC: 0.8666\n",
      "Scale: 128 --> Train F1-Score: 0.8667 | Train Bacc: 0.7962 | Train ROC-AUC: 0.8808\n",
      "Aggregated Results --> Train F1-Score: 0.8843 | Train Bacc: 0.8379 | Train ROC-AUC: 0.9146\n",
      "\n",
      "Val Loss: 5.0888\n",
      "Scale: 16 --> Val F1-Score: 0.8946 | Val Bacc: 0.6576 | Val ROC-AUC: 0.7403\n",
      "Scale: 32 --> Val F1-Score: 0.8824 | Val Bacc: 0.6552 | Val ROC-AUC: 0.7306\n",
      "Scale: 128 --> Val F1-Score: 0.8793 | Val Bacc: 0.6170 | Val ROC-AUC: 0.6901\n",
      "Aggregated Results --> Val F1-Score: 0.9021 | Val Bacc: 0.6412 | Val ROC-AUC: 0.7317\n",
      "\n",
      "best AUC-ROC Score at epoch 3: 0.7617\n",
      "\n",
      "-------- Epoch 9/30 --------\n"
     ]
    },
    {
     "name": "stderr",
     "output_type": "stream",
     "text": [
      "\n",
      "[009/030 epoch train]: 100%|██████████| 1598/1598 [02:57<00:00,  8.99it/s, lr=[4.118465711954569e-05], loss=2.7604, CUDA-Mem=0%, CUDA-Util=0%] \n",
      "[009/030 epoch valid]: 100%|██████████| 402/402 [00:45<00:00,  8.92it/s, loss=4.8638, CUDA-Mem=0%, CUDA-Util=0%]"
     ]
    },
    {
     "name": "stdout",
     "output_type": "stream",
     "text": [
      "\n",
      "Train Loss: 2.7604\n",
      "Scale: 16 --> Train F1-Score: 0.8732 | Train Bacc: 0.8240 | Train ROC-AUC: 0.9076\n",
      "Scale: 32 --> Train F1-Score: 0.8621 | Train Bacc: 0.7919 | Train ROC-AUC: 0.8824\n",
      "Scale: 128 --> Train F1-Score: 0.8811 | Train Bacc: 0.8270 | Train ROC-AUC: 0.9074\n",
      "Aggregated Results --> Train F1-Score: 0.9028 | Train Bacc: 0.8770 | Train ROC-AUC: 0.9426\n",
      "\n",
      "Val Loss: 4.8638\n",
      "Scale: 16 --> Val F1-Score: 0.7784 | Val Bacc: 0.6762 | Val ROC-AUC: 0.7381\n",
      "Scale: 32 --> Val F1-Score: 0.7948 | Val Bacc: 0.6701 | Val ROC-AUC: 0.7385\n",
      "Scale: 128 --> Val F1-Score: 0.8222 | Val Bacc: 0.6393 | Val ROC-AUC: 0.6976\n",
      "Aggregated Results --> Val F1-Score: 0.8116 | Val Bacc: 0.6830 | Val ROC-AUC: 0.7407\n",
      "\n",
      "best AUC-ROC Score at epoch 3: 0.7617\n",
      "\n",
      "-------- Epoch 10/30 --------\n"
     ]
    },
    {
     "name": "stderr",
     "output_type": "stream",
     "text": [
      "\n",
      "[010/030 epoch train]: 100%|██████████| 1598/1598 [02:57<00:00,  9.00it/s, lr=[3.902967663405956e-05], loss=2.4937, CUDA-Mem=0%, CUDA-Util=0%] \n",
      "[010/030 epoch valid]: 100%|██████████| 402/402 [00:45<00:00,  8.91it/s, loss=5.9242, CUDA-Mem=0%, CUDA-Util=0%]\n"
     ]
    },
    {
     "name": "stdout",
     "output_type": "stream",
     "text": [
      "\n",
      "Train Loss: 2.4937\n",
      "Scale: 16 --> Train F1-Score: 0.8829 | Train Bacc: 0.8452 | Train ROC-AUC: 0.9236\n",
      "Scale: 32 --> Train F1-Score: 0.8669 | Train Bacc: 0.8183 | Train ROC-AUC: 0.8994\n",
      "Scale: 128 --> Train F1-Score: 0.8887 | Train Bacc: 0.8459 | Train ROC-AUC: 0.9221\n",
      "Aggregated Results --> Train F1-Score: 0.9147 | Train Bacc: 0.9004 | Train ROC-AUC: 0.9598\n",
      "\n",
      "Val Loss: 5.9242\n",
      "Scale: 16 --> Val F1-Score: 0.8781 | Val Bacc: 0.6464 | Val ROC-AUC: 0.7233\n",
      "Scale: 32 --> Val F1-Score: 0.8534 | Val Bacc: 0.6669 | Val ROC-AUC: 0.7359\n",
      "Scale: 128 --> Val F1-Score: 0.8655 | Val Bacc: 0.6257 | Val ROC-AUC: 0.6965\n",
      "Aggregated Results --> Val F1-Score: 0.8855 | Val Bacc: 0.6552 | Val ROC-AUC: 0.7321\n",
      "\n",
      "best AUC-ROC Score at epoch 3: 0.7617\n",
      "\n",
      "-------- Epoch 11/30 --------\n"
     ]
    },
    {
     "name": "stderr",
     "output_type": "stream",
     "text": [
      "[011/030 epoch train]: 100%|██████████| 1598/1598 [02:57<00:00,  9.00it/s, lr=[3.671021101749476e-05], loss=2.2481, CUDA-Mem=0%, CUDA-Util=0%] \n",
      "[011/030 epoch valid]: 100%|██████████| 402/402 [00:45<00:00,  8.92it/s, loss=6.0770, CUDA-Mem=0%, CUDA-Util=0%]\n"
     ]
    },
    {
     "name": "stdout",
     "output_type": "stream",
     "text": [
      "\n",
      "Train Loss: 2.2481\n",
      "Scale: 16 --> Train F1-Score: 0.8901 | Train Bacc: 0.8619 | Train ROC-AUC: 0.9389\n",
      "Scale: 32 --> Train F1-Score: 0.8753 | Train Bacc: 0.8276 | Train ROC-AUC: 0.9099\n",
      "Scale: 128 --> Train F1-Score: 0.8953 | Train Bacc: 0.8608 | Train ROC-AUC: 0.9363\n",
      "Aggregated Results --> Train F1-Score: 0.9269 | Train Bacc: 0.9200 | Train ROC-AUC: 0.9718\n",
      "\n",
      "Val Loss: 6.0770\n",
      "Scale: 16 --> Val F1-Score: 0.8674 | Val Bacc: 0.6630 | Val ROC-AUC: 0.7177\n",
      "Scale: 32 --> Val F1-Score: 0.8630 | Val Bacc: 0.6748 | Val ROC-AUC: 0.7344\n",
      "Scale: 128 --> Val F1-Score: 0.8468 | Val Bacc: 0.6410 | Val ROC-AUC: 0.7096\n",
      "Aggregated Results --> Val F1-Score: 0.8760 | Val Bacc: 0.6574 | Val ROC-AUC: 0.7387\n",
      "\n",
      "best AUC-ROC Score at epoch 3: 0.7617\n",
      "\n",
      "-------- Epoch 12/30 --------\n"
     ]
    },
    {
     "name": "stderr",
     "output_type": "stream",
     "text": [
      "[012/030 epoch train]: 100%|██████████| 1598/1598 [02:57<00:00,  8.99it/s, lr=[3.425345388349786e-05], loss=2.0215, CUDA-Mem=0%, CUDA-Util=0%] \n",
      "[013/030 epoch train]: 100%|██████████| 1598/1598 [02:57<00:00,  8.99it/s, lr=[3.168820846323052e-05], loss=1.7693, CUDA-Mem=0%, CUDA-Util=0%] \n",
      "[013/030 epoch valid]: 100%|██████████| 402/402 [00:45<00:00,  8.79it/s, loss=8.1927, CUDA-Mem=0%, CUDA-Util=0%] "
     ]
    },
    {
     "name": "stdout",
     "output_type": "stream",
     "text": [
      "\n",
      "Train Loss: 1.7693\n",
      "Scale: 16 --> Train F1-Score: 0.9112 | Train Bacc: 0.8919 | Train ROC-AUC: 0.9621\n",
      "Scale: 32 --> Train F1-Score: 0.8889 | Train Bacc: 0.8506 | Train ROC-AUC: 0.9334\n",
      "Scale: 128 --> Train F1-Score: 0.9151 | Train Bacc: 0.9027 | Train ROC-AUC: 0.9609\n",
      "Aggregated Results --> Train F1-Score: 0.9484 | Train Bacc: 0.9513 | Train ROC-AUC: 0.9865\n",
      "\n",
      "Val Loss: 8.1927\n",
      "Scale: 16 --> Val F1-Score: 0.8717 | Val Bacc: 0.6589 | Val ROC-AUC: 0.7140\n",
      "Scale: 32 --> Val F1-Score: 0.8662 | Val Bacc: 0.6467 | Val ROC-AUC: 0.7118\n",
      "Scale: 128 --> Val F1-Score: 0.8776 | Val Bacc: 0.6080 | Val ROC-AUC: 0.6892\n",
      "Aggregated Results --> Val F1-Score: 0.9072 | Val Bacc: 0.6480 | Val ROC-AUC: 0.7210\n",
      "\n",
      "best AUC-ROC Score at epoch 3: 0.7617\n",
      "\n",
      "-------- Epoch 14/30 --------\n"
     ]
    },
    {
     "name": "stderr",
     "output_type": "stream",
     "text": [
      "\n",
      "[014/030 epoch train]: 100%|██████████| 1598/1598 [03:09<00:00,  8.45it/s, lr=[2.904454991381912e-05], loss=1.6039, CUDA-Mem=0%, CUDA-Util=0%] \n",
      "[015/030 epoch train]: 100%|██████████| 1598/1598 [02:57<00:00,  8.98it/s, lr=[2.635347271463544e-05], loss=1.4424, CUDA-Mem=0%, CUDA-Util=0%] \n",
      "[015/030 epoch valid]: 100%|██████████| 402/402 [00:45<00:00,  8.91it/s, loss=9.8237, CUDA-Mem=0%, CUDA-Util=0%] \n"
     ]
    },
    {
     "name": "stdout",
     "output_type": "stream",
     "text": [
      "\n",
      "Train Loss: 1.4424\n",
      "Scale: 16 --> Train F1-Score: 0.9305 | Train Bacc: 0.9331 | Train ROC-AUC: 0.9768\n",
      "Scale: 32 --> Train F1-Score: 0.8977 | Train Bacc: 0.8762 | Train ROC-AUC: 0.9467\n",
      "Scale: 128 --> Train F1-Score: 0.9273 | Train Bacc: 0.9203 | Train ROC-AUC: 0.9721\n",
      "Aggregated Results --> Train F1-Score: 0.9633 | Train Bacc: 0.9687 | Train ROC-AUC: 0.9937\n",
      "\n",
      "Val Loss: 9.8237\n",
      "Scale: 16 --> Val F1-Score: 0.8957 | Val Bacc: 0.6309 | Val ROC-AUC: 0.7130\n",
      "Scale: 32 --> Val F1-Score: 0.8829 | Val Bacc: 0.6226 | Val ROC-AUC: 0.7078\n",
      "Scale: 128 --> Val F1-Score: 0.8774 | Val Bacc: 0.6129 | Val ROC-AUC: 0.6888\n",
      "Aggregated Results --> Val F1-Score: 0.9119 | Val Bacc: 0.6021 | Val ROC-AUC: 0.7238\n",
      "\n",
      "best AUC-ROC Score at epoch 3: 0.7617\n",
      "\n",
      "-------- Epoch 16/30 --------\n"
     ]
    },
    {
     "name": "stderr",
     "output_type": "stream",
     "text": [
      "[016/030 epoch train]:  50%|████▉     | 794/1598 [01:28<01:38,  8.17it/s, lr=[2.5008473934534092e-05], loss=1.2784, CUDA-Mem=0%, CUDA-Util=0%]IOPub message rate exceeded.\n",
      "The Jupyter server will temporarily stop sending output\n",
      "to the client in order to avoid crashing it.\n",
      "To change this limit, set the config variable\n",
      "`--ServerApp.iopub_msg_rate_limit`.\n",
      "\n",
      "Current values:\n",
      "ServerApp.iopub_msg_rate_limit=1000.0 (msgs/sec)\n",
      "ServerApp.rate_limit_window=3.0 (secs)\n",
      "\n"
     ]
    }
   ],
   "source": [
    "%run foundational_models/Mammo-CLIP-main/Mammo-CLIP-main/src3-Copy1/codebase/main.py \\\n",
    "  --clip_chk_pt_path \"foundational_models/Mammo-CLIP-main/Mammo-CLIP-main/b2-model-best-epoch-10.tar\" \\\n",
    "  --dataset 'ViNDr' \\\n",
    "  --label \"Mass\" \\\n",
    "  --train --epochs 30 --batch-size 8 \\\n",
    "  --num-workers 4 \\\n",
    "  --eval_scheme 'kruns_train+val+test' --n_runs 1 \\\n",
    "  --lr 5.0e-5 \\\n",
    "  --weighted-BCE 'y' \\\n",
    "  --mil_type 'pyramidal_mil' \\\n",
    "  --pooling_type 'gated-attention' --drop_attention_pool 0.25 \\\n",
    "  --fcl_encoder_dim 256 \\\n",
    "  --fcl_dropout 0.25 \\\n",
    "  --fpn_dim 256 \\\n",
    "  --multi_scale_model 'fpn' \\\n",
    "  --type_scale_aggregator 'concatenation' \\\n",
    "  --deep_supervision --scales 16 32 128 \n",
    "\n",
    "print('---------------finished running code-------------------')"
   ]
  }
 ],
 "metadata": {
  "kernelspec": {
   "display_name": "Python 3 (ipykernel)",
   "language": "python",
   "name": "python3"
  },
  "language_info": {
   "codemirror_mode": {
    "name": "ipython",
    "version": 3
   },
   "file_extension": ".py",
   "mimetype": "text/x-python",
   "name": "python",
   "nbconvert_exporter": "python",
   "pygments_lexer": "ipython3",
   "version": "3.10.11"
  }
 },
 "nbformat": 4,
 "nbformat_minor": 5
}
